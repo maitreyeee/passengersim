{
 "cells": [
  {
   "cell_type": "markdown",
   "id": "074357ec-407b-409a-ab22-b658573890e8",
   "metadata": {},
   "source": [
    "# Three Market Database Demo"
   ]
  },
  {
   "cell_type": "code",
   "execution_count": null,
   "id": "47aa4d6a-3fa2-4779-ba2e-58e06dc6b1b2",
   "metadata": {},
   "outputs": [],
   "source": [
    "import simbywire as sw"
   ]
  },
  {
   "cell_type": "code",
   "execution_count": null,
   "id": "56722287-e346-4e4f-9723-e1ac08ad064c",
   "metadata": {},
   "outputs": [],
   "source": [
    "input_file = sw.demo_network(\"3mkt\")"
   ]
  },
  {
   "cell_type": "markdown",
   "id": "406ba7fc-27a3-470a-88af-46819bb3bea3",
   "metadata": {},
   "source": [
    "In this notebook, we will demonstrate the usage of SQLite database logging.  In order \n",
    "to manipulate the configurations, we'll separate the simulation initialization into\n",
    "two steps: first we load the configs from YAML, then we apply configs to a Simlaution.\n",
    "That way, we can maipulate those configs directly in Python before running the sim.\n",
    "\n",
    "So, first we load the configs."
   ]
  },
  {
   "cell_type": "code",
   "execution_count": null,
   "id": "c114d278-85dd-44b6-82aa-c318ee7b0b57",
   "metadata": {},
   "outputs": [],
   "source": [
    "cfg = sw.AirSimConfig.from_yaml(input_file)"
   ]
  },
  {
   "cell_type": "markdown",
   "id": "a89d3543-2c34-4a19-87c9-4c4e4f811768",
   "metadata": {},
   "source": [
    "Then, we can manipulate the configs.  By default we our database engine will store detailed info on \n",
    "multiple simulation attributes at each DCP:"
   ]
  },
  {
   "cell_type": "code",
   "execution_count": null,
   "id": "896ec4cb-4a52-46df-8c45-3f9acec22810",
   "metadata": {},
   "outputs": [],
   "source": [
    "cfg.db.write_items"
   ]
  },
  {
   "cell_type": "markdown",
   "id": "a0e44151-e7df-4100-a91d-2eeaf63c6d9c",
   "metadata": {},
   "source": [
    "Let's remove the \"demand_final\" writer, so we can replace it with a custom tool we provide in Python."
   ]
  },
  {
   "cell_type": "code",
   "execution_count": null,
   "id": "ae779674-bf87-4656-83bf-61dcd6d87369",
   "metadata": {},
   "outputs": [],
   "source": [
    "cfg.db.write_items.remove(\"demand_final\")\n",
    "cfg.db.write_items"
   ]
  },
  {
   "cell_type": "markdown",
   "id": "32bc96f9-cef7-4032-8758-5815e2d8ec8f",
   "metadata": {},
   "source": [
    "Our custom Python command is `save_demand_to_database`, in the `simbywire.database.write_demands` package.\n",
    "We can attach that function to the list of `dcp_write_hooks`."
   ]
  },
  {
   "cell_type": "code",
   "execution_count": null,
   "id": "ff8ba8ff-4b8b-47bf-bbc5-ac43300160e4",
   "metadata": {},
   "outputs": [],
   "source": [
    "from simbywire.database.write_demands import save_demand_to_database\n",
    "\n",
    "cfg.db.dcp_write_hooks.append(save_demand_to_database)"
   ]
  },
  {
   "cell_type": "markdown",
   "id": "d57fddaf-81b6-4b01-9e18-fd7625bbb4ad",
   "metadata": {},
   "source": [
    "We can also set our SQLite database engine to reside exclusively in memory, like this:"
   ]
  },
  {
   "cell_type": "code",
   "execution_count": null,
   "id": "7ec02133-fcd4-4afa-a18e-955f351bc673",
   "metadata": {},
   "outputs": [],
   "source": [
    "cfg.db.filename = \":memory:\""
   ]
  },
  {
   "cell_type": "code",
   "execution_count": null,
   "id": "0952fd98-76fb-42dc-aaa8-98660ad61355",
   "metadata": {},
   "outputs": [],
   "source": [
    "import os\n",
    "if os.path.exists(cfg.db.filename):\n",
    "    os.remove(cfg.db.filename)"
   ]
  },
  {
   "cell_type": "markdown",
   "id": "5ca71070-efc2-40b4-a9ba-004756b08ee6",
   "metadata": {},
   "source": [
    "We use the compiled code for writing SQL with the `fast` flag:"
   ]
  },
  {
   "cell_type": "code",
   "execution_count": null,
   "id": "89e77c87-4420-49ae-a28a-de338dd1a68f",
   "metadata": {},
   "outputs": [],
   "source": [
    "cfg.db.fast = True"
   ]
  },
  {
   "cell_type": "markdown",
   "id": "0503a54f-9930-4c1f-99c1-71fedca6d445",
   "metadata": {},
   "source": [
    "Some experimental \"pragma\" commands that may make SQLite go faster..."
   ]
  },
  {
   "cell_type": "code",
   "execution_count": null,
   "id": "794d8956-4a5c-4d25-8df6-e19f44a0f122",
   "metadata": {},
   "outputs": [],
   "source": [
    "cfg.db.pragmas = [\n",
    "    \"journal_mode = MEMORY\",\n",
    "    \"synchronous = 0\",\n",
    "    \"cache_size = 1000000\",\n",
    "    \"locking_mode = EXCLUSIVE\",\n",
    "    \"temp_store = MEMORY\",\n",
    "]"
   ]
  },
  {
   "cell_type": "markdown",
   "id": "efa83228-3ad6-4ff1-88b4-cd9eff640db2",
   "metadata": {},
   "source": [
    "We don't want to *also* write raw data files, so we'll turn those off:"
   ]
  },
  {
   "cell_type": "code",
   "execution_count": null,
   "id": "dca856bf-b794-459e-84f5-9c11140b564d",
   "metadata": {},
   "outputs": [],
   "source": [
    "cfg.simulation_controls.write_raw_files = False"
   ]
  },
  {
   "cell_type": "markdown",
   "id": "cad51213-e78b-446e-ace1-50758351873d",
   "metadata": {},
   "source": [
    "Now we are ready to create and run our simulation."
   ]
  },
  {
   "cell_type": "code",
   "execution_count": null,
   "id": "34deaf3d-4fb6-4e8c-98ec-51700abc94f7",
   "metadata": {},
   "outputs": [],
   "source": [
    "sim = sw.Simulation(cfg, output_dir=\"./demo-3mkt-out\")"
   ]
  },
  {
   "cell_type": "code",
   "execution_count": null,
   "id": "e7644d17-393b-461b-b7ec-a7af9c79efdc",
   "metadata": {},
   "outputs": [],
   "source": [
    "summary = sim.run(log_reports=False)"
   ]
  },
  {
   "cell_type": "code",
   "execution_count": null,
   "id": "d9de1556-0106-4b58-b536-584e32f275c1",
   "metadata": {},
   "outputs": [],
   "source": [
    "summary.demands"
   ]
  },
  {
   "cell_type": "code",
   "execution_count": null,
   "id": "33281077-7399-4d60-ac56-43e9a979a573",
   "metadata": {},
   "outputs": [],
   "source": [
    "summary.legs"
   ]
  },
  {
   "cell_type": "code",
   "execution_count": null,
   "id": "ec57f9b8-28e4-4322-b5bf-10940188b0c5",
   "metadata": {},
   "outputs": [],
   "source": [
    "summary.paths"
   ]
  },
  {
   "cell_type": "code",
   "execution_count": null,
   "id": "5287d24a-8f42-4416-b928-d94385a75143",
   "metadata": {},
   "outputs": [],
   "source": [
    "summary.airlines"
   ]
  },
  {
   "cell_type": "code",
   "execution_count": null,
   "id": "8ec7b5e4-0388-463e-af61-bb3bac78aabc",
   "metadata": {},
   "outputs": [],
   "source": [
    "summary.load_factors"
   ]
  },
  {
   "cell_type": "code",
   "execution_count": null,
   "id": "99d21814-fa2e-4fdd-96cd-15125c71d81d",
   "metadata": {},
   "outputs": [],
   "source": [
    "summary.bookings_by_timeframe"
   ]
  },
  {
   "cell_type": "code",
   "execution_count": null,
   "id": "ed3e8db8-4425-4feb-9582-e80b71e26a2c",
   "metadata": {},
   "outputs": [],
   "source": [
    "summary.fig_bookings_by_timeframe()"
   ]
  },
  {
   "cell_type": "code",
   "execution_count": null,
   "id": "b893e7d4-5c33-4230-88e6-be26e6fa4dcc",
   "metadata": {},
   "outputs": [],
   "source": [
    "summary.fig_bookings_by_timeframe(by_airline=False)"
   ]
  },
  {
   "cell_type": "code",
   "execution_count": null,
   "id": "7b3d0737",
   "metadata": {},
   "outputs": [],
   "source": [
    "summary.fig_airline_loads(raw_df=True)"
   ]
  },
  {
   "cell_type": "code",
   "execution_count": null,
   "id": "a633a423-3b61-46a7-af51-b6bf3376bc95",
   "metadata": {},
   "outputs": [],
   "source": [
    "summary.fig_fare_class_mix()"
   ]
  },
  {
   "cell_type": "code",
   "execution_count": null,
   "id": "c4e335a2-9798-4ef6-a078-4ea3f053598d",
   "metadata": {},
   "outputs": [],
   "source": [
    "summary.total_demand"
   ]
  },
  {
   "cell_type": "markdown",
   "id": "e76a7d17-7536-434f-8b57-14599589bc17",
   "metadata": {},
   "source": [
    "We've written only to an in-memory database, but we want to dump that thing to disk now for posterity:"
   ]
  },
  {
   "cell_type": "code",
   "execution_count": null,
   "id": "0887fb62-9877-4cbb-85b4-9bda83935a44",
   "metadata": {},
   "outputs": [],
   "source": [
    "sim.backup_db(\"backup-db.sqlite\")"
   ]
  },
  {
   "cell_type": "markdown",
   "id": "b32f80af-a1dd-47f3-9f84-e3520df2a093",
   "metadata": {},
   "source": [
    "We can get dataframes from SQL queries while we have the database connection open..."
   ]
  },
  {
   "cell_type": "code",
   "execution_count": null,
   "id": "02b92969-dfa7-4e2b-be8c-24c39b4f0892",
   "metadata": {},
   "outputs": [],
   "source": [
    "bookings = sim.cnx.dataframe(\"SELECT * FROM bookings_by_timeframe\")\n",
    "bookings"
   ]
  },
  {
   "cell_type": "markdown",
   "id": "d6821db3-e061-4317-a7d7-f430734c952a",
   "metadata": {},
   "source": [
    "Once we close the database connection, we can no longer use it for reading or writing.  \n",
    "If it was an in-memory database, closing it means that content is gone for good, unless it\n",
    "was backed up to disk (as we did above)."
   ]
  },
  {
   "cell_type": "code",
   "execution_count": null,
   "id": "f7e19a9a-837f-4406-86d5-57dccdae46c6",
   "metadata": {},
   "outputs": [],
   "source": [
    "sim.cnx.close()"
   ]
  },
  {
   "cell_type": "code",
   "execution_count": null,
   "id": "f684d04d-2de5-4cbd-ae0a-86001fae9c1e",
   "metadata": {},
   "outputs": [],
   "source": [
    "leg_detail = sim.cnx.dataframe(\"SELECT * FROM leg_detail\")"
   ]
  }
 ],
 "metadata": {
  "kernelspec": {
   "display_name": "Python 3 (ipykernel)",
   "language": "python",
   "name": "python3"
  },
  "language_info": {
   "codemirror_mode": {
    "name": "ipython",
    "version": 3
   },
   "file_extension": ".py",
   "mimetype": "text/x-python",
   "name": "python",
   "nbconvert_exporter": "python",
   "pygments_lexer": "ipython3",
   "version": "3.11.4"
  }
 },
 "nbformat": 4,
 "nbformat_minor": 5
}
