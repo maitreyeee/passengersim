{
 "cells": [
  {
   "cell_type": "markdown",
   "id": "074357ec-407b-409a-ab22-b658573890e8",
   "metadata": {},
   "source": [
    "<style>.md-sidebar--secondary {display: none !important;}</style>\n",
    "\n",
    "# FCFS with AP and Product Restrictions\n",
    "\n",
    "In this example, on top of product restrictions we also add advance purchase (AP)\n",
    "restrictions to the simulation.  These restrictions close lower priced fare class\n",
    "products as the day of departure approaches.\n",
    "\n",
    "In this example, we will also demostrate adding yaml configuration content in a \n",
    "Jupyter notebook before loading configs, and adding a snapshot filter to the simulation."
   ]
  },
  {
   "cell_type": "code",
   "execution_count": null,
   "id": "47aa4d6a-3fa2-4779-ba2e-58e06dc6b1b2",
   "metadata": {},
   "outputs": [],
   "source": [
    "import passengersim as pax\n",
    "pax.versions()"
   ]
  },
  {
   "cell_type": "markdown",
   "id": "d0511db1-c45d-4282-b68d-8251079925e0",
   "metadata": {},
   "source": [
    "In prior examples, the configuration were given in one or more external file, passed\n",
    "to the `from_yaml` constructor as arguments.  We can also craft multi-line yaml content\n",
    "directly in a Python string, and pass that directly to the same contructor.  Here,\n",
    "we will turn the `disable_ap` switch off, and add a snapshot filter."
   ]
  },
  {
   "cell_type": "code",
   "execution_count": null,
   "id": "3ec6f910-742d-4780-91dd-540018f55a6c",
   "metadata": {},
   "outputs": [],
   "source": [
    "with_AP = \"\"\"\n",
    "simulation_controls:\n",
    "  disable_ap: false\n",
    "\n",
    "snapshot_filters:\n",
    "- type: leg_untruncation\n",
    "  airline: AL1\n",
    "  sample: 400\n",
    "  flt_no: 101\n",
    "  directory: snapshots/em\n",
    "\"\"\""
   ]
  },
  {
   "cell_type": "markdown",
   "id": "8a357d7f-0bf2-485b-b4ab-3661a9b8a359",
   "metadata": {},
   "source": [
    "Snapshot filters can be triggered at limited specific points within a large simulation,\n",
    "and they will write out details intermediate results for that specific point.  The example\n",
    "snapshot filter here will provide extra output into the leg untruncation for a single flight\n",
    "on a single sample in the simulation.  Storing this level of detail for every flight for every\n",
    "sample would generally be gratuitous, slowing the simulation significantly and writing out\n",
    "excessively large files, but the snapshots give the ability to see and explore details from \n",
    "deep inside the simulation."
   ]
  },
  {
   "cell_type": "code",
   "execution_count": null,
   "id": "3342371d-0d28-45f4-9f56-941f17738309",
   "metadata": {},
   "outputs": [],
   "source": [
    "cfg = pax.Config.from_yaml([\n",
    "    \"network/01-base.yaml\", \n",
    "    \"network/02-buyup.yaml\", \n",
    "    with_AP\n",
    "])"
   ]
  },
  {
   "cell_type": "code",
   "execution_count": null,
   "id": "cb102ab1-a13a-4333-ae02-f15a9d002e6b",
   "metadata": {},
   "outputs": [],
   "source": [
    "cfg.simulation_controls.num_trials = 4"
   ]
  },
  {
   "cell_type": "code",
   "execution_count": null,
   "id": "56d048e1-71f7-4fff-8396-a149039a3a78",
   "metadata": {},
   "outputs": [],
   "source": [
    "sim = pax.Simulation(cfg)"
   ]
  },
  {
   "cell_type": "code",
   "execution_count": null,
   "id": "e7644d17-393b-461b-b7ec-a7af9c79efdc",
   "metadata": {},
   "outputs": [],
   "source": [
    "summary = sim.run()"
   ]
  },
  {
   "cell_type": "code",
   "execution_count": null,
   "id": "e1ab1041",
   "metadata": {
    "jupyter": {
     "outputs_hidden": false
    }
   },
   "outputs": [],
   "source": [
    "summary.fig_carrier_revenues()"
   ]
  },
  {
   "cell_type": "code",
   "execution_count": null,
   "id": "7b3d0737",
   "metadata": {},
   "outputs": [],
   "source": [
    "summary.fig_carrier_load_factors()"
   ]
  },
  {
   "cell_type": "code",
   "execution_count": null,
   "id": "5f837f66",
   "metadata": {
    "jupyter": {
     "outputs_hidden": false
    }
   },
   "outputs": [],
   "source": [
    "summary.fig_fare_class_mix()"
   ]
  },
  {
   "cell_type": "code",
   "execution_count": null,
   "id": "e4e94d70",
   "metadata": {
    "jupyter": {
     "outputs_hidden": false
    }
   },
   "outputs": [],
   "source": [
    "summary.fig_bookings_by_timeframe()"
   ]
  },
  {
   "cell_type": "code",
   "execution_count": null,
   "id": "dee87c1f-d174-4db3-8c9b-496cdf388322",
   "metadata": {},
   "outputs": [],
   "source": [
    "summary.to_xlsx(\"outputs/3mkt-03.xlsx\")"
   ]
  },
  {
   "cell_type": "markdown",
   "id": "beb28283-86c2-4d66-8c72-6d603ecef8e4",
   "metadata": {},
   "source": [
    "[Download 3mkt-03.xlsx](./outputs/3mkt-03.xlsx)"
   ]
  },
  {
   "cell_type": "markdown",
   "id": "ef0149d7-69d6-4a13-a763-8732bab96fad",
   "metadata": {},
   "source": [
    "## Comparing against Targets"
   ]
  },
  {
   "cell_type": "code",
   "execution_count": null,
   "id": "db23ae9b-f73f-46a7-a5bf-11a65668734c",
   "metadata": {},
   "outputs": [],
   "source": [
    "import targets\n",
    "\n",
    "target = targets.load(3, cfg)"
   ]
  },
  {
   "cell_type": "code",
   "execution_count": null,
   "id": "658336d8-3ceb-4605-aafb-4dc5ca9a5bb3",
   "metadata": {},
   "outputs": [],
   "source": [
    "from passengersim import contrast\n",
    "\n",
    "comps = contrast.Contrast({\n",
    "    \"simulation\": summary,\n",
    "    \"target\": target,\n",
    "})"
   ]
  },
  {
   "cell_type": "code",
   "execution_count": null,
   "id": "f33557b2-85e5-44ee-9f72-6e3b0e5f9fba",
   "metadata": {},
   "outputs": [],
   "source": [
    "comps.fig_bookings_by_timeframe(by_carrier=\"AL1\")"
   ]
  },
  {
   "cell_type": "code",
   "execution_count": null,
   "id": "0d783537-5ca5-4c28-a485-dc8f220ddb3c",
   "metadata": {},
   "outputs": [],
   "source": [
    "comps.fig_carrier_revenues()"
   ]
  },
  {
   "cell_type": "code",
   "execution_count": null,
   "id": "b18c6e52-75c1-41c3-91c6-fd6043e6e93c",
   "metadata": {},
   "outputs": [],
   "source": [
    "comps.fig_fare_class_mix()"
   ]
  },
  {
   "cell_type": "code",
   "execution_count": null,
   "id": "892f7593-73ea-49ad-b0e1-29e7394f734d",
   "metadata": {},
   "outputs": [],
   "source": [
    "comps.fig_bookings_by_timeframe(by_carrier=\"AL1\", by_class=True)"
   ]
  },
  {
   "cell_type": "code",
   "execution_count": null,
   "id": "2bf22097-63b6-4e0a-82b0-57cfff753ac7",
   "metadata": {},
   "outputs": [],
   "source": [
    "comps.fig_leg_forecasts(of=[\"mu\", \"sigma\"], by_flt_no=101)"
   ]
  },
  {
   "cell_type": "code",
   "execution_count": null,
   "id": "e5ec8042-7c76-4880-acc2-30b3b9f583ac",
   "metadata": {},
   "outputs": [],
   "source": [
    "comps.fig_leg_forecasts(of=[\"mu\", \"sigma\"], by_flt_no=111)"
   ]
  },
  {
   "cell_type": "code",
   "execution_count": null,
   "id": "c516379d-9b8f-47ba-ac97-a396883d13b9",
   "metadata": {},
   "outputs": [],
   "source": [
    "contrast.fig_leg_forecasts(comps, of=[\"mu\", \"sigma\"], by_flt_no=101, agg_booking_classes=True)"
   ]
  }
 ],
 "metadata": {
  "kernelspec": {
   "display_name": "Python 3 (ipykernel)",
   "language": "python",
   "name": "python3"
  },
  "language_info": {
   "codemirror_mode": {
    "name": "ipython",
    "version": 3
   },
   "file_extension": ".py",
   "mimetype": "text/x-python",
   "name": "python",
   "nbconvert_exporter": "python",
   "pygments_lexer": "ipython3",
   "version": "3.11.4"
  }
 },
 "nbformat": 4,
 "nbformat_minor": 5
}
