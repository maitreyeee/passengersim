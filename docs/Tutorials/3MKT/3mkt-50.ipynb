{
 "cells": [
  {
   "cell_type": "markdown",
   "id": "074357ec-407b-409a-ab22-b658573890e8",
   "metadata": {},
   "source": [
    "<style>.md-sidebar--secondary {display: none !important;}</style>\n",
    "\n",
    "# Custom Forecaster\n",
    "\n",
    "In this example, we use a custom forecast algorithm, the \"Olympic Average\", \n",
    "implemented in Python.  In this forecast, the mean (mu) forecast for any\n",
    "bucket is computed by taking the 26 historical values, discarding the highest\n",
    "and lowest, and taking the mean of the remaining 24 values."
   ]
  },
  {
   "cell_type": "code",
   "execution_count": null,
   "id": "47aa4d6a-3fa2-4779-ba2e-58e06dc6b1b2",
   "metadata": {},
   "outputs": [],
   "source": [
    "import passengersim as pax\n",
    "pax.versions()"
   ]
  },
  {
   "cell_type": "markdown",
   "id": "acbd6d8d-018e-4079-b427-73d75c87d139",
   "metadata": {},
   "source": [
    "We'll first run a simulation without the change as a baseline.  As this tutorial is \n",
    "meant as a technology demonstration and not for serious statistical analysis, we'll\n",
    "only run one trial so it goes fast, and we won't worry about statistical validity."
   ]
  },
  {
   "cell_type": "code",
   "execution_count": null,
   "id": "49377d08-2b30-4f1d-b5e3-504c59341a03",
   "metadata": {},
   "outputs": [],
   "source": [
    "cfg = pax.Config.from_yaml([\n",
    "    \"network/08-untrunc-em.yaml\",\n",
    "])"
   ]
  },
  {
   "cell_type": "code",
   "execution_count": null,
   "id": "1909cd85-e07f-4650-b303-6a57783bf5c7",
   "metadata": {},
   "outputs": [],
   "source": [
    "cfg.simulation_controls.num_trials = 1"
   ]
  },
  {
   "cell_type": "code",
   "execution_count": null,
   "id": "ddb686d0-e1ea-4a41-9559-2e302b2d7bc2",
   "metadata": {},
   "outputs": [],
   "source": [
    "sim = pax.Simulation(cfg)\n",
    "baseline_summary = sim.run()"
   ]
  },
  {
   "cell_type": "code",
   "execution_count": null,
   "id": "4eaa7d35-aedb-4b45-8611-29c46b31e481",
   "metadata": {},
   "outputs": [],
   "source": [
    "baseline_summary.fig_carrier_revenues()"
   ]
  },
  {
   "cell_type": "markdown",
   "id": "391a4515-e532-461b-ae4a-eca4601d3b03",
   "metadata": {},
   "source": [
    "Now we swap in our custom forecast algorithm."
   ]
  },
  {
   "cell_type": "code",
   "execution_count": null,
   "id": "b88a04d5-7aa8-4ffb-bafe-cc7511fdce35",
   "metadata": {},
   "outputs": [],
   "source": [
    "from passengersim.extra.olympic_forecast import OlympicForecastStep"
   ]
  },
  {
   "cell_type": "code",
   "execution_count": null,
   "id": "65533e64-c1ef-4e64-a00a-cecfa2bcf2ef",
   "metadata": {},
   "outputs": [],
   "source": [
    "extra_config = \"\"\"\n",
    "rm_systems:\n",
    "  rm_test2:\n",
    "    availability_control: leg\n",
    "    processes:\n",
    "      DCP:\n",
    "      - step_type: untruncation\n",
    "        algorithm: em\n",
    "        kind: leg\n",
    "      - step_type: olympicforecast\n",
    "      - step_type: emsr\n",
    "        algorithm: emsrb\n",
    "airlines:\n",
    "  - name: AL1\n",
    "    rm_system: rm_test2\n",
    "  - name: AL2\n",
    "    rm_system: rm_test1\n",
    "\"\"\"\n",
    "\n",
    "cfg = pax.Config.from_yaml([\n",
    "    \"network/08-untrunc-em.yaml\",\n",
    "    extra_config,\n",
    "])\n",
    "cfg.simulation_controls.num_trials = 1"
   ]
  },
  {
   "cell_type": "code",
   "execution_count": null,
   "id": "34deaf3d-4fb6-4e8c-98ec-51700abc94f7",
   "metadata": {},
   "outputs": [],
   "source": [
    "sim = pax.Simulation(cfg)"
   ]
  },
  {
   "cell_type": "code",
   "execution_count": null,
   "id": "e7644d17-393b-461b-b7ec-a7af9c79efdc",
   "metadata": {},
   "outputs": [],
   "source": [
    "summary = sim.run()"
   ]
  },
  {
   "cell_type": "code",
   "execution_count": null,
   "id": "e1ab1041",
   "metadata": {
    "jupyter": {
     "outputs_hidden": false
    }
   },
   "outputs": [],
   "source": [
    "summary.fig_carrier_revenues()"
   ]
  },
  {
   "cell_type": "markdown",
   "id": "e4f6f5b4-b142-45ac-b6a4-90daf612c8a9",
   "metadata": {},
   "source": [
    "## Comparing Results"
   ]
  },
  {
   "cell_type": "code",
   "execution_count": null,
   "id": "798a3a41-a892-4b24-90d1-45f3f571b8af",
   "metadata": {},
   "outputs": [],
   "source": [
    "from passengersim.contrast import Contrast\n",
    "\n",
    "comp = Contrast(Baseline=baseline_summary, Olympic=summary)"
   ]
  },
  {
   "cell_type": "code",
   "execution_count": null,
   "id": "1357fa06-d225-43e3-b045-66c3a4093f2c",
   "metadata": {},
   "outputs": [],
   "source": [
    "comp.fig_carrier_revenues()"
   ]
  },
  {
   "cell_type": "code",
   "execution_count": null,
   "id": "7b3d0737",
   "metadata": {},
   "outputs": [],
   "source": [
    "comp.fig_carrier_load_factors()"
   ]
  },
  {
   "cell_type": "code",
   "execution_count": null,
   "id": "5f837f66",
   "metadata": {
    "jupyter": {
     "outputs_hidden": false
    }
   },
   "outputs": [],
   "source": [
    "comp.fig_fare_class_mix()"
   ]
  },
  {
   "cell_type": "code",
   "execution_count": null,
   "id": "e4e94d70",
   "metadata": {
    "jupyter": {
     "outputs_hidden": false
    }
   },
   "outputs": [],
   "source": [
    "comp.fig_bookings_by_timeframe(by_carrier=\"AL1\", by_class=True, source_labels=True)"
   ]
  },
  {
   "cell_type": "code",
   "execution_count": null,
   "id": "3c059918-596b-4b5b-b6d0-c8e8bc1b4bd2",
   "metadata": {},
   "outputs": [],
   "source": [
    "comp.fig_leg_forecasts(by_flt_no=101, of=[\"mu\", \"sigma\"])"
   ]
  },
  {
   "cell_type": "code",
   "execution_count": null,
   "id": "90e8ec2a-0cd7-4bf0-b396-d4fa7604539d",
   "metadata": {},
   "outputs": [],
   "source": [
    "comp.fig_leg_forecasts(by_flt_no=111, of=[\"mu\", \"sigma\"])"
   ]
  }
 ],
 "metadata": {
  "kernelspec": {
   "display_name": "Python 3 (ipykernel)",
   "language": "python",
   "name": "python3"
  },
  "language_info": {
   "codemirror_mode": {
    "name": "ipython",
    "version": 3
   },
   "file_extension": ".py",
   "mimetype": "text/x-python",
   "name": "python",
   "nbconvert_exporter": "python",
   "pygments_lexer": "ipython3",
   "version": "3.11.4"
  }
 },
 "nbformat": 4,
 "nbformat_minor": 5
}
