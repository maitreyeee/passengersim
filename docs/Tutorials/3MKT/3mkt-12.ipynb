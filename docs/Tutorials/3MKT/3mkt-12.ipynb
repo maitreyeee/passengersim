{
 "cells": [
  {
   "cell_type": "markdown",
   "id": "074357ec-407b-409a-ab22-b658573890e8",
   "metadata": {
    "editable": true,
    "slideshow": {
     "slide_type": ""
    },
    "tags": []
   },
   "source": [
    "<style>.md-sidebar--secondary {display: none !important;}</style>\n",
    "\n",
    "# ProBP Deprecated Approach \n",
    "\n",
    "In this example, ProBP is applied with daily re-optimization, using a forecast adjusted by linear interpolation \n",
    "between the forecast point and departure.  This is provided as a technical demonstration, but for actual \n",
    "implementations and analysis of ProBP reoptimization, users are recommended to employ the timeframe-based\n",
    "adjustment algorithm instead."
   ]
  },
  {
   "cell_type": "code",
   "execution_count": null,
   "id": "47aa4d6a-3fa2-4779-ba2e-58e06dc6b1b2",
   "metadata": {},
   "outputs": [],
   "source": [
    "import passengersim as pax\n",
    "pax.versions()"
   ]
  },
  {
   "cell_type": "code",
   "execution_count": null,
   "id": "b2349102-0746-40a1-a215-1280ae242ff5",
   "metadata": {},
   "outputs": [],
   "source": [
    "from passengersim.utils.codeview import show_file"
   ]
  },
  {
   "cell_type": "code",
   "execution_count": null,
   "id": "dc47858a-cbc7-4b70-86d2-020a277d9b29",
   "metadata": {},
   "outputs": [],
   "source": [
    "show_file(\"network/11-probp-daily.yaml\")"
   ]
  },
  {
   "cell_type": "code",
   "execution_count": null,
   "id": "e40bdf29-d180-44b1-97b7-073e88961512",
   "metadata": {},
   "outputs": [],
   "source": [
    "cfg = pax.Config.from_yaml([\n",
    "    \"network/11-probp-daily.yaml\",\n",
    "])"
   ]
  },
  {
   "cell_type": "code",
   "execution_count": null,
   "id": "4a2efd7b-5b28-41b6-a423-8477185bd3a5",
   "metadata": {},
   "outputs": [],
   "source": [
    "cfg.rm_systems['rm_probp'].processes['daily'][0].algorithm = \"days_to_departure\""
   ]
  },
  {
   "cell_type": "code",
   "execution_count": null,
   "id": "34deaf3d-4fb6-4e8c-98ec-51700abc94f7",
   "metadata": {},
   "outputs": [],
   "source": [
    "sim = pax.Simulation(cfg)"
   ]
  },
  {
   "cell_type": "code",
   "execution_count": null,
   "id": "e7644d17-393b-461b-b7ec-a7af9c79efdc",
   "metadata": {},
   "outputs": [],
   "source": [
    "summary = sim.run()"
   ]
  },
  {
   "cell_type": "code",
   "execution_count": null,
   "id": "e1ab1041",
   "metadata": {
    "jupyter": {
     "outputs_hidden": false
    }
   },
   "outputs": [],
   "source": [
    "summary.fig_carrier_revenues()"
   ]
  },
  {
   "cell_type": "code",
   "execution_count": null,
   "id": "7b3d0737",
   "metadata": {},
   "outputs": [],
   "source": [
    "summary.fig_carrier_load_factors()"
   ]
  },
  {
   "cell_type": "code",
   "execution_count": null,
   "id": "5f837f66",
   "metadata": {
    "jupyter": {
     "outputs_hidden": false
    }
   },
   "outputs": [],
   "source": [
    "summary.fig_fare_class_mix()"
   ]
  },
  {
   "cell_type": "code",
   "execution_count": null,
   "id": "e4e94d70",
   "metadata": {
    "jupyter": {
     "outputs_hidden": false
    }
   },
   "outputs": [],
   "source": [
    "summary.fig_bookings_by_timeframe()"
   ]
  },
  {
   "cell_type": "code",
   "execution_count": null,
   "id": "abe47f03-6e1a-46ab-ab88-413fdd904d11",
   "metadata": {
    "editable": true,
    "slideshow": {
     "slide_type": ""
    },
    "tags": []
   },
   "outputs": [],
   "source": [
    "summary.to_xlsx(\"outputs/3mkt-12.xlsx\")"
   ]
  },
  {
   "cell_type": "markdown",
   "id": "ef0149d7-69d6-4a13-a763-8732bab96fad",
   "metadata": {
    "editable": true,
    "slideshow": {
     "slide_type": ""
    },
    "tags": []
   },
   "source": [
    "## Comparing against Targets"
   ]
  },
  {
   "cell_type": "code",
   "execution_count": null,
   "id": "db23ae9b-f73f-46a7-a5bf-11a65668734c",
   "metadata": {},
   "outputs": [],
   "source": [
    "import targets\n",
    "\n",
    "target = targets.load(12, cfg)"
   ]
  },
  {
   "cell_type": "code",
   "execution_count": null,
   "id": "658336d8-3ceb-4605-aafb-4dc5ca9a5bb3",
   "metadata": {},
   "outputs": [],
   "source": [
    "from passengersim import contrast\n",
    "\n",
    "comps = contrast.Contrast({\n",
    "    \"simulation\": summary,\n",
    "    \"target\": target,\n",
    "})"
   ]
  },
  {
   "cell_type": "code",
   "execution_count": null,
   "id": "de43931a-788c-4647-85a8-986489b51965",
   "metadata": {
    "editable": true,
    "slideshow": {
     "slide_type": ""
    },
    "tags": []
   },
   "outputs": [],
   "source": [
    "comps.fig_demand_to_come(\"mean\") | comps.fig_demand_to_come(\"std\")"
   ]
  },
  {
   "cell_type": "code",
   "execution_count": null,
   "id": "f33557b2-85e5-44ee-9f72-6e3b0e5f9fba",
   "metadata": {},
   "outputs": [],
   "source": [
    "comps.fig_bookings_by_timeframe(by_carrier=\"AL1\")"
   ]
  },
  {
   "cell_type": "code",
   "execution_count": null,
   "id": "0d783537-5ca5-4c28-a485-dc8f220ddb3c",
   "metadata": {},
   "outputs": [],
   "source": [
    "comps.fig_carrier_revenues()"
   ]
  },
  {
   "cell_type": "code",
   "execution_count": null,
   "id": "c961a8e0-ff31-48d3-8144-fc608b624639",
   "metadata": {},
   "outputs": [],
   "source": [
    "comps.fig_carrier_load_factors()"
   ]
  },
  {
   "cell_type": "code",
   "execution_count": null,
   "id": "b18c6e52-75c1-41c3-91c6-fd6043e6e93c",
   "metadata": {},
   "outputs": [],
   "source": [
    "comps.fig_fare_class_mix()"
   ]
  },
  {
   "cell_type": "code",
   "execution_count": null,
   "id": "892f7593-73ea-49ad-b0e1-29e7394f734d",
   "metadata": {},
   "outputs": [],
   "source": [
    "comps.fig_bookings_by_timeframe(by_carrier=\"AL1\", by_class=True, source_labels=True)"
   ]
  },
  {
   "cell_type": "markdown",
   "id": "233d636b-c3bd-4a90-b946-fe968bbda705",
   "metadata": {},
   "source": [
    "Interpolation to departure is not advised because customer arrival rates are often very far from \n",
    "uniformly distributed, resulting in forecasts that exhibit a sawtooth pattern."
   ]
  },
  {
   "cell_type": "code",
   "execution_count": null,
   "id": "7d939011-b87a-4e16-9b83-4fff951677a7",
   "metadata": {},
   "outputs": [],
   "source": [
    "print(sim.path_names()[1])\n",
    "comps.fig_path_forecasts(by_path_id=1, of=['mu', 'sigma', 'closed'])"
   ]
  },
  {
   "cell_type": "code",
   "execution_count": null,
   "id": "a120f4fe-c2e2-4cea-b9ae-44937721d0ad",
   "metadata": {},
   "outputs": [],
   "source": [
    "print(sim.path_names()[5])\n",
    "comps.fig_path_forecasts(by_path_id=5, of=['mu', 'sigma', 'closed'])"
   ]
  },
  {
   "cell_type": "code",
   "execution_count": null,
   "id": "bae8c232-e938-4273-8c63-0249a4928c93",
   "metadata": {},
   "outputs": [],
   "source": [
    "print(sim.path_names()[9])\n",
    "comps.fig_path_forecasts(by_path_id=9, of=['mu', 'sigma', 'closed'])"
   ]
  },
  {
   "cell_type": "code",
   "execution_count": null,
   "id": "023e7b3d-7981-49e2-94e0-3914c20fb1fb",
   "metadata": {},
   "outputs": [],
   "source": [
    "comps.fig_bid_price_history(by_carrier=\"AL1\", cap=\"some\")"
   ]
  },
  {
   "cell_type": "code",
   "execution_count": null,
   "id": "03b994db-5f4b-4e2c-bfaf-7e45b0d317fd",
   "metadata": {},
   "outputs": [],
   "source": [
    "comps.fig_bid_price_history(by_carrier=\"AL1\", cap=\"some\", show_stdev=1)"
   ]
  },
  {
   "cell_type": "code",
   "execution_count": null,
   "id": "6f665dfb-79a9-4908-8b1a-54080be30e57",
   "metadata": {},
   "outputs": [],
   "source": [
    "from passengersim.extra.forecast_viz import fig_forecasts_and_bid_prices"
   ]
  },
  {
   "cell_type": "code",
   "execution_count": null,
   "id": "e68dea81-efee-43c1-bed5-2ae3796cbd20",
   "metadata": {},
   "outputs": [],
   "source": [
    "fig_forecasts_and_bid_prices(\n",
    "    sim,\n",
    "    trial = 0,\n",
    "    rrd = 63,\n",
    "    flt_no = 111,\n",
    ")"
   ]
  },
  {
   "cell_type": "code",
   "execution_count": null,
   "id": "d2578600-b25e-4567-9827-be2c562a6c42",
   "metadata": {
    "editable": true,
    "slideshow": {
     "slide_type": ""
    },
    "tags": []
   },
   "outputs": [],
   "source": [
    "fig_forecasts_and_bid_prices(\n",
    "    sim,\n",
    "    trial = 0,\n",
    "    rrd = 63,\n",
    "    flt_no = 101,\n",
    ")"
   ]
  }
 ],
 "metadata": {
  "kernelspec": {
   "display_name": "Python 3 (ipykernel)",
   "language": "python",
   "name": "python3"
  },
  "language_info": {
   "codemirror_mode": {
    "name": "ipython",
    "version": 3
   },
   "file_extension": ".py",
   "mimetype": "text/x-python",
   "name": "python",
   "nbconvert_exporter": "python",
   "pygments_lexer": "ipython3",
   "version": "3.11.4"
  }
 },
 "nbformat": 4,
 "nbformat_minor": 5
}
