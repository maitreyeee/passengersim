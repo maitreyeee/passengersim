{
 "cells": [
  {
   "cell_type": "markdown",
   "id": "074357ec-407b-409a-ab22-b658573890e8",
   "metadata": {},
   "source": [
    "<style>.md-sidebar--secondary {display: none !important;}</style>\n",
    "\n",
    "# EM Untruncation\n",
    "\n",
    "In this example, we include product and advance purchase (AP)\n",
    "restrictions in the simulation, and have each airline use the\n",
    "leg-based EMSR-B algorithm to manage revenue.  Additionally,\n",
    "the EM algorithm is employed to detruncate censored demand.\n",
    "Demand is simulated at normal levels."
   ]
  },
  {
   "cell_type": "code",
   "execution_count": null,
   "id": "47aa4d6a-3fa2-4779-ba2e-58e06dc6b1b2",
   "metadata": {},
   "outputs": [],
   "source": [
    "import passengersim as pax\n",
    "pax.versions()"
   ]
  },
  {
   "cell_type": "code",
   "execution_count": null,
   "id": "b2349102-0746-40a1-a215-1280ae242ff5",
   "metadata": {},
   "outputs": [],
   "source": [
    "from passengersim.utils.codeview import show_file"
   ]
  },
  {
   "cell_type": "code",
   "execution_count": null,
   "id": "dc47858a-cbc7-4b70-86d2-020a277d9b29",
   "metadata": {},
   "outputs": [],
   "source": [
    "show_file(\"network/08-untrunc-em.yaml\")"
   ]
  },
  {
   "cell_type": "code",
   "execution_count": null,
   "id": "49377d08-2b30-4f1d-b5e3-504c59341a03",
   "metadata": {},
   "outputs": [],
   "source": [
    "cfg = pax.Config.from_yaml([\n",
    "    \"network/08-untrunc-em.yaml\",\n",
    "])"
   ]
  },
  {
   "cell_type": "code",
   "execution_count": null,
   "id": "1909cd85-e07f-4650-b303-6a57783bf5c7",
   "metadata": {},
   "outputs": [],
   "source": [
    "cfg.simulation_controls.num_trials = 6"
   ]
  },
  {
   "cell_type": "code",
   "execution_count": null,
   "id": "130300ef-0e2f-4909-b061-4f59a1102735",
   "metadata": {},
   "outputs": [],
   "source": [
    "cfg.outputs.reports.add(\"local_and_flow_yields\")"
   ]
  },
  {
   "cell_type": "code",
   "execution_count": null,
   "id": "34deaf3d-4fb6-4e8c-98ec-51700abc94f7",
   "metadata": {},
   "outputs": [],
   "source": [
    "sim = pax.Simulation(cfg)"
   ]
  },
  {
   "cell_type": "code",
   "execution_count": null,
   "id": "e7644d17-393b-461b-b7ec-a7af9c79efdc",
   "metadata": {},
   "outputs": [],
   "source": [
    "summary = sim.run()"
   ]
  },
  {
   "cell_type": "code",
   "execution_count": null,
   "id": "e1ab1041",
   "metadata": {
    "jupyter": {
     "outputs_hidden": false
    }
   },
   "outputs": [],
   "source": [
    "summary.fig_carrier_revenues()"
   ]
  },
  {
   "cell_type": "code",
   "execution_count": null,
   "id": "7b3d0737",
   "metadata": {},
   "outputs": [],
   "source": [
    "summary.fig_carrier_load_factors()"
   ]
  },
  {
   "cell_type": "code",
   "execution_count": null,
   "id": "5f837f66",
   "metadata": {
    "jupyter": {
     "outputs_hidden": false
    }
   },
   "outputs": [],
   "source": [
    "summary.fig_fare_class_mix()"
   ]
  },
  {
   "cell_type": "code",
   "execution_count": null,
   "id": "e4e94d70",
   "metadata": {
    "jupyter": {
     "outputs_hidden": false
    }
   },
   "outputs": [],
   "source": [
    "summary.fig_bookings_by_timeframe()"
   ]
  },
  {
   "cell_type": "code",
   "execution_count": null,
   "id": "3821c9f4-d319-47ce-aa3c-6d64937fd4ac",
   "metadata": {},
   "outputs": [],
   "source": [
    "summary.local_and_flow_yields"
   ]
  },
  {
   "cell_type": "code",
   "execution_count": null,
   "id": "173767f3-f15f-4733-b12c-b1587ac71203",
   "metadata": {},
   "outputs": [],
   "source": [
    "summary.to_xlsx(\"outputs/3mkt-08.xlsx\")"
   ]
  },
  {
   "cell_type": "markdown",
   "id": "ef0149d7-69d6-4a13-a763-8732bab96fad",
   "metadata": {},
   "source": [
    "## Comparing against Targets"
   ]
  },
  {
   "cell_type": "code",
   "execution_count": null,
   "id": "db23ae9b-f73f-46a7-a5bf-11a65668734c",
   "metadata": {},
   "outputs": [],
   "source": [
    "import targets\n",
    "target = targets.load(8, cfg)"
   ]
  },
  {
   "cell_type": "code",
   "execution_count": null,
   "id": "658336d8-3ceb-4605-aafb-4dc5ca9a5bb3",
   "metadata": {},
   "outputs": [],
   "source": [
    "from passengersim import contrast"
   ]
  },
  {
   "cell_type": "code",
   "execution_count": null,
   "id": "1988e31c-3cee-4185-900f-45c77c7010d1",
   "metadata": {},
   "outputs": [],
   "source": [
    "comps = contrast.Contrast({\n",
    "    \"simulation\": summary,\n",
    "    \"target\": target,\n",
    "})"
   ]
  },
  {
   "cell_type": "code",
   "execution_count": null,
   "id": "4c7860da-5946-4c03-8f36-b9858f162b79",
   "metadata": {},
   "outputs": [],
   "source": [
    "comps.fig_demand_to_come(\"mean\")"
   ]
  },
  {
   "cell_type": "code",
   "execution_count": null,
   "id": "c02ecd29-1e9d-4eef-85d1-5351cfba7d49",
   "metadata": {},
   "outputs": [],
   "source": [
    "comps.fig_demand_to_come(\"std\")"
   ]
  },
  {
   "cell_type": "code",
   "execution_count": null,
   "id": "6b2d8959-7f12-4bdc-af8f-f8f78c1eb176",
   "metadata": {},
   "outputs": [],
   "source": [
    "comps.apply(\n",
    "    lambda s: (\n",
    "        s.aggregate_demand_history(by_segment=True).unstack(\"segment\").cov()\n",
    "    )\n",
    ")"
   ]
  },
  {
   "cell_type": "code",
   "execution_count": null,
   "id": "f33557b2-85e5-44ee-9f72-6e3b0e5f9fba",
   "metadata": {},
   "outputs": [],
   "source": [
    "contrast.fig_bookings_by_timeframe(comps, by_carrier=\"AL1\",  by_class=True)"
   ]
  },
  {
   "cell_type": "code",
   "execution_count": null,
   "id": "0d783537-5ca5-4c28-a485-dc8f220ddb3c",
   "metadata": {},
   "outputs": [],
   "source": [
    "comps.fig_carrier_revenues()"
   ]
  },
  {
   "cell_type": "code",
   "execution_count": null,
   "id": "43894e2e-5646-4ba7-a323-09813fa7eb2e",
   "metadata": {},
   "outputs": [],
   "source": [
    "comps.fig_carrier_load_factors()"
   ]
  },
  {
   "cell_type": "code",
   "execution_count": null,
   "id": "b18c6e52-75c1-41c3-91c6-fd6043e6e93c",
   "metadata": {},
   "outputs": [],
   "source": [
    "comps.fig_fare_class_mix()"
   ]
  },
  {
   "cell_type": "code",
   "execution_count": null,
   "id": "892f7593-73ea-49ad-b0e1-29e7394f734d",
   "metadata": {},
   "outputs": [],
   "source": [
    "comps.fig_bookings_by_timeframe(by_carrier=\"AL1\", by_class=True)"
   ]
  },
  {
   "cell_type": "code",
   "execution_count": null,
   "id": "26639f4f-4d1f-49ed-a091-77cde217b11f",
   "metadata": {},
   "outputs": [],
   "source": [
    "comps.fig_leg_forecasts(by_flt_no=101, of=[\"mu\", \"sigma\"])"
   ]
  },
  {
   "cell_type": "code",
   "execution_count": null,
   "id": "3c059918-596b-4b5b-b6d0-c8e8bc1b4bd2",
   "metadata": {},
   "outputs": [],
   "source": [
    "comps.fig_leg_forecasts(by_flt_no=101, of=[\"mu\", \"sigma\"])"
   ]
  },
  {
   "cell_type": "code",
   "execution_count": null,
   "id": "02a0f1b3-b7cf-4758-888f-6cd13a8b0cf8",
   "metadata": {},
   "outputs": [],
   "source": [
    "comps.fig_leg_forecasts(by_flt_no=111, of=[\"mu\", \"sigma\"])"
   ]
  }
 ],
 "metadata": {
  "kernelspec": {
   "display_name": "Python 3 (ipykernel)",
   "language": "python",
   "name": "python3"
  },
  "language_info": {
   "codemirror_mode": {
    "name": "ipython",
    "version": 3
   },
   "file_extension": ".py",
   "mimetype": "text/x-python",
   "name": "python",
   "nbconvert_exporter": "python",
   "pygments_lexer": "ipython3",
   "version": "3.11.4"
  }
 },
 "nbformat": 4,
 "nbformat_minor": 5
}
