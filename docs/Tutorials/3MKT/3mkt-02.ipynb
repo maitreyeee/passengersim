{
 "cells": [
  {
   "cell_type": "markdown",
   "id": "074357ec-407b-409a-ab22-b658573890e8",
   "metadata": {},
   "source": [
    "<style>.md-sidebar--secondary {display: none !important;}</style>\n",
    "\n",
    "# FCFS with Product Restrictions\n",
    "\n",
    "In this example, we add product restrictions to the simulation.  These restrictions\n",
    "will cause some passengers to \"buy up\" to a fare product other than the lowest price."
   ]
  },
  {
   "cell_type": "code",
   "execution_count": null,
   "id": "47aa4d6a-3fa2-4779-ba2e-58e06dc6b1b2",
   "metadata": {},
   "outputs": [],
   "source": [
    "import passengersim as pax\n",
    "pax.versions()"
   ]
  },
  {
   "cell_type": "markdown",
   "id": "ffb3e767-50b6-4d58-9113-8a5c423477d8",
   "metadata": {},
   "source": [
    "This example adds the [network/02-buyup.yaml](./network/02-buyup.yaml) \n",
    "configuration file, to enable the product restrictions."
   ]
  },
  {
   "cell_type": "code",
   "execution_count": null,
   "id": "b9ad3e4d-d370-4700-9b46-62a59b534641",
   "metadata": {},
   "outputs": [],
   "source": [
    "cfg = pax.Config.from_yaml([\"network/01-base.yaml\", \"network/02-buyup.yaml\"])"
   ]
  },
  {
   "cell_type": "markdown",
   "id": "2fc86f74-d5f8-407e-824d-52c32ecfe76e",
   "metadata": {},
   "source": [
    "The configuration can be manipulated in Python after loading.  This \n",
    "allows for a more interactive experience, where individual input values can readily\n",
    "be altered for a given analysis."
   ]
  },
  {
   "cell_type": "code",
   "execution_count": null,
   "id": "d791bc0f-4abf-497f-a266-418c1698a300",
   "metadata": {},
   "outputs": [],
   "source": [
    "cfg.simulation_controls.num_trials = 4"
   ]
  },
  {
   "cell_type": "markdown",
   "id": "0d5104d5-46a9-4ef7-b23d-26f80222bafd",
   "metadata": {},
   "source": [
    "After all the desired changes have been completed, we use the `Config` to initialize the `Simulation`."
   ]
  },
  {
   "cell_type": "code",
   "execution_count": null,
   "id": "34deaf3d-4fb6-4e8c-98ec-51700abc94f7",
   "metadata": {},
   "outputs": [],
   "source": [
    "sim = pax.Simulation(cfg)"
   ]
  },
  {
   "cell_type": "code",
   "execution_count": null,
   "id": "e7644d17-393b-461b-b7ec-a7af9c79efdc",
   "metadata": {},
   "outputs": [],
   "source": [
    "summary = sim.run()"
   ]
  },
  {
   "cell_type": "code",
   "execution_count": null,
   "id": "e1ab1041",
   "metadata": {
    "jupyter": {
     "outputs_hidden": false
    }
   },
   "outputs": [],
   "source": [
    "summary.fig_carrier_revenues()"
   ]
  },
  {
   "cell_type": "code",
   "execution_count": null,
   "id": "7b3d0737",
   "metadata": {},
   "outputs": [],
   "source": [
    "summary.fig_carrier_load_factors()"
   ]
  },
  {
   "cell_type": "code",
   "execution_count": null,
   "id": "5f837f66",
   "metadata": {
    "jupyter": {
     "outputs_hidden": false
    }
   },
   "outputs": [],
   "source": [
    "summary.fig_fare_class_mix()"
   ]
  },
  {
   "cell_type": "code",
   "execution_count": null,
   "id": "e4e94d70",
   "metadata": {
    "jupyter": {
     "outputs_hidden": false
    }
   },
   "outputs": [],
   "source": [
    "summary.fig_bookings_by_timeframe()"
   ]
  },
  {
   "cell_type": "code",
   "execution_count": null,
   "id": "139c2b8d-e7bb-42a6-b1d4-7fc9a6e0b865",
   "metadata": {},
   "outputs": [],
   "source": [
    "summary.to_xlsx(\"outputs/3mkt-02.xlsx\")"
   ]
  },
  {
   "cell_type": "markdown",
   "id": "f4f652da-0d83-4703-9ff7-9cd2b241e2a3",
   "metadata": {},
   "source": [
    "[Download 3mkt-02.xlsx](./outputs/3mkt-02.xlsx)"
   ]
  },
  {
   "cell_type": "markdown",
   "id": "ef0149d7-69d6-4a13-a763-8732bab96fad",
   "metadata": {},
   "source": [
    "## Comparing against Targets"
   ]
  },
  {
   "cell_type": "code",
   "execution_count": null,
   "id": "d112bf7a-3d5f-4740-8b43-b0b50eeff61d",
   "metadata": {},
   "outputs": [],
   "source": [
    "import targets\n",
    "\n",
    "target = targets.load(2, cfg)"
   ]
  },
  {
   "cell_type": "code",
   "execution_count": null,
   "id": "658336d8-3ceb-4605-aafb-4dc5ca9a5bb3",
   "metadata": {},
   "outputs": [],
   "source": [
    "from passengersim import contrast\n",
    "\n",
    "comps = contrast.Contrast({\n",
    "    \"simulation\": summary,\n",
    "    \"target\": target,\n",
    "})"
   ]
  },
  {
   "cell_type": "code",
   "execution_count": null,
   "id": "f33557b2-85e5-44ee-9f72-6e3b0e5f9fba",
   "metadata": {},
   "outputs": [],
   "source": [
    "comps.fig_bookings_by_timeframe(by_carrier=\"AL1\")"
   ]
  },
  {
   "cell_type": "code",
   "execution_count": null,
   "id": "0d783537-5ca5-4c28-a485-dc8f220ddb3c",
   "metadata": {},
   "outputs": [],
   "source": [
    "comps.fig_carrier_revenues()"
   ]
  },
  {
   "cell_type": "code",
   "execution_count": null,
   "id": "b18c6e52-75c1-41c3-91c6-fd6043e6e93c",
   "metadata": {},
   "outputs": [],
   "source": [
    "comps.fig_fare_class_mix()"
   ]
  },
  {
   "cell_type": "code",
   "execution_count": null,
   "id": "892f7593-73ea-49ad-b0e1-29e7394f734d",
   "metadata": {},
   "outputs": [],
   "source": [
    "comps.fig_bookings_by_timeframe(by_carrier=\"AL1\", by_class=True)"
   ]
  },
  {
   "cell_type": "code",
   "execution_count": null,
   "id": "5ffdc35f-0717-443e-8d9d-270ee2172e75",
   "metadata": {},
   "outputs": [],
   "source": [
    "comps.fig_leg_forecasts(of=[\"mu\", \"sigma\"], by_flt_no=111)"
   ]
  },
  {
   "cell_type": "code",
   "execution_count": null,
   "id": "045a5ec7-a884-43a6-808f-388b66c69828",
   "metadata": {},
   "outputs": [],
   "source": [
    "comps.fig_leg_forecasts(of=[\"mu\", \"sigma\"], by_flt_no=111, agg_booking_classes=True)"
   ]
  },
  {
   "cell_type": "code",
   "execution_count": null,
   "id": "3c37de1a-7779-4d1d-b39a-ac2bb8df4958",
   "metadata": {},
   "outputs": [],
   "source": [
    "comps.fig_leg_forecasts(of=[\"mu\", \"sigma\"], by_flt_no=101)"
   ]
  }
 ],
 "metadata": {
  "kernelspec": {
   "display_name": "Python 3 (ipykernel)",
   "language": "python",
   "name": "python3"
  },
  "language_info": {
   "codemirror_mode": {
    "name": "ipython",
    "version": 3
   },
   "file_extension": ".py",
   "mimetype": "text/x-python",
   "name": "python",
   "nbconvert_exporter": "python",
   "pygments_lexer": "ipython3",
   "version": "3.11.4"
  }
 },
 "nbformat": 4,
 "nbformat_minor": 5
}
