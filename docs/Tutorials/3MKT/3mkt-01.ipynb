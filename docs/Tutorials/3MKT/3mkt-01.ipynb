{
 "cells": [
  {
   "cell_type": "markdown",
   "id": "45092fd0-49e9-460d-a2c4-8030494eccfe",
   "metadata": {},
   "source": [
    "<style>.md-sidebar--secondary {display: none !important;}</style>\n",
    "\n",
    "# Simple FCFS\n",
    "\n",
    "This is a very simple network, with only 3 markets, used to demonstrate some features of PassengerSim."
   ]
  },
  {
   "cell_type": "code",
   "execution_count": null,
   "id": "fb995f47-6160-4a21-b707-03325ac44a9e",
   "metadata": {},
   "outputs": [],
   "source": [
    "import passengersim as pax\n",
    "pax.versions()"
   ]
  },
  {
   "cell_type": "markdown",
   "id": "28d19035-9e04-4efb-90e1-916554e6bc76",
   "metadata": {},
   "source": [
    "This example uses [network/01-base.yaml](./network/01-base.yaml) configuration file.\n",
    "Within a Jupyter notebook, we can directly initialize a PassengerSim `Simulation` \n",
    "instance from this file using the `from_yaml` class constructor:"
   ]
  },
  {
   "cell_type": "code",
   "execution_count": null,
   "id": "dfb2705b-5b53-4d47-b190-4e5aeb886c6b",
   "metadata": {},
   "outputs": [],
   "source": [
    "sim = pax.Simulation.from_yaml(\"network/01-base.yaml\")"
   ]
  },
  {
   "cell_type": "markdown",
   "id": "b6df2c19-bb46-4160-b874-1f2d65b84b3d",
   "metadata": {},
   "source": [
    "Running the simulation is as simple as calling the `run` command, which runs the simulation and returns a summary output object."
   ]
  },
  {
   "cell_type": "code",
   "execution_count": null,
   "id": "3efd81d0-7132-4be9-ab0a-4e2a3443cbf9",
   "metadata": {},
   "outputs": [],
   "source": [
    "summary = sim.run()"
   ]
  },
  {
   "cell_type": "markdown",
   "id": "603a881b-0d14-4b06-b478-e077f34e1643",
   "metadata": {},
   "source": [
    "The contents of the final summary is controlled by `Config.outputs.reports`, which allows the user to add reports for more detail, \n",
    "or drop some unneccessary reports to improve runtime (sometimes substantially)."
   ]
  },
  {
   "cell_type": "code",
   "execution_count": null,
   "id": "042440e8-9b22-4cde-9df3-a1c4875d5d47",
   "metadata": {},
   "outputs": [],
   "source": [
    "sim.config.outputs.reports"
   ]
  },
  {
   "cell_type": "markdown",
   "id": "166c89f2-3529-43c1-b65b-89fb4905d69e",
   "metadata": {},
   "source": [
    "For this example, several default reports are included, which allows us to access a number of pre-packaged visualizations for the results."
   ]
  },
  {
   "cell_type": "code",
   "execution_count": null,
   "id": "73dc150d-6535-40dc-a021-2cf9d6aa64c7",
   "metadata": {
    "jupyter": {
     "outputs_hidden": false
    }
   },
   "outputs": [],
   "source": [
    "summary.fig_carrier_revenues()"
   ]
  },
  {
   "cell_type": "code",
   "execution_count": null,
   "id": "55782a96-9599-4d74-aedb-4d17cd81e7a3",
   "metadata": {},
   "outputs": [],
   "source": [
    "summary.fig_carrier_load_factors()"
   ]
  },
  {
   "cell_type": "code",
   "execution_count": null,
   "id": "baf62867-3eff-4495-a6c2-3b08f68a2a56",
   "metadata": {},
   "outputs": [],
   "source": [
    "summary.fig_carrier_mileage()"
   ]
  },
  {
   "cell_type": "code",
   "execution_count": null,
   "id": "349e2dc4-f309-4043-89f5-f63a675b4c0b",
   "metadata": {
    "jupyter": {
     "outputs_hidden": false
    }
   },
   "outputs": [],
   "source": [
    "summary.fig_fare_class_mix()"
   ]
  },
  {
   "cell_type": "markdown",
   "id": "a054cfb0-af10-478b-b1ac-a7a04677d2ea",
   "metadata": {},
   "source": [
    "All demand is in the lowest fare class, because the simulation has no \n",
    "restrictions against customers simply buying the least expensive fare."
   ]
  },
  {
   "cell_type": "code",
   "execution_count": null,
   "id": "9d0ef595-1389-4cae-b1f2-9b5fbd7f8ae2",
   "metadata": {
    "jupyter": {
     "outputs_hidden": false
    }
   },
   "outputs": [],
   "source": [
    "summary.fig_bookings_by_timeframe()"
   ]
  },
  {
   "cell_type": "markdown",
   "id": "f86818ec-1eee-4a48-b755-187ac7c75dfd",
   "metadata": {},
   "source": [
    "We are not limited to the pre-packaged visualizations. The various summary tables available in the `summary`\n",
    "object are all just regular pandas DataFrames, so we can use all the usual Python and Pandas tools for analysis.\n",
    "For example, the `demand_to_come` table summarizes the total demand to come at each timeframe for every simulation sample."
   ]
  },
  {
   "cell_type": "code",
   "execution_count": null,
   "id": "4f3c6471-00e8-4e7c-a6e9-6d20d422e398",
   "metadata": {},
   "outputs": [],
   "source": [
    "summary.demand_to_come"
   ]
  },
  {
   "cell_type": "markdown",
   "id": "cadf8747-51e7-4f64-8e1f-8d27712549b0",
   "metadata": {},
   "source": [
    "With this data, we can do whatever analysis we like.  Here we'll compute the correlation between \n",
    "total demands (from the beginning of the booking curve at DCP 63 all the way to the end) of \n",
    "different passenger types in different markets."
   ]
  },
  {
   "cell_type": "code",
   "execution_count": null,
   "id": "851ed5a3-c4ad-44e2-90f2-59bfab3bb0bd",
   "metadata": {},
   "outputs": [],
   "source": [
    "summary.demand_to_come[63].unstack([\"segment\", \"orig\", \"dest\"]).corr()"
   ]
  },
  {
   "cell_type": "markdown",
   "id": "c9f84a76-bdc3-4b61-be2f-0078fe20e1ab",
   "metadata": {},
   "source": [
    "The `summary` object also has a command to dump all the summary tables to an Excel workbook, if you prefer to analyze the results there instead of in Jupyter."
   ]
  },
  {
   "cell_type": "code",
   "execution_count": null,
   "id": "f712af6e-a47b-4180-ae6d-e743f0a77c2c",
   "metadata": {
    "jupyter": {
     "outputs_hidden": false
    }
   },
   "outputs": [],
   "source": [
    "summary.to_xlsx(\"outputs/3mkt-01.xlsx\")"
   ]
  },
  {
   "cell_type": "markdown",
   "id": "6a973dcb-37db-46dd-8b03-96037572d95a",
   "metadata": {},
   "source": [
    "[Download 3mkt-01.xlsx](./outputs/3mkt-01.xlsx)"
   ]
  },
  {
   "cell_type": "markdown",
   "id": "3d3c6a67-f12f-4434-9eba-e04c6d386fed",
   "metadata": {},
   "source": [
    "## Comparing against Targets\n",
    "\n",
    "In addition to summary reports for a single run, we can also use PassengerSim's `contrast` package to compare simulation runs to each other, or against exogenously defined target results."
   ]
  },
  {
   "cell_type": "code",
   "execution_count": null,
   "id": "b87d8aa2-ec95-4eb3-867e-1430611c334d",
   "metadata": {},
   "outputs": [],
   "source": [
    "import targets\n",
    "\n",
    "target = targets.load(1, sim.config)"
   ]
  },
  {
   "cell_type": "code",
   "execution_count": null,
   "id": "b9ac3486-8e52-4751-860d-d71e4d1a2fe7",
   "metadata": {},
   "outputs": [],
   "source": [
    "from passengersim import contrast\n",
    "\n",
    "comps = contrast.Contrast({\n",
    "    \"simulation\": summary,\n",
    "    \"target\": target,\n",
    "})"
   ]
  },
  {
   "cell_type": "code",
   "execution_count": null,
   "id": "072dc9a2-caf2-485a-b66f-89dab47b5ca4",
   "metadata": {},
   "outputs": [],
   "source": [
    "comps.fig_carrier_revenues()"
   ]
  },
  {
   "cell_type": "code",
   "execution_count": null,
   "id": "19edf56d-96de-4106-a5f5-c64d5dde573f",
   "metadata": {},
   "outputs": [],
   "source": [
    "comps.fig_bookings_by_timeframe(by_carrier=\"AL1\")"
   ]
  },
  {
   "cell_type": "code",
   "execution_count": null,
   "id": "166bda0e-5239-453f-b5d8-b4b21156bd14",
   "metadata": {},
   "outputs": [],
   "source": [
    "comps.fig_bookings_by_timeframe(by_carrier=False, by_class=True)"
   ]
  },
  {
   "cell_type": "markdown",
   "id": "96296ec0-ffc5-4b3a-843f-884f51745679",
   "metadata": {},
   "source": [
    "We can look at carrier forecasts of demand on individual legs."
   ]
  },
  {
   "cell_type": "code",
   "execution_count": null,
   "id": "0be61e4c-a657-4052-aa7c-a685d5ea04b3",
   "metadata": {},
   "outputs": [],
   "source": [
    "comps.fig_leg_forecasts(by_flt_no=111, of=[\"mu\", \"sigma\"])"
   ]
  },
  {
   "cell_type": "markdown",
   "id": "ad816716-0d15-42de-8b1b-f91823010d92",
   "metadata": {},
   "source": [
    "We can compare the mean and standard deviation of demand to come."
   ]
  },
  {
   "cell_type": "code",
   "execution_count": null,
   "id": "8967623b-9c52-442d-99be-4d77eb666ea3",
   "metadata": {},
   "outputs": [],
   "source": [
    "comps.fig_demand_to_come(\"mean\") | comps.fig_demand_to_come(\"std\")"
   ]
  },
  {
   "cell_type": "markdown",
   "id": "f14ab899-600e-40b2-9215-f909903597b3",
   "metadata": {},
   "source": [
    "We can even take arbitrary functions that apply pandas tools, and have them run automatically against multiple summary objects.\n",
    "For example, we can look at the variance-covariance matrix of aggregate demand by passenger type, and compare those\n",
    "matrices for both the simulation and the target."
   ]
  },
  {
   "cell_type": "code",
   "execution_count": null,
   "id": "eb539208-f980-4650-a583-3523d0ee5c0f",
   "metadata": {},
   "outputs": [],
   "source": [
    "comps.apply(lambda s: s.aggregate_demand_history(by_segment=True).unstack(\"segment\").cov())"
   ]
  }
 ],
 "metadata": {
  "kernelspec": {
   "display_name": "Python 3 (ipykernel)",
   "language": "python",
   "name": "python3"
  },
  "language_info": {
   "codemirror_mode": {
    "name": "ipython",
    "version": 3
   },
   "file_extension": ".py",
   "mimetype": "text/x-python",
   "name": "python",
   "nbconvert_exporter": "python",
   "pygments_lexer": "ipython3",
   "version": "3.11.4"
  }
 },
 "nbformat": 4,
 "nbformat_minor": 5
}
