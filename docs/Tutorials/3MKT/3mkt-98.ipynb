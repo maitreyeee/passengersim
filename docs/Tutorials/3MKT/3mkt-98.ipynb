{
 "cells": [
  {
   "cell_type": "markdown",
   "id": "074357ec-407b-409a-ab22-b658573890e8",
   "metadata": {
    "editable": true,
    "slideshow": {
     "slide_type": ""
    },
    "tags": []
   },
   "source": [
    "<style>.md-sidebar--secondary {display: none !important;}</style>\n",
    "\n",
    "# Retrospective Analysis\n",
    "\n",
    "In this example, we will demonstrate some analysis that is reading back \n",
    "results of prior completed simulation run.  This is possible because\n",
    "PassengerSim can be configured to write out quite a bit of data to a\n",
    "SQLite database while running.  Much of this output is optional, as writing\n",
    "out intermediate results can create very large database files and impose a\n",
    "significant runtime penalty on the simulation, but having the ability to \n",
    "do so is advantageous for research and development purposes."
   ]
  },
  {
   "cell_type": "code",
   "execution_count": null,
   "id": "47aa4d6a-3fa2-4779-ba2e-58e06dc6b1b2",
   "metadata": {
    "editable": true,
    "slideshow": {
     "slide_type": ""
    },
    "tags": []
   },
   "outputs": [],
   "source": [
    "import passengersim as pax\n",
    "pax.versions()"
   ]
  },
  {
   "cell_type": "code",
   "execution_count": null,
   "id": "045f43f6-efc4-4265-8741-a5afc7f41a65",
   "metadata": {
    "editable": true,
    "slideshow": {
     "slide_type": ""
    },
    "tags": [
     "hidden"
    ]
   },
   "outputs": [],
   "source": [
    "# This cell creates the two on-disk database files.  \n",
    "# It is hidden in the rendered documentation as this code is not the focus of this demo page.\n",
    "import os\n",
    "from passengersim.utils.tempdir import TemporaryDirectory\n",
    "tempdir = TemporaryDirectory()\n",
    "\n",
    "cfg = pax.Config.from_yaml(\"network/08-untrunc-em.yaml\")\n",
    "cfg.simulation_controls.num_trials = 1\n",
    "cfg.simulation_controls.num_samples = 900\n",
    "cfg.simulation_controls.show_progress_bar = False\n",
    "cfg.db.filename = tempdir.joinpath(\"untruncated.sqlite\")\n",
    "pax.Simulation(cfg).run();\n",
    "\n",
    "cfg = pax.Config.from_yaml(\"network/05-emsrb.yaml\")\n",
    "cfg.simulation_controls.num_trials = 1\n",
    "cfg.simulation_controls.num_samples = 900\n",
    "cfg.simulation_controls.show_progress_bar = False\n",
    "cfg.db.filename = tempdir.joinpath(\"simple.sqlite\")\n",
    "pax.Simulation(cfg).run();\n",
    "\n",
    "os.chdir(tempdir.name)"
   ]
  },
  {
   "cell_type": "markdown",
   "id": "33c81a65-d9f5-4f09-b9f8-6c160f7124bc",
   "metadata": {
    "editable": true,
    "slideshow": {
     "slide_type": ""
    },
    "tags": []
   },
   "source": [
    "We can load in `SummaryTables` objects directly from the database created\n",
    "during a simulation run (assuming it was saved to disk).  For this demo,\n",
    "we have created two small such databases by running two different models\n",
    "with on-disk database files, and then discarding the results (for now).\n",
    "We can then load summary tables of results from these two simulations\n",
    "by using the `SummaryTables.from_sqlite` constructor.  This command will\n",
    "run queries against the database to reconstruct the same summary table\n",
    "objects we would have gotten as the output from running the simulation."
   ]
  },
  {
   "cell_type": "code",
   "execution_count": null,
   "id": "91bca426-dafb-449f-b13a-c6d1432e988e",
   "metadata": {
    "editable": true,
    "slideshow": {
     "slide_type": ""
    },
    "tags": []
   },
   "outputs": [],
   "source": [
    "simple = pax.SummaryTables.from_sqlite(\"simple.sqlite\")\n",
    "untrunc = pax.SummaryTables.from_sqlite(\"untruncated.sqlite\")"
   ]
  },
  {
   "cell_type": "code",
   "execution_count": null,
   "id": "e8308fcb-3d78-4966-af72-ef7e9c210d48",
   "metadata": {
    "editable": true,
    "slideshow": {
     "slide_type": ""
    },
    "tags": []
   },
   "outputs": [],
   "source": [
    "from passengersim.contrast import Contrast\n",
    "\n",
    "comps = Contrast(\n",
    "    Simple=simple, Untruncated=untrunc\n",
    ")"
   ]
  },
  {
   "cell_type": "markdown",
   "id": "15dcdceb-5ace-425d-9f72-5b48e8863af2",
   "metadata": {
    "editable": true,
    "slideshow": {
     "slide_type": ""
    },
    "tags": []
   },
   "source": [
    "All the same visualizations available in our prior demonstrations are \n",
    "also available for use with the pre-computed results.\n",
    "Since we are not actually running the simulation again, this analysis can \n",
    "even be done by users who don't have (or need) access to the PassengerSim\n",
    "core simulation code."
   ]
  },
  {
   "cell_type": "code",
   "execution_count": null,
   "id": "e1ab1041",
   "metadata": {
    "editable": true,
    "jupyter": {
     "outputs_hidden": false
    },
    "slideshow": {
     "slide_type": ""
    },
    "tags": []
   },
   "outputs": [],
   "source": [
    "comps.fig_carrier_revenues()"
   ]
  },
  {
   "cell_type": "code",
   "execution_count": null,
   "id": "7b3d0737",
   "metadata": {
    "editable": true,
    "slideshow": {
     "slide_type": ""
    },
    "tags": []
   },
   "outputs": [],
   "source": [
    "comps.fig_carrier_load_factors()"
   ]
  },
  {
   "cell_type": "code",
   "execution_count": null,
   "id": "5f837f66",
   "metadata": {
    "editable": true,
    "jupyter": {
     "outputs_hidden": false
    },
    "slideshow": {
     "slide_type": ""
    },
    "tags": []
   },
   "outputs": [],
   "source": [
    "comps.fig_fare_class_mix()"
   ]
  },
  {
   "cell_type": "code",
   "execution_count": null,
   "id": "e4e94d70",
   "metadata": {
    "editable": true,
    "jupyter": {
     "outputs_hidden": false
    },
    "slideshow": {
     "slide_type": ""
    },
    "tags": []
   },
   "outputs": [],
   "source": [
    "comps.fig_bookings_by_timeframe(by_carrier=\"AL1\", by_class=True, source_labels=True)"
   ]
  },
  {
   "cell_type": "markdown",
   "id": "cb412077-6211-47f1-ac15-7505d48d8157",
   "metadata": {
    "editable": true,
    "slideshow": {
     "slide_type": ""
    },
    "tags": []
   },
   "source": [
    "The results of the simulation are stored in database tables.  We can write\n",
    "queries using typical SQLite syntax against the database directly if we like.\n",
    "For convenience, the SQLite database connection used to populate the summary\n",
    "tables is available as the `cnx` attribute of the SummaryTables object, and \n",
    "we can use its `dataframe` method to run arbitrary queries and get the results\n",
    "as a pandas DataFrame."
   ]
  },
  {
   "cell_type": "code",
   "execution_count": null,
   "id": "b9e11c7f-7db3-40d0-983a-dbfa508aca3e",
   "metadata": {
    "editable": true,
    "slideshow": {
     "slide_type": ""
    },
    "tags": []
   },
   "outputs": [],
   "source": [
    "simple.cnx.dataframe(\"\"\"\n",
    "SELECT\n",
    "  sample, auth, sold, forecast_mean, forecast_stdev\n",
    "FROM \n",
    "  leg_bucket_detail \n",
    "WHERE\n",
    "  flt_no = 101\n",
    "  AND rrd = 21\n",
    "  AND name = 'Y2'\n",
    "  AND sample >= 100\n",
    "LIMIT 10\n",
    "\"\"\")"
   ]
  }
 ],
 "metadata": {
  "kernelspec": {
   "display_name": "Python 3 (ipykernel)",
   "language": "python",
   "name": "python3"
  },
  "language_info": {
   "codemirror_mode": {
    "name": "ipython",
    "version": 3
   },
   "file_extension": ".py",
   "mimetype": "text/x-python",
   "name": "python",
   "nbconvert_exporter": "python",
   "pygments_lexer": "ipython3",
   "version": "3.11.4"
  }
 },
 "nbformat": 4,
 "nbformat_minor": 5
}
