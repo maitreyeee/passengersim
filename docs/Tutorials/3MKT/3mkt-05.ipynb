{
 "cells": [
  {
   "cell_type": "markdown",
   "id": "074357ec-407b-409a-ab22-b658573890e8",
   "metadata": {},
   "source": [
    "<style>.md-sidebar--secondary {display: none !important;}</style>\n",
    "\n",
    "# EMSR-B\n",
    "\n",
    "In this example, we include product and advance purchase (AP)\n",
    "restrictions in the simulation, and have each airline use the\n",
    "leg-based EMSR-B algorithm to manage revenue.  Demand is simulated\n",
    "at normal levels."
   ]
  },
  {
   "cell_type": "code",
   "execution_count": null,
   "id": "47aa4d6a-3fa2-4779-ba2e-58e06dc6b1b2",
   "metadata": {},
   "outputs": [],
   "source": [
    "import passengersim as pax\n",
    "pax.versions()"
   ]
  },
  {
   "cell_type": "code",
   "execution_count": null,
   "id": "99464d16-1bb8-4671-87c4-a55e4cf3ea10",
   "metadata": {},
   "outputs": [],
   "source": [
    "from passengersim.utils.codeview import show_file\n",
    "show_file(\"network/05-emsrb.yaml\")"
   ]
  },
  {
   "cell_type": "code",
   "execution_count": null,
   "id": "34deaf3d-4fb6-4e8c-98ec-51700abc94f7",
   "metadata": {},
   "outputs": [],
   "source": [
    "sim = pax.Simulation.from_yaml([\n",
    "    \"network/05-emsrb.yaml\",\n",
    "])"
   ]
  },
  {
   "cell_type": "code",
   "execution_count": null,
   "id": "e7644d17-393b-461b-b7ec-a7af9c79efdc",
   "metadata": {},
   "outputs": [],
   "source": [
    "summary = sim.run()"
   ]
  },
  {
   "cell_type": "code",
   "execution_count": null,
   "id": "e1ab1041",
   "metadata": {
    "jupyter": {
     "outputs_hidden": false
    }
   },
   "outputs": [],
   "source": [
    "summary.fig_carrier_revenues()"
   ]
  },
  {
   "cell_type": "code",
   "execution_count": null,
   "id": "7b3d0737",
   "metadata": {},
   "outputs": [],
   "source": [
    "summary.fig_carrier_load_factors()"
   ]
  },
  {
   "cell_type": "code",
   "execution_count": null,
   "id": "5f837f66",
   "metadata": {
    "jupyter": {
     "outputs_hidden": false
    }
   },
   "outputs": [],
   "source": [
    "summary.fig_fare_class_mix()"
   ]
  },
  {
   "cell_type": "code",
   "execution_count": null,
   "id": "e4e94d70",
   "metadata": {
    "jupyter": {
     "outputs_hidden": false
    }
   },
   "outputs": [],
   "source": [
    "summary.fig_bookings_by_timeframe()"
   ]
  },
  {
   "cell_type": "code",
   "execution_count": null,
   "id": "4bea8810-c453-4d4b-ba93-a8fdb0081cd2",
   "metadata": {},
   "outputs": [],
   "source": [
    "summary.to_xlsx(\"outputs/3mkt-05.xlsx\")"
   ]
  },
  {
   "cell_type": "markdown",
   "id": "ef0149d7-69d6-4a13-a763-8732bab96fad",
   "metadata": {},
   "source": [
    "## Comparing against Targets"
   ]
  },
  {
   "cell_type": "code",
   "execution_count": null,
   "id": "db23ae9b-f73f-46a7-a5bf-11a65668734c",
   "metadata": {},
   "outputs": [],
   "source": [
    "import targets\n",
    "\n",
    "target = targets.load(5, sim.config)"
   ]
  },
  {
   "cell_type": "code",
   "execution_count": null,
   "id": "658336d8-3ceb-4605-aafb-4dc5ca9a5bb3",
   "metadata": {},
   "outputs": [],
   "source": [
    "from passengersim import contrast\n",
    "\n",
    "comps = contrast.Contrast({\n",
    "    \"simulation\": summary,\n",
    "    \"target\": target,\n",
    "})"
   ]
  },
  {
   "cell_type": "code",
   "execution_count": null,
   "id": "0d783537-5ca5-4c28-a485-dc8f220ddb3c",
   "metadata": {},
   "outputs": [],
   "source": [
    "contrast.fig_carrier_revenues(comps)"
   ]
  },
  {
   "cell_type": "code",
   "execution_count": null,
   "id": "d373307a-dab9-47d6-8bda-9c00943a4249",
   "metadata": {},
   "outputs": [],
   "source": [
    "contrast.fig_carrier_load_factors(comps)"
   ]
  },
  {
   "cell_type": "code",
   "execution_count": null,
   "id": "b18c6e52-75c1-41c3-91c6-fd6043e6e93c",
   "metadata": {},
   "outputs": [],
   "source": [
    "contrast.fig_fare_class_mix(comps)"
   ]
  },
  {
   "cell_type": "code",
   "execution_count": null,
   "id": "58450efd-ade2-443e-b621-64457b4d01e4",
   "metadata": {},
   "outputs": [],
   "source": [
    "contrast.fig_leg_forecasts(comps, by_flt_no=101)"
   ]
  },
  {
   "cell_type": "code",
   "execution_count": null,
   "id": "f2b1b764-0cc2-4b09-a859-87091f3f9cdb",
   "metadata": {},
   "outputs": [],
   "source": [
    "contrast.fig_leg_forecasts(comps, by_flt_no=111, of=[\"mu\", \"sigma\"])"
   ]
  },
  {
   "cell_type": "code",
   "execution_count": null,
   "id": "4a0717d7-b3cb-4ee0-a525-d87298b8f464",
   "metadata": {},
   "outputs": [],
   "source": [
    "contrast.fig_bookings_by_timeframe(comps, by_class=True, by_carrier=\"AL1\")"
   ]
  }
 ],
 "metadata": {
  "kernelspec": {
   "display_name": "Python 3 (ipykernel)",
   "language": "python",
   "name": "python3"
  },
  "language_info": {
   "codemirror_mode": {
    "name": "ipython",
    "version": 3
   },
   "file_extension": ".py",
   "mimetype": "text/x-python",
   "name": "python",
   "nbconvert_exporter": "python",
   "pygments_lexer": "ipython3",
   "version": "3.11.4"
  }
 },
 "nbformat": 4,
 "nbformat_minor": 5
}
