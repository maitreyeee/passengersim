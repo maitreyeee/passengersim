{
 "cells": [
  {
   "cell_type": "markdown",
   "id": "074357ec-407b-409a-ab22-b658573890e8",
   "metadata": {},
   "source": [
    "# Three Market Test"
   ]
  },
  {
   "cell_type": "code",
   "execution_count": null,
   "id": "47aa4d6a-3fa2-4779-ba2e-58e06dc6b1b2",
   "metadata": {},
   "outputs": [],
   "source": [
    "import simbywire as sw\n",
    "import AirSim.airline.rm_pro_bp_2\n",
    "import AirSim.airline.rm_emsr"
   ]
  },
  {
   "cell_type": "code",
   "execution_count": null,
   "id": "56722287-e346-4e4f-9723-e1ac08ad064c",
   "metadata": {},
   "outputs": [],
   "source": [
    "input_file = sw.demo_network(\"3mkt\")"
   ]
  },
  {
   "cell_type": "code",
   "execution_count": null,
   "id": "6d7fec5d-4fbf-4036-bb0d-7f8c16eebbc0",
   "metadata": {},
   "outputs": [],
   "source": [
    "input_file"
   ]
  },
  {
   "cell_type": "code",
   "execution_count": null,
   "id": "34deaf3d-4fb6-4e8c-98ec-51700abc94f7",
   "metadata": {},
   "outputs": [],
   "source": [
    "sim = sw.Simulation.from_yaml(input_file)"
   ]
  },
  {
   "cell_type": "code",
   "execution_count": null,
   "id": "e7644d17-393b-461b-b7ec-a7af9c79efdc",
   "metadata": {},
   "outputs": [],
   "source": [
    "summary = sim.run(log_reports=False)"
   ]
  },
  {
   "cell_type": "code",
   "execution_count": null,
   "id": "d9de1556-0106-4b58-b536-584e32f275c1",
   "metadata": {},
   "outputs": [],
   "source": [
    "summary.demands"
   ]
  },
  {
   "cell_type": "code",
   "execution_count": null,
   "id": "33281077-7399-4d60-ac56-43e9a979a573",
   "metadata": {},
   "outputs": [],
   "source": [
    "summary.legs"
   ]
  },
  {
   "cell_type": "code",
   "execution_count": null,
   "id": "ec57f9b8-28e4-4322-b5bf-10940188b0c5",
   "metadata": {},
   "outputs": [],
   "source": [
    "summary.paths"
   ]
  },
  {
   "cell_type": "code",
   "execution_count": null,
   "id": "5287d24a-8f42-4416-b928-d94385a75143",
   "metadata": {},
   "outputs": [],
   "source": [
    "summary.airlines"
   ]
  },
  {
   "cell_type": "code",
   "execution_count": null,
   "id": "01deeb03-d5fd-4424-8332-fd2f24682a3c",
   "metadata": {},
   "outputs": [],
   "source": [
    "summary.airlines.to_csv(\"/tmp/hello-air.csv\")"
   ]
  },
  {
   "cell_type": "code",
   "execution_count": null,
   "id": "5303b546-7619-46f8-bc31-a2c1b50e8dd1",
   "metadata": {},
   "outputs": [],
   "source": [
    "summary.airlines.plot(\"asm\")"
   ]
  }
 ],
 "metadata": {
  "kernelspec": {
   "display_name": "Python 3 (ipykernel)",
   "language": "python",
   "name": "python3"
  },
  "language_info": {
   "codemirror_mode": {
    "name": "ipython",
    "version": 3
   },
   "file_extension": ".py",
   "mimetype": "text/x-python",
   "name": "python",
   "nbconvert_exporter": "python",
   "pygments_lexer": "ipython3",
   "version": "3.11.4"
  }
 },
 "nbformat": 4,
 "nbformat_minor": 5
}
