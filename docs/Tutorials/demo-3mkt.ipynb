{
 "cells": [
  {
   "cell_type": "markdown",
   "id": "074357ec-407b-409a-ab22-b658573890e8",
   "metadata": {},
   "source": [
    "# Three Market Test"
   ]
  },
  {
   "cell_type": "code",
   "execution_count": null,
   "id": "47aa4d6a-3fa2-4779-ba2e-58e06dc6b1b2",
   "metadata": {},
   "outputs": [],
   "source": [
    "import passengersim as pax"
   ]
  },
  {
   "cell_type": "code",
   "execution_count": null,
   "id": "56722287-e346-4e4f-9723-e1ac08ad064c",
   "metadata": {},
   "outputs": [],
   "source": [
    "input_file = pax.demo_network(\"3MKT/base\")"
   ]
  },
  {
   "cell_type": "code",
   "execution_count": null,
   "id": "6d7fec5d-4fbf-4036-bb0d-7f8c16eebbc0",
   "metadata": {},
   "outputs": [],
   "source": [
    "input_file"
   ]
  },
  {
   "cell_type": "code",
   "execution_count": null,
   "id": "34deaf3d-4fb6-4e8c-98ec-51700abc94f7",
   "metadata": {},
   "outputs": [],
   "source": [
    "sim = pax.Simulation.from_yaml(input_file)"
   ]
  },
  {
   "cell_type": "code",
   "execution_count": null,
   "id": "e7644d17-393b-461b-b7ec-a7af9c79efdc",
   "metadata": {},
   "outputs": [],
   "source": [
    "summary = sim.run(log_reports=False)"
   ]
  },
  {
   "cell_type": "code",
   "execution_count": null,
   "id": "3ad5993e",
   "metadata": {},
   "outputs": [],
   "source": [
    "summary.fig_carrier_revenues()"
   ]
  },
  {
   "cell_type": "code",
   "execution_count": null,
   "id": "7b3d0737",
   "metadata": {},
   "outputs": [],
   "source": [
    "summary.fig_carrier_load_factors()"
   ]
  },
  {
   "cell_type": "code",
   "execution_count": null,
   "id": "f2f1ab1d",
   "metadata": {},
   "outputs": [],
   "source": [
    "summary.fig_fare_class_mix()"
   ]
  },
  {
   "cell_type": "code",
   "execution_count": null,
   "id": "aa8b330b",
   "metadata": {},
   "outputs": [],
   "source": [
    "summary.fig_bookings_by_timeframe()"
   ]
  },
  {
   "cell_type": "code",
   "execution_count": null,
   "id": "8909d99f",
   "metadata": {},
   "outputs": [],
   "source": [
    "cfg2 = pax.Config.from_yaml(input_file)"
   ]
  }
 ],
 "metadata": {
  "kernelspec": {
   "display_name": "Python 3 (ipykernel)",
   "language": "python",
   "name": "python3"
  },
  "language_info": {
   "codemirror_mode": {
    "name": "ipython",
    "version": 3
   },
   "file_extension": ".py",
   "mimetype": "text/x-python",
   "name": "python",
   "nbconvert_exporter": "python",
   "pygments_lexer": "ipython3",
   "version": "3.11.4"
  }
 },
 "nbformat": 4,
 "nbformat_minor": 5
}
