{
 "cells": [
  {
   "cell_type": "markdown",
   "id": "074357ec-407b-409a-ab22-b658573890e8",
   "metadata": {},
   "source": [
    "<style>.md-sidebar--secondary {display: none !important;}</style>\n",
    "\n",
    "# EMSR-B with High Demand\n",
    "\n",
    "In this example, we include product and advance purchase (AP)\n",
    "restrictions in the simulation, and have each airline use the\n",
    "leg-based EMSR-B algorithm to manage revenue.  Demand is simulated\n",
    "at a level 10% higher than normal."
   ]
  },
  {
   "cell_type": "code",
   "execution_count": null,
   "id": "47aa4d6a-3fa2-4779-ba2e-58e06dc6b1b2",
   "metadata": {},
   "outputs": [],
   "source": [
    "import passengersim as pax\n",
    "pax.versions()"
   ]
  },
  {
   "cell_type": "code",
   "execution_count": null,
   "id": "99464d16-1bb8-4671-87c4-a55e4cf3ea10",
   "metadata": {},
   "outputs": [],
   "source": [
    "from passengersim.utils.codeview import show_file\n",
    "show_file(\"network/06-emsrb-high-demand.yaml\")"
   ]
  },
  {
   "cell_type": "code",
   "execution_count": null,
   "id": "34deaf3d-4fb6-4e8c-98ec-51700abc94f7",
   "metadata": {},
   "outputs": [],
   "source": [
    "sim = pax.Simulation.from_yaml([\n",
    "    \"network/06-emsrb-high-demand.yaml\",\n",
    "])"
   ]
  },
  {
   "cell_type": "code",
   "execution_count": null,
   "id": "e7644d17-393b-461b-b7ec-a7af9c79efdc",
   "metadata": {},
   "outputs": [],
   "source": [
    "summary = sim.run(log_reports=False)"
   ]
  },
  {
   "cell_type": "code",
   "execution_count": null,
   "id": "e1ab1041",
   "metadata": {
    "jupyter": {
     "outputs_hidden": false
    }
   },
   "outputs": [],
   "source": [
    "summary.fig_carrier_revenues()"
   ]
  },
  {
   "cell_type": "code",
   "execution_count": null,
   "id": "7b3d0737",
   "metadata": {},
   "outputs": [],
   "source": [
    "summary.fig_carrier_load_factors()"
   ]
  },
  {
   "cell_type": "code",
   "execution_count": null,
   "id": "5f837f66",
   "metadata": {
    "jupyter": {
     "outputs_hidden": false
    }
   },
   "outputs": [],
   "source": [
    "summary.fig_fare_class_mix()"
   ]
  },
  {
   "cell_type": "code",
   "execution_count": null,
   "id": "e4e94d70",
   "metadata": {
    "jupyter": {
     "outputs_hidden": false
    }
   },
   "outputs": [],
   "source": [
    "summary.fig_bookings_by_timeframe()"
   ]
  },
  {
   "cell_type": "code",
   "execution_count": null,
   "id": "ff82cf76-46ba-47b7-9e6a-7f06fa499651",
   "metadata": {},
   "outputs": [],
   "source": [
    "summary.to_xlsx(\"outputs/3mkt-06.xlsx\")"
   ]
  },
  {
   "cell_type": "markdown",
   "id": "ef0149d7-69d6-4a13-a763-8732bab96fad",
   "metadata": {},
   "source": [
    "## Comparing against Targets"
   ]
  },
  {
   "cell_type": "code",
   "execution_count": null,
   "id": "db23ae9b-f73f-46a7-a5bf-11a65668734c",
   "metadata": {},
   "outputs": [],
   "source": [
    "import targets\n",
    "\n",
    "target = targets.load(6)"
   ]
  },
  {
   "cell_type": "code",
   "execution_count": null,
   "id": "658336d8-3ceb-4605-aafb-4dc5ca9a5bb3",
   "metadata": {},
   "outputs": [],
   "source": [
    "from passengersim import contrast"
   ]
  },
  {
   "cell_type": "code",
   "execution_count": null,
   "id": "0d783537-5ca5-4c28-a485-dc8f220ddb3c",
   "metadata": {},
   "outputs": [],
   "source": [
    "contrast.fig_carrier_revenues({\n",
    "    \"simulation\": summary,\n",
    "    \"target\": target,\n",
    "})"
   ]
  },
  {
   "cell_type": "code",
   "execution_count": null,
   "id": "d373307a-dab9-47d6-8bda-9c00943a4249",
   "metadata": {},
   "outputs": [],
   "source": [
    "contrast.fig_carrier_load_factors({\n",
    "    \"simulation\": summary,\n",
    "    \"target\": target,\n",
    "})"
   ]
  },
  {
   "cell_type": "code",
   "execution_count": null,
   "id": "b18c6e52-75c1-41c3-91c6-fd6043e6e93c",
   "metadata": {},
   "outputs": [],
   "source": [
    "contrast.fig_fare_class_mix({\n",
    "    \"simulation\": summary,\n",
    "    \"target\": target,\n",
    "})"
   ]
  }
 ],
 "metadata": {
  "kernelspec": {
   "display_name": "Python 3 (ipykernel)",
   "language": "python",
   "name": "python3"
  },
  "language_info": {
   "codemirror_mode": {
    "name": "ipython",
    "version": 3
   },
   "file_extension": ".py",
   "mimetype": "text/x-python",
   "name": "python",
   "nbconvert_exporter": "python",
   "pygments_lexer": "ipython3",
   "version": "3.11.4"
  }
 },
 "nbformat": 4,
 "nbformat_minor": 5
}
