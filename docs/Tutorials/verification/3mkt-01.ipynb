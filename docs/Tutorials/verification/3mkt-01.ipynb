{
 "cells": [
  {
   "cell_type": "markdown",
   "id": "074357ec-407b-409a-ab22-b658573890e8",
   "metadata": {},
   "source": [
    "<style>.md-sidebar--secondary {display: none !important;}</style>\n",
    "\n",
    "# Simple FCFS\n",
    "\n",
    "This is a very simple network, with only 3 markets, used to demonstrate some features of PassengerSim."
   ]
  },
  {
   "cell_type": "code",
   "execution_count": null,
   "id": "47aa4d6a-3fa2-4779-ba2e-58e06dc6b1b2",
   "metadata": {},
   "outputs": [],
   "source": [
    "import passengersim as pax\n",
    "pax.versions()"
   ]
  },
  {
   "cell_type": "markdown",
   "id": "fe352c57-3b0e-4fd5-84f3-6a728c050107",
   "metadata": {},
   "source": [
    "This example uses [network/01-base.yaml](./network/01-base.yaml) configuration file.\n",
    "Within a Jupyter notebook, we can directly initialize a PassengerSim `Simulation` \n",
    "instance from this file using the `from_yaml` class constructor:"
   ]
  },
  {
   "cell_type": "code",
   "execution_count": null,
   "id": "34deaf3d-4fb6-4e8c-98ec-51700abc94f7",
   "metadata": {},
   "outputs": [],
   "source": [
    "sim = pax.Simulation.from_yaml(\"network/01-base.yaml\")"
   ]
  },
  {
   "cell_type": "markdown",
   "id": "fffb77d8-9c4d-440c-8dd2-2ca94bb94033",
   "metadata": {},
   "source": [
    "We can also initialize networks directly from files on the web by giving the URL, \n",
    "so this would also work:"
   ]
  },
  {
   "cell_type": "code",
   "execution_count": null,
   "id": "ac1cb3fd-2f3c-48b9-b05f-22b633d5c34a",
   "metadata": {},
   "outputs": [],
   "source": [
    "sim = pax.Simulation.from_yaml(\n",
    "    \"https://www.passengersim.com/Tutorials/verification/network/01-base.yaml\"\n",
    ")"
   ]
  },
  {
   "cell_type": "markdown",
   "id": "6dea9a9b-5d1b-49a4-8c6d-76b2b3b3fed7",
   "metadata": {},
   "source": [
    "Running the simulation is as simple as calling the `run` command, which runs the simulation and returns a summary output object."
   ]
  },
  {
   "cell_type": "code",
   "execution_count": null,
   "id": "e7644d17-393b-461b-b7ec-a7af9c79efdc",
   "metadata": {},
   "outputs": [],
   "source": [
    "summary = sim.run()"
   ]
  },
  {
   "cell_type": "markdown",
   "id": "993e4622-9b1b-48ca-8196-c09c6f0af7ac",
   "metadata": {},
   "source": [
    "The contents of the final summary is controlled by `Config.outputs.reports`, which allows the user to add reports for more detail,\n",
    "or drop some unneccessary reports to improve runtime (sometimes substantially)."
   ]
  },
  {
   "cell_type": "code",
   "execution_count": null,
   "id": "ace85c89-040e-4059-a532-44cc0ae1bf4c",
   "metadata": {},
   "outputs": [],
   "source": [
    "sim.config.outputs"
   ]
  },
  {
   "cell_type": "markdown",
   "id": "dd2fdb80-26ea-403a-b5dd-0bb4ddf125f3",
   "metadata": {},
   "source": [
    "For this example, several default reports are included, which allows us to access a number of pre-packaged visualizations for the results."
   ]
  },
  {
   "cell_type": "code",
   "execution_count": null,
   "id": "e1ab1041",
   "metadata": {
    "jupyter": {
     "outputs_hidden": false
    }
   },
   "outputs": [],
   "source": [
    "summary.fig_carrier_revenues()"
   ]
  },
  {
   "cell_type": "code",
   "execution_count": null,
   "id": "7b3d0737",
   "metadata": {},
   "outputs": [],
   "source": [
    "summary.fig_carrier_load_factors()"
   ]
  },
  {
   "cell_type": "code",
   "execution_count": null,
   "id": "bc0bd4db-f1c6-47ad-883f-6e339b7c4e03",
   "metadata": {},
   "outputs": [],
   "source": [
    "summary.fig_carrier_mileage()"
   ]
  },
  {
   "cell_type": "code",
   "execution_count": null,
   "id": "5f837f66",
   "metadata": {
    "jupyter": {
     "outputs_hidden": false
    }
   },
   "outputs": [],
   "source": [
    "summary.fig_fare_class_mix()"
   ]
  },
  {
   "cell_type": "markdown",
   "id": "a02a69b9-3e0e-41f5-ba85-2ecf75a700d8",
   "metadata": {},
   "source": [
    "All demand is in the lowest fare class, because the simulation has no \n",
    "restrictions against customers simply buying the least expensive fare."
   ]
  },
  {
   "cell_type": "code",
   "execution_count": null,
   "id": "e4e94d70",
   "metadata": {
    "jupyter": {
     "outputs_hidden": false
    }
   },
   "outputs": [],
   "source": [
    "summary.fig_bookings_by_timeframe()"
   ]
  },
  {
   "cell_type": "markdown",
   "id": "44dbe3d6-b10a-46bf-9582-370b582220c8",
   "metadata": {},
   "source": [
    "The `summary` object also has a command to dump all the summary tables to an Excel workbook, if you prefer to analyze the results there instead of in Jupyter."
   ]
  },
  {
   "cell_type": "code",
   "execution_count": null,
   "id": "296dc3ae",
   "metadata": {
    "jupyter": {
     "outputs_hidden": false
    }
   },
   "outputs": [],
   "source": [
    "summary.to_xlsx(\"outputs/3mkt-01.xlsx\")"
   ]
  },
  {
   "cell_type": "markdown",
   "id": "6dcb1790-6f39-459c-9c5d-6cc134aacb1a",
   "metadata": {},
   "source": [
    "[Download 3mkt-01.xlsx](./outputs/3mkt-01.xlsx)"
   ]
  },
  {
   "cell_type": "markdown",
   "id": "ef0149d7-69d6-4a13-a763-8732bab96fad",
   "metadata": {},
   "source": [
    "## Comparing against Targets\n",
    "\n",
    "In addition to summary reports for a single run, we can also use PassengerSim's contrast package to compare simulation runs to each other, or against exogenously defined target results."
   ]
  },
  {
   "cell_type": "code",
   "execution_count": null,
   "id": "db23ae9b-f73f-46a7-a5bf-11a65668734c",
   "metadata": {},
   "outputs": [],
   "source": [
    "from passengersim import contrast\n",
    "import targets\n",
    "\n",
    "target = targets.load(1)"
   ]
  },
  {
   "cell_type": "code",
   "execution_count": null,
   "id": "f33557b2-85e5-44ee-9f72-6e3b0e5f9fba",
   "metadata": {},
   "outputs": [],
   "source": [
    "contrast.fig_bookings_by_timeframe({\n",
    "    \"simulation\": summary,\n",
    "    \"target\": target,\n",
    "}, by_carrier=\"AL1\")"
   ]
  },
  {
   "cell_type": "code",
   "execution_count": null,
   "id": "0d783537-5ca5-4c28-a485-dc8f220ddb3c",
   "metadata": {},
   "outputs": [],
   "source": [
    "contrast.fig_carrier_revenues({\n",
    "    \"simulation\": summary,\n",
    "    \"target\": target,\n",
    "})"
   ]
  }
 ],
 "metadata": {
  "kernelspec": {
   "display_name": "Python 3 (ipykernel)",
   "language": "python",
   "name": "python3"
  },
  "language_info": {
   "codemirror_mode": {
    "name": "ipython",
    "version": 3
   },
   "file_extension": ".py",
   "mimetype": "text/x-python",
   "name": "python",
   "nbconvert_exporter": "python",
   "pygments_lexer": "ipython3",
   "version": "3.11.4"
  }
 },
 "nbformat": 4,
 "nbformat_minor": 5
}
