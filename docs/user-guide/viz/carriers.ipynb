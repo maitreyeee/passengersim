{
 "cells": [
  {
   "cell_type": "markdown",
   "id": "074357ec-407b-409a-ab22-b658573890e8",
   "metadata": {
    "editable": true,
    "slideshow": {
     "slide_type": ""
    },
    "tags": []
   },
   "source": [
    "# Carrier-level Summary Visualizations"
   ]
  },
  {
   "cell_type": "markdown",
   "id": "0d4058d2-b1ab-4d1d-8646-fc17c19cc1d7",
   "metadata": {},
   "source": [
    "## Summaries for One Simulation Run\n",
    "\n",
    "The results from a simulation run are stored in a `SummaryTables` instance, which\n",
    "is returned from `Simulation.run` or can be loaded from a stored database of results.\n",
    "This object has a number of methods to generate visualizations for the results\n",
    "of the simulation."
   ]
  },
  {
   "cell_type": "code",
   "execution_count": null,
   "id": "045f43f6-efc4-4265-8741-a5afc7f41a65",
   "metadata": {
    "editable": true,
    "slideshow": {
     "slide_type": ""
    },
    "tags": [
     "hidden"
    ]
   },
   "outputs": [],
   "source": [
    "# This cell creates the two on-disk database files.  \n",
    "# It is hidden in the rendered documentation as this code is not the focus of this page.\n",
    "import passengersim as pax\n",
    "import os\n",
    "from pathlib import Path\n",
    "from passengersim.utils.tempdir import TemporaryDirectory\n",
    "tempdir = TemporaryDirectory()\n",
    "\n",
    "cfg = pax.Config.from_yaml(\"../../Tutorials/3MKT/network/08-untrunc-em.yaml\")\n",
    "cfg.simulation_controls.num_trials = 1\n",
    "cfg.simulation_controls.num_samples = 900\n",
    "cfg.simulation_controls.show_progress_bar = False\n",
    "cfg.db.filename = tempdir.joinpath(\"untruncated.sqlite\")\n",
    "pax.Simulation(cfg).run();\n",
    "\n",
    "cfg = pax.Config.from_yaml(\"../../Tutorials/3MKT/network/05-emsrb.yaml\")\n",
    "cfg.simulation_controls.num_trials = 1\n",
    "cfg.simulation_controls.num_samples = 900\n",
    "cfg.simulation_controls.show_progress_bar = False\n",
    "cfg.db.filename = tempdir.joinpath(\"simple.sqlite\")\n",
    "pax.Simulation(cfg).run();\n",
    "\n",
    "cwd = Path(os.getcwd())\n",
    "\n",
    "os.chdir(tempdir.name)\n",
    "\n",
    "untrunc = pax.SummaryTables.from_sqlite(\"untruncated.sqlite\")"
   ]
  },
  {
   "cell_type": "code",
   "execution_count": null,
   "id": "24db419b-0c04-4053-aaef-31270af5ddb9",
   "metadata": {},
   "outputs": [],
   "source": [
    "from passengersim import SummaryTables\n",
    "\n",
    "summarytables = SummaryTables.from_sqlite(\"simple.sqlite\", additional=\"*\")"
   ]
  },
  {
   "cell_type": "markdown",
   "id": "1b05eec0-1235-4bd3-8386-9a3ba2e03341",
   "metadata": {},
   "source": [
    "### Revenues\n",
    "\n",
    "Display the average revenues by carrier with\n",
    "[`SummaryTables.fig_carrier_revenues`](../../API/summary.html#passengersim.summary.SummaryTables.fig_carrier_revenues)."
   ]
  },
  {
   "cell_type": "code",
   "execution_count": null,
   "id": "12b2ad4d-6283-4182-baee-1d703275819e",
   "metadata": {},
   "outputs": [],
   "source": [
    "summarytables.fig_carrier_revenues()"
   ]
  },
  {
   "cell_type": "markdown",
   "id": "1ccc81c5-3e00-4873-80cc-15c0d2f88b17",
   "metadata": {},
   "source": [
    "### Mileage\n",
    "\n",
    "Use\n",
    "[`SummaryTables.fig_carrier_mileage`](../../API/summary.html#passengersim.summary.SummaryTables.fig_carrier_mileage)\n",
    "to display the available seat miles (ASM) and average revenue passenger miles (RPM) by carrier."
   ]
  },
  {
   "cell_type": "code",
   "execution_count": null,
   "id": "138423da-98d8-4625-a3b3-27ead847341f",
   "metadata": {},
   "outputs": [],
   "source": [
    "summarytables.fig_carrier_mileage()"
   ]
  },
  {
   "cell_type": "markdown",
   "id": "aa2f2688-7d6e-42ff-9302-4b1e3b812145",
   "metadata": {},
   "source": [
    "### Load Factors\n",
    "\n",
    "[`SummaryTables.fig_carrier_load_factors`](../../API/summary.html#passengersim.summary.SummaryTables.fig_carrier_load_factors)\n",
    "will display the average system load factors by carrier.  The system load factor\n",
    "is calculated based on ASM and RPM figures for the carrier, which weights \n",
    "larger capacity vehicles and longer distance legs more heavily, to reflect\n",
    "their larger relative importance in evaluating carrier performance."
   ]
  },
  {
   "cell_type": "code",
   "execution_count": null,
   "id": "499688f9-bc1b-4644-a9a9-076eb9888ed0",
   "metadata": {},
   "outputs": [],
   "source": [
    "summarytables.fig_carrier_load_factors()"
   ]
  },
  {
   "cell_type": "markdown",
   "id": "e3a8b1e3-699e-4866-ad1f-f47d02efdc55",
   "metadata": {},
   "source": [
    "Alternatively, this function can also display the average leg load factor,\n",
    "which considers the fraction of capacity sold on each leg, and weights all\n",
    "legs uniformly."
   ]
  },
  {
   "cell_type": "code",
   "execution_count": null,
   "id": "e90f98da-5f0a-4023-9531-4c2643edc675",
   "metadata": {},
   "outputs": [],
   "source": [
    "summarytables.fig_carrier_load_factors(load_measure=\"avg_leg_lf\")"
   ]
  },
  {
   "cell_type": "markdown",
   "id": "b593f2e6-42be-4ec4-af9f-bcc19ccadf13",
   "metadata": {},
   "source": [
    "### Yields\n",
    "\n",
    "Display the average yield (revenue per passenger mile) by carrier with\n",
    "[`SummaryTables.fig_carrier_yields`](../../API/summary.html#passengersim.summary.SummaryTables.fig_carrier_yields)."
   ]
  },
  {
   "cell_type": "code",
   "execution_count": null,
   "id": "16f0f28c-b0f5-4620-98f3-9ce71e1d9393",
   "metadata": {},
   "outputs": [],
   "source": [
    "summarytables.fig_carrier_yields()"
   ]
  },
  {
   "cell_type": "markdown",
   "id": "565d75dd-4d6b-40da-a541-81b2addfc055",
   "metadata": {},
   "source": [
    "### Fare Class Mix\n",
    "\n",
    "The \n",
    "[`SummaryTables.fig_fare_class_mix`](../../API/summary.html#passengersim.summary.SummaryTables.fig_fare_class_mix)\n",
    "method will display the fare class mix by carrier."
   ]
  },
  {
   "cell_type": "code",
   "execution_count": null,
   "id": "51fec88f-fd68-4439-b228-00946a120f5c",
   "metadata": {},
   "outputs": [],
   "source": [
    "summarytables.fig_fare_class_mix()"
   ]
  },
  {
   "cell_type": "markdown",
   "id": "fabc9ece-a954-4bf6-aef2-fe969616e1f9",
   "metadata": {},
   "source": [
    "## Contrasting Multiple Runs\n",
    "\n",
    "Similar figures are available contrasting the results of multiple runs, by\n",
    "bundling multiple \n",
    "[`SummaryTables`](../../API/summary.html#passengersim.summary.SummaryTables)\n",
    "objects in a \n",
    "[`Contrast`](../../API/contrast.html#passengersim.contrast.Contrast) instance."
   ]
  },
  {
   "cell_type": "code",
   "execution_count": null,
   "id": "e8308fcb-3d78-4966-af72-ef7e9c210d48",
   "metadata": {
    "editable": true,
    "slideshow": {
     "slide_type": ""
    },
    "tags": []
   },
   "outputs": [],
   "source": [
    "from passengersim.contrast import Contrast\n",
    "\n",
    "comps = Contrast(\n",
    "    Simple=summarytables, \n",
    "    Untruncated=SummaryTables.from_sqlite(\"untruncated.sqlite\", additional=\"*\")\n",
    ")"
   ]
  },
  {
   "cell_type": "markdown",
   "id": "15dcdceb-5ace-425d-9f72-5b48e8863af2",
   "metadata": {
    "editable": true,
    "slideshow": {
     "slide_type": ""
    },
    "tags": []
   },
   "source": [
    "### Revenues\n",
    "\n",
    "Display the average revenues by carrier with\n",
    "[`Contrast.fig_carrier_revenues`](../../API/contrast.html#passengersim.contrast.Contrast.fig_carrier_revenues)."
   ]
  },
  {
   "cell_type": "code",
   "execution_count": null,
   "id": "e1ab1041",
   "metadata": {
    "editable": true,
    "jupyter": {
     "outputs_hidden": false
    },
    "slideshow": {
     "slide_type": ""
    },
    "tags": []
   },
   "outputs": [],
   "source": [
    "comps.fig_carrier_revenues()"
   ]
  },
  {
   "cell_type": "markdown",
   "id": "e9c2023f-646e-4be4-ab36-f43a5d8f41d4",
   "metadata": {},
   "source": [
    "### Load Factors\n",
    "\n",
    "Display the average system load factors by carrier.  The system load factor\n",
    "is calculated based on ASM and RPM figures for the carrier, which weights \n",
    "larger capacity vehicles and longer distance legs more heavily, to reflect\n",
    "their larger relative importance in evaluating carrier performance."
   ]
  },
  {
   "cell_type": "code",
   "execution_count": null,
   "id": "7b3d0737",
   "metadata": {
    "editable": true,
    "slideshow": {
     "slide_type": ""
    },
    "tags": []
   },
   "outputs": [],
   "source": [
    "comps.fig_carrier_load_factors()"
   ]
  },
  {
   "cell_type": "code",
   "execution_count": null,
   "id": "8768670b-e89a-4c12-ae49-9c0b64314e81",
   "metadata": {},
   "outputs": [],
   "source": [
    "comps.fig_carrier_load_factors(load_measure=\"avg_leg_lf\")"
   ]
  },
  {
   "cell_type": "markdown",
   "id": "ba7928e3-47b3-44ab-947e-229b2cfa71cd",
   "metadata": {},
   "source": [
    "### Yields\n",
    "\n",
    "Display the average yield (revenue per passenger mile) by carrier."
   ]
  },
  {
   "cell_type": "code",
   "execution_count": null,
   "id": "f6ad3059-4c6a-4c4b-9711-73a243c0b30a",
   "metadata": {},
   "outputs": [],
   "source": [
    "comps.fig_carrier_yields()"
   ]
  },
  {
   "cell_type": "markdown",
   "id": "605c1d04-6472-4a0c-9048-0119aaf48f03",
   "metadata": {},
   "source": [
    "### Fare Class Mix\n",
    "\n",
    "Display the fare class mix by carrier."
   ]
  },
  {
   "cell_type": "code",
   "execution_count": null,
   "id": "0a6d85d5-6975-4981-9834-ab1d46c8da2c",
   "metadata": {},
   "outputs": [],
   "source": [
    "comps.fig_fare_class_mix()"
   ]
  }
 ],
 "metadata": {
  "kernelspec": {
   "display_name": "Python 3 (ipykernel)",
   "language": "python",
   "name": "python3"
  },
  "language_info": {
   "codemirror_mode": {
    "name": "ipython",
    "version": 3
   },
   "file_extension": ".py",
   "mimetype": "text/x-python",
   "name": "python",
   "nbconvert_exporter": "python",
   "pygments_lexer": "ipython3",
   "version": "3.11.4"
  }
 },
 "nbformat": 4,
 "nbformat_minor": 5
}
