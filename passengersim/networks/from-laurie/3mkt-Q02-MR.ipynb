{
 "cells": [
  {
   "cell_type": "markdown",
   "id": "074357ec-407b-409a-ab22-b658573890e8",
   "metadata": {},
   "source": [
    "<style>.md-sidebar--secondary {display: none !important;}</style>\n",
    "\n",
    "# Q-Forecasting\n",
    "\n",
    "In this example, we use Q-forecasting for a product set that includes no product restrictions and no advance purchase (AP) restrictions in the simulation, and have each airline forecast path demand using a FRAT-5 C curve and use an EMSR-b leg algorithm to manage revenue.  No flight-level EM detruncation is used. This also uses MR fare adjustment"
   ]
  },
  {
   "cell_type": "code",
   "execution_count": 1,
   "id": "47aa4d6a-3fa2-4779-ba2e-58e06dc6b1b2",
   "metadata": {},
   "outputs": [
    {
     "name": "stdout",
     "output_type": "stream",
     "text": [
      "passengersim 0.21.1.dev27+gab8d73e\n",
      "passengersim.core 0.21.1.dev74+g744327a\n"
     ]
    }
   ],
   "source": [
    "import passengersim as pax\n",
    "pax.versions()"
   ]
  },
  {
   "cell_type": "code",
   "execution_count": 2,
   "id": "e4e958c9-be0e-4b13-87ce-e2cd98a93fa9",
   "metadata": {},
   "outputs": [],
   "source": [
    "import verification_tools as vt"
   ]
  },
  {
   "cell_type": "code",
   "execution_count": 3,
   "id": "046d6035-b590-46fb-bfe8-4830304f64ae",
   "metadata": {},
   "outputs": [],
   "source": [
    "cfg = pax.Config.from_yaml([\"configs/04-Q-MR-FA.yaml\"])"
   ]
  },
  {
   "cell_type": "code",
   "execution_count": 4,
   "id": "47e6e129-a902-44b3-b265-61ff3f178e90",
   "metadata": {},
   "outputs": [],
   "source": [
    "sim = pax.Simulation(cfg)"
   ]
  },
  {
   "cell_type": "code",
   "execution_count": 5,
   "id": "e7644d17-393b-461b-b7ec-a7af9c79efdc",
   "metadata": {},
   "outputs": [
    {
     "data": {
      "application/vnd.jupyter.widget-view+json": {
       "model_id": "",
       "version_major": 2,
       "version_minor": 0
      },
      "text/plain": [
       "Output()"
      ]
     },
     "metadata": {},
     "output_type": "display_data"
    },
    {
     "name": "stderr",
     "output_type": "stream",
     "text": [
      "Mkt = BOS-LAX\n",
      "Mkt = BOS-ORD\n",
      "Mkt = ORD-LAX\n",
      "Mkt = BOS-LAX\n",
      "Mkt = BOS-ORD\n",
      "Mkt = ORD-LAX\n"
     ]
    },
    {
     "data": {
      "text/html": [
       "<pre style=\"white-space:pre;overflow-x:auto;line-height:normal;font-family:Menlo,'DejaVu Sans Mono',consolas,'Courier New',monospace\">Leg: AL1:111 ORD-LAX, cap: 120, sold: 44, bp: 0\n",
       " Class  Sold  ActRev    Fcst  StdDev FcstRev  Prot  Auth\n",
       "    Y0     0    0.00   46.37    9.94  602.10    55    76\n",
       "    Y1     0    0.00    4.87    3.52  122.94    55    21\n",
       "    Y2     0    0.00    0.00    0.00    0.00    55    21\n",
       "    Y3     0    0.00    0.00    0.00    0.00    55    21\n",
       "    Y4     0    0.00    0.00    0.00    0.00    55    21\n",
       "    Y5    44  141.45    0.00    0.00    0.00     0    21\n",
       "</pre>\n"
      ],
      "text/plain": [
       "Leg: AL1:111 ORD-LAX, cap: 120, sold: 44, bp: 0\n",
       " Class  Sold  ActRev    Fcst  StdDev FcstRev  Prot  Auth\n",
       "    Y0     0    0.00   46.37    9.94  602.10    55    76\n",
       "    Y1     0    0.00    4.87    3.52  122.94    55    21\n",
       "    Y2     0    0.00    0.00    0.00    0.00    55    21\n",
       "    Y3     0    0.00    0.00    0.00    0.00    55    21\n",
       "    Y4     0    0.00    0.00    0.00    0.00    55    21\n",
       "    Y5    44  141.45    0.00    0.00    0.00     0    21\n"
      ]
     },
     "metadata": {},
     "output_type": "display_data"
    },
    {
     "data": {
      "text/html": [
       "<pre style=\"white-space:pre;overflow-x:auto;line-height:normal;font-family:Menlo,'DejaVu Sans Mono',consolas,'Courier New',monospace\">\n",
       "</pre>\n"
      ],
      "text/plain": [
       "\n"
      ]
     },
     "metadata": {},
     "output_type": "display_data"
    },
    {
     "data": {
      "text/html": [
       "<pre style=\"white-space:pre;overflow-x:auto;line-height:normal;font-family:Menlo,'DejaVu Sans Mono',consolas,'Courier New',monospace\">RM Snapshot, EMSRb leg optimization:  trial=6  sample=35  dcp=14  carrier=AL1  orig=ORD  dest=LAX  flt_no=111\n",
       "</pre>\n"
      ],
      "text/plain": [
       "RM Snapshot, EMSRb leg optimization:  trial=6  sample=35  dcp=14  carrier=AL1  orig=ORD  dest=LAX  flt_no=111\n"
      ]
     },
     "metadata": {},
     "output_type": "display_data"
    },
    {
     "data": {
      "text/html": [
       "<pre style=\"white-space:pre;overflow-x:auto;line-height:normal;font-family:Menlo,'DejaVu Sans Mono',consolas,'Courier New',monospace\">Leg: AL1:111 ORD-LAX, cap: 120, sold: 73, bp: 0\n",
       " Class  Sold  ActRev    Fcst  StdDev FcstRev  Prot  Auth\n",
       "    Y0     6  500.59   43.36   10.33  602.85    52    47\n",
       "    Y1     0    0.00    4.63    3.40  122.94    52     0\n",
       "    Y2     0    0.00    0.00    0.00    0.00    52     0\n",
       "    Y3     0    0.00    0.00    0.00    0.00    52     0\n",
       "    Y4     0    0.00    0.00    0.00    0.00    52     0\n",
       "    Y5    67  140.48    0.00    0.00    0.00     0     0\n",
       "</pre>\n"
      ],
      "text/plain": [
       "Leg: AL1:111 ORD-LAX, cap: 120, sold: 73, bp: 0\n",
       " Class  Sold  ActRev    Fcst  StdDev FcstRev  Prot  Auth\n",
       "    Y0     6  500.59   43.36   10.33  602.85    52    47\n",
       "    Y1     0    0.00    4.63    3.40  122.94    52     0\n",
       "    Y2     0    0.00    0.00    0.00    0.00    52     0\n",
       "    Y3     0    0.00    0.00    0.00    0.00    52     0\n",
       "    Y4     0    0.00    0.00    0.00    0.00    52     0\n",
       "    Y5    67  140.48    0.00    0.00    0.00     0     0\n"
      ]
     },
     "metadata": {},
     "output_type": "display_data"
    },
    {
     "data": {
      "text/html": [
       "<pre style=\"white-space:pre;overflow-x:auto;line-height:normal;font-family:Menlo,'DejaVu Sans Mono',consolas,'Courier New',monospace\">\n",
       "</pre>\n"
      ],
      "text/plain": [
       "\n"
      ]
     },
     "metadata": {},
     "output_type": "display_data"
    },
    {
     "data": {
      "text/html": [
       "<pre style=\"white-space:pre;overflow-x:auto;line-height:normal;font-family:Menlo,'DejaVu Sans Mono',consolas,'Courier New',monospace\">RM Snapshot, EMSRb leg optimization:  trial=7  sample=35  dcp=14  carrier=AL1  orig=ORD  dest=LAX  flt_no=111\n",
       "</pre>\n"
      ],
      "text/plain": [
       "RM Snapshot, EMSRb leg optimization:  trial=7  sample=35  dcp=14  carrier=AL1  orig=ORD  dest=LAX  flt_no=111\n"
      ]
     },
     "metadata": {},
     "output_type": "display_data"
    },
    {
     "data": {
      "text/html": [
       "<pre style=\"white-space:pre;overflow-x:auto;line-height:normal;font-family:Menlo,'DejaVu Sans Mono',consolas,'Courier New',monospace\">Leg: AL1:111 ORD-LAX, cap: 120, sold: 73, bp: 0\n",
       " Class  Sold  ActRev    Fcst  StdDev FcstRev  Prot  Auth\n",
       "    Y0     6  500.59   42.84   10.10  597.85    51    47\n",
       "    Y1     0    0.00    4.31    3.23  122.94    51     0\n",
       "    Y2     0    0.00    0.00    0.00    0.00    51     0\n",
       "    Y3     0    0.00    0.00    0.00    0.00    51     0\n",
       "    Y4     0    0.00    0.00    0.00    0.00    51     0\n",
       "    Y5    67  142.68    0.00    0.00    0.00     0     0\n",
       "</pre>\n"
      ],
      "text/plain": [
       "Leg: AL1:111 ORD-LAX, cap: 120, sold: 73, bp: 0\n",
       " Class  Sold  ActRev    Fcst  StdDev FcstRev  Prot  Auth\n",
       "    Y0     6  500.59   42.84   10.10  597.85    51    47\n",
       "    Y1     0    0.00    4.31    3.23  122.94    51     0\n",
       "    Y2     0    0.00    0.00    0.00    0.00    51     0\n",
       "    Y3     0    0.00    0.00    0.00    0.00    51     0\n",
       "    Y4     0    0.00    0.00    0.00    0.00    51     0\n",
       "    Y5    67  142.68    0.00    0.00    0.00     0     0\n"
      ]
     },
     "metadata": {},
     "output_type": "display_data"
    },
    {
     "data": {
      "text/html": [
       "<pre style=\"white-space:pre;overflow-x:auto;line-height:normal;font-family:Menlo,'DejaVu Sans Mono',consolas,'Courier New',monospace\">\n",
       "</pre>\n"
      ],
      "text/plain": [
       "\n"
      ]
     },
     "metadata": {},
     "output_type": "display_data"
    },
    {
     "data": {
      "text/html": [
       "<pre style=\"white-space:pre;overflow-x:auto;line-height:normal;font-family:Menlo,'DejaVu Sans Mono',consolas,'Courier New',monospace\">Leg: AL1:111 ORD-LAX, cap: 120, sold: 63, bp: 0\n",
       " Class  Sold  ActRev    Fcst  StdDev FcstRev  Prot  Auth\n",
       "    Y0     2  500.59   49.66   10.00  590.18    58    57\n",
       "    Y1     0    0.00    4.61    3.30  122.94    58     0\n",
       "    Y2     0    0.00    0.00    0.00    0.00    58     0\n",
       "    Y3     0    0.00    0.00    0.00    0.00    58     0\n",
       "    Y4     0    0.00    0.00    0.00    0.00    58     0\n",
       "    Y5    61  142.23    0.00    0.00    0.00     0     0\n",
       "</pre>\n"
      ],
      "text/plain": [
       "Leg: AL1:111 ORD-LAX, cap: 120, sold: 63, bp: 0\n",
       " Class  Sold  ActRev    Fcst  StdDev FcstRev  Prot  Auth\n",
       "    Y0     2  500.59   49.66   10.00  590.18    58    57\n",
       "    Y1     0    0.00    4.61    3.30  122.94    58     0\n",
       "    Y2     0    0.00    0.00    0.00    0.00    58     0\n",
       "    Y3     0    0.00    0.00    0.00    0.00    58     0\n",
       "    Y4     0    0.00    0.00    0.00    0.00    58     0\n",
       "    Y5    61  142.23    0.00    0.00    0.00     0     0\n"
      ]
     },
     "metadata": {},
     "output_type": "display_data"
    },
    {
     "data": {
      "text/html": [
       "<pre style=\"white-space:pre;overflow-x:auto;line-height:normal;font-family:Menlo,'DejaVu Sans Mono',consolas,'Courier New',monospace\">\n",
       "</pre>\n"
      ],
      "text/plain": [
       "\n"
      ]
     },
     "metadata": {},
     "output_type": "display_data"
    },
    {
     "data": {
      "text/html": [
       "<pre style=\"white-space:pre;overflow-x:auto;line-height:normal;font-family:Menlo,'DejaVu Sans Mono',consolas,'Courier New',monospace\">RM Snapshot, EMSRb leg optimization:  trial=9  sample=35  dcp=14  carrier=AL1  orig=ORD  dest=LAX  flt_no=111\n",
       "</pre>\n"
      ],
      "text/plain": [
       "RM Snapshot, EMSRb leg optimization:  trial=9  sample=35  dcp=14  carrier=AL1  orig=ORD  dest=LAX  flt_no=111\n"
      ]
     },
     "metadata": {},
     "output_type": "display_data"
    },
    {
     "data": {
      "text/html": [
       "<pre style=\"white-space:pre;overflow-x:auto;line-height:normal;font-family:Menlo,'DejaVu Sans Mono',consolas,'Courier New',monospace\">Leg: AL1:111 ORD-LAX, cap: 120, sold: 67, bp: 0\n",
       " Class  Sold  ActRev    Fcst  StdDev FcstRev  Prot  Auth\n",
       "    Y0     6  500.20   45.90   10.70  605.96    55    53\n",
       "    Y1     0    0.00    5.07    3.86  122.94    55     0\n",
       "    Y2     0    0.00    0.00    0.00    0.00    55     0\n",
       "    Y3     0    0.00    0.00    0.00    0.00    55     0\n",
       "    Y4     0    0.00    0.00    0.00    0.00    55     0\n",
       "    Y5    61  141.15    0.00    0.00    0.00     0     0\n",
       "</pre>\n"
      ],
      "text/plain": [
       "Leg: AL1:111 ORD-LAX, cap: 120, sold: 67, bp: 0\n",
       " Class  Sold  ActRev    Fcst  StdDev FcstRev  Prot  Auth\n",
       "    Y0     6  500.20   45.90   10.70  605.96    55    53\n",
       "    Y1     0    0.00    5.07    3.86  122.94    55     0\n",
       "    Y2     0    0.00    0.00    0.00    0.00    55     0\n",
       "    Y3     0    0.00    0.00    0.00    0.00    55     0\n",
       "    Y4     0    0.00    0.00    0.00    0.00    55     0\n",
       "    Y5    61  141.15    0.00    0.00    0.00     0     0\n"
      ]
     },
     "metadata": {},
     "output_type": "display_data"
    },
    {
     "data": {
      "text/html": [
       "<pre style=\"white-space:pre;overflow-x:auto;line-height:normal;font-family:Menlo,'DejaVu Sans Mono',consolas,'Courier New',monospace\">\n",
       "</pre>\n"
      ],
      "text/plain": [
       "\n"
      ]
     },
     "metadata": {},
     "output_type": "display_data"
    },
    {
     "data": {
      "text/html": [
       "<pre style=\"white-space:pre;overflow-x:auto;line-height:normal;font-family:Menlo,'DejaVu Sans Mono',consolas,'Courier New',monospace\"></pre>\n"
      ],
      "text/plain": []
     },
     "metadata": {},
     "output_type": "display_data"
    },
    {
     "data": {
      "text/html": [
       "<pre style=\"white-space:pre;overflow-x:auto;line-height:normal;font-family:Menlo,'DejaVu Sans Mono',consolas,'Courier New',monospace\">\n",
       "</pre>\n"
      ],
      "text/plain": [
       "\n"
      ]
     },
     "metadata": {},
     "output_type": "display_data"
    },
    {
     "data": {
      "text/html": [
       "<pre style=\"white-space:pre;overflow-x:auto;line-height:normal;font-family:Menlo,'DejaVu Sans Mono',consolas,'Courier New',monospace\">Task Completed after <span style=\"color: #008080; text-decoration-color: #008080; font-weight: bold\">46.37</span> seconds\n",
       "</pre>\n"
      ],
      "text/plain": [
       "Task Completed after \u001b[1;36m46.37\u001b[0m seconds\n"
      ]
     },
     "metadata": {},
     "output_type": "display_data"
    }
   ],
   "source": [
    "summary = sim.run(log_reports=False)"
   ]
  },
  {
   "cell_type": "code",
   "execution_count": 6,
   "id": "e1ab1041",
   "metadata": {
    "collapsed": false,
    "jupyter": {
     "outputs_hidden": false
    }
   },
   "outputs": [
    {
     "data": {
      "text/html": [
       "\n",
       "<style>\n",
       "  #altair-viz-c022cd80d60f4d54bf7c926b55e0b503.vega-embed {\n",
       "    width: 100%;\n",
       "    display: flex;\n",
       "  }\n",
       "\n",
       "  #altair-viz-c022cd80d60f4d54bf7c926b55e0b503.vega-embed details,\n",
       "  #altair-viz-c022cd80d60f4d54bf7c926b55e0b503.vega-embed details summary {\n",
       "    position: relative;\n",
       "  }\n",
       "</style>\n",
       "<div id=\"altair-viz-c022cd80d60f4d54bf7c926b55e0b503\"></div>\n",
       "<script type=\"text/javascript\">\n",
       "  var VEGA_DEBUG = (typeof VEGA_DEBUG == \"undefined\") ? {} : VEGA_DEBUG;\n",
       "  (function(spec, embedOpt){\n",
       "    let outputDiv = document.currentScript.previousElementSibling;\n",
       "    if (outputDiv.id !== \"altair-viz-c022cd80d60f4d54bf7c926b55e0b503\") {\n",
       "      outputDiv = document.getElementById(\"altair-viz-c022cd80d60f4d54bf7c926b55e0b503\");\n",
       "    }\n",
       "    const paths = {\n",
       "      \"vega\": \"https://cdn.jsdelivr.net/npm/vega@5?noext\",\n",
       "      \"vega-lib\": \"https://cdn.jsdelivr.net/npm/vega-lib?noext\",\n",
       "      \"vega-lite\": \"https://cdn.jsdelivr.net/npm/vega-lite@5.15.1?noext\",\n",
       "      \"vega-embed\": \"https://cdn.jsdelivr.net/npm/vega-embed@6?noext\",\n",
       "    };\n",
       "\n",
       "    function maybeLoadScript(lib, version) {\n",
       "      var key = `${lib.replace(\"-\", \"\")}_version`;\n",
       "      return (VEGA_DEBUG[key] == version) ?\n",
       "        Promise.resolve(paths[lib]) :\n",
       "        new Promise(function(resolve, reject) {\n",
       "          var s = document.createElement('script');\n",
       "          document.getElementsByTagName(\"head\")[0].appendChild(s);\n",
       "          s.async = true;\n",
       "          s.onload = () => {\n",
       "            VEGA_DEBUG[key] = version;\n",
       "            return resolve(paths[lib]);\n",
       "          };\n",
       "          s.onerror = () => reject(`Error loading script: ${paths[lib]}`);\n",
       "          s.src = paths[lib];\n",
       "        });\n",
       "    }\n",
       "\n",
       "    function showError(err) {\n",
       "      outputDiv.innerHTML = `<div class=\"error\" style=\"color:red;\">${err}</div>`;\n",
       "      throw err;\n",
       "    }\n",
       "\n",
       "    function displayChart(vegaEmbed) {\n",
       "      vegaEmbed(outputDiv, spec, embedOpt)\n",
       "        .catch(err => showError(`Javascript Error: ${err.message}<br>This usually means there's a typo in your chart specification. See the javascript console for the full traceback.`));\n",
       "    }\n",
       "\n",
       "    if(typeof define === \"function\" && define.amd) {\n",
       "      requirejs.config({paths});\n",
       "      require([\"vega-embed\"], displayChart, err => showError(`Error loading script: ${err.message}`));\n",
       "    } else {\n",
       "      maybeLoadScript(\"vega\", \"5\")\n",
       "        .then(() => maybeLoadScript(\"vega-lite\", \"5.15.1\"))\n",
       "        .then(() => maybeLoadScript(\"vega-embed\", \"6\"))\n",
       "        .catch(showError)\n",
       "        .then(() => displayChart(vegaEmbed));\n",
       "    }\n",
       "  })({\"config\": {\"view\": {\"continuousWidth\": 300, \"continuousHeight\": 300}, \"axis\": {\"labelFontSize\": 12, \"titleFontSize\": 12}, \"legend\": {\"labelFontSize\": 15, \"titleFontSize\": 12}}, \"layer\": [{\"mark\": {\"type\": \"bar\"}, \"encoding\": {\"tooltip\": [{\"field\": \"carrier\", \"title\": \"Carrier\", \"type\": \"nominal\"}, {\"field\": \"avg_rev\", \"format\": \"$.4s\", \"title\": \"Average Revenue\", \"type\": \"quantitative\"}], \"x\": {\"field\": \"avg_rev\", \"stack\": \"zero\", \"title\": \"Average Revenue\", \"type\": \"quantitative\"}, \"y\": {\"field\": \"carrier\", \"title\": \"Carrier\", \"type\": \"nominal\"}}}, {\"mark\": {\"type\": \"text\", \"align\": \"right\", \"baseline\": \"middle\", \"color\": \"white\", \"dx\": -5, \"dy\": 0}, \"encoding\": {\"text\": {\"field\": \"avg_rev\", \"format\": \"$.4s\", \"type\": \"quantitative\"}, \"x\": {\"field\": \"avg_rev\", \"stack\": \"zero\", \"title\": \"Average Revenue\", \"type\": \"quantitative\"}, \"y\": {\"field\": \"carrier\", \"title\": \"Carrier\", \"type\": \"nominal\"}}}], \"data\": {\"name\": \"data-6358a8b2d0528bcc7daed585134547cd\"}, \"height\": 50, \"title\": \"Carrier Revenues\", \"width\": 500, \"$schema\": \"https://vega.github.io/schema/vega-lite/v5.15.1.json\", \"datasets\": {\"data-6358a8b2d0528bcc7daed585134547cd\": [{\"carrier\": \"AL1\", \"avg_rev\": 55607.666666666664}, {\"carrier\": \"AL2\", \"avg_rev\": 55565.544444444444}]}}, {\"mode\": \"vega-lite\"});\n",
       "</script>"
      ],
      "text/plain": [
       "alt.LayerChart(...)"
      ]
     },
     "execution_count": 6,
     "metadata": {},
     "output_type": "execute_result"
    }
   ],
   "source": [
    "summary.fig_carrier_revenues()"
   ]
  },
  {
   "cell_type": "code",
   "execution_count": 7,
   "id": "7b3d0737",
   "metadata": {},
   "outputs": [
    {
     "data": {
      "text/html": [
       "\n",
       "<style>\n",
       "  #altair-viz-6cc559dda58c4892a73b08f472a522ce.vega-embed {\n",
       "    width: 100%;\n",
       "    display: flex;\n",
       "  }\n",
       "\n",
       "  #altair-viz-6cc559dda58c4892a73b08f472a522ce.vega-embed details,\n",
       "  #altair-viz-6cc559dda58c4892a73b08f472a522ce.vega-embed details summary {\n",
       "    position: relative;\n",
       "  }\n",
       "</style>\n",
       "<div id=\"altair-viz-6cc559dda58c4892a73b08f472a522ce\"></div>\n",
       "<script type=\"text/javascript\">\n",
       "  var VEGA_DEBUG = (typeof VEGA_DEBUG == \"undefined\") ? {} : VEGA_DEBUG;\n",
       "  (function(spec, embedOpt){\n",
       "    let outputDiv = document.currentScript.previousElementSibling;\n",
       "    if (outputDiv.id !== \"altair-viz-6cc559dda58c4892a73b08f472a522ce\") {\n",
       "      outputDiv = document.getElementById(\"altair-viz-6cc559dda58c4892a73b08f472a522ce\");\n",
       "    }\n",
       "    const paths = {\n",
       "      \"vega\": \"https://cdn.jsdelivr.net/npm/vega@5?noext\",\n",
       "      \"vega-lib\": \"https://cdn.jsdelivr.net/npm/vega-lib?noext\",\n",
       "      \"vega-lite\": \"https://cdn.jsdelivr.net/npm/vega-lite@5.15.1?noext\",\n",
       "      \"vega-embed\": \"https://cdn.jsdelivr.net/npm/vega-embed@6?noext\",\n",
       "    };\n",
       "\n",
       "    function maybeLoadScript(lib, version) {\n",
       "      var key = `${lib.replace(\"-\", \"\")}_version`;\n",
       "      return (VEGA_DEBUG[key] == version) ?\n",
       "        Promise.resolve(paths[lib]) :\n",
       "        new Promise(function(resolve, reject) {\n",
       "          var s = document.createElement('script');\n",
       "          document.getElementsByTagName(\"head\")[0].appendChild(s);\n",
       "          s.async = true;\n",
       "          s.onload = () => {\n",
       "            VEGA_DEBUG[key] = version;\n",
       "            return resolve(paths[lib]);\n",
       "          };\n",
       "          s.onerror = () => reject(`Error loading script: ${paths[lib]}`);\n",
       "          s.src = paths[lib];\n",
       "        });\n",
       "    }\n",
       "\n",
       "    function showError(err) {\n",
       "      outputDiv.innerHTML = `<div class=\"error\" style=\"color:red;\">${err}</div>`;\n",
       "      throw err;\n",
       "    }\n",
       "\n",
       "    function displayChart(vegaEmbed) {\n",
       "      vegaEmbed(outputDiv, spec, embedOpt)\n",
       "        .catch(err => showError(`Javascript Error: ${err.message}<br>This usually means there's a typo in your chart specification. See the javascript console for the full traceback.`));\n",
       "    }\n",
       "\n",
       "    if(typeof define === \"function\" && define.amd) {\n",
       "      requirejs.config({paths});\n",
       "      require([\"vega-embed\"], displayChart, err => showError(`Error loading script: ${err.message}`));\n",
       "    } else {\n",
       "      maybeLoadScript(\"vega\", \"5\")\n",
       "        .then(() => maybeLoadScript(\"vega-lite\", \"5.15.1\"))\n",
       "        .then(() => maybeLoadScript(\"vega-embed\", \"6\"))\n",
       "        .catch(showError)\n",
       "        .then(() => displayChart(vegaEmbed));\n",
       "    }\n",
       "  })({\"config\": {\"view\": {\"continuousWidth\": 300, \"continuousHeight\": 300}, \"axis\": {\"labelFontSize\": 12, \"titleFontSize\": 12}, \"legend\": {\"labelFontSize\": 15, \"titleFontSize\": 12}}, \"layer\": [{\"mark\": {\"type\": \"bar\"}, \"encoding\": {\"tooltip\": [{\"field\": \"carrier\", \"title\": \"Carrier\", \"type\": \"nominal\"}, {\"field\": \"sys_lf\", \"format\": \".2f\", \"title\": \"System Load Factor\", \"type\": \"quantitative\"}], \"x\": {\"field\": \"sys_lf\", \"stack\": \"zero\", \"title\": \"System Load Factor\", \"type\": \"quantitative\"}, \"y\": {\"field\": \"carrier\", \"title\": \"Carrier\", \"type\": \"nominal\"}}}, {\"mark\": {\"type\": \"text\", \"align\": \"right\", \"baseline\": \"middle\", \"color\": \"white\", \"dx\": -5, \"dy\": 0}, \"encoding\": {\"text\": {\"field\": \"sys_lf\", \"format\": \".2f\", \"type\": \"quantitative\"}, \"x\": {\"field\": \"sys_lf\", \"stack\": \"zero\", \"title\": \"System Load Factor\", \"type\": \"quantitative\"}, \"y\": {\"field\": \"carrier\", \"title\": \"Carrier\", \"type\": \"nominal\"}}}], \"data\": {\"name\": \"data-c640efd13e30d9d53bcdd19457d1636f\"}, \"height\": 50, \"title\": \"Carrier System Load Factors\", \"width\": 500, \"$schema\": \"https://vega.github.io/schema/vega-lite/v5.15.1.json\", \"datasets\": {\"data-c640efd13e30d9d53bcdd19457d1636f\": [{\"carrier\": \"AL1\", \"sys_lf\": 83.7566922001779}, {\"carrier\": \"AL2\", \"sys_lf\": 83.7902835823294}]}}, {\"mode\": \"vega-lite\"});\n",
       "</script>"
      ],
      "text/plain": [
       "alt.LayerChart(...)"
      ]
     },
     "execution_count": 7,
     "metadata": {},
     "output_type": "execute_result"
    }
   ],
   "source": [
    "summary.fig_carrier_load_factors()"
   ]
  },
  {
   "cell_type": "code",
   "execution_count": 8,
   "id": "5f837f66",
   "metadata": {
    "collapsed": false,
    "jupyter": {
     "outputs_hidden": false
    }
   },
   "outputs": [
    {
     "data": {
      "text/html": [
       "\n",
       "<style>\n",
       "  #altair-viz-14d595ab78d3428493e62842ee3d6128.vega-embed {\n",
       "    width: 100%;\n",
       "    display: flex;\n",
       "  }\n",
       "\n",
       "  #altair-viz-14d595ab78d3428493e62842ee3d6128.vega-embed details,\n",
       "  #altair-viz-14d595ab78d3428493e62842ee3d6128.vega-embed details summary {\n",
       "    position: relative;\n",
       "  }\n",
       "</style>\n",
       "<div id=\"altair-viz-14d595ab78d3428493e62842ee3d6128\"></div>\n",
       "<script type=\"text/javascript\">\n",
       "  var VEGA_DEBUG = (typeof VEGA_DEBUG == \"undefined\") ? {} : VEGA_DEBUG;\n",
       "  (function(spec, embedOpt){\n",
       "    let outputDiv = document.currentScript.previousElementSibling;\n",
       "    if (outputDiv.id !== \"altair-viz-14d595ab78d3428493e62842ee3d6128\") {\n",
       "      outputDiv = document.getElementById(\"altair-viz-14d595ab78d3428493e62842ee3d6128\");\n",
       "    }\n",
       "    const paths = {\n",
       "      \"vega\": \"https://cdn.jsdelivr.net/npm/vega@5?noext\",\n",
       "      \"vega-lib\": \"https://cdn.jsdelivr.net/npm/vega-lib?noext\",\n",
       "      \"vega-lite\": \"https://cdn.jsdelivr.net/npm/vega-lite@5.15.1?noext\",\n",
       "      \"vega-embed\": \"https://cdn.jsdelivr.net/npm/vega-embed@6?noext\",\n",
       "    };\n",
       "\n",
       "    function maybeLoadScript(lib, version) {\n",
       "      var key = `${lib.replace(\"-\", \"\")}_version`;\n",
       "      return (VEGA_DEBUG[key] == version) ?\n",
       "        Promise.resolve(paths[lib]) :\n",
       "        new Promise(function(resolve, reject) {\n",
       "          var s = document.createElement('script');\n",
       "          document.getElementsByTagName(\"head\")[0].appendChild(s);\n",
       "          s.async = true;\n",
       "          s.onload = () => {\n",
       "            VEGA_DEBUG[key] = version;\n",
       "            return resolve(paths[lib]);\n",
       "          };\n",
       "          s.onerror = () => reject(`Error loading script: ${paths[lib]}`);\n",
       "          s.src = paths[lib];\n",
       "        });\n",
       "    }\n",
       "\n",
       "    function showError(err) {\n",
       "      outputDiv.innerHTML = `<div class=\"error\" style=\"color:red;\">${err}</div>`;\n",
       "      throw err;\n",
       "    }\n",
       "\n",
       "    function displayChart(vegaEmbed) {\n",
       "      vegaEmbed(outputDiv, spec, embedOpt)\n",
       "        .catch(err => showError(`Javascript Error: ${err.message}<br>This usually means there's a typo in your chart specification. See the javascript console for the full traceback.`));\n",
       "    }\n",
       "\n",
       "    if(typeof define === \"function\" && define.amd) {\n",
       "      requirejs.config({paths});\n",
       "      require([\"vega-embed\"], displayChart, err => showError(`Error loading script: ${err.message}`));\n",
       "    } else {\n",
       "      maybeLoadScript(\"vega\", \"5\")\n",
       "        .then(() => maybeLoadScript(\"vega-lite\", \"5.15.1\"))\n",
       "        .then(() => maybeLoadScript(\"vega-embed\", \"6\"))\n",
       "        .catch(showError)\n",
       "        .then(() => displayChart(vegaEmbed));\n",
       "    }\n",
       "  })({\"config\": {\"view\": {\"continuousWidth\": 300, \"continuousHeight\": 300}, \"axis\": {\"labelFontSize\": 12, \"titleFontSize\": 12}, \"legend\": {\"labelFontSize\": 15, \"titleFontSize\": 12}}, \"layer\": [{\"mark\": {\"type\": \"bar\"}, \"encoding\": {\"color\": {\"field\": \"booking_class\", \"type\": \"nominal\"}, \"tooltip\": [{\"field\": \"carrier\", \"type\": \"nominal\"}, {\"field\": \"booking_class\", \"type\": \"nominal\"}, {\"field\": \"avg_sold\", \"format\": \".2f\", \"type\": \"quantitative\"}], \"x\": {\"field\": \"carrier\", \"title\": \"Carrier\", \"type\": \"nominal\"}, \"y\": {\"field\": \"avg_sold\", \"stack\": \"zero\", \"title\": \"Seats\", \"type\": \"quantitative\"}}, \"title\": \"Fare Class Mix\", \"transform\": [{\"calculate\": \"datum.avg_sold / 2.0\", \"as\": \"halfsold\"}]}, {\"mark\": {\"type\": \"text\", \"baseline\": \"top\", \"color\": \"white\", \"dx\": 0, \"dy\": 3}, \"encoding\": {\"opacity\": {\"condition\": {\"test\": \"datum.avg_sold < 16.571\", \"value\": 0}, \"value\": 1}, \"order\": {\"field\": \"booking_class\", \"sort\": \"descending\", \"type\": \"nominal\"}, \"text\": {\"field\": \"avg_sold\", \"format\": \".2f\", \"type\": \"quantitative\"}, \"x\": {\"field\": \"carrier\", \"title\": \"Carrier\", \"type\": \"nominal\"}, \"y\": {\"field\": \"avg_sold\", \"stack\": \"zero\", \"title\": \"Seats\", \"type\": \"quantitative\"}}, \"title\": \"Fare Class Mix\", \"transform\": [{\"calculate\": \"datum.avg_sold / 2.0\", \"as\": \"halfsold\"}]}], \"data\": {\"name\": \"data-e0e1dff45815675a2a06bb0c5e727b14\"}, \"height\": 300, \"width\": 400, \"$schema\": \"https://vega.github.io/schema/vega-lite/v5.15.1.json\", \"datasets\": {\"data-e0e1dff45815675a2a06bb0c5e727b14\": [{\"carrier\": \"AL1\", \"booking_class\": \"Y0\", \"avg_sold\": 31.25888888888889}, {\"carrier\": \"AL1\", \"booking_class\": \"Y1\", \"avg_sold\": 0.0}, {\"carrier\": \"AL1\", \"booking_class\": \"Y2\", \"avg_sold\": 0.0}, {\"carrier\": \"AL1\", \"booking_class\": \"Y3\", \"avg_sold\": 0.0}, {\"carrier\": \"AL1\", \"booking_class\": \"Y4\", \"avg_sold\": 0.0}, {\"carrier\": \"AL1\", \"booking_class\": \"Y5\", \"avg_sold\": 244.892}, {\"carrier\": \"AL2\", \"booking_class\": \"Y0\", \"avg_sold\": 31.120333333333335}, {\"carrier\": \"AL2\", \"booking_class\": \"Y1\", \"avg_sold\": 0.0}, {\"carrier\": \"AL2\", \"booking_class\": \"Y2\", \"avg_sold\": 0.0}, {\"carrier\": \"AL2\", \"booking_class\": \"Y3\", \"avg_sold\": 0.0}, {\"carrier\": \"AL2\", \"booking_class\": \"Y4\", \"avg_sold\": 0.0}, {\"carrier\": \"AL2\", \"booking_class\": \"Y5\", \"avg_sold\": 245.06588888888888}]}}, {\"mode\": \"vega-lite\"});\n",
       "</script>"
      ],
      "text/plain": [
       "alt.LayerChart(...)"
      ]
     },
     "execution_count": 8,
     "metadata": {},
     "output_type": "execute_result"
    }
   ],
   "source": [
    "summary.fig_fare_class_mix()"
   ]
  },
  {
   "cell_type": "code",
   "execution_count": 9,
   "id": "9e9d3c25-0f07-41e0-a2d4-5a761a573f65",
   "metadata": {},
   "outputs": [
    {
     "data": {
      "text/html": [
       "\n",
       "<style>\n",
       "  #altair-viz-32bb7f4084a44acb9549bd987f2c917b.vega-embed {\n",
       "    width: 100%;\n",
       "    display: flex;\n",
       "  }\n",
       "\n",
       "  #altair-viz-32bb7f4084a44acb9549bd987f2c917b.vega-embed details,\n",
       "  #altair-viz-32bb7f4084a44acb9549bd987f2c917b.vega-embed details summary {\n",
       "    position: relative;\n",
       "  }\n",
       "</style>\n",
       "<div id=\"altair-viz-32bb7f4084a44acb9549bd987f2c917b\"></div>\n",
       "<script type=\"text/javascript\">\n",
       "  var VEGA_DEBUG = (typeof VEGA_DEBUG == \"undefined\") ? {} : VEGA_DEBUG;\n",
       "  (function(spec, embedOpt){\n",
       "    let outputDiv = document.currentScript.previousElementSibling;\n",
       "    if (outputDiv.id !== \"altair-viz-32bb7f4084a44acb9549bd987f2c917b\") {\n",
       "      outputDiv = document.getElementById(\"altair-viz-32bb7f4084a44acb9549bd987f2c917b\");\n",
       "    }\n",
       "    const paths = {\n",
       "      \"vega\": \"https://cdn.jsdelivr.net/npm/vega@5?noext\",\n",
       "      \"vega-lib\": \"https://cdn.jsdelivr.net/npm/vega-lib?noext\",\n",
       "      \"vega-lite\": \"https://cdn.jsdelivr.net/npm/vega-lite@5.15.1?noext\",\n",
       "      \"vega-embed\": \"https://cdn.jsdelivr.net/npm/vega-embed@6?noext\",\n",
       "    };\n",
       "\n",
       "    function maybeLoadScript(lib, version) {\n",
       "      var key = `${lib.replace(\"-\", \"\")}_version`;\n",
       "      return (VEGA_DEBUG[key] == version) ?\n",
       "        Promise.resolve(paths[lib]) :\n",
       "        new Promise(function(resolve, reject) {\n",
       "          var s = document.createElement('script');\n",
       "          document.getElementsByTagName(\"head\")[0].appendChild(s);\n",
       "          s.async = true;\n",
       "          s.onload = () => {\n",
       "            VEGA_DEBUG[key] = version;\n",
       "            return resolve(paths[lib]);\n",
       "          };\n",
       "          s.onerror = () => reject(`Error loading script: ${paths[lib]}`);\n",
       "          s.src = paths[lib];\n",
       "        });\n",
       "    }\n",
       "\n",
       "    function showError(err) {\n",
       "      outputDiv.innerHTML = `<div class=\"error\" style=\"color:red;\">${err}</div>`;\n",
       "      throw err;\n",
       "    }\n",
       "\n",
       "    function displayChart(vegaEmbed) {\n",
       "      vegaEmbed(outputDiv, spec, embedOpt)\n",
       "        .catch(err => showError(`Javascript Error: ${err.message}<br>This usually means there's a typo in your chart specification. See the javascript console for the full traceback.`));\n",
       "    }\n",
       "\n",
       "    if(typeof define === \"function\" && define.amd) {\n",
       "      requirejs.config({paths});\n",
       "      require([\"vega-embed\"], displayChart, err => showError(`Error loading script: ${err.message}`));\n",
       "    } else {\n",
       "      maybeLoadScript(\"vega\", \"5\")\n",
       "        .then(() => maybeLoadScript(\"vega-lite\", \"5.15.1\"))\n",
       "        .then(() => maybeLoadScript(\"vega-embed\", \"6\"))\n",
       "        .catch(showError)\n",
       "        .then(() => displayChart(vegaEmbed));\n",
       "    }\n",
       "  })({\"config\": {\"view\": {\"continuousWidth\": 300, \"continuousHeight\": 300}}, \"data\": {\"name\": \"data-16f8f7b587a17e65ffb4326c8ab07e3f\"}, \"mark\": {\"type\": \"line\"}, \"encoding\": {\"color\": {\"field\": \"booking_class\", \"type\": \"nominal\"}, \"x\": {\"field\": \"days_prior\", \"scale\": {\"reverse\": true}, \"title\": \"Days Prior to Departure\", \"type\": \"ordinal\"}, \"y\": {\"field\": \"forecast_mean\", \"title\": \"Mean Demand Forecast\", \"type\": \"quantitative\"}}, \"$schema\": \"https://vega.github.io/schema/vega-lite/v5.15.1.json\", \"datasets\": {\"data-16f8f7b587a17e65ffb4326c8ab07e3f\": [{\"carrier\": \"AL1\", \"flt_no\": 101, \"booking_class\": \"Y0\", \"days_prior\": 0, \"forecast_mean\": 0.0}, {\"carrier\": \"AL1\", \"flt_no\": 101, \"booking_class\": \"Y0\", \"days_prior\": 1, \"forecast_mean\": 2.5259742052114023}, {\"carrier\": \"AL1\", \"flt_no\": 101, \"booking_class\": \"Y0\", \"days_prior\": 3, \"forecast_mean\": 9.857948117790768}, {\"carrier\": \"AL1\", \"flt_no\": 101, \"booking_class\": \"Y0\", \"days_prior\": 5, \"forecast_mean\": 14.372690644634499}, {\"carrier\": \"AL1\", \"flt_no\": 101, \"booking_class\": \"Y0\", \"days_prior\": 7, \"forecast_mean\": 17.9507584174478}, {\"carrier\": \"AL1\", \"flt_no\": 101, \"booking_class\": \"Y0\", \"days_prior\": 10, \"forecast_mean\": 23.57910487307471}, {\"carrier\": \"AL1\", \"flt_no\": 101, \"booking_class\": \"Y0\", \"days_prior\": 14, \"forecast_mean\": 29.032312821739275}, {\"carrier\": \"AL1\", \"flt_no\": 101, \"booking_class\": \"Y0\", \"days_prior\": 17, \"forecast_mean\": 32.52598425305486}, {\"carrier\": \"AL1\", \"flt_no\": 101, \"booking_class\": \"Y0\", \"days_prior\": 21, \"forecast_mean\": 36.2398302050493}, {\"carrier\": \"AL1\", \"flt_no\": 101, \"booking_class\": \"Y0\", \"days_prior\": 24, \"forecast_mean\": 39.27534541399787}, {\"carrier\": \"AL1\", \"flt_no\": 101, \"booking_class\": \"Y0\", \"days_prior\": 28, \"forecast_mean\": 41.86485577398914}, {\"carrier\": \"AL1\", \"flt_no\": 101, \"booking_class\": \"Y0\", \"days_prior\": 31, \"forecast_mean\": 43.04351835754516}, {\"carrier\": \"AL1\", \"flt_no\": 101, \"booking_class\": \"Y0\", \"days_prior\": 35, \"forecast_mean\": 44.31196051228423}, {\"carrier\": \"AL1\", \"flt_no\": 101, \"booking_class\": \"Y0\", \"days_prior\": 42, \"forecast_mean\": 45.58722542775991}, {\"carrier\": \"AL1\", \"flt_no\": 101, \"booking_class\": \"Y0\", \"days_prior\": 49, \"forecast_mean\": 46.77351031224035}, {\"carrier\": \"AL1\", \"flt_no\": 101, \"booking_class\": \"Y0\", \"days_prior\": 56, \"forecast_mean\": 47.323397027045814}, {\"carrier\": \"AL1\", \"flt_no\": 101, \"booking_class\": \"Y0\", \"days_prior\": 63, \"forecast_mean\": 48.3250003923176}, {\"carrier\": \"AL1\", \"flt_no\": 101, \"booking_class\": \"Y1\", \"days_prior\": 0, \"forecast_mean\": 0.0}, {\"carrier\": \"AL1\", \"flt_no\": 101, \"booking_class\": \"Y1\", \"days_prior\": 1, \"forecast_mean\": 0.7733224661186424}, {\"carrier\": \"AL1\", \"flt_no\": 101, \"booking_class\": \"Y1\", \"days_prior\": 3, \"forecast_mean\": 3.0068190253951266}, {\"carrier\": \"AL1\", \"flt_no\": 101, \"booking_class\": \"Y1\", \"days_prior\": 5, \"forecast_mean\": 4.466610655334977}, {\"carrier\": \"AL1\", \"flt_no\": 101, \"booking_class\": \"Y1\", \"days_prior\": 7, \"forecast_mean\": 5.620899849511943}, {\"carrier\": \"AL1\", \"flt_no\": 101, \"booking_class\": \"Y1\", \"days_prior\": 10, \"forecast_mean\": 7.516101451289381}, {\"carrier\": \"AL1\", \"flt_no\": 101, \"booking_class\": \"Y1\", \"days_prior\": 14, \"forecast_mean\": 9.465201446425327}, {\"carrier\": \"AL1\", \"flt_no\": 101, \"booking_class\": \"Y1\", \"days_prior\": 17, \"forecast_mean\": 11.207071770834203}, {\"carrier\": \"AL1\", \"flt_no\": 101, \"booking_class\": \"Y1\", \"days_prior\": 21, \"forecast_mean\": 13.823892214430591}, {\"carrier\": \"AL1\", \"flt_no\": 101, \"booking_class\": \"Y1\", \"days_prior\": 24, \"forecast_mean\": 17.62696674907177}, {\"carrier\": \"AL1\", \"flt_no\": 101, \"booking_class\": \"Y1\", \"days_prior\": 28, \"forecast_mean\": 21.714746987371086}, {\"carrier\": \"AL1\", \"flt_no\": 101, \"booking_class\": \"Y1\", \"days_prior\": 31, \"forecast_mean\": 24.107122865353542}, {\"carrier\": \"AL1\", \"flt_no\": 101, \"booking_class\": \"Y1\", \"days_prior\": 35, \"forecast_mean\": 27.88427900121276}, {\"carrier\": \"AL1\", \"flt_no\": 101, \"booking_class\": \"Y1\", \"days_prior\": 42, \"forecast_mean\": 34.02353972676272}, {\"carrier\": \"AL1\", \"flt_no\": 101, \"booking_class\": \"Y1\", \"days_prior\": 49, \"forecast_mean\": 39.75706253458998}, {\"carrier\": \"AL1\", \"flt_no\": 101, \"booking_class\": \"Y1\", \"days_prior\": 56, \"forecast_mean\": 45.977299751408445}, {\"carrier\": \"AL1\", \"flt_no\": 101, \"booking_class\": \"Y1\", \"days_prior\": 63, \"forecast_mean\": 57.26796134340161}, {\"carrier\": \"AL1\", \"flt_no\": 101, \"booking_class\": \"Y2\", \"days_prior\": 0, \"forecast_mean\": 0.0}, {\"carrier\": \"AL1\", \"flt_no\": 101, \"booking_class\": \"Y2\", \"days_prior\": 1, \"forecast_mean\": 0.0}, {\"carrier\": \"AL1\", \"flt_no\": 101, \"booking_class\": \"Y2\", \"days_prior\": 3, \"forecast_mean\": 0.0}, {\"carrier\": \"AL1\", \"flt_no\": 101, \"booking_class\": \"Y2\", \"days_prior\": 5, \"forecast_mean\": 0.0}, {\"carrier\": \"AL1\", \"flt_no\": 101, \"booking_class\": \"Y2\", \"days_prior\": 7, \"forecast_mean\": 0.0}, {\"carrier\": \"AL1\", \"flt_no\": 101, \"booking_class\": \"Y2\", \"days_prior\": 10, \"forecast_mean\": 0.0}, {\"carrier\": \"AL1\", \"flt_no\": 101, \"booking_class\": \"Y2\", \"days_prior\": 14, \"forecast_mean\": 0.0}, {\"carrier\": \"AL1\", \"flt_no\": 101, \"booking_class\": \"Y2\", \"days_prior\": 17, \"forecast_mean\": 0.0}, {\"carrier\": \"AL1\", \"flt_no\": 101, \"booking_class\": \"Y2\", \"days_prior\": 21, \"forecast_mean\": 0.0}, {\"carrier\": \"AL1\", \"flt_no\": 101, \"booking_class\": \"Y2\", \"days_prior\": 24, \"forecast_mean\": 0.0}, {\"carrier\": \"AL1\", \"flt_no\": 101, \"booking_class\": \"Y2\", \"days_prior\": 28, \"forecast_mean\": 0.0}, {\"carrier\": \"AL1\", \"flt_no\": 101, \"booking_class\": \"Y2\", \"days_prior\": 31, \"forecast_mean\": 0.0}, {\"carrier\": \"AL1\", \"flt_no\": 101, \"booking_class\": \"Y2\", \"days_prior\": 35, \"forecast_mean\": 0.0}, {\"carrier\": \"AL1\", \"flt_no\": 101, \"booking_class\": \"Y2\", \"days_prior\": 42, \"forecast_mean\": 0.0}, {\"carrier\": \"AL1\", \"flt_no\": 101, \"booking_class\": \"Y2\", \"days_prior\": 49, \"forecast_mean\": 0.0}, {\"carrier\": \"AL1\", \"flt_no\": 101, \"booking_class\": \"Y2\", \"days_prior\": 56, \"forecast_mean\": 0.0}, {\"carrier\": \"AL1\", \"flt_no\": 101, \"booking_class\": \"Y2\", \"days_prior\": 63, \"forecast_mean\": 0.0}, {\"carrier\": \"AL1\", \"flt_no\": 101, \"booking_class\": \"Y3\", \"days_prior\": 0, \"forecast_mean\": 0.0}, {\"carrier\": \"AL1\", \"flt_no\": 101, \"booking_class\": \"Y3\", \"days_prior\": 1, \"forecast_mean\": 0.0}, {\"carrier\": \"AL1\", \"flt_no\": 101, \"booking_class\": \"Y3\", \"days_prior\": 3, \"forecast_mean\": 0.0}, {\"carrier\": \"AL1\", \"flt_no\": 101, \"booking_class\": \"Y3\", \"days_prior\": 5, \"forecast_mean\": 0.0}, {\"carrier\": \"AL1\", \"flt_no\": 101, \"booking_class\": \"Y3\", \"days_prior\": 7, \"forecast_mean\": 0.0}, {\"carrier\": \"AL1\", \"flt_no\": 101, \"booking_class\": \"Y3\", \"days_prior\": 10, \"forecast_mean\": 0.0}, {\"carrier\": \"AL1\", \"flt_no\": 101, \"booking_class\": \"Y3\", \"days_prior\": 14, \"forecast_mean\": 0.0}, {\"carrier\": \"AL1\", \"flt_no\": 101, \"booking_class\": \"Y3\", \"days_prior\": 17, \"forecast_mean\": 0.0}, {\"carrier\": \"AL1\", \"flt_no\": 101, \"booking_class\": \"Y3\", \"days_prior\": 21, \"forecast_mean\": 0.0}, {\"carrier\": \"AL1\", \"flt_no\": 101, \"booking_class\": \"Y3\", \"days_prior\": 24, \"forecast_mean\": 0.0}, {\"carrier\": \"AL1\", \"flt_no\": 101, \"booking_class\": \"Y3\", \"days_prior\": 28, \"forecast_mean\": 0.0}, {\"carrier\": \"AL1\", \"flt_no\": 101, \"booking_class\": \"Y3\", \"days_prior\": 31, \"forecast_mean\": 0.0}, {\"carrier\": \"AL1\", \"flt_no\": 101, \"booking_class\": \"Y3\", \"days_prior\": 35, \"forecast_mean\": 0.0}, {\"carrier\": \"AL1\", \"flt_no\": 101, \"booking_class\": \"Y3\", \"days_prior\": 42, \"forecast_mean\": 0.0}, {\"carrier\": \"AL1\", \"flt_no\": 101, \"booking_class\": \"Y3\", \"days_prior\": 49, \"forecast_mean\": 0.0}, {\"carrier\": \"AL1\", \"flt_no\": 101, \"booking_class\": \"Y3\", \"days_prior\": 56, \"forecast_mean\": 0.0}, {\"carrier\": \"AL1\", \"flt_no\": 101, \"booking_class\": \"Y3\", \"days_prior\": 63, \"forecast_mean\": 0.0}, {\"carrier\": \"AL1\", \"flt_no\": 101, \"booking_class\": \"Y4\", \"days_prior\": 0, \"forecast_mean\": 0.0}, {\"carrier\": \"AL1\", \"flt_no\": 101, \"booking_class\": \"Y4\", \"days_prior\": 1, \"forecast_mean\": 0.0}, {\"carrier\": \"AL1\", \"flt_no\": 101, \"booking_class\": \"Y4\", \"days_prior\": 3, \"forecast_mean\": 0.0}, {\"carrier\": \"AL1\", \"flt_no\": 101, \"booking_class\": \"Y4\", \"days_prior\": 5, \"forecast_mean\": 0.0}, {\"carrier\": \"AL1\", \"flt_no\": 101, \"booking_class\": \"Y4\", \"days_prior\": 7, \"forecast_mean\": 0.0}, {\"carrier\": \"AL1\", \"flt_no\": 101, \"booking_class\": \"Y4\", \"days_prior\": 10, \"forecast_mean\": 0.0}, {\"carrier\": \"AL1\", \"flt_no\": 101, \"booking_class\": \"Y4\", \"days_prior\": 14, \"forecast_mean\": 0.0}, {\"carrier\": \"AL1\", \"flt_no\": 101, \"booking_class\": \"Y4\", \"days_prior\": 17, \"forecast_mean\": 0.0}, {\"carrier\": \"AL1\", \"flt_no\": 101, \"booking_class\": \"Y4\", \"days_prior\": 21, \"forecast_mean\": 0.0}, {\"carrier\": \"AL1\", \"flt_no\": 101, \"booking_class\": \"Y4\", \"days_prior\": 24, \"forecast_mean\": 0.0}, {\"carrier\": \"AL1\", \"flt_no\": 101, \"booking_class\": \"Y4\", \"days_prior\": 28, \"forecast_mean\": 0.0}, {\"carrier\": \"AL1\", \"flt_no\": 101, \"booking_class\": \"Y4\", \"days_prior\": 31, \"forecast_mean\": 0.0}, {\"carrier\": \"AL1\", \"flt_no\": 101, \"booking_class\": \"Y4\", \"days_prior\": 35, \"forecast_mean\": 0.0}, {\"carrier\": \"AL1\", \"flt_no\": 101, \"booking_class\": \"Y4\", \"days_prior\": 42, \"forecast_mean\": 0.0}, {\"carrier\": \"AL1\", \"flt_no\": 101, \"booking_class\": \"Y4\", \"days_prior\": 49, \"forecast_mean\": 0.0}, {\"carrier\": \"AL1\", \"flt_no\": 101, \"booking_class\": \"Y4\", \"days_prior\": 56, \"forecast_mean\": 0.0}, {\"carrier\": \"AL1\", \"flt_no\": 101, \"booking_class\": \"Y4\", \"days_prior\": 63, \"forecast_mean\": 0.0}, {\"carrier\": \"AL1\", \"flt_no\": 101, \"booking_class\": \"Y5\", \"days_prior\": 0, \"forecast_mean\": 0.0}, {\"carrier\": \"AL1\", \"flt_no\": 101, \"booking_class\": \"Y5\", \"days_prior\": 1, \"forecast_mean\": 0.0}, {\"carrier\": \"AL1\", \"flt_no\": 101, \"booking_class\": \"Y5\", \"days_prior\": 3, \"forecast_mean\": 0.0}, {\"carrier\": \"AL1\", \"flt_no\": 101, \"booking_class\": \"Y5\", \"days_prior\": 5, \"forecast_mean\": 0.0}, {\"carrier\": \"AL1\", \"flt_no\": 101, \"booking_class\": \"Y5\", \"days_prior\": 7, \"forecast_mean\": 0.0}, {\"carrier\": \"AL1\", \"flt_no\": 101, \"booking_class\": \"Y5\", \"days_prior\": 10, \"forecast_mean\": 0.0}, {\"carrier\": \"AL1\", \"flt_no\": 101, \"booking_class\": \"Y5\", \"days_prior\": 14, \"forecast_mean\": 0.0}, {\"carrier\": \"AL1\", \"flt_no\": 101, \"booking_class\": \"Y5\", \"days_prior\": 17, \"forecast_mean\": 0.0}, {\"carrier\": \"AL1\", \"flt_no\": 101, \"booking_class\": \"Y5\", \"days_prior\": 21, \"forecast_mean\": 0.0}, {\"carrier\": \"AL1\", \"flt_no\": 101, \"booking_class\": \"Y5\", \"days_prior\": 24, \"forecast_mean\": 0.0}, {\"carrier\": \"AL1\", \"flt_no\": 101, \"booking_class\": \"Y5\", \"days_prior\": 28, \"forecast_mean\": 0.0}, {\"carrier\": \"AL1\", \"flt_no\": 101, \"booking_class\": \"Y5\", \"days_prior\": 31, \"forecast_mean\": 0.0}, {\"carrier\": \"AL1\", \"flt_no\": 101, \"booking_class\": \"Y5\", \"days_prior\": 35, \"forecast_mean\": 0.0}, {\"carrier\": \"AL1\", \"flt_no\": 101, \"booking_class\": \"Y5\", \"days_prior\": 42, \"forecast_mean\": 0.0}, {\"carrier\": \"AL1\", \"flt_no\": 101, \"booking_class\": \"Y5\", \"days_prior\": 49, \"forecast_mean\": 0.0}, {\"carrier\": \"AL1\", \"flt_no\": 101, \"booking_class\": \"Y5\", \"days_prior\": 56, \"forecast_mean\": 0.0}, {\"carrier\": \"AL1\", \"flt_no\": 101, \"booking_class\": \"Y5\", \"days_prior\": 63, \"forecast_mean\": 0.0}]}}, {\"mode\": \"vega-lite\"});\n",
       "</script>"
      ],
      "text/plain": [
       "alt.Chart(...)"
      ]
     },
     "execution_count": 9,
     "metadata": {},
     "output_type": "execute_result"
    }
   ],
   "source": [
    "summary.fig_leg_forecasts(by_flt_no=101)"
   ]
  },
  {
   "cell_type": "code",
   "execution_count": 10,
   "id": "b4ef3397-ba51-419b-9a37-eb5d75cc6c40",
   "metadata": {},
   "outputs": [
    {
     "data": {
      "text/html": [
       "\n",
       "<style>\n",
       "  #altair-viz-3ebdda99b7f640f59493b5cc0a71cd09.vega-embed {\n",
       "    width: 100%;\n",
       "    display: flex;\n",
       "  }\n",
       "\n",
       "  #altair-viz-3ebdda99b7f640f59493b5cc0a71cd09.vega-embed details,\n",
       "  #altair-viz-3ebdda99b7f640f59493b5cc0a71cd09.vega-embed details summary {\n",
       "    position: relative;\n",
       "  }\n",
       "</style>\n",
       "<div id=\"altair-viz-3ebdda99b7f640f59493b5cc0a71cd09\"></div>\n",
       "<script type=\"text/javascript\">\n",
       "  var VEGA_DEBUG = (typeof VEGA_DEBUG == \"undefined\") ? {} : VEGA_DEBUG;\n",
       "  (function(spec, embedOpt){\n",
       "    let outputDiv = document.currentScript.previousElementSibling;\n",
       "    if (outputDiv.id !== \"altair-viz-3ebdda99b7f640f59493b5cc0a71cd09\") {\n",
       "      outputDiv = document.getElementById(\"altair-viz-3ebdda99b7f640f59493b5cc0a71cd09\");\n",
       "    }\n",
       "    const paths = {\n",
       "      \"vega\": \"https://cdn.jsdelivr.net/npm/vega@5?noext\",\n",
       "      \"vega-lib\": \"https://cdn.jsdelivr.net/npm/vega-lib?noext\",\n",
       "      \"vega-lite\": \"https://cdn.jsdelivr.net/npm/vega-lite@5.15.1?noext\",\n",
       "      \"vega-embed\": \"https://cdn.jsdelivr.net/npm/vega-embed@6?noext\",\n",
       "    };\n",
       "\n",
       "    function maybeLoadScript(lib, version) {\n",
       "      var key = `${lib.replace(\"-\", \"\")}_version`;\n",
       "      return (VEGA_DEBUG[key] == version) ?\n",
       "        Promise.resolve(paths[lib]) :\n",
       "        new Promise(function(resolve, reject) {\n",
       "          var s = document.createElement('script');\n",
       "          document.getElementsByTagName(\"head\")[0].appendChild(s);\n",
       "          s.async = true;\n",
       "          s.onload = () => {\n",
       "            VEGA_DEBUG[key] = version;\n",
       "            return resolve(paths[lib]);\n",
       "          };\n",
       "          s.onerror = () => reject(`Error loading script: ${paths[lib]}`);\n",
       "          s.src = paths[lib];\n",
       "        });\n",
       "    }\n",
       "\n",
       "    function showError(err) {\n",
       "      outputDiv.innerHTML = `<div class=\"error\" style=\"color:red;\">${err}</div>`;\n",
       "      throw err;\n",
       "    }\n",
       "\n",
       "    function displayChart(vegaEmbed) {\n",
       "      vegaEmbed(outputDiv, spec, embedOpt)\n",
       "        .catch(err => showError(`Javascript Error: ${err.message}<br>This usually means there's a typo in your chart specification. See the javascript console for the full traceback.`));\n",
       "    }\n",
       "\n",
       "    if(typeof define === \"function\" && define.amd) {\n",
       "      requirejs.config({paths});\n",
       "      require([\"vega-embed\"], displayChart, err => showError(`Error loading script: ${err.message}`));\n",
       "    } else {\n",
       "      maybeLoadScript(\"vega\", \"5\")\n",
       "        .then(() => maybeLoadScript(\"vega-lite\", \"5.15.1\"))\n",
       "        .then(() => maybeLoadScript(\"vega-embed\", \"6\"))\n",
       "        .catch(showError)\n",
       "        .then(() => displayChart(vegaEmbed));\n",
       "    }\n",
       "  })({\"config\": {\"view\": {\"continuousWidth\": 300, \"continuousHeight\": 300}}, \"data\": {\"name\": \"data-12ad8cdbf68916043151e0e6f75a9b0b\"}, \"mark\": {\"type\": \"line\"}, \"encoding\": {\"color\": {\"field\": \"booking_class\", \"type\": \"nominal\"}, \"x\": {\"field\": \"days_prior\", \"scale\": {\"reverse\": true}, \"title\": \"Days Prior to Departure\", \"type\": \"ordinal\"}, \"y\": {\"field\": \"forecast_mean\", \"title\": \"Avg Demand Forecast\", \"type\": \"quantitative\"}}, \"$schema\": \"https://vega.github.io/schema/vega-lite/v5.15.1.json\", \"datasets\": {\"data-12ad8cdbf68916043151e0e6f75a9b0b\": [{\"path_id\": 1, \"booking_class\": \"Y0\", \"days_prior\": 0, \"forecast_mean\": 0.0}, {\"path_id\": 1, \"booking_class\": \"Y0\", \"days_prior\": 1, \"forecast_mean\": 0.9422132491074836}, {\"path_id\": 1, \"booking_class\": \"Y0\", \"days_prior\": 3, \"forecast_mean\": 3.6122801879835826}, {\"path_id\": 1, \"booking_class\": \"Y0\", \"days_prior\": 5, \"forecast_mean\": 5.309091900509517}, {\"path_id\": 1, \"booking_class\": \"Y0\", \"days_prior\": 7, \"forecast_mean\": 6.639436472862948}, {\"path_id\": 1, \"booking_class\": \"Y0\", \"days_prior\": 10, \"forecast_mean\": 8.665809738004508}, {\"path_id\": 1, \"booking_class\": \"Y0\", \"days_prior\": 14, \"forecast_mean\": 10.63716944885889}, {\"path_id\": 1, \"booking_class\": \"Y0\", \"days_prior\": 17, \"forecast_mean\": 11.856673458265043}, {\"path_id\": 1, \"booking_class\": \"Y0\", \"days_prior\": 21, \"forecast_mean\": 12.951508425280554}, {\"path_id\": 1, \"booking_class\": \"Y0\", \"days_prior\": 24, \"forecast_mean\": 13.739885862676697}, {\"path_id\": 1, \"booking_class\": \"Y0\", \"days_prior\": 28, \"forecast_mean\": 14.393389000127334}, {\"path_id\": 1, \"booking_class\": \"Y0\", \"days_prior\": 31, \"forecast_mean\": 14.674878557979268}, {\"path_id\": 1, \"booking_class\": \"Y0\", \"days_prior\": 35, \"forecast_mean\": 14.965610198081345}, {\"path_id\": 1, \"booking_class\": \"Y0\", \"days_prior\": 42, \"forecast_mean\": 15.234021137936535}, {\"path_id\": 1, \"booking_class\": \"Y0\", \"days_prior\": 49, \"forecast_mean\": 15.487205231916702}, {\"path_id\": 1, \"booking_class\": \"Y0\", \"days_prior\": 56, \"forecast_mean\": 15.571965648583369}, {\"path_id\": 1, \"booking_class\": \"Y0\", \"days_prior\": 63, \"forecast_mean\": 15.724664767173113}, {\"path_id\": 1, \"booking_class\": \"Y1\", \"days_prior\": 0, \"forecast_mean\": 0.0}, {\"path_id\": 1, \"booking_class\": \"Y1\", \"days_prior\": 1, \"forecast_mean\": 0.3902775064279391}, {\"path_id\": 1, \"booking_class\": \"Y1\", \"days_prior\": 3, \"forecast_mean\": 1.4962554449544327}, {\"path_id\": 1, \"booking_class\": \"Y1\", \"days_prior\": 5, \"forecast_mean\": 2.238607616151201}, {\"path_id\": 1, \"booking_class\": \"Y1\", \"days_prior\": 7, \"forecast_mean\": 2.820631051300793}, {\"path_id\": 1, \"booking_class\": \"Y1\", \"days_prior\": 10, \"forecast_mean\": 3.753746665318343}, {\"path_id\": 1, \"booking_class\": \"Y1\", \"days_prior\": 14, \"forecast_mean\": 4.718492215081875}, {\"path_id\": 1, \"booking_class\": \"Y1\", \"days_prior\": 17, \"forecast_mean\": 5.569020506823237}, {\"path_id\": 1, \"booking_class\": \"Y1\", \"days_prior\": 21, \"forecast_mean\": 6.711303380407985}, {\"path_id\": 1, \"booking_class\": \"Y1\", \"days_prior\": 24, \"forecast_mean\": 8.29189602848193}, {\"path_id\": 1, \"booking_class\": \"Y1\", \"days_prior\": 28, \"forecast_mean\": 9.997298873937273}, {\"path_id\": 1, \"booking_class\": \"Y1\", \"days_prior\": 31, \"forecast_mean\": 10.986018717794739}, {\"path_id\": 1, \"booking_class\": \"Y1\", \"days_prior\": 35, \"forecast_mean\": 12.588009299914885}, {\"path_id\": 1, \"booking_class\": \"Y1\", \"days_prior\": 42, \"forecast_mean\": 15.249376137837473}, {\"path_id\": 1, \"booking_class\": \"Y1\", \"days_prior\": 49, \"forecast_mean\": 17.759764693429958}, {\"path_id\": 1, \"booking_class\": \"Y1\", \"days_prior\": 56, \"forecast_mean\": 20.387337610096626}, {\"path_id\": 1, \"booking_class\": \"Y1\", \"days_prior\": 63, \"forecast_mean\": 25.121010286378674}, {\"path_id\": 1, \"booking_class\": \"Y2\", \"days_prior\": 0, \"forecast_mean\": 0.0}, {\"path_id\": 1, \"booking_class\": \"Y2\", \"days_prior\": 1, \"forecast_mean\": 0.0}, {\"path_id\": 1, \"booking_class\": \"Y2\", \"days_prior\": 3, \"forecast_mean\": 0.0}, {\"path_id\": 1, \"booking_class\": \"Y2\", \"days_prior\": 5, \"forecast_mean\": 0.0}, {\"path_id\": 1, \"booking_class\": \"Y2\", \"days_prior\": 7, \"forecast_mean\": 0.0}, {\"path_id\": 1, \"booking_class\": \"Y2\", \"days_prior\": 10, \"forecast_mean\": 0.0}, {\"path_id\": 1, \"booking_class\": \"Y2\", \"days_prior\": 14, \"forecast_mean\": 0.0}, {\"path_id\": 1, \"booking_class\": \"Y2\", \"days_prior\": 17, \"forecast_mean\": 0.0}, {\"path_id\": 1, \"booking_class\": \"Y2\", \"days_prior\": 21, \"forecast_mean\": 0.0}, {\"path_id\": 1, \"booking_class\": \"Y2\", \"days_prior\": 24, \"forecast_mean\": 0.0}, {\"path_id\": 1, \"booking_class\": \"Y2\", \"days_prior\": 28, \"forecast_mean\": 0.0}, {\"path_id\": 1, \"booking_class\": \"Y2\", \"days_prior\": 31, \"forecast_mean\": 0.0}, {\"path_id\": 1, \"booking_class\": \"Y2\", \"days_prior\": 35, \"forecast_mean\": 0.0}, {\"path_id\": 1, \"booking_class\": \"Y2\", \"days_prior\": 42, \"forecast_mean\": 0.0}, {\"path_id\": 1, \"booking_class\": \"Y2\", \"days_prior\": 49, \"forecast_mean\": 0.0}, {\"path_id\": 1, \"booking_class\": \"Y2\", \"days_prior\": 56, \"forecast_mean\": 0.0}, {\"path_id\": 1, \"booking_class\": \"Y2\", \"days_prior\": 63, \"forecast_mean\": 0.0}, {\"path_id\": 1, \"booking_class\": \"Y3\", \"days_prior\": 0, \"forecast_mean\": 0.0}, {\"path_id\": 1, \"booking_class\": \"Y3\", \"days_prior\": 1, \"forecast_mean\": 0.0}, {\"path_id\": 1, \"booking_class\": \"Y3\", \"days_prior\": 3, \"forecast_mean\": 0.0}, {\"path_id\": 1, \"booking_class\": \"Y3\", \"days_prior\": 5, \"forecast_mean\": 0.0}, {\"path_id\": 1, \"booking_class\": \"Y3\", \"days_prior\": 7, \"forecast_mean\": 0.0}, {\"path_id\": 1, \"booking_class\": \"Y3\", \"days_prior\": 10, \"forecast_mean\": 0.0}, {\"path_id\": 1, \"booking_class\": \"Y3\", \"days_prior\": 14, \"forecast_mean\": 0.0}, {\"path_id\": 1, \"booking_class\": \"Y3\", \"days_prior\": 17, \"forecast_mean\": 0.0}, {\"path_id\": 1, \"booking_class\": \"Y3\", \"days_prior\": 21, \"forecast_mean\": 0.0}, {\"path_id\": 1, \"booking_class\": \"Y3\", \"days_prior\": 24, \"forecast_mean\": 0.0}, {\"path_id\": 1, \"booking_class\": \"Y3\", \"days_prior\": 28, \"forecast_mean\": 0.0}, {\"path_id\": 1, \"booking_class\": \"Y3\", \"days_prior\": 31, \"forecast_mean\": 0.0}, {\"path_id\": 1, \"booking_class\": \"Y3\", \"days_prior\": 35, \"forecast_mean\": 0.0}, {\"path_id\": 1, \"booking_class\": \"Y3\", \"days_prior\": 42, \"forecast_mean\": 0.0}, {\"path_id\": 1, \"booking_class\": \"Y3\", \"days_prior\": 49, \"forecast_mean\": 0.0}, {\"path_id\": 1, \"booking_class\": \"Y3\", \"days_prior\": 56, \"forecast_mean\": 0.0}, {\"path_id\": 1, \"booking_class\": \"Y3\", \"days_prior\": 63, \"forecast_mean\": 0.0}, {\"path_id\": 1, \"booking_class\": \"Y4\", \"days_prior\": 0, \"forecast_mean\": 0.0}, {\"path_id\": 1, \"booking_class\": \"Y4\", \"days_prior\": 1, \"forecast_mean\": 0.0}, {\"path_id\": 1, \"booking_class\": \"Y4\", \"days_prior\": 3, \"forecast_mean\": 0.0}, {\"path_id\": 1, \"booking_class\": \"Y4\", \"days_prior\": 5, \"forecast_mean\": 0.0}, {\"path_id\": 1, \"booking_class\": \"Y4\", \"days_prior\": 7, \"forecast_mean\": 0.0}, {\"path_id\": 1, \"booking_class\": \"Y4\", \"days_prior\": 10, \"forecast_mean\": 0.0}, {\"path_id\": 1, \"booking_class\": \"Y4\", \"days_prior\": 14, \"forecast_mean\": 0.0}, {\"path_id\": 1, \"booking_class\": \"Y4\", \"days_prior\": 17, \"forecast_mean\": 0.0}, {\"path_id\": 1, \"booking_class\": \"Y4\", \"days_prior\": 21, \"forecast_mean\": 0.0}, {\"path_id\": 1, \"booking_class\": \"Y4\", \"days_prior\": 24, \"forecast_mean\": 0.0}, {\"path_id\": 1, \"booking_class\": \"Y4\", \"days_prior\": 28, \"forecast_mean\": 0.0}, {\"path_id\": 1, \"booking_class\": \"Y4\", \"days_prior\": 31, \"forecast_mean\": 0.0}, {\"path_id\": 1, \"booking_class\": \"Y4\", \"days_prior\": 35, \"forecast_mean\": 0.0}, {\"path_id\": 1, \"booking_class\": \"Y4\", \"days_prior\": 42, \"forecast_mean\": 0.0}, {\"path_id\": 1, \"booking_class\": \"Y4\", \"days_prior\": 49, \"forecast_mean\": 0.0}, {\"path_id\": 1, \"booking_class\": \"Y4\", \"days_prior\": 56, \"forecast_mean\": 0.0}, {\"path_id\": 1, \"booking_class\": \"Y4\", \"days_prior\": 63, \"forecast_mean\": 0.0}, {\"path_id\": 1, \"booking_class\": \"Y5\", \"days_prior\": 0, \"forecast_mean\": 0.0}, {\"path_id\": 1, \"booking_class\": \"Y5\", \"days_prior\": 1, \"forecast_mean\": 0.0}, {\"path_id\": 1, \"booking_class\": \"Y5\", \"days_prior\": 3, \"forecast_mean\": 0.0}, {\"path_id\": 1, \"booking_class\": \"Y5\", \"days_prior\": 5, \"forecast_mean\": 0.0}, {\"path_id\": 1, \"booking_class\": \"Y5\", \"days_prior\": 7, \"forecast_mean\": 0.0}, {\"path_id\": 1, \"booking_class\": \"Y5\", \"days_prior\": 10, \"forecast_mean\": 0.0}, {\"path_id\": 1, \"booking_class\": \"Y5\", \"days_prior\": 14, \"forecast_mean\": 0.0}, {\"path_id\": 1, \"booking_class\": \"Y5\", \"days_prior\": 17, \"forecast_mean\": 0.0}, {\"path_id\": 1, \"booking_class\": \"Y5\", \"days_prior\": 21, \"forecast_mean\": 0.0}, {\"path_id\": 1, \"booking_class\": \"Y5\", \"days_prior\": 24, \"forecast_mean\": 0.0}, {\"path_id\": 1, \"booking_class\": \"Y5\", \"days_prior\": 28, \"forecast_mean\": 0.0}, {\"path_id\": 1, \"booking_class\": \"Y5\", \"days_prior\": 31, \"forecast_mean\": 0.0}, {\"path_id\": 1, \"booking_class\": \"Y5\", \"days_prior\": 35, \"forecast_mean\": 0.0}, {\"path_id\": 1, \"booking_class\": \"Y5\", \"days_prior\": 42, \"forecast_mean\": 0.0}, {\"path_id\": 1, \"booking_class\": \"Y5\", \"days_prior\": 49, \"forecast_mean\": 0.0}, {\"path_id\": 1, \"booking_class\": \"Y5\", \"days_prior\": 56, \"forecast_mean\": 0.0}, {\"path_id\": 1, \"booking_class\": \"Y5\", \"days_prior\": 63, \"forecast_mean\": 0.0}]}}, {\"mode\": \"vega-lite\"});\n",
       "</script>"
      ],
      "text/plain": [
       "alt.Chart(...)"
      ]
     },
     "execution_count": 10,
     "metadata": {},
     "output_type": "execute_result"
    }
   ],
   "source": [
    "summary.fig_path_forecasts(by_path_id=1)"
   ]
  },
  {
   "cell_type": "code",
   "execution_count": 11,
   "id": "0a5f2b50-6bda-4068-90fb-69117e722eac",
   "metadata": {},
   "outputs": [
    {
     "data": {
      "text/html": [
       "\n",
       "<style>\n",
       "  #altair-viz-c7902a5703b64bee98f25cd3180516e8.vega-embed {\n",
       "    width: 100%;\n",
       "    display: flex;\n",
       "  }\n",
       "\n",
       "  #altair-viz-c7902a5703b64bee98f25cd3180516e8.vega-embed details,\n",
       "  #altair-viz-c7902a5703b64bee98f25cd3180516e8.vega-embed details summary {\n",
       "    position: relative;\n",
       "  }\n",
       "</style>\n",
       "<div id=\"altair-viz-c7902a5703b64bee98f25cd3180516e8\"></div>\n",
       "<script type=\"text/javascript\">\n",
       "  var VEGA_DEBUG = (typeof VEGA_DEBUG == \"undefined\") ? {} : VEGA_DEBUG;\n",
       "  (function(spec, embedOpt){\n",
       "    let outputDiv = document.currentScript.previousElementSibling;\n",
       "    if (outputDiv.id !== \"altair-viz-c7902a5703b64bee98f25cd3180516e8\") {\n",
       "      outputDiv = document.getElementById(\"altair-viz-c7902a5703b64bee98f25cd3180516e8\");\n",
       "    }\n",
       "    const paths = {\n",
       "      \"vega\": \"https://cdn.jsdelivr.net/npm/vega@5?noext\",\n",
       "      \"vega-lib\": \"https://cdn.jsdelivr.net/npm/vega-lib?noext\",\n",
       "      \"vega-lite\": \"https://cdn.jsdelivr.net/npm/vega-lite@5.15.1?noext\",\n",
       "      \"vega-embed\": \"https://cdn.jsdelivr.net/npm/vega-embed@6?noext\",\n",
       "    };\n",
       "\n",
       "    function maybeLoadScript(lib, version) {\n",
       "      var key = `${lib.replace(\"-\", \"\")}_version`;\n",
       "      return (VEGA_DEBUG[key] == version) ?\n",
       "        Promise.resolve(paths[lib]) :\n",
       "        new Promise(function(resolve, reject) {\n",
       "          var s = document.createElement('script');\n",
       "          document.getElementsByTagName(\"head\")[0].appendChild(s);\n",
       "          s.async = true;\n",
       "          s.onload = () => {\n",
       "            VEGA_DEBUG[key] = version;\n",
       "            return resolve(paths[lib]);\n",
       "          };\n",
       "          s.onerror = () => reject(`Error loading script: ${paths[lib]}`);\n",
       "          s.src = paths[lib];\n",
       "        });\n",
       "    }\n",
       "\n",
       "    function showError(err) {\n",
       "      outputDiv.innerHTML = `<div class=\"error\" style=\"color:red;\">${err}</div>`;\n",
       "      throw err;\n",
       "    }\n",
       "\n",
       "    function displayChart(vegaEmbed) {\n",
       "      vegaEmbed(outputDiv, spec, embedOpt)\n",
       "        .catch(err => showError(`Javascript Error: ${err.message}<br>This usually means there's a typo in your chart specification. See the javascript console for the full traceback.`));\n",
       "    }\n",
       "\n",
       "    if(typeof define === \"function\" && define.amd) {\n",
       "      requirejs.config({paths});\n",
       "      require([\"vega-embed\"], displayChart, err => showError(`Error loading script: ${err.message}`));\n",
       "    } else {\n",
       "      maybeLoadScript(\"vega\", \"5\")\n",
       "        .then(() => maybeLoadScript(\"vega-lite\", \"5.15.1\"))\n",
       "        .then(() => maybeLoadScript(\"vega-embed\", \"6\"))\n",
       "        .catch(showError)\n",
       "        .then(() => displayChart(vegaEmbed));\n",
       "    }\n",
       "  })({\"config\": {\"view\": {\"continuousWidth\": 300, \"continuousHeight\": 300}, \"title\": {\"fontSize\": 18}}, \"data\": {\"name\": \"data-bb4aaae739421a99d3779e1929563aff\"}, \"facet\": {\"row\": {\"field\": \"paxtype\", \"title\": \"Passenger Type\", \"type\": \"nominal\"}}, \"spec\": {\"mark\": {\"type\": \"bar\"}, \"encoding\": {\"color\": {\"field\": \"booking_class\", \"title\": \"Booking Class\", \"type\": \"nominal\"}, \"tooltip\": [{\"field\": \"paxtype\", \"title\": \"Passenger Type\", \"type\": \"nominal\"}, {\"field\": \"days_prior\", \"title\": \"DfD\", \"type\": \"quantitative\"}, {\"field\": \"sold\", \"format\": \".2f\", \"type\": \"quantitative\"}], \"x\": {\"field\": \"days_prior\", \"scale\": {\"reverse\": true}, \"title\": \"Days Prior to Departure\", \"type\": \"ordinal\"}, \"y\": {\"field\": \"sold\", \"type\": \"quantitative\"}}, \"height\": 200, \"width\": 500}, \"title\": \"Bookings by Timeframe and Booking Class (AL1)\", \"$schema\": \"https://vega.github.io/schema/vega-lite/v5.15.1.json\", \"datasets\": {\"data-bb4aaae739421a99d3779e1929563aff\": [{\"paxtype\": \"business\", \"days_prior\": 63, \"booking_class\": \"Y5\", \"sold\": 8.728, \"sem\": 0.03050143354925579, \"ci0\": 8.668217190243459, \"ci1\": 8.787782809756541}, {\"paxtype\": \"business\", \"days_prior\": 56, \"booking_class\": \"Y5\", \"sold\": 7.280111111111111, \"sem\": 0.036273783645665685, \"ci0\": 7.209014495165606, \"ci1\": 7.351207727056616}, {\"paxtype\": \"business\", \"days_prior\": 49, \"booking_class\": \"Y0\", \"sold\": 0.007666666666666666, \"sem\": 0.0013803440854506831, \"ci0\": 0.004961192259183327, \"ci1\": 0.010372141074150005}, {\"paxtype\": \"business\", \"days_prior\": 49, \"booking_class\": \"Y5\", \"sold\": 5.805888888888889, \"sem\": 0.035287589769911344, \"ci0\": 5.736725212939863, \"ci1\": 5.875052564837915}, {\"paxtype\": \"business\", \"days_prior\": 42, \"booking_class\": \"Y0\", \"sold\": 0.07255555555555555, \"sem\": 0.006713927133824067, \"ci0\": 0.05939625837326038, \"ci1\": 0.08571485273785072}, {\"paxtype\": \"business\", \"days_prior\": 42, \"booking_class\": \"Y5\", \"sold\": 7.145444444444443, \"sem\": 0.024814510777573528, \"ci0\": 7.096808003320399, \"ci1\": 7.1940808855684875}, {\"paxtype\": \"business\", \"days_prior\": 35, \"booking_class\": \"Y0\", \"sold\": 0.26755555555555555, \"sem\": 0.0186026238248459, \"ci0\": 0.2310944128588576, \"ci1\": 0.3040166982522535}, {\"paxtype\": \"business\", \"days_prior\": 35, \"booking_class\": \"Y5\", \"sold\": 3.9691111111111104, \"sem\": 0.02891110257067091, \"ci0\": 3.9124453500725953, \"ci1\": 4.025776872149625}, {\"paxtype\": \"business\", \"days_prior\": 31, \"booking_class\": \"Y0\", \"sold\": 0.3675555555555556, \"sem\": 0.014826661929714725, \"ci0\": 0.3384952981733147, \"ci1\": 0.39661581293779646}, {\"paxtype\": \"business\", \"days_prior\": 31, \"booking_class\": \"Y5\", \"sold\": 2.387333333333334, \"sem\": 0.03117242635100851, \"ci0\": 2.3262353776853577, \"ci1\": 2.4484312889813107}, {\"paxtype\": \"business\", \"days_prior\": 28, \"booking_class\": \"Y0\", \"sold\": 0.9351111111111112, \"sem\": 0.02953280475889984, \"ci0\": 0.8772268137836675, \"ci1\": 0.9929954084385549}, {\"paxtype\": \"business\", \"days_prior\": 28, \"booking_class\": \"Y5\", \"sold\": 2.8635555555555556, \"sem\": 0.03983153826215094, \"ci0\": 2.78548574056174, \"ci1\": 2.9416253705493713}, {\"paxtype\": \"business\", \"days_prior\": 24, \"booking_class\": \"Y0\", \"sold\": 0.9902222222222221, \"sem\": 0.01219390659406131, \"ci0\": 0.966322165297862, \"ci1\": 1.0141222791465823}, {\"paxtype\": \"business\", \"days_prior\": 24, \"booking_class\": \"Y5\", \"sold\": 2.8244444444444445, \"sem\": 0.030108172605011634, \"ci0\": 2.765432426138622, \"ci1\": 2.8834564627502672}, {\"paxtype\": \"business\", \"days_prior\": 21, \"booking_class\": \"Y0\", \"sold\": 2.031444444444445, \"sem\": 0.03045969249583805, \"ci0\": 1.9717434471526023, \"ci1\": 2.0911454417362876}, {\"paxtype\": \"business\", \"days_prior\": 21, \"booking_class\": \"Y5\", \"sold\": 2.5323333333333338, \"sem\": 0.022809192428914687, \"ci0\": 2.487627316172661, \"ci1\": 2.5770393504940063}, {\"paxtype\": \"business\", \"days_prior\": 17, \"booking_class\": \"Y0\", \"sold\": 2.6262222222222222, \"sem\": 0.023138635082271097, \"ci0\": 2.580870497460971, \"ci1\": 2.6715739469834734}, {\"paxtype\": \"business\", \"days_prior\": 17, \"booking_class\": \"Y5\", \"sold\": 2.9743333333333313, \"sem\": 0.017647244545675327, \"ci0\": 2.9397447340238076, \"ci1\": 3.008921932642855}, {\"paxtype\": \"business\", \"days_prior\": 14, \"booking_class\": \"Y0\", \"sold\": 6.810333333333334, \"sem\": 0.044301947490379384, \"ci0\": 6.723501516252191, \"ci1\": 6.8971651504144775}, {\"paxtype\": \"business\", \"days_prior\": 14, \"booking_class\": \"Y5\", \"sold\": 3.463333333333334, \"sem\": 0.045374225081902975, \"ci0\": 3.374399852172804, \"ci1\": 3.552266814493864}, {\"paxtype\": \"business\", \"days_prior\": 10, \"booking_class\": \"Y0\", \"sold\": 5.523777777777778, \"sem\": 0.05309494045887954, \"ci0\": 5.419711694478374, \"ci1\": 5.627843861077182}, {\"paxtype\": \"business\", \"days_prior\": 10, \"booking_class\": \"Y5\", \"sold\": 8.26388888888889, \"sem\": 0.05376248379607477, \"ci0\": 8.158514420648583, \"ci1\": 8.369263357129196}, {\"paxtype\": \"business\", \"days_prior\": 7, \"booking_class\": \"Y0\", \"sold\": 1.474666666666666, \"sem\": 0.021375729477601302, \"ci0\": 1.4327702368905673, \"ci1\": 1.5165630964427645}, {\"paxtype\": \"business\", \"days_prior\": 7, \"booking_class\": \"Y5\", \"sold\": 9.068666666666667, \"sem\": 0.02891062809780483, \"ci0\": 9.012001835594969, \"ci1\": 9.125331497738365}, {\"paxtype\": \"business\", \"days_prior\": 5, \"booking_class\": \"Y0\", \"sold\": 1.8805555555555569, \"sem\": 0.02360061495095186, \"ci0\": 1.8342983502516912, \"ci1\": 1.9268127608594225}, {\"paxtype\": \"business\", \"days_prior\": 5, \"booking_class\": \"Y5\", \"sold\": 8.393666666666665, \"sem\": 0.028984670277772268, \"ci0\": 8.33685671292223, \"ci1\": 8.450476620411099}, {\"paxtype\": \"business\", \"days_prior\": 3, \"booking_class\": \"Y0\", \"sold\": 5.974000000000001, \"sem\": 0.051612197492851855, \"ci0\": 5.872840092914012, \"ci1\": 6.0751599070859905}, {\"paxtype\": \"business\", \"days_prior\": 3, \"booking_class\": \"Y5\", \"sold\": 14.437999999999999, \"sem\": 0.08039542193628073, \"ci0\": 14.280424973004889, \"ci1\": 14.595575026995109}, {\"paxtype\": \"business\", \"days_prior\": 1, \"booking_class\": \"Y0\", \"sold\": 0.01622222222222227, \"sem\": 0.00203670030886924, \"ci0\": 0.01223028961683856, \"ci1\": 0.020214154827605982}, {\"paxtype\": \"business\", \"days_prior\": 1, \"booking_class\": \"Y5\", \"sold\": 7.19177777777778, \"sem\": 0.03537461677050083, \"ci0\": 7.122443528907598, \"ci1\": 7.261112026647962}, {\"paxtype\": \"leisure\", \"days_prior\": 63, \"booking_class\": \"Y5\", \"sold\": 32.409000000000006, \"sem\": 0.06536726464136403, \"ci0\": 32.28088016130293, \"ci1\": 32.53711983869708}, {\"paxtype\": \"leisure\", \"days_prior\": 56, \"booking_class\": \"Y5\", \"sold\": 15.26788888888889, \"sem\": 0.05759645098424694, \"ci0\": 15.154999844959766, \"ci1\": 15.380777932818015}, {\"paxtype\": \"leisure\", \"days_prior\": 49, \"booking_class\": \"Y0\", \"sold\": 0.0016666666666666666, \"sem\": 0.00037951669503554067, \"ci0\": 0.0009228139443970069, \"ci1\": 0.002410519388936326}, {\"paxtype\": \"leisure\", \"days_prior\": 49, \"booking_class\": \"Y5\", \"sold\": 17.08533333333333, \"sem\": 0.056410410659089104, \"ci0\": 16.974768928441517, \"ci1\": 17.195897738225145}, {\"paxtype\": \"leisure\", \"days_prior\": 42, \"booking_class\": \"Y0\", \"sold\": 0.01711111111111111, \"sem\": 0.0017387695695267411, \"ci0\": 0.0137031227548387, \"ci1\": 0.020519099467383523}, {\"paxtype\": \"leisure\", \"days_prior\": 42, \"booking_class\": \"Y5\", \"sold\": 16.830333333333336, \"sem\": 0.04865376964235733, \"ci0\": 16.734971944834314, \"ci1\": 16.925694721832357}, {\"paxtype\": \"leisure\", \"days_prior\": 35, \"booking_class\": \"Y0\", \"sold\": 0.06877777777777777, \"sem\": 0.0054645634818015635, \"ci0\": 0.058067233353446705, \"ci1\": 0.07948832220210883}, {\"paxtype\": \"leisure\", \"days_prior\": 35, \"booking_class\": \"Y5\", \"sold\": 10.217888888888888, \"sem\": 0.07979130013669003, \"ci0\": 10.061497940620976, \"ci1\": 10.3742798371568}, {\"paxtype\": \"leisure\", \"days_prior\": 31, \"booking_class\": \"Y0\", \"sold\": 0.08655555555555555, \"sem\": 0.003611633390531139, \"ci0\": 0.07947675411011453, \"ci1\": 0.09363435700099658}, {\"paxtype\": \"leisure\", \"days_prior\": 31, \"booking_class\": \"Y5\", \"sold\": 6.015333333333335, \"sem\": 0.05570050227206887, \"ci0\": 5.90616034888008, \"ci1\": 6.12450631778659}, {\"paxtype\": \"leisure\", \"days_prior\": 28, \"booking_class\": \"Y0\", \"sold\": 0.3097777777777778, \"sem\": 0.007343800984120951, \"ci0\": 0.2953839278489008, \"ci1\": 0.32417162770665486}, {\"paxtype\": \"leisure\", \"days_prior\": 28, \"booking_class\": \"Y5\", \"sold\": 9.667222222222222, \"sem\": 0.10297232171695793, \"ci0\": 9.465396471656984, \"ci1\": 9.86904797278746}, {\"paxtype\": \"leisure\", \"days_prior\": 24, \"booking_class\": \"Y0\", \"sold\": 0.3102222222222222, \"sem\": 0.00759539243769398, \"ci0\": 0.295335253044342, \"ci1\": 0.32510919140010236}, {\"paxtype\": \"leisure\", \"days_prior\": 24, \"booking_class\": \"Y5\", \"sold\": 9.533000000000001, \"sem\": 0.07218651538975521, \"ci0\": 9.39151442983608, \"ci1\": 9.674485570163922}, {\"paxtype\": \"leisure\", \"days_prior\": 21, \"booking_class\": \"Y0\", \"sold\": 0.34466666666666657, \"sem\": 0.007798561296741836, \"ci0\": 0.32938148652505256, \"ci1\": 0.3599518468082806}, {\"paxtype\": \"leisure\", \"days_prior\": 21, \"booking_class\": \"Y5\", \"sold\": 4.78322222222222, \"sem\": 0.05189269555392088, \"ci0\": 4.681512538936535, \"ci1\": 4.884931905507904}, {\"paxtype\": \"leisure\", \"days_prior\": 17, \"booking_class\": \"Y0\", \"sold\": 0.31722222222222235, \"sem\": 0.004466764939647393, \"ci0\": 0.30846736294051347, \"ci1\": 0.32597708150393123}, {\"paxtype\": \"leisure\", \"days_prior\": 17, \"booking_class\": \"Y5\", \"sold\": 3.7338888888888904, \"sem\": 0.030273218594334194, \"ci0\": 3.6745533804439954, \"ci1\": 3.7932243973337854}, {\"paxtype\": \"leisure\", \"days_prior\": 14, \"booking_class\": \"Y0\", \"sold\": 0.38599999999999995, \"sem\": 0.005070693656333285, \"ci0\": 0.3760614404335867, \"ci1\": 0.3959385595664132}, {\"paxtype\": \"leisure\", \"days_prior\": 14, \"booking_class\": \"Y5\", \"sold\": 2.144000000000001, \"sem\": 0.039972281205183764, \"ci0\": 2.065654328837841, \"ci1\": 2.222345671162161}, {\"paxtype\": \"leisure\", \"days_prior\": 10, \"booking_class\": \"Y0\", \"sold\": 0.16011111111111115, \"sem\": 0.00615405784694449, \"ci0\": 0.14804915773109995, \"ci1\": 0.17217306449112235}, {\"paxtype\": \"leisure\", \"days_prior\": 10, \"booking_class\": \"Y5\", \"sold\": 2.7382222222222183, \"sem\": 0.02823145566851247, \"ci0\": 2.6828885691119337, \"ci1\": 2.793555875332503}, {\"paxtype\": \"leisure\", \"days_prior\": 7, \"booking_class\": \"Y0\", \"sold\": 0.03733333333333331, \"sem\": 0.00181594824772314, \"ci0\": 0.03377407476779595, \"ci1\": 0.040892591898870664}, {\"paxtype\": \"leisure\", \"days_prior\": 7, \"booking_class\": \"Y5\", \"sold\": 3.0488888888888908, \"sem\": 0.025273809212280826, \"ci0\": 2.99935222283282, \"ci1\": 3.0984255549449613}, {\"paxtype\": \"leisure\", \"days_prior\": 5, \"booking_class\": \"Y0\", \"sold\": 0.13022222222222216, \"sem\": 0.002293905565511426, \"ci0\": 0.12572616731381975, \"ci1\": 0.13471827713062456}, {\"paxtype\": \"leisure\", \"days_prior\": 5, \"booking_class\": \"Y5\", \"sold\": 6.911888888888891, \"sem\": 0.029520191411305775, \"ci0\": 6.854029313722731, \"ci1\": 6.96974846405505}, {\"paxtype\": \"leisure\", \"days_prior\": 3, \"booking_class\": \"Y0\", \"sold\": 0.11122222222222233, \"sem\": 0.004068851871911229, \"ci0\": 0.10324727255327633, \"ci1\": 0.11919717189116834}, {\"paxtype\": \"leisure\", \"days_prior\": 3, \"booking_class\": \"Y5\", \"sold\": 3.376777777777778, \"sem\": 0.016399044771271364, \"ci0\": 3.344635650026086, \"ci1\": 3.4089199055294697}, {\"paxtype\": \"leisure\", \"days_prior\": 1, \"booking_class\": \"Y0\", \"sold\": 0.00011111111111108407, \"sem\": 0.00011111111111108407, \"ci0\": 0.0, \"ci1\": 0.00032888888888880886}, {\"paxtype\": \"leisure\", \"days_prior\": 1, \"booking_class\": \"Y5\", \"sold\": 3.799222222222221, \"sem\": 0.018881661652948134, \"ci0\": 3.7622141653824426, \"ci1\": 3.8362302790619993}]}}, {\"mode\": \"vega-lite\"});\n",
       "</script>"
      ],
      "text/plain": [
       "alt.FacetChart(...)"
      ]
     },
     "execution_count": 11,
     "metadata": {},
     "output_type": "execute_result"
    }
   ],
   "source": [
    "summary.fig_bookings_by_timeframe(by_carrier=\"AL1\", by_class=True)"
   ]
  },
  {
   "cell_type": "code",
   "execution_count": 12,
   "id": "ff82cf76-46ba-47b7-9e6a-7f06fa499651",
   "metadata": {},
   "outputs": [],
   "source": [
    "# summary.to_xlsx(\"outputs/3mkt-16.xlsx\")"
   ]
  },
  {
   "cell_type": "markdown",
   "id": "ef0149d7-69d6-4a13-a763-8732bab96fad",
   "metadata": {},
   "source": [
    "## Comparing against Targets"
   ]
  },
  {
   "cell_type": "code",
   "execution_count": 13,
   "id": "db23ae9b-f73f-46a7-a5bf-11a65668734c",
   "metadata": {},
   "outputs": [],
   "source": [
    "target = vt.pods(\"pods-targets/03_qnt.SOT\", config=cfg)"
   ]
  },
  {
   "cell_type": "code",
   "execution_count": 14,
   "id": "658336d8-3ceb-4605-aafb-4dc5ca9a5bb3",
   "metadata": {},
   "outputs": [],
   "source": [
    "from passengersim import contrast\n",
    "\n",
    "comps = contrast.Contrast({\n",
    "    \"simulation\": summary,\n",
    "    \"target\": target,\n",
    "})"
   ]
  },
  {
   "cell_type": "code",
   "execution_count": 15,
   "id": "0d783537-5ca5-4c28-a485-dc8f220ddb3c",
   "metadata": {},
   "outputs": [
    {
     "data": {
      "text/html": [
       "\n",
       "<style>\n",
       "  #altair-viz-60f6a7c66d0f41e89283514d07eed00b.vega-embed {\n",
       "    width: 100%;\n",
       "    display: flex;\n",
       "  }\n",
       "\n",
       "  #altair-viz-60f6a7c66d0f41e89283514d07eed00b.vega-embed details,\n",
       "  #altair-viz-60f6a7c66d0f41e89283514d07eed00b.vega-embed details summary {\n",
       "    position: relative;\n",
       "  }\n",
       "</style>\n",
       "<div id=\"altair-viz-60f6a7c66d0f41e89283514d07eed00b\"></div>\n",
       "<script type=\"text/javascript\">\n",
       "  var VEGA_DEBUG = (typeof VEGA_DEBUG == \"undefined\") ? {} : VEGA_DEBUG;\n",
       "  (function(spec, embedOpt){\n",
       "    let outputDiv = document.currentScript.previousElementSibling;\n",
       "    if (outputDiv.id !== \"altair-viz-60f6a7c66d0f41e89283514d07eed00b\") {\n",
       "      outputDiv = document.getElementById(\"altair-viz-60f6a7c66d0f41e89283514d07eed00b\");\n",
       "    }\n",
       "    const paths = {\n",
       "      \"vega\": \"https://cdn.jsdelivr.net/npm/vega@5?noext\",\n",
       "      \"vega-lib\": \"https://cdn.jsdelivr.net/npm/vega-lib?noext\",\n",
       "      \"vega-lite\": \"https://cdn.jsdelivr.net/npm/vega-lite@5.15.1?noext\",\n",
       "      \"vega-embed\": \"https://cdn.jsdelivr.net/npm/vega-embed@6?noext\",\n",
       "    };\n",
       "\n",
       "    function maybeLoadScript(lib, version) {\n",
       "      var key = `${lib.replace(\"-\", \"\")}_version`;\n",
       "      return (VEGA_DEBUG[key] == version) ?\n",
       "        Promise.resolve(paths[lib]) :\n",
       "        new Promise(function(resolve, reject) {\n",
       "          var s = document.createElement('script');\n",
       "          document.getElementsByTagName(\"head\")[0].appendChild(s);\n",
       "          s.async = true;\n",
       "          s.onload = () => {\n",
       "            VEGA_DEBUG[key] = version;\n",
       "            return resolve(paths[lib]);\n",
       "          };\n",
       "          s.onerror = () => reject(`Error loading script: ${paths[lib]}`);\n",
       "          s.src = paths[lib];\n",
       "        });\n",
       "    }\n",
       "\n",
       "    function showError(err) {\n",
       "      outputDiv.innerHTML = `<div class=\"error\" style=\"color:red;\">${err}</div>`;\n",
       "      throw err;\n",
       "    }\n",
       "\n",
       "    function displayChart(vegaEmbed) {\n",
       "      vegaEmbed(outputDiv, spec, embedOpt)\n",
       "        .catch(err => showError(`Javascript Error: ${err.message}<br>This usually means there's a typo in your chart specification. See the javascript console for the full traceback.`));\n",
       "    }\n",
       "\n",
       "    if(typeof define === \"function\" && define.amd) {\n",
       "      requirejs.config({paths});\n",
       "      require([\"vega-embed\"], displayChart, err => showError(`Error loading script: ${err.message}`));\n",
       "    } else {\n",
       "      maybeLoadScript(\"vega\", \"5\")\n",
       "        .then(() => maybeLoadScript(\"vega-lite\", \"5.15.1\"))\n",
       "        .then(() => maybeLoadScript(\"vega-embed\", \"6\"))\n",
       "        .catch(showError)\n",
       "        .then(() => displayChart(vegaEmbed));\n",
       "    }\n",
       "  })({\"config\": {\"view\": {\"continuousWidth\": 300, \"continuousHeight\": 300}, \"title\": {\"fontSize\": 18}}, \"data\": {\"name\": \"data-f8bdb1dd1312d4f1d7f3139734679229\"}, \"facet\": {\"row\": {\"field\": \"carrier\", \"title\": \"Carrier\", \"type\": \"nominal\"}}, \"spec\": {\"layer\": [{\"mark\": {\"type\": \"bar\"}, \"encoding\": {\"color\": {\"field\": \"source\", \"title\": \"Source\", \"type\": \"nominal\"}, \"tooltip\": [{\"field\": \"source\", \"title\": null, \"type\": \"nominal\"}, {\"field\": \"carrier\", \"title\": \"Carrier\", \"type\": \"nominal\"}, {\"field\": \"avg_rev\", \"format\": \"$.4s\", \"title\": \"Revenue ($)\", \"type\": \"quantitative\"}, {\"field\": \"ratio\", \"format\": \".3%\", \"title\": \"vs simulation\", \"type\": \"quantitative\"}], \"x\": {\"field\": \"avg_rev\", \"stack\": \"zero\", \"title\": \"Revenue ($)\", \"type\": \"quantitative\"}, \"y\": {\"field\": \"source\", \"sort\": [\"simulation\", \"target\"], \"title\": null, \"type\": \"nominal\"}}}, {\"mark\": {\"type\": \"text\", \"align\": \"right\", \"baseline\": \"middle\", \"color\": \"white\", \"dx\": -5, \"dy\": 0}, \"encoding\": {\"text\": {\"field\": \"avg_rev\", \"format\": \"$.4s\", \"type\": \"quantitative\"}, \"x\": {\"field\": \"avg_rev\", \"stack\": \"zero\", \"title\": \"Revenue ($)\", \"type\": \"quantitative\"}, \"y\": {\"field\": \"source\", \"sort\": [\"simulation\", \"target\"], \"title\": null, \"type\": \"nominal\"}}}], \"height\": 50, \"width\": 500}, \"title\": \"Carrier Revenues\", \"$schema\": \"https://vega.github.io/schema/vega-lite/v5.15.1.json\", \"datasets\": {\"data-f8bdb1dd1312d4f1d7f3139734679229\": [{\"source\": \"simulation\", \"carrier\": \"AL1\", \"avg_rev\": 55607.666666666664, \"ratio\": 0.0}, {\"source\": \"simulation\", \"carrier\": \"AL2\", \"avg_rev\": 55565.544444444444, \"ratio\": 0.0}, {\"source\": \"target\", \"carrier\": \"AL1\", \"avg_rev\": 66827.0, \"ratio\": 0.201758750292226}, {\"source\": \"target\", \"carrier\": \"AL2\", \"avg_rev\": 66905.0, \"ratio\": 0.20407350758333642}]}}, {\"mode\": \"vega-lite\"});\n",
       "</script>"
      ],
      "text/plain": [
       "alt.FacetChart(...)"
      ]
     },
     "execution_count": 15,
     "metadata": {},
     "output_type": "execute_result"
    }
   ],
   "source": [
    "comps.fig_carrier_revenues()"
   ]
  },
  {
   "cell_type": "code",
   "execution_count": 16,
   "id": "d373307a-dab9-47d6-8bda-9c00943a4249",
   "metadata": {},
   "outputs": [
    {
     "data": {
      "text/html": [
       "\n",
       "<style>\n",
       "  #altair-viz-256eb99317044b86be130c24c0f3dc26.vega-embed {\n",
       "    width: 100%;\n",
       "    display: flex;\n",
       "  }\n",
       "\n",
       "  #altair-viz-256eb99317044b86be130c24c0f3dc26.vega-embed details,\n",
       "  #altair-viz-256eb99317044b86be130c24c0f3dc26.vega-embed details summary {\n",
       "    position: relative;\n",
       "  }\n",
       "</style>\n",
       "<div id=\"altair-viz-256eb99317044b86be130c24c0f3dc26\"></div>\n",
       "<script type=\"text/javascript\">\n",
       "  var VEGA_DEBUG = (typeof VEGA_DEBUG == \"undefined\") ? {} : VEGA_DEBUG;\n",
       "  (function(spec, embedOpt){\n",
       "    let outputDiv = document.currentScript.previousElementSibling;\n",
       "    if (outputDiv.id !== \"altair-viz-256eb99317044b86be130c24c0f3dc26\") {\n",
       "      outputDiv = document.getElementById(\"altair-viz-256eb99317044b86be130c24c0f3dc26\");\n",
       "    }\n",
       "    const paths = {\n",
       "      \"vega\": \"https://cdn.jsdelivr.net/npm/vega@5?noext\",\n",
       "      \"vega-lib\": \"https://cdn.jsdelivr.net/npm/vega-lib?noext\",\n",
       "      \"vega-lite\": \"https://cdn.jsdelivr.net/npm/vega-lite@5.15.1?noext\",\n",
       "      \"vega-embed\": \"https://cdn.jsdelivr.net/npm/vega-embed@6?noext\",\n",
       "    };\n",
       "\n",
       "    function maybeLoadScript(lib, version) {\n",
       "      var key = `${lib.replace(\"-\", \"\")}_version`;\n",
       "      return (VEGA_DEBUG[key] == version) ?\n",
       "        Promise.resolve(paths[lib]) :\n",
       "        new Promise(function(resolve, reject) {\n",
       "          var s = document.createElement('script');\n",
       "          document.getElementsByTagName(\"head\")[0].appendChild(s);\n",
       "          s.async = true;\n",
       "          s.onload = () => {\n",
       "            VEGA_DEBUG[key] = version;\n",
       "            return resolve(paths[lib]);\n",
       "          };\n",
       "          s.onerror = () => reject(`Error loading script: ${paths[lib]}`);\n",
       "          s.src = paths[lib];\n",
       "        });\n",
       "    }\n",
       "\n",
       "    function showError(err) {\n",
       "      outputDiv.innerHTML = `<div class=\"error\" style=\"color:red;\">${err}</div>`;\n",
       "      throw err;\n",
       "    }\n",
       "\n",
       "    function displayChart(vegaEmbed) {\n",
       "      vegaEmbed(outputDiv, spec, embedOpt)\n",
       "        .catch(err => showError(`Javascript Error: ${err.message}<br>This usually means there's a typo in your chart specification. See the javascript console for the full traceback.`));\n",
       "    }\n",
       "\n",
       "    if(typeof define === \"function\" && define.amd) {\n",
       "      requirejs.config({paths});\n",
       "      require([\"vega-embed\"], displayChart, err => showError(`Error loading script: ${err.message}`));\n",
       "    } else {\n",
       "      maybeLoadScript(\"vega\", \"5\")\n",
       "        .then(() => maybeLoadScript(\"vega-lite\", \"5.15.1\"))\n",
       "        .then(() => maybeLoadScript(\"vega-embed\", \"6\"))\n",
       "        .catch(showError)\n",
       "        .then(() => displayChart(vegaEmbed));\n",
       "    }\n",
       "  })({\"config\": {\"view\": {\"continuousWidth\": 300, \"continuousHeight\": 300}, \"title\": {\"fontSize\": 18}}, \"data\": {\"name\": \"data-66c09b95445cde9a32d49853abc8d78a\"}, \"facet\": {\"row\": {\"field\": \"carrier\", \"title\": \"Carrier\", \"type\": \"nominal\"}}, \"spec\": {\"layer\": [{\"mark\": {\"type\": \"bar\"}, \"encoding\": {\"color\": {\"field\": \"source\", \"title\": \"Source\", \"type\": \"nominal\"}, \"tooltip\": [{\"field\": \"source\", \"title\": null, \"type\": \"nominal\"}, {\"field\": \"carrier\", \"title\": \"Carrier\", \"type\": \"nominal\"}, {\"field\": \"sys_lf\", \"format\": \".2f\", \"title\": \"System Load Factor\", \"type\": \"quantitative\"}, {\"field\": \"ratio\", \"format\": \".3%\", \"title\": \"vs simulation\", \"type\": \"quantitative\"}], \"x\": {\"field\": \"sys_lf\", \"stack\": \"zero\", \"title\": \"System Load Factor\", \"type\": \"quantitative\"}, \"y\": {\"field\": \"source\", \"sort\": [\"simulation\", \"target\"], \"title\": null, \"type\": \"nominal\"}}}, {\"mark\": {\"type\": \"text\", \"align\": \"right\", \"baseline\": \"middle\", \"color\": \"white\", \"dx\": -5, \"dy\": 0}, \"encoding\": {\"text\": {\"field\": \"sys_lf\", \"format\": \".2f\", \"type\": \"quantitative\"}, \"x\": {\"field\": \"sys_lf\", \"stack\": \"zero\", \"title\": \"System Load Factor\", \"type\": \"quantitative\"}, \"y\": {\"field\": \"source\", \"sort\": [\"simulation\", \"target\"], \"title\": null, \"type\": \"nominal\"}}}], \"height\": 50, \"width\": 500}, \"title\": \"Carrier System Load Factors\", \"$schema\": \"https://vega.github.io/schema/vega-lite/v5.15.1.json\", \"datasets\": {\"data-66c09b95445cde9a32d49853abc8d78a\": [{\"source\": \"simulation\", \"carrier\": \"AL1\", \"sys_lf\": 83.7566922001779, \"ratio\": 0.0}, {\"source\": \"simulation\", \"carrier\": \"AL2\", \"sys_lf\": 83.7902835823294, \"ratio\": 0.0}, {\"source\": \"target\", \"carrier\": \"AL1\", \"sys_lf\": 78.89, \"ratio\": -0.05810511461635248}, {\"source\": \"target\", \"carrier\": \"AL2\", \"sys_lf\": 78.81, \"ratio\": -0.05943748331435039}]}}, {\"mode\": \"vega-lite\"});\n",
       "</script>"
      ],
      "text/plain": [
       "alt.FacetChart(...)"
      ]
     },
     "execution_count": 16,
     "metadata": {},
     "output_type": "execute_result"
    }
   ],
   "source": [
    "comps.fig_carrier_load_factors()"
   ]
  },
  {
   "cell_type": "code",
   "execution_count": 17,
   "id": "b18c6e52-75c1-41c3-91c6-fd6043e6e93c",
   "metadata": {},
   "outputs": [
    {
     "data": {
      "text/html": [
       "\n",
       "<style>\n",
       "  #altair-viz-1acaed75d71b400bb28ade1dc6ab7f3e.vega-embed {\n",
       "    width: 100%;\n",
       "    display: flex;\n",
       "  }\n",
       "\n",
       "  #altair-viz-1acaed75d71b400bb28ade1dc6ab7f3e.vega-embed details,\n",
       "  #altair-viz-1acaed75d71b400bb28ade1dc6ab7f3e.vega-embed details summary {\n",
       "    position: relative;\n",
       "  }\n",
       "</style>\n",
       "<div id=\"altair-viz-1acaed75d71b400bb28ade1dc6ab7f3e\"></div>\n",
       "<script type=\"text/javascript\">\n",
       "  var VEGA_DEBUG = (typeof VEGA_DEBUG == \"undefined\") ? {} : VEGA_DEBUG;\n",
       "  (function(spec, embedOpt){\n",
       "    let outputDiv = document.currentScript.previousElementSibling;\n",
       "    if (outputDiv.id !== \"altair-viz-1acaed75d71b400bb28ade1dc6ab7f3e\") {\n",
       "      outputDiv = document.getElementById(\"altair-viz-1acaed75d71b400bb28ade1dc6ab7f3e\");\n",
       "    }\n",
       "    const paths = {\n",
       "      \"vega\": \"https://cdn.jsdelivr.net/npm/vega@5?noext\",\n",
       "      \"vega-lib\": \"https://cdn.jsdelivr.net/npm/vega-lib?noext\",\n",
       "      \"vega-lite\": \"https://cdn.jsdelivr.net/npm/vega-lite@5.15.1?noext\",\n",
       "      \"vega-embed\": \"https://cdn.jsdelivr.net/npm/vega-embed@6?noext\",\n",
       "    };\n",
       "\n",
       "    function maybeLoadScript(lib, version) {\n",
       "      var key = `${lib.replace(\"-\", \"\")}_version`;\n",
       "      return (VEGA_DEBUG[key] == version) ?\n",
       "        Promise.resolve(paths[lib]) :\n",
       "        new Promise(function(resolve, reject) {\n",
       "          var s = document.createElement('script');\n",
       "          document.getElementsByTagName(\"head\")[0].appendChild(s);\n",
       "          s.async = true;\n",
       "          s.onload = () => {\n",
       "            VEGA_DEBUG[key] = version;\n",
       "            return resolve(paths[lib]);\n",
       "          };\n",
       "          s.onerror = () => reject(`Error loading script: ${paths[lib]}`);\n",
       "          s.src = paths[lib];\n",
       "        });\n",
       "    }\n",
       "\n",
       "    function showError(err) {\n",
       "      outputDiv.innerHTML = `<div class=\"error\" style=\"color:red;\">${err}</div>`;\n",
       "      throw err;\n",
       "    }\n",
       "\n",
       "    function displayChart(vegaEmbed) {\n",
       "      vegaEmbed(outputDiv, spec, embedOpt)\n",
       "        .catch(err => showError(`Javascript Error: ${err.message}<br>This usually means there's a typo in your chart specification. See the javascript console for the full traceback.`));\n",
       "    }\n",
       "\n",
       "    if(typeof define === \"function\" && define.amd) {\n",
       "      requirejs.config({paths});\n",
       "      require([\"vega-embed\"], displayChart, err => showError(`Error loading script: ${err.message}`));\n",
       "    } else {\n",
       "      maybeLoadScript(\"vega\", \"5\")\n",
       "        .then(() => maybeLoadScript(\"vega-lite\", \"5.15.1\"))\n",
       "        .then(() => maybeLoadScript(\"vega-embed\", \"6\"))\n",
       "        .catch(showError)\n",
       "        .then(() => displayChart(vegaEmbed));\n",
       "    }\n",
       "  })({\"config\": {\"view\": {\"continuousWidth\": 300, \"continuousHeight\": 300}, \"title\": {\"fontSize\": 18}}, \"data\": {\"name\": \"data-823cf4b1730a39dac6277b5b6d51da13\"}, \"facet\": {\"column\": {\"field\": \"carrier\", \"title\": \"Carrier\", \"type\": \"nominal\"}}, \"spec\": {\"layer\": [{\"mark\": {\"type\": \"bar\"}, \"encoding\": {\"color\": {\"field\": \"booking_class\", \"type\": \"nominal\"}, \"tooltip\": [{\"field\": \"source\", \"type\": \"nominal\"}, {\"field\": \"booking_class\", \"type\": \"nominal\"}, {\"field\": \"avg_sold\", \"format\": \".2f\", \"type\": \"quantitative\"}], \"x\": {\"field\": \"source\", \"sort\": [\"simulation\", \"target\"], \"title\": \"Source\", \"type\": \"nominal\"}, \"y\": {\"field\": \"avg_sold\", \"stack\": \"zero\", \"title\": \"Seats\", \"type\": \"quantitative\"}}, \"transform\": [{\"calculate\": \"datum.avg_sold / 2.0\", \"as\": \"halfsold\"}]}, {\"mark\": {\"type\": \"text\", \"baseline\": \"top\", \"color\": \"white\", \"dx\": 0, \"dy\": 3}, \"encoding\": {\"opacity\": {\"condition\": {\"test\": \"datum.avg_sold < 16.571\", \"value\": 0}, \"value\": 1}, \"order\": {\"field\": \"booking_class\", \"sort\": \"descending\", \"type\": \"nominal\"}, \"text\": {\"field\": \"avg_sold\", \"format\": \".2f\", \"type\": \"quantitative\"}, \"x\": {\"field\": \"source\", \"sort\": [\"simulation\", \"target\"], \"title\": \"Source\", \"type\": \"nominal\"}, \"y\": {\"field\": \"avg_sold\", \"stack\": \"zero\", \"title\": \"Seats\", \"type\": \"quantitative\"}}, \"transform\": [{\"calculate\": \"datum.avg_sold / 2.0\", \"as\": \"halfsold\"}]}], \"height\": 300, \"width\": 200}, \"title\": \"Carrier Fare Class Mix\", \"$schema\": \"https://vega.github.io/schema/vega-lite/v5.15.1.json\", \"datasets\": {\"data-823cf4b1730a39dac6277b5b6d51da13\": [{\"source\": \"simulation\", \"carrier\": \"AL1\", \"booking_class\": \"Y0\", \"avg_sold\": 31.25888888888889}, {\"source\": \"simulation\", \"carrier\": \"AL1\", \"booking_class\": \"Y1\", \"avg_sold\": 0.0}, {\"source\": \"simulation\", \"carrier\": \"AL1\", \"booking_class\": \"Y2\", \"avg_sold\": 0.0}, {\"source\": \"simulation\", \"carrier\": \"AL1\", \"booking_class\": \"Y3\", \"avg_sold\": 0.0}, {\"source\": \"simulation\", \"carrier\": \"AL1\", \"booking_class\": \"Y4\", \"avg_sold\": 0.0}, {\"source\": \"simulation\", \"carrier\": \"AL1\", \"booking_class\": \"Y5\", \"avg_sold\": 244.892}, {\"source\": \"simulation\", \"carrier\": \"AL2\", \"booking_class\": \"Y0\", \"avg_sold\": 31.120333333333335}, {\"source\": \"simulation\", \"carrier\": \"AL2\", \"booking_class\": \"Y1\", \"avg_sold\": 0.0}, {\"source\": \"simulation\", \"carrier\": \"AL2\", \"booking_class\": \"Y2\", \"avg_sold\": 0.0}, {\"source\": \"simulation\", \"carrier\": \"AL2\", \"booking_class\": \"Y3\", \"avg_sold\": 0.0}, {\"source\": \"simulation\", \"carrier\": \"AL2\", \"booking_class\": \"Y4\", \"avg_sold\": 0.0}, {\"source\": \"simulation\", \"carrier\": \"AL2\", \"booking_class\": \"Y5\", \"avg_sold\": 245.06588888888888}, {\"source\": \"target\", \"carrier\": \"AL1\", \"booking_class\": \"Y0\", \"avg_sold\": 16.7}, {\"source\": \"target\", \"carrier\": \"AL1\", \"booking_class\": \"Y1\", \"avg_sold\": 55.78}, {\"source\": \"target\", \"carrier\": \"AL1\", \"booking_class\": \"Y2\", \"avg_sold\": 12.149999999999999}, {\"source\": \"target\", \"carrier\": \"AL1\", \"booking_class\": \"Y3\", \"avg_sold\": 14.23}, {\"source\": \"target\", \"carrier\": \"AL1\", \"booking_class\": \"Y4\", \"avg_sold\": 25.95}, {\"source\": \"target\", \"carrier\": \"AL1\", \"booking_class\": \"Y5\", \"avg_sold\": 132.03}, {\"source\": \"target\", \"carrier\": \"AL2\", \"booking_class\": \"Y0\", \"avg_sold\": 16.729999999999997}, {\"source\": \"target\", \"carrier\": \"AL2\", \"booking_class\": \"Y1\", \"avg_sold\": 56.040000000000006}, {\"source\": \"target\", \"carrier\": \"AL2\", \"booking_class\": \"Y2\", \"avg_sold\": 12.049999999999999}, {\"source\": \"target\", \"carrier\": \"AL2\", \"booking_class\": \"Y3\", \"avg_sold\": 14.2}, {\"source\": \"target\", \"carrier\": \"AL2\", \"booking_class\": \"Y4\", \"avg_sold\": 25.9}, {\"source\": \"target\", \"carrier\": \"AL2\", \"booking_class\": \"Y5\", \"avg_sold\": 131.53}]}}, {\"mode\": \"vega-lite\"});\n",
       "</script>"
      ],
      "text/plain": [
       "alt.FacetChart(...)"
      ]
     },
     "execution_count": 17,
     "metadata": {},
     "output_type": "execute_result"
    }
   ],
   "source": [
    "comps.fig_fare_class_mix()"
   ]
  },
  {
   "cell_type": "code",
   "execution_count": 18,
   "id": "1f845852-441b-4a07-bac8-0340f3d31f38",
   "metadata": {},
   "outputs": [
    {
     "data": {
      "text/html": [
       "\n",
       "<style>\n",
       "  #altair-viz-76f995fb68ab40c998719d231109b229.vega-embed {\n",
       "    width: 100%;\n",
       "    display: flex;\n",
       "  }\n",
       "\n",
       "  #altair-viz-76f995fb68ab40c998719d231109b229.vega-embed details,\n",
       "  #altair-viz-76f995fb68ab40c998719d231109b229.vega-embed details summary {\n",
       "    position: relative;\n",
       "  }\n",
       "</style>\n",
       "<div id=\"altair-viz-76f995fb68ab40c998719d231109b229\"></div>\n",
       "<script type=\"text/javascript\">\n",
       "  var VEGA_DEBUG = (typeof VEGA_DEBUG == \"undefined\") ? {} : VEGA_DEBUG;\n",
       "  (function(spec, embedOpt){\n",
       "    let outputDiv = document.currentScript.previousElementSibling;\n",
       "    if (outputDiv.id !== \"altair-viz-76f995fb68ab40c998719d231109b229\") {\n",
       "      outputDiv = document.getElementById(\"altair-viz-76f995fb68ab40c998719d231109b229\");\n",
       "    }\n",
       "    const paths = {\n",
       "      \"vega\": \"https://cdn.jsdelivr.net/npm/vega@5?noext\",\n",
       "      \"vega-lib\": \"https://cdn.jsdelivr.net/npm/vega-lib?noext\",\n",
       "      \"vega-lite\": \"https://cdn.jsdelivr.net/npm/vega-lite@5.15.1?noext\",\n",
       "      \"vega-embed\": \"https://cdn.jsdelivr.net/npm/vega-embed@6?noext\",\n",
       "    };\n",
       "\n",
       "    function maybeLoadScript(lib, version) {\n",
       "      var key = `${lib.replace(\"-\", \"\")}_version`;\n",
       "      return (VEGA_DEBUG[key] == version) ?\n",
       "        Promise.resolve(paths[lib]) :\n",
       "        new Promise(function(resolve, reject) {\n",
       "          var s = document.createElement('script');\n",
       "          document.getElementsByTagName(\"head\")[0].appendChild(s);\n",
       "          s.async = true;\n",
       "          s.onload = () => {\n",
       "            VEGA_DEBUG[key] = version;\n",
       "            return resolve(paths[lib]);\n",
       "          };\n",
       "          s.onerror = () => reject(`Error loading script: ${paths[lib]}`);\n",
       "          s.src = paths[lib];\n",
       "        });\n",
       "    }\n",
       "\n",
       "    function showError(err) {\n",
       "      outputDiv.innerHTML = `<div class=\"error\" style=\"color:red;\">${err}</div>`;\n",
       "      throw err;\n",
       "    }\n",
       "\n",
       "    function displayChart(vegaEmbed) {\n",
       "      vegaEmbed(outputDiv, spec, embedOpt)\n",
       "        .catch(err => showError(`Javascript Error: ${err.message}<br>This usually means there's a typo in your chart specification. See the javascript console for the full traceback.`));\n",
       "    }\n",
       "\n",
       "    if(typeof define === \"function\" && define.amd) {\n",
       "      requirejs.config({paths});\n",
       "      require([\"vega-embed\"], displayChart, err => showError(`Error loading script: ${err.message}`));\n",
       "    } else {\n",
       "      maybeLoadScript(\"vega\", \"5\")\n",
       "        .then(() => maybeLoadScript(\"vega-lite\", \"5.15.1\"))\n",
       "        .then(() => maybeLoadScript(\"vega-embed\", \"6\"))\n",
       "        .catch(showError)\n",
       "        .then(() => displayChart(vegaEmbed));\n",
       "    }\n",
       "  })({\"config\": {\"view\": {\"continuousWidth\": 300, \"continuousHeight\": 300}, \"title\": {\"fontSize\": 18}}, \"data\": {\"name\": \"data-eddfee32fbdeece3ad5f96b66982c0c1\"}, \"facet\": {\"row\": {\"field\": \"paxtype\", \"title\": \"Passenger Type\", \"type\": \"nominal\"}}, \"spec\": {\"mark\": {\"type\": \"bar\"}, \"encoding\": {\"color\": {\"field\": \"booking_class\", \"title\": \"Booking Class\", \"type\": \"nominal\"}, \"tooltip\": [{\"field\": \"source\", \"title\": \"Source\", \"type\": \"nominal\"}, {\"field\": \"paxtype\", \"title\": \"Passenger Type\", \"type\": \"nominal\"}, {\"field\": \"booking_class\", \"title\": \"Booking Class\", \"type\": \"nominal\"}, {\"field\": \"days_prior\", \"title\": \"DfD\", \"type\": \"quantitative\"}, {\"field\": \"sold\", \"format\": \".2f\", \"type\": \"quantitative\"}], \"x\": {\"field\": \"days_prior\", \"scale\": {\"reverse\": true}, \"title\": \"Days Prior to Departure\", \"type\": \"ordinal\"}, \"xOffset\": {\"field\": \"source\", \"sort\": [\"simulation\", \"target\"], \"title\": \"Source\", \"type\": \"nominal\"}, \"y\": {\"field\": \"sold\", \"stack\": true, \"type\": \"quantitative\"}}, \"height\": 200, \"width\": 500}, \"title\": \"Bookings by Timeframe and Booking Class (AL1)\", \"$schema\": \"https://vega.github.io/schema/vega-lite/v5.15.1.json\", \"datasets\": {\"data-eddfee32fbdeece3ad5f96b66982c0c1\": [{\"source\": \"target\", \"paxtype\": \"business\", \"days_prior\": 31, \"booking_class\": \"Y2\", \"sold\": 0.01, \"sem\": null, \"ci0\": null, \"ci1\": null}, {\"source\": \"target\", \"paxtype\": \"business\", \"days_prior\": 3, \"booking_class\": \"Y0\", \"sold\": 9.57, \"sem\": null, \"ci0\": null, \"ci1\": null}, {\"source\": \"target\", \"paxtype\": \"business\", \"days_prior\": 10, \"booking_class\": \"Y0\", \"sold\": 1.8099999999999998, \"sem\": null, \"ci0\": null, \"ci1\": null}, {\"source\": \"target\", \"paxtype\": \"business\", \"days_prior\": 10, \"booking_class\": \"Y1\", \"sold\": 12.16, \"sem\": null, \"ci0\": null, \"ci1\": null}, {\"source\": \"target\", \"paxtype\": \"business\", \"days_prior\": 7, \"booking_class\": \"Y0\", \"sold\": 1.2800000000000002, \"sem\": null, \"ci0\": null, \"ci1\": null}, {\"source\": \"target\", \"paxtype\": \"business\", \"days_prior\": 7, \"booking_class\": \"Y1\", \"sold\": 7.91, \"sem\": null, \"ci0\": null, \"ci1\": null}, {\"source\": \"target\", \"paxtype\": \"business\", \"days_prior\": 5, \"booking_class\": \"Y0\", \"sold\": 1.2700000000000005, \"sem\": null, \"ci0\": null, \"ci1\": null}, {\"source\": \"target\", \"paxtype\": \"business\", \"days_prior\": 5, \"booking_class\": \"Y1\", \"sold\": 8.049999999999997, \"sem\": null, \"ci0\": null, \"ci1\": null}, {\"source\": \"target\", \"paxtype\": \"business\", \"days_prior\": 3, \"booking_class\": \"Y1\", \"sold\": 7.390000000000001, \"sem\": null, \"ci0\": null, \"ci1\": null}, {\"source\": \"target\", \"paxtype\": \"business\", \"days_prior\": 14, \"booking_class\": \"Y0\", \"sold\": 0.76, \"sem\": null, \"ci0\": null, \"ci1\": null}, {\"source\": \"target\", \"paxtype\": \"business\", \"days_prior\": 1, \"booking_class\": \"Y0\", \"sold\": 1.5, \"sem\": null, \"ci0\": null, \"ci1\": null}, {\"source\": \"target\", \"paxtype\": \"business\", \"days_prior\": 1, \"booking_class\": \"Y1\", \"sold\": 3.9299999999999997, \"sem\": null, \"ci0\": null, \"ci1\": null}, {\"source\": \"target\", \"paxtype\": \"leisure\", \"days_prior\": 63, \"booking_class\": \"Y4\", \"sold\": 0.02, \"sem\": null, \"ci0\": null, \"ci1\": null}, {\"source\": \"target\", \"paxtype\": \"leisure\", \"days_prior\": 63, \"booking_class\": \"Y5\", \"sold\": 32.59, \"sem\": null, \"ci0\": null, \"ci1\": null}, {\"source\": \"target\", \"paxtype\": \"leisure\", \"days_prior\": 56, \"booking_class\": \"Y4\", \"sold\": 0.06, \"sem\": null, \"ci0\": null, \"ci1\": null}, {\"source\": \"target\", \"paxtype\": \"leisure\", \"days_prior\": 56, \"booking_class\": \"Y5\", \"sold\": 15.25, \"sem\": null, \"ci0\": null, \"ci1\": null}, {\"source\": \"target\", \"paxtype\": \"business\", \"days_prior\": 14, \"booking_class\": \"Y1\", \"sold\": 10.99, \"sem\": null, \"ci0\": null, \"ci1\": null}, {\"source\": \"target\", \"paxtype\": \"business\", \"days_prior\": 17, \"booking_class\": \"Y2\", \"sold\": 5.43, \"sem\": null, \"ci0\": null, \"ci1\": null}, {\"source\": \"target\", \"paxtype\": \"leisure\", \"days_prior\": 49, \"booking_class\": \"Y5\", \"sold\": 15.43, \"sem\": null, \"ci0\": null, \"ci1\": null}, {\"source\": \"target\", \"paxtype\": \"business\", \"days_prior\": 24, \"booking_class\": \"Y2\", \"sold\": 0.28, \"sem\": null, \"ci0\": null, \"ci1\": null}, {\"source\": \"target\", \"paxtype\": \"business\", \"days_prior\": 31, \"booking_class\": \"Y5\", \"sold\": 1.6899999999999977, \"sem\": null, \"ci0\": null, \"ci1\": null}, {\"source\": \"target\", \"paxtype\": \"business\", \"days_prior\": 28, \"booking_class\": \"Y2\", \"sold\": 0.05999999999999999, \"sem\": null, \"ci0\": null, \"ci1\": null}, {\"source\": \"target\", \"paxtype\": \"business\", \"days_prior\": 28, \"booking_class\": \"Y3\", \"sold\": 0.9499999999999998, \"sem\": null, \"ci0\": null, \"ci1\": null}, {\"source\": \"target\", \"paxtype\": \"business\", \"days_prior\": 28, \"booking_class\": \"Y4\", \"sold\": 1.7999999999999998, \"sem\": null, \"ci0\": null, \"ci1\": null}, {\"source\": \"target\", \"paxtype\": \"business\", \"days_prior\": 28, \"booking_class\": \"Y5\", \"sold\": 1.6300000000000026, \"sem\": null, \"ci0\": null, \"ci1\": null}, {\"source\": \"target\", \"paxtype\": \"business\", \"days_prior\": 24, \"booking_class\": \"Y1\", \"sold\": 0.01, \"sem\": null, \"ci0\": null, \"ci1\": null}, {\"source\": \"target\", \"paxtype\": \"business\", \"days_prior\": 24, \"booking_class\": \"Y3\", \"sold\": 1.46, \"sem\": null, \"ci0\": null, \"ci1\": null}, {\"source\": \"target\", \"paxtype\": \"business\", \"days_prior\": 17, \"booking_class\": \"Y1\", \"sold\": 1.58, \"sem\": null, \"ci0\": null, \"ci1\": null}, {\"source\": \"target\", \"paxtype\": \"business\", \"days_prior\": 24, \"booking_class\": \"Y4\", \"sold\": 1.67, \"sem\": null, \"ci0\": null, \"ci1\": null}, {\"source\": \"target\", \"paxtype\": \"business\", \"days_prior\": 24, \"booking_class\": \"Y5\", \"sold\": 1.009999999999998, \"sem\": null, \"ci0\": null, \"ci1\": null}, {\"source\": \"target\", \"paxtype\": \"business\", \"days_prior\": 21, \"booking_class\": \"Y1\", \"sold\": 0.13, \"sem\": null, \"ci0\": null, \"ci1\": null}, {\"source\": \"target\", \"paxtype\": \"business\", \"days_prior\": 21, \"booking_class\": \"Y2\", \"sold\": 2.58, \"sem\": null, \"ci0\": null, \"ci1\": null}, {\"source\": \"target\", \"paxtype\": \"business\", \"days_prior\": 21, \"booking_class\": \"Y3\", \"sold\": 3.1300000000000003, \"sem\": null, \"ci0\": null, \"ci1\": null}, {\"source\": \"target\", \"paxtype\": \"business\", \"days_prior\": 17, \"booking_class\": \"Y0\", \"sold\": 0.02, \"sem\": null, \"ci0\": null, \"ci1\": null}, {\"source\": \"target\", \"paxtype\": \"leisure\", \"days_prior\": 49, \"booking_class\": \"Y4\", \"sold\": 1.24, \"sem\": null, \"ci0\": null, \"ci1\": null}, {\"source\": \"target\", \"paxtype\": \"leisure\", \"days_prior\": 42, \"booking_class\": \"Y3\", \"sold\": 0.03, \"sem\": null, \"ci0\": null, \"ci1\": null}, {\"source\": \"target\", \"paxtype\": \"business\", \"days_prior\": 31, \"booking_class\": \"Y3\", \"sold\": 0.23, \"sem\": null, \"ci0\": null, \"ci1\": null}, {\"source\": \"target\", \"paxtype\": \"leisure\", \"days_prior\": 10, \"booking_class\": \"Y1\", \"sold\": 0.56, \"sem\": null, \"ci0\": null, \"ci1\": null}, {\"source\": \"target\", \"paxtype\": \"leisure\", \"days_prior\": 21, \"booking_class\": \"Y3\", \"sold\": 3.2300000000000004, \"sem\": null, \"ci0\": null, \"ci1\": null}, {\"source\": \"target\", \"paxtype\": \"leisure\", \"days_prior\": 17, \"booking_class\": \"Y1\", \"sold\": 0.28, \"sem\": null, \"ci0\": null, \"ci1\": null}, {\"source\": \"target\", \"paxtype\": \"leisure\", \"days_prior\": 17, \"booking_class\": \"Y2\", \"sold\": 1.93, \"sem\": null, \"ci0\": null, \"ci1\": null}, {\"source\": \"target\", \"paxtype\": \"leisure\", \"days_prior\": 14, \"booking_class\": \"Y0\", \"sold\": 0.05, \"sem\": null, \"ci0\": null, \"ci1\": null}, {\"source\": \"target\", \"paxtype\": \"leisure\", \"days_prior\": 14, \"booking_class\": \"Y1\", \"sold\": 0.96, \"sem\": null, \"ci0\": null, \"ci1\": null}, {\"source\": \"target\", \"paxtype\": \"leisure\", \"days_prior\": 10, \"booking_class\": \"Y0\", \"sold\": 0.06, \"sem\": null, \"ci0\": null, \"ci1\": null}, {\"source\": \"target\", \"paxtype\": \"leisure\", \"days_prior\": 7, \"booking_class\": \"Y0\", \"sold\": 0.039999999999999994, \"sem\": null, \"ci0\": null, \"ci1\": null}, {\"source\": \"target\", \"paxtype\": \"leisure\", \"days_prior\": 21, \"booking_class\": \"Y1\", \"sold\": 0.05, \"sem\": null, \"ci0\": null, \"ci1\": null}, {\"source\": \"target\", \"paxtype\": \"leisure\", \"days_prior\": 7, \"booking_class\": \"Y1\", \"sold\": 0.3599999999999999, \"sem\": null, \"ci0\": null, \"ci1\": null}, {\"source\": \"target\", \"paxtype\": \"leisure\", \"days_prior\": 5, \"booking_class\": \"Y0\", \"sold\": 0.08000000000000002, \"sem\": null, \"ci0\": null, \"ci1\": null}, {\"source\": \"target\", \"paxtype\": \"leisure\", \"days_prior\": 5, \"booking_class\": \"Y1\", \"sold\": 0.9100000000000001, \"sem\": null, \"ci0\": null, \"ci1\": null}, {\"source\": \"target\", \"paxtype\": \"leisure\", \"days_prior\": 3, \"booking_class\": \"Y0\", \"sold\": 0.19000000000000003, \"sem\": null, \"ci0\": null, \"ci1\": null}, {\"source\": \"target\", \"paxtype\": \"leisure\", \"days_prior\": 3, \"booking_class\": \"Y1\", \"sold\": 0.2200000000000002, \"sem\": null, \"ci0\": null, \"ci1\": null}, {\"source\": \"target\", \"paxtype\": \"leisure\", \"days_prior\": 1, \"booking_class\": \"Y0\", \"sold\": 0.06999999999999995, \"sem\": null, \"ci0\": null, \"ci1\": null}, {\"source\": \"target\", \"paxtype\": \"leisure\", \"days_prior\": 21, \"booking_class\": \"Y2\", \"sold\": 1.51, \"sem\": null, \"ci0\": null, \"ci1\": null}, {\"source\": \"target\", \"paxtype\": \"leisure\", \"days_prior\": 24, \"booking_class\": \"Y5\", \"sold\": 3.1599999999999966, \"sem\": null, \"ci0\": null, \"ci1\": null}, {\"source\": \"target\", \"paxtype\": \"leisure\", \"days_prior\": 42, \"booking_class\": \"Y4\", \"sold\": 2.5299999999999994, \"sem\": null, \"ci0\": null, \"ci1\": null}, {\"source\": \"target\", \"paxtype\": \"leisure\", \"days_prior\": 31, \"booking_class\": \"Y4\", \"sold\": 2.290000000000001, \"sem\": null, \"ci0\": null, \"ci1\": null}, {\"source\": \"target\", \"paxtype\": \"leisure\", \"days_prior\": 42, \"booking_class\": \"Y5\", \"sold\": 13.82, \"sem\": null, \"ci0\": null, \"ci1\": null}, {\"source\": \"target\", \"paxtype\": \"leisure\", \"days_prior\": 35, \"booking_class\": \"Y3\", \"sold\": 0.18, \"sem\": null, \"ci0\": null, \"ci1\": null}, {\"source\": \"target\", \"paxtype\": \"leisure\", \"days_prior\": 35, \"booking_class\": \"Y4\", \"sold\": 2.76, \"sem\": null, \"ci0\": null, \"ci1\": null}, {\"source\": \"target\", \"paxtype\": \"leisure\", \"days_prior\": 35, \"booking_class\": \"Y5\", \"sold\": 7.590000000000003, \"sem\": null, \"ci0\": null, \"ci1\": null}, {\"source\": \"target\", \"paxtype\": \"leisure\", \"days_prior\": 31, \"booking_class\": \"Y2\", \"sold\": 0.01, \"sem\": null, \"ci0\": null, \"ci1\": null}, {\"source\": \"target\", \"paxtype\": \"leisure\", \"days_prior\": 31, \"booking_class\": \"Y3\", \"sold\": 0.36, \"sem\": null, \"ci0\": null, \"ci1\": null}, {\"source\": \"target\", \"paxtype\": \"leisure\", \"days_prior\": 31, \"booking_class\": \"Y5\", \"sold\": 4.039999999999992, \"sem\": null, \"ci0\": null, \"ci1\": null}, {\"source\": \"target\", \"paxtype\": \"leisure\", \"days_prior\": 24, \"booking_class\": \"Y4\", \"sold\": 4.51, \"sem\": null, \"ci0\": null, \"ci1\": null}, {\"source\": \"target\", \"paxtype\": \"leisure\", \"days_prior\": 28, \"booking_class\": \"Y2\", \"sold\": 0.07, \"sem\": null, \"ci0\": null, \"ci1\": null}, {\"source\": \"target\", \"paxtype\": \"leisure\", \"days_prior\": 28, \"booking_class\": \"Y3\", \"sold\": 1.77, \"sem\": null, \"ci0\": null, \"ci1\": null}, {\"source\": \"target\", \"paxtype\": \"leisure\", \"days_prior\": 28, \"booking_class\": \"Y4\", \"sold\": 4.949999999999999, \"sem\": null, \"ci0\": null, \"ci1\": null}, {\"source\": \"target\", \"paxtype\": \"leisure\", \"days_prior\": 28, \"booking_class\": \"Y5\", \"sold\": 5.320000000000007, \"sem\": null, \"ci0\": null, \"ci1\": null}, {\"source\": \"target\", \"paxtype\": \"leisure\", \"days_prior\": 24, \"booking_class\": \"Y2\", \"sold\": 0.27, \"sem\": null, \"ci0\": null, \"ci1\": null}, {\"source\": \"target\", \"paxtype\": \"leisure\", \"days_prior\": 24, \"booking_class\": \"Y3\", \"sold\": 2.75, \"sem\": null, \"ci0\": null, \"ci1\": null}, {\"source\": \"target\", \"paxtype\": \"business\", \"days_prior\": 31, \"booking_class\": \"Y4\", \"sold\": 1.1, \"sem\": null, \"ci0\": null, \"ci1\": null}, {\"source\": \"target\", \"paxtype\": \"leisure\", \"days_prior\": 1, \"booking_class\": \"Y1\", \"sold\": 0.2899999999999996, \"sem\": null, \"ci0\": null, \"ci1\": null}, {\"source\": \"target\", \"paxtype\": \"business\", \"days_prior\": 56, \"booking_class\": \"Y5\", \"sold\": 7.3100000000000005, \"sem\": null, \"ci0\": null, \"ci1\": null}, {\"source\": \"target\", \"paxtype\": \"business\", \"days_prior\": 35, \"booking_class\": \"Y4\", \"sold\": 1.26, \"sem\": null, \"ci0\": null, \"ci1\": null}, {\"source\": \"target\", \"paxtype\": \"business\", \"days_prior\": 35, \"booking_class\": \"Y3\", \"sold\": 0.11999999999999998, \"sem\": null, \"ci0\": null, \"ci1\": null}, {\"source\": \"target\", \"paxtype\": \"business\", \"days_prior\": 42, \"booking_class\": \"Y5\", \"sold\": 5.970000000000002, \"sem\": null, \"ci0\": null, \"ci1\": null}, {\"source\": \"target\", \"paxtype\": \"business\", \"days_prior\": 42, \"booking_class\": \"Y4\", \"sold\": 1.24, \"sem\": null, \"ci0\": null, \"ci1\": null}, {\"source\": \"target\", \"paxtype\": \"business\", \"days_prior\": 42, \"booking_class\": \"Y3\", \"sold\": 0.02, \"sem\": null, \"ci0\": null, \"ci1\": null}, {\"source\": \"target\", \"paxtype\": \"business\", \"days_prior\": 49, \"booking_class\": \"Y5\", \"sold\": 5.389999999999997, \"sem\": null, \"ci0\": null, \"ci1\": null}, {\"source\": \"target\", \"paxtype\": \"business\", \"days_prior\": 49, \"booking_class\": \"Y4\", \"sold\": 0.48000000000000004, \"sem\": null, \"ci0\": null, \"ci1\": null}, {\"source\": \"target\", \"paxtype\": \"business\", \"days_prior\": 35, \"booking_class\": \"Y5\", \"sold\": 3.09, \"sem\": null, \"ci0\": null, \"ci1\": null}, {\"source\": \"target\", \"paxtype\": \"business\", \"days_prior\": 56, \"booking_class\": \"Y4\", \"sold\": 0.04, \"sem\": null, \"ci0\": null, \"ci1\": null}, {\"source\": \"target\", \"paxtype\": \"business\", \"days_prior\": 63, \"booking_class\": \"Y5\", \"sold\": 8.74, \"sem\": null, \"ci0\": null, \"ci1\": null}, {\"source\": \"simulation\", \"paxtype\": \"business\", \"days_prior\": 10, \"booking_class\": \"Y0\", \"sold\": 5.523777777777778, \"sem\": 0.05309494045887954, \"ci0\": 5.419711694478374, \"ci1\": 5.627843861077182}, {\"source\": \"simulation\", \"paxtype\": \"business\", \"days_prior\": 10, \"booking_class\": \"Y5\", \"sold\": 8.26388888888889, \"sem\": 0.05376248379607477, \"ci0\": 8.158514420648583, \"ci1\": 8.369263357129196}, {\"source\": \"simulation\", \"paxtype\": \"business\", \"days_prior\": 56, \"booking_class\": \"Y5\", \"sold\": 7.280111111111111, \"sem\": 0.036273783645665685, \"ci0\": 7.209014495165606, \"ci1\": 7.351207727056616}, {\"source\": \"simulation\", \"paxtype\": \"business\", \"days_prior\": 14, \"booking_class\": \"Y5\", \"sold\": 3.463333333333334, \"sem\": 0.045374225081902975, \"ci0\": 3.374399852172804, \"ci1\": 3.552266814493864}, {\"source\": \"simulation\", \"paxtype\": \"business\", \"days_prior\": 14, \"booking_class\": \"Y0\", \"sold\": 6.810333333333334, \"sem\": 0.044301947490379384, \"ci0\": 6.723501516252191, \"ci1\": 6.8971651504144775}, {\"source\": \"simulation\", \"paxtype\": \"business\", \"days_prior\": 7, \"booking_class\": \"Y5\", \"sold\": 9.068666666666667, \"sem\": 0.02891062809780483, \"ci0\": 9.012001835594969, \"ci1\": 9.125331497738365}, {\"source\": \"simulation\", \"paxtype\": \"business\", \"days_prior\": 7, \"booking_class\": \"Y0\", \"sold\": 1.474666666666666, \"sem\": 0.021375729477601302, \"ci0\": 1.4327702368905673, \"ci1\": 1.5165630964427645}, {\"source\": \"simulation\", \"paxtype\": \"business\", \"days_prior\": 1, \"booking_class\": \"Y0\", \"sold\": 0.01622222222222227, \"sem\": 0.00203670030886924, \"ci0\": 0.01223028961683856, \"ci1\": 0.020214154827605982}, {\"source\": \"simulation\", \"paxtype\": \"business\", \"days_prior\": 5, \"booking_class\": \"Y0\", \"sold\": 1.8805555555555569, \"sem\": 0.02360061495095186, \"ci0\": 1.8342983502516912, \"ci1\": 1.9268127608594225}, {\"source\": \"simulation\", \"paxtype\": \"business\", \"days_prior\": 5, \"booking_class\": \"Y5\", \"sold\": 8.393666666666665, \"sem\": 0.028984670277772268, \"ci0\": 8.33685671292223, \"ci1\": 8.450476620411099}, {\"source\": \"simulation\", \"paxtype\": \"business\", \"days_prior\": 3, \"booking_class\": \"Y0\", \"sold\": 5.974000000000001, \"sem\": 0.051612197492851855, \"ci0\": 5.872840092914012, \"ci1\": 6.0751599070859905}, {\"source\": \"simulation\", \"paxtype\": \"business\", \"days_prior\": 3, \"booking_class\": \"Y5\", \"sold\": 14.437999999999999, \"sem\": 0.08039542193628073, \"ci0\": 14.280424973004889, \"ci1\": 14.595575026995109}, {\"source\": \"simulation\", \"paxtype\": \"business\", \"days_prior\": 17, \"booking_class\": \"Y0\", \"sold\": 2.6262222222222222, \"sem\": 0.023138635082271097, \"ci0\": 2.580870497460971, \"ci1\": 2.6715739469834734}, {\"source\": \"simulation\", \"paxtype\": \"business\", \"days_prior\": 17, \"booking_class\": \"Y5\", \"sold\": 2.9743333333333313, \"sem\": 0.017647244545675327, \"ci0\": 2.9397447340238076, \"ci1\": 3.008921932642855}, {\"source\": \"simulation\", \"paxtype\": \"business\", \"days_prior\": 28, \"booking_class\": \"Y0\", \"sold\": 0.9351111111111112, \"sem\": 0.02953280475889984, \"ci0\": 0.8772268137836675, \"ci1\": 0.9929954084385549}, {\"source\": \"simulation\", \"paxtype\": \"business\", \"days_prior\": 21, \"booking_class\": \"Y5\", \"sold\": 2.5323333333333338, \"sem\": 0.022809192428914687, \"ci0\": 2.487627316172661, \"ci1\": 2.5770393504940063}, {\"source\": \"simulation\", \"paxtype\": \"business\", \"days_prior\": 21, \"booking_class\": \"Y0\", \"sold\": 2.031444444444445, \"sem\": 0.03045969249583805, \"ci0\": 1.9717434471526023, \"ci1\": 2.0911454417362876}, {\"source\": \"simulation\", \"paxtype\": \"business\", \"days_prior\": 24, \"booking_class\": \"Y5\", \"sold\": 2.8244444444444445, \"sem\": 0.030108172605011634, \"ci0\": 2.765432426138622, \"ci1\": 2.8834564627502672}, {\"source\": \"simulation\", \"paxtype\": \"business\", \"days_prior\": 24, \"booking_class\": \"Y0\", \"sold\": 0.9902222222222221, \"sem\": 0.01219390659406131, \"ci0\": 0.966322165297862, \"ci1\": 1.0141222791465823}, {\"source\": \"simulation\", \"paxtype\": \"business\", \"days_prior\": 28, \"booking_class\": \"Y5\", \"sold\": 2.8635555555555556, \"sem\": 0.03983153826215094, \"ci0\": 2.78548574056174, \"ci1\": 2.9416253705493713}, {\"source\": \"simulation\", \"paxtype\": \"leisure\", \"days_prior\": 63, \"booking_class\": \"Y5\", \"sold\": 32.409000000000006, \"sem\": 0.06536726464136403, \"ci0\": 32.28088016130293, \"ci1\": 32.53711983869708}, {\"source\": \"simulation\", \"paxtype\": \"business\", \"days_prior\": 31, \"booking_class\": \"Y5\", \"sold\": 2.387333333333334, \"sem\": 0.03117242635100851, \"ci0\": 2.3262353776853577, \"ci1\": 2.4484312889813107}, {\"source\": \"simulation\", \"paxtype\": \"business\", \"days_prior\": 31, \"booking_class\": \"Y0\", \"sold\": 0.3675555555555556, \"sem\": 0.014826661929714725, \"ci0\": 0.3384952981733147, \"ci1\": 0.39661581293779646}, {\"source\": \"simulation\", \"paxtype\": \"business\", \"days_prior\": 35, \"booking_class\": \"Y5\", \"sold\": 3.9691111111111104, \"sem\": 0.02891110257067091, \"ci0\": 3.9124453500725953, \"ci1\": 4.025776872149625}, {\"source\": \"simulation\", \"paxtype\": \"business\", \"days_prior\": 35, \"booking_class\": \"Y0\", \"sold\": 0.26755555555555555, \"sem\": 0.0186026238248459, \"ci0\": 0.2310944128588576, \"ci1\": 0.3040166982522535}, {\"source\": \"simulation\", \"paxtype\": \"business\", \"days_prior\": 42, \"booking_class\": \"Y5\", \"sold\": 7.145444444444443, \"sem\": 0.024814510777573528, \"ci0\": 7.096808003320399, \"ci1\": 7.1940808855684875}, {\"source\": \"simulation\", \"paxtype\": \"business\", \"days_prior\": 42, \"booking_class\": \"Y0\", \"sold\": 0.07255555555555555, \"sem\": 0.006713927133824067, \"ci0\": 0.05939625837326038, \"ci1\": 0.08571485273785072}, {\"source\": \"simulation\", \"paxtype\": \"business\", \"days_prior\": 49, \"booking_class\": \"Y5\", \"sold\": 5.805888888888889, \"sem\": 0.035287589769911344, \"ci0\": 5.736725212939863, \"ci1\": 5.875052564837915}, {\"source\": \"simulation\", \"paxtype\": \"business\", \"days_prior\": 49, \"booking_class\": \"Y0\", \"sold\": 0.007666666666666666, \"sem\": 0.0013803440854506831, \"ci0\": 0.004961192259183327, \"ci1\": 0.010372141074150005}, {\"source\": \"simulation\", \"paxtype\": \"business\", \"days_prior\": 1, \"booking_class\": \"Y5\", \"sold\": 7.19177777777778, \"sem\": 0.03537461677050083, \"ci0\": 7.122443528907598, \"ci1\": 7.261112026647962}, {\"source\": \"simulation\", \"paxtype\": \"leisure\", \"days_prior\": 35, \"booking_class\": \"Y0\", \"sold\": 0.06877777777777777, \"sem\": 0.0054645634818015635, \"ci0\": 0.058067233353446705, \"ci1\": 0.07948832220210883}, {\"source\": \"simulation\", \"paxtype\": \"leisure\", \"days_prior\": 56, \"booking_class\": \"Y5\", \"sold\": 15.26788888888889, \"sem\": 0.05759645098424694, \"ci0\": 15.154999844959766, \"ci1\": 15.380777932818015}, {\"source\": \"simulation\", \"paxtype\": \"leisure\", \"days_prior\": 17, \"booking_class\": \"Y5\", \"sold\": 3.7338888888888904, \"sem\": 0.030273218594334194, \"ci0\": 3.6745533804439954, \"ci1\": 3.7932243973337854}, {\"source\": \"simulation\", \"paxtype\": \"leisure\", \"days_prior\": 1, \"booking_class\": \"Y5\", \"sold\": 3.799222222222221, \"sem\": 0.018881661652948134, \"ci0\": 3.7622141653824426, \"ci1\": 3.8362302790619993}, {\"source\": \"simulation\", \"paxtype\": \"leisure\", \"days_prior\": 1, \"booking_class\": \"Y0\", \"sold\": 0.00011111111111108407, \"sem\": 0.00011111111111108407, \"ci0\": 0.0, \"ci1\": 0.00032888888888880886}, {\"source\": \"simulation\", \"paxtype\": \"leisure\", \"days_prior\": 3, \"booking_class\": \"Y5\", \"sold\": 3.376777777777778, \"sem\": 0.016399044771271364, \"ci0\": 3.344635650026086, \"ci1\": 3.4089199055294697}, {\"source\": \"simulation\", \"paxtype\": \"leisure\", \"days_prior\": 3, \"booking_class\": \"Y0\", \"sold\": 0.11122222222222233, \"sem\": 0.004068851871911229, \"ci0\": 0.10324727255327633, \"ci1\": 0.11919717189116834}, {\"source\": \"simulation\", \"paxtype\": \"leisure\", \"days_prior\": 5, \"booking_class\": \"Y5\", \"sold\": 6.911888888888891, \"sem\": 0.029520191411305775, \"ci0\": 6.854029313722731, \"ci1\": 6.96974846405505}, {\"source\": \"simulation\", \"paxtype\": \"leisure\", \"days_prior\": 5, \"booking_class\": \"Y0\", \"sold\": 0.13022222222222216, \"sem\": 0.002293905565511426, \"ci0\": 0.12572616731381975, \"ci1\": 0.13471827713062456}, {\"source\": \"simulation\", \"paxtype\": \"leisure\", \"days_prior\": 7, \"booking_class\": \"Y5\", \"sold\": 3.0488888888888908, \"sem\": 0.025273809212280826, \"ci0\": 2.99935222283282, \"ci1\": 3.0984255549449613}, {\"source\": \"simulation\", \"paxtype\": \"leisure\", \"days_prior\": 7, \"booking_class\": \"Y0\", \"sold\": 0.03733333333333331, \"sem\": 0.00181594824772314, \"ci0\": 0.03377407476779595, \"ci1\": 0.040892591898870664}, {\"source\": \"simulation\", \"paxtype\": \"leisure\", \"days_prior\": 10, \"booking_class\": \"Y5\", \"sold\": 2.7382222222222183, \"sem\": 0.02823145566851247, \"ci0\": 2.6828885691119337, \"ci1\": 2.793555875332503}, {\"source\": \"simulation\", \"paxtype\": \"leisure\", \"days_prior\": 10, \"booking_class\": \"Y0\", \"sold\": 0.16011111111111115, \"sem\": 0.00615405784694449, \"ci0\": 0.14804915773109995, \"ci1\": 0.17217306449112235}, {\"source\": \"simulation\", \"paxtype\": \"leisure\", \"days_prior\": 14, \"booking_class\": \"Y5\", \"sold\": 2.144000000000001, \"sem\": 0.039972281205183764, \"ci0\": 2.065654328837841, \"ci1\": 2.222345671162161}, {\"source\": \"simulation\", \"paxtype\": \"leisure\", \"days_prior\": 14, \"booking_class\": \"Y0\", \"sold\": 0.38599999999999995, \"sem\": 0.005070693656333285, \"ci0\": 0.3760614404335867, \"ci1\": 0.3959385595664132}, {\"source\": \"simulation\", \"paxtype\": \"leisure\", \"days_prior\": 17, \"booking_class\": \"Y0\", \"sold\": 0.31722222222222235, \"sem\": 0.004466764939647393, \"ci0\": 0.30846736294051347, \"ci1\": 0.32597708150393123}, {\"source\": \"simulation\", \"paxtype\": \"leisure\", \"days_prior\": 49, \"booking_class\": \"Y0\", \"sold\": 0.0016666666666666666, \"sem\": 0.00037951669503554067, \"ci0\": 0.0009228139443970069, \"ci1\": 0.002410519388936326}, {\"source\": \"simulation\", \"paxtype\": \"leisure\", \"days_prior\": 21, \"booking_class\": \"Y5\", \"sold\": 4.78322222222222, \"sem\": 0.05189269555392088, \"ci0\": 4.681512538936535, \"ci1\": 4.884931905507904}, {\"source\": \"simulation\", \"paxtype\": \"leisure\", \"days_prior\": 21, \"booking_class\": \"Y0\", \"sold\": 0.34466666666666657, \"sem\": 0.007798561296741836, \"ci0\": 0.32938148652505256, \"ci1\": 0.3599518468082806}, {\"source\": \"simulation\", \"paxtype\": \"leisure\", \"days_prior\": 24, \"booking_class\": \"Y5\", \"sold\": 9.533000000000001, \"sem\": 0.07218651538975521, \"ci0\": 9.39151442983608, \"ci1\": 9.674485570163922}, {\"source\": \"simulation\", \"paxtype\": \"leisure\", \"days_prior\": 24, \"booking_class\": \"Y0\", \"sold\": 0.3102222222222222, \"sem\": 0.00759539243769398, \"ci0\": 0.295335253044342, \"ci1\": 0.32510919140010236}, {\"source\": \"simulation\", \"paxtype\": \"leisure\", \"days_prior\": 28, \"booking_class\": \"Y5\", \"sold\": 9.667222222222222, \"sem\": 0.10297232171695793, \"ci0\": 9.465396471656984, \"ci1\": 9.86904797278746}, {\"source\": \"simulation\", \"paxtype\": \"leisure\", \"days_prior\": 28, \"booking_class\": \"Y0\", \"sold\": 0.3097777777777778, \"sem\": 0.007343800984120951, \"ci0\": 0.2953839278489008, \"ci1\": 0.32417162770665486}, {\"source\": \"simulation\", \"paxtype\": \"leisure\", \"days_prior\": 31, \"booking_class\": \"Y5\", \"sold\": 6.015333333333335, \"sem\": 0.05570050227206887, \"ci0\": 5.90616034888008, \"ci1\": 6.12450631778659}, {\"source\": \"simulation\", \"paxtype\": \"leisure\", \"days_prior\": 31, \"booking_class\": \"Y0\", \"sold\": 0.08655555555555555, \"sem\": 0.003611633390531139, \"ci0\": 0.07947675411011453, \"ci1\": 0.09363435700099658}, {\"source\": \"simulation\", \"paxtype\": \"leisure\", \"days_prior\": 35, \"booking_class\": \"Y5\", \"sold\": 10.217888888888888, \"sem\": 0.07979130013669003, \"ci0\": 10.061497940620976, \"ci1\": 10.3742798371568}, {\"source\": \"simulation\", \"paxtype\": \"leisure\", \"days_prior\": 42, \"booking_class\": \"Y5\", \"sold\": 16.830333333333336, \"sem\": 0.04865376964235733, \"ci0\": 16.734971944834314, \"ci1\": 16.925694721832357}, {\"source\": \"simulation\", \"paxtype\": \"leisure\", \"days_prior\": 42, \"booking_class\": \"Y0\", \"sold\": 0.01711111111111111, \"sem\": 0.0017387695695267411, \"ci0\": 0.0137031227548387, \"ci1\": 0.020519099467383523}, {\"source\": \"simulation\", \"paxtype\": \"leisure\", \"days_prior\": 49, \"booking_class\": \"Y5\", \"sold\": 17.08533333333333, \"sem\": 0.056410410659089104, \"ci0\": 16.974768928441517, \"ci1\": 17.195897738225145}, {\"source\": \"simulation\", \"paxtype\": \"business\", \"days_prior\": 63, \"booking_class\": \"Y5\", \"sold\": 8.728, \"sem\": 0.03050143354925579, \"ci0\": 8.668217190243459, \"ci1\": 8.787782809756541}]}}, {\"mode\": \"vega-lite\"});\n",
       "</script>"
      ],
      "text/plain": [
       "alt.FacetChart(...)"
      ]
     },
     "execution_count": 18,
     "metadata": {},
     "output_type": "execute_result"
    }
   ],
   "source": [
    "comps.fig_bookings_by_timeframe(by_carrier=\"AL1\", by_class=True)"
   ]
  },
  {
   "cell_type": "code",
   "execution_count": 19,
   "id": "a25b076d-f2fa-451c-94cd-180ba5126349",
   "metadata": {},
   "outputs": [
    {
     "data": {
      "text/html": [
       "\n",
       "<style>\n",
       "  #altair-viz-b0ee7e53e0b543c3ae2a6d6ba0874d7e.vega-embed {\n",
       "    width: 100%;\n",
       "    display: flex;\n",
       "  }\n",
       "\n",
       "  #altair-viz-b0ee7e53e0b543c3ae2a6d6ba0874d7e.vega-embed details,\n",
       "  #altair-viz-b0ee7e53e0b543c3ae2a6d6ba0874d7e.vega-embed details summary {\n",
       "    position: relative;\n",
       "  }\n",
       "</style>\n",
       "<div id=\"altair-viz-b0ee7e53e0b543c3ae2a6d6ba0874d7e\"></div>\n",
       "<script type=\"text/javascript\">\n",
       "  var VEGA_DEBUG = (typeof VEGA_DEBUG == \"undefined\") ? {} : VEGA_DEBUG;\n",
       "  (function(spec, embedOpt){\n",
       "    let outputDiv = document.currentScript.previousElementSibling;\n",
       "    if (outputDiv.id !== \"altair-viz-b0ee7e53e0b543c3ae2a6d6ba0874d7e\") {\n",
       "      outputDiv = document.getElementById(\"altair-viz-b0ee7e53e0b543c3ae2a6d6ba0874d7e\");\n",
       "    }\n",
       "    const paths = {\n",
       "      \"vega\": \"https://cdn.jsdelivr.net/npm/vega@5?noext\",\n",
       "      \"vega-lib\": \"https://cdn.jsdelivr.net/npm/vega-lib?noext\",\n",
       "      \"vega-lite\": \"https://cdn.jsdelivr.net/npm/vega-lite@5.15.1?noext\",\n",
       "      \"vega-embed\": \"https://cdn.jsdelivr.net/npm/vega-embed@6?noext\",\n",
       "    };\n",
       "\n",
       "    function maybeLoadScript(lib, version) {\n",
       "      var key = `${lib.replace(\"-\", \"\")}_version`;\n",
       "      return (VEGA_DEBUG[key] == version) ?\n",
       "        Promise.resolve(paths[lib]) :\n",
       "        new Promise(function(resolve, reject) {\n",
       "          var s = document.createElement('script');\n",
       "          document.getElementsByTagName(\"head\")[0].appendChild(s);\n",
       "          s.async = true;\n",
       "          s.onload = () => {\n",
       "            VEGA_DEBUG[key] = version;\n",
       "            return resolve(paths[lib]);\n",
       "          };\n",
       "          s.onerror = () => reject(`Error loading script: ${paths[lib]}`);\n",
       "          s.src = paths[lib];\n",
       "        });\n",
       "    }\n",
       "\n",
       "    function showError(err) {\n",
       "      outputDiv.innerHTML = `<div class=\"error\" style=\"color:red;\">${err}</div>`;\n",
       "      throw err;\n",
       "    }\n",
       "\n",
       "    function displayChart(vegaEmbed) {\n",
       "      vegaEmbed(outputDiv, spec, embedOpt)\n",
       "        .catch(err => showError(`Javascript Error: ${err.message}<br>This usually means there's a typo in your chart specification. See the javascript console for the full traceback.`));\n",
       "    }\n",
       "\n",
       "    if(typeof define === \"function\" && define.amd) {\n",
       "      requirejs.config({paths});\n",
       "      require([\"vega-embed\"], displayChart, err => showError(`Error loading script: ${err.message}`));\n",
       "    } else {\n",
       "      maybeLoadScript(\"vega\", \"5\")\n",
       "        .then(() => maybeLoadScript(\"vega-lite\", \"5.15.1\"))\n",
       "        .then(() => maybeLoadScript(\"vega-embed\", \"6\"))\n",
       "        .catch(showError)\n",
       "        .then(() => displayChart(vegaEmbed));\n",
       "    }\n",
       "  })({\"config\": {\"view\": {\"continuousWidth\": 300, \"continuousHeight\": 300}}, \"hconcat\": [{\"data\": {\"name\": \"data-66a7ebb57ec631700373b36d82878b6b\"}, \"mark\": {\"type\": \"line\"}, \"encoding\": {\"color\": {\"field\": \"booking_class\", \"type\": \"nominal\"}, \"strokeDash\": {\"field\": \"source\", \"title\": \"Source\", \"type\": \"nominal\"}, \"strokeWidth\": {\"field\": \"source\", \"title\": \"Source\", \"type\": \"nominal\"}, \"x\": {\"field\": \"days_prior\", \"scale\": {\"reverse\": true}, \"title\": \"Days Prior to Departure\", \"type\": \"ordinal\"}, \"y\": {\"field\": \"forecast_mean\", \"title\": \"Mean Demand Forecast\", \"type\": \"quantitative\"}}}, {\"data\": {\"name\": \"data-b8839c8c502e487b52141cc03855236d\"}, \"mark\": {\"type\": \"line\"}, \"encoding\": {\"color\": {\"field\": \"booking_class\", \"type\": \"nominal\"}, \"strokeDash\": {\"field\": \"source\", \"title\": \"Source\", \"type\": \"nominal\"}, \"strokeWidth\": {\"field\": \"source\", \"title\": \"Source\", \"type\": \"nominal\"}, \"x\": {\"field\": \"days_prior\", \"scale\": {\"reverse\": true}, \"title\": \"Days Prior to Departure\", \"type\": \"ordinal\"}, \"y\": {\"field\": \"forecast_stdev\", \"title\": \"Std Dev Demand Forecast\", \"type\": \"quantitative\"}}}], \"$schema\": \"https://vega.github.io/schema/vega-lite/v5.15.1.json\", \"datasets\": {\"data-66a7ebb57ec631700373b36d82878b6b\": [{\"source\": \"simulation\", \"carrier\": \"AL1\", \"flt_no\": 101, \"booking_class\": \"Y0\", \"days_prior\": 0, \"forecast_mean\": 0.0}, {\"source\": \"simulation\", \"carrier\": \"AL1\", \"flt_no\": 101, \"booking_class\": \"Y0\", \"days_prior\": 1, \"forecast_mean\": 2.5259742052114023}, {\"source\": \"simulation\", \"carrier\": \"AL1\", \"flt_no\": 101, \"booking_class\": \"Y0\", \"days_prior\": 3, \"forecast_mean\": 9.857948117790768}, {\"source\": \"simulation\", \"carrier\": \"AL1\", \"flt_no\": 101, \"booking_class\": \"Y0\", \"days_prior\": 5, \"forecast_mean\": 14.372690644634499}, {\"source\": \"simulation\", \"carrier\": \"AL1\", \"flt_no\": 101, \"booking_class\": \"Y0\", \"days_prior\": 7, \"forecast_mean\": 17.9507584174478}, {\"source\": \"simulation\", \"carrier\": \"AL1\", \"flt_no\": 101, \"booking_class\": \"Y0\", \"days_prior\": 10, \"forecast_mean\": 23.57910487307471}, {\"source\": \"simulation\", \"carrier\": \"AL1\", \"flt_no\": 101, \"booking_class\": \"Y0\", \"days_prior\": 14, \"forecast_mean\": 29.032312821739275}, {\"source\": \"simulation\", \"carrier\": \"AL1\", \"flt_no\": 101, \"booking_class\": \"Y0\", \"days_prior\": 17, \"forecast_mean\": 32.52598425305486}, {\"source\": \"simulation\", \"carrier\": \"AL1\", \"flt_no\": 101, \"booking_class\": \"Y0\", \"days_prior\": 21, \"forecast_mean\": 36.2398302050493}, {\"source\": \"simulation\", \"carrier\": \"AL1\", \"flt_no\": 101, \"booking_class\": \"Y0\", \"days_prior\": 24, \"forecast_mean\": 39.27534541399787}, {\"source\": \"simulation\", \"carrier\": \"AL1\", \"flt_no\": 101, \"booking_class\": \"Y0\", \"days_prior\": 28, \"forecast_mean\": 41.86485577398914}, {\"source\": \"simulation\", \"carrier\": \"AL1\", \"flt_no\": 101, \"booking_class\": \"Y0\", \"days_prior\": 31, \"forecast_mean\": 43.04351835754516}, {\"source\": \"simulation\", \"carrier\": \"AL1\", \"flt_no\": 101, \"booking_class\": \"Y0\", \"days_prior\": 35, \"forecast_mean\": 44.31196051228423}, {\"source\": \"simulation\", \"carrier\": \"AL1\", \"flt_no\": 101, \"booking_class\": \"Y0\", \"days_prior\": 42, \"forecast_mean\": 45.58722542775991}, {\"source\": \"simulation\", \"carrier\": \"AL1\", \"flt_no\": 101, \"booking_class\": \"Y0\", \"days_prior\": 49, \"forecast_mean\": 46.77351031224035}, {\"source\": \"simulation\", \"carrier\": \"AL1\", \"flt_no\": 101, \"booking_class\": \"Y0\", \"days_prior\": 56, \"forecast_mean\": 47.323397027045814}, {\"source\": \"simulation\", \"carrier\": \"AL1\", \"flt_no\": 101, \"booking_class\": \"Y0\", \"days_prior\": 63, \"forecast_mean\": 48.3250003923176}, {\"source\": \"simulation\", \"carrier\": \"AL1\", \"flt_no\": 101, \"booking_class\": \"Y1\", \"days_prior\": 0, \"forecast_mean\": 0.0}, {\"source\": \"simulation\", \"carrier\": \"AL1\", \"flt_no\": 101, \"booking_class\": \"Y1\", \"days_prior\": 1, \"forecast_mean\": 0.7733224661186424}, {\"source\": \"simulation\", \"carrier\": \"AL1\", \"flt_no\": 101, \"booking_class\": \"Y1\", \"days_prior\": 3, \"forecast_mean\": 3.0068190253951266}, {\"source\": \"simulation\", \"carrier\": \"AL1\", \"flt_no\": 101, \"booking_class\": \"Y1\", \"days_prior\": 5, \"forecast_mean\": 4.466610655334977}, {\"source\": \"simulation\", \"carrier\": \"AL1\", \"flt_no\": 101, \"booking_class\": \"Y1\", \"days_prior\": 7, \"forecast_mean\": 5.620899849511943}, {\"source\": \"simulation\", \"carrier\": \"AL1\", \"flt_no\": 101, \"booking_class\": \"Y1\", \"days_prior\": 10, \"forecast_mean\": 7.516101451289381}, {\"source\": \"simulation\", \"carrier\": \"AL1\", \"flt_no\": 101, \"booking_class\": \"Y1\", \"days_prior\": 14, \"forecast_mean\": 9.465201446425327}, {\"source\": \"simulation\", \"carrier\": \"AL1\", \"flt_no\": 101, \"booking_class\": \"Y1\", \"days_prior\": 17, \"forecast_mean\": 11.207071770834203}, {\"source\": \"simulation\", \"carrier\": \"AL1\", \"flt_no\": 101, \"booking_class\": \"Y1\", \"days_prior\": 21, \"forecast_mean\": 13.823892214430591}, {\"source\": \"simulation\", \"carrier\": \"AL1\", \"flt_no\": 101, \"booking_class\": \"Y1\", \"days_prior\": 24, \"forecast_mean\": 17.62696674907177}, {\"source\": \"simulation\", \"carrier\": \"AL1\", \"flt_no\": 101, \"booking_class\": \"Y1\", \"days_prior\": 28, \"forecast_mean\": 21.714746987371086}, {\"source\": \"simulation\", \"carrier\": \"AL1\", \"flt_no\": 101, \"booking_class\": \"Y1\", \"days_prior\": 31, \"forecast_mean\": 24.107122865353542}, {\"source\": \"simulation\", \"carrier\": \"AL1\", \"flt_no\": 101, \"booking_class\": \"Y1\", \"days_prior\": 35, \"forecast_mean\": 27.88427900121276}, {\"source\": \"simulation\", \"carrier\": \"AL1\", \"flt_no\": 101, \"booking_class\": \"Y1\", \"days_prior\": 42, \"forecast_mean\": 34.02353972676272}, {\"source\": \"simulation\", \"carrier\": \"AL1\", \"flt_no\": 101, \"booking_class\": \"Y1\", \"days_prior\": 49, \"forecast_mean\": 39.75706253458998}, {\"source\": \"simulation\", \"carrier\": \"AL1\", \"flt_no\": 101, \"booking_class\": \"Y1\", \"days_prior\": 56, \"forecast_mean\": 45.977299751408445}, {\"source\": \"simulation\", \"carrier\": \"AL1\", \"flt_no\": 101, \"booking_class\": \"Y1\", \"days_prior\": 63, \"forecast_mean\": 57.26796134340161}, {\"source\": \"simulation\", \"carrier\": \"AL1\", \"flt_no\": 101, \"booking_class\": \"Y2\", \"days_prior\": 0, \"forecast_mean\": 0.0}, {\"source\": \"simulation\", \"carrier\": \"AL1\", \"flt_no\": 101, \"booking_class\": \"Y2\", \"days_prior\": 1, \"forecast_mean\": 0.0}, {\"source\": \"simulation\", \"carrier\": \"AL1\", \"flt_no\": 101, \"booking_class\": \"Y2\", \"days_prior\": 3, \"forecast_mean\": 0.0}, {\"source\": \"simulation\", \"carrier\": \"AL1\", \"flt_no\": 101, \"booking_class\": \"Y2\", \"days_prior\": 5, \"forecast_mean\": 0.0}, {\"source\": \"simulation\", \"carrier\": \"AL1\", \"flt_no\": 101, \"booking_class\": \"Y2\", \"days_prior\": 7, \"forecast_mean\": 0.0}, {\"source\": \"simulation\", \"carrier\": \"AL1\", \"flt_no\": 101, \"booking_class\": \"Y2\", \"days_prior\": 10, \"forecast_mean\": 0.0}, {\"source\": \"simulation\", \"carrier\": \"AL1\", \"flt_no\": 101, \"booking_class\": \"Y2\", \"days_prior\": 14, \"forecast_mean\": 0.0}, {\"source\": \"simulation\", \"carrier\": \"AL1\", \"flt_no\": 101, \"booking_class\": \"Y2\", \"days_prior\": 17, \"forecast_mean\": 0.0}, {\"source\": \"simulation\", \"carrier\": \"AL1\", \"flt_no\": 101, \"booking_class\": \"Y2\", \"days_prior\": 21, \"forecast_mean\": 0.0}, {\"source\": \"simulation\", \"carrier\": \"AL1\", \"flt_no\": 101, \"booking_class\": \"Y2\", \"days_prior\": 24, \"forecast_mean\": 0.0}, {\"source\": \"simulation\", \"carrier\": \"AL1\", \"flt_no\": 101, \"booking_class\": \"Y2\", \"days_prior\": 28, \"forecast_mean\": 0.0}, {\"source\": \"simulation\", \"carrier\": \"AL1\", \"flt_no\": 101, \"booking_class\": \"Y2\", \"days_prior\": 31, \"forecast_mean\": 0.0}, {\"source\": \"simulation\", \"carrier\": \"AL1\", \"flt_no\": 101, \"booking_class\": \"Y2\", \"days_prior\": 35, \"forecast_mean\": 0.0}, {\"source\": \"simulation\", \"carrier\": \"AL1\", \"flt_no\": 101, \"booking_class\": \"Y2\", \"days_prior\": 42, \"forecast_mean\": 0.0}, {\"source\": \"simulation\", \"carrier\": \"AL1\", \"flt_no\": 101, \"booking_class\": \"Y2\", \"days_prior\": 49, \"forecast_mean\": 0.0}, {\"source\": \"simulation\", \"carrier\": \"AL1\", \"flt_no\": 101, \"booking_class\": \"Y2\", \"days_prior\": 56, \"forecast_mean\": 0.0}, {\"source\": \"simulation\", \"carrier\": \"AL1\", \"flt_no\": 101, \"booking_class\": \"Y2\", \"days_prior\": 63, \"forecast_mean\": 0.0}, {\"source\": \"simulation\", \"carrier\": \"AL1\", \"flt_no\": 101, \"booking_class\": \"Y3\", \"days_prior\": 0, \"forecast_mean\": 0.0}, {\"source\": \"simulation\", \"carrier\": \"AL1\", \"flt_no\": 101, \"booking_class\": \"Y3\", \"days_prior\": 1, \"forecast_mean\": 0.0}, {\"source\": \"simulation\", \"carrier\": \"AL1\", \"flt_no\": 101, \"booking_class\": \"Y3\", \"days_prior\": 3, \"forecast_mean\": 0.0}, {\"source\": \"simulation\", \"carrier\": \"AL1\", \"flt_no\": 101, \"booking_class\": \"Y3\", \"days_prior\": 5, \"forecast_mean\": 0.0}, {\"source\": \"simulation\", \"carrier\": \"AL1\", \"flt_no\": 101, \"booking_class\": \"Y3\", \"days_prior\": 7, \"forecast_mean\": 0.0}, {\"source\": \"simulation\", \"carrier\": \"AL1\", \"flt_no\": 101, \"booking_class\": \"Y3\", \"days_prior\": 10, \"forecast_mean\": 0.0}, {\"source\": \"simulation\", \"carrier\": \"AL1\", \"flt_no\": 101, \"booking_class\": \"Y3\", \"days_prior\": 14, \"forecast_mean\": 0.0}, {\"source\": \"simulation\", \"carrier\": \"AL1\", \"flt_no\": 101, \"booking_class\": \"Y3\", \"days_prior\": 17, \"forecast_mean\": 0.0}, {\"source\": \"simulation\", \"carrier\": \"AL1\", \"flt_no\": 101, \"booking_class\": \"Y3\", \"days_prior\": 21, \"forecast_mean\": 0.0}, {\"source\": \"simulation\", \"carrier\": \"AL1\", \"flt_no\": 101, \"booking_class\": \"Y3\", \"days_prior\": 24, \"forecast_mean\": 0.0}, {\"source\": \"simulation\", \"carrier\": \"AL1\", \"flt_no\": 101, \"booking_class\": \"Y3\", \"days_prior\": 28, \"forecast_mean\": 0.0}, {\"source\": \"simulation\", \"carrier\": \"AL1\", \"flt_no\": 101, \"booking_class\": \"Y3\", \"days_prior\": 31, \"forecast_mean\": 0.0}, {\"source\": \"simulation\", \"carrier\": \"AL1\", \"flt_no\": 101, \"booking_class\": \"Y3\", \"days_prior\": 35, \"forecast_mean\": 0.0}, {\"source\": \"simulation\", \"carrier\": \"AL1\", \"flt_no\": 101, \"booking_class\": \"Y3\", \"days_prior\": 42, \"forecast_mean\": 0.0}, {\"source\": \"simulation\", \"carrier\": \"AL1\", \"flt_no\": 101, \"booking_class\": \"Y3\", \"days_prior\": 49, \"forecast_mean\": 0.0}, {\"source\": \"simulation\", \"carrier\": \"AL1\", \"flt_no\": 101, \"booking_class\": \"Y3\", \"days_prior\": 56, \"forecast_mean\": 0.0}, {\"source\": \"simulation\", \"carrier\": \"AL1\", \"flt_no\": 101, \"booking_class\": \"Y3\", \"days_prior\": 63, \"forecast_mean\": 0.0}, {\"source\": \"simulation\", \"carrier\": \"AL1\", \"flt_no\": 101, \"booking_class\": \"Y4\", \"days_prior\": 0, \"forecast_mean\": 0.0}, {\"source\": \"simulation\", \"carrier\": \"AL1\", \"flt_no\": 101, \"booking_class\": \"Y4\", \"days_prior\": 1, \"forecast_mean\": 0.0}, {\"source\": \"simulation\", \"carrier\": \"AL1\", \"flt_no\": 101, \"booking_class\": \"Y4\", \"days_prior\": 3, \"forecast_mean\": 0.0}, {\"source\": \"simulation\", \"carrier\": \"AL1\", \"flt_no\": 101, \"booking_class\": \"Y4\", \"days_prior\": 5, \"forecast_mean\": 0.0}, {\"source\": \"simulation\", \"carrier\": \"AL1\", \"flt_no\": 101, \"booking_class\": \"Y4\", \"days_prior\": 7, \"forecast_mean\": 0.0}, {\"source\": \"simulation\", \"carrier\": \"AL1\", \"flt_no\": 101, \"booking_class\": \"Y4\", \"days_prior\": 10, \"forecast_mean\": 0.0}, {\"source\": \"simulation\", \"carrier\": \"AL1\", \"flt_no\": 101, \"booking_class\": \"Y4\", \"days_prior\": 14, \"forecast_mean\": 0.0}, {\"source\": \"simulation\", \"carrier\": \"AL1\", \"flt_no\": 101, \"booking_class\": \"Y4\", \"days_prior\": 17, \"forecast_mean\": 0.0}, {\"source\": \"simulation\", \"carrier\": \"AL1\", \"flt_no\": 101, \"booking_class\": \"Y4\", \"days_prior\": 21, \"forecast_mean\": 0.0}, {\"source\": \"simulation\", \"carrier\": \"AL1\", \"flt_no\": 101, \"booking_class\": \"Y4\", \"days_prior\": 24, \"forecast_mean\": 0.0}, {\"source\": \"simulation\", \"carrier\": \"AL1\", \"flt_no\": 101, \"booking_class\": \"Y4\", \"days_prior\": 28, \"forecast_mean\": 0.0}, {\"source\": \"simulation\", \"carrier\": \"AL1\", \"flt_no\": 101, \"booking_class\": \"Y4\", \"days_prior\": 31, \"forecast_mean\": 0.0}, {\"source\": \"simulation\", \"carrier\": \"AL1\", \"flt_no\": 101, \"booking_class\": \"Y4\", \"days_prior\": 35, \"forecast_mean\": 0.0}, {\"source\": \"simulation\", \"carrier\": \"AL1\", \"flt_no\": 101, \"booking_class\": \"Y4\", \"days_prior\": 42, \"forecast_mean\": 0.0}, {\"source\": \"simulation\", \"carrier\": \"AL1\", \"flt_no\": 101, \"booking_class\": \"Y4\", \"days_prior\": 49, \"forecast_mean\": 0.0}, {\"source\": \"simulation\", \"carrier\": \"AL1\", \"flt_no\": 101, \"booking_class\": \"Y4\", \"days_prior\": 56, \"forecast_mean\": 0.0}, {\"source\": \"simulation\", \"carrier\": \"AL1\", \"flt_no\": 101, \"booking_class\": \"Y4\", \"days_prior\": 63, \"forecast_mean\": 0.0}, {\"source\": \"simulation\", \"carrier\": \"AL1\", \"flt_no\": 101, \"booking_class\": \"Y5\", \"days_prior\": 0, \"forecast_mean\": 0.0}, {\"source\": \"simulation\", \"carrier\": \"AL1\", \"flt_no\": 101, \"booking_class\": \"Y5\", \"days_prior\": 1, \"forecast_mean\": 0.0}, {\"source\": \"simulation\", \"carrier\": \"AL1\", \"flt_no\": 101, \"booking_class\": \"Y5\", \"days_prior\": 3, \"forecast_mean\": 0.0}, {\"source\": \"simulation\", \"carrier\": \"AL1\", \"flt_no\": 101, \"booking_class\": \"Y5\", \"days_prior\": 5, \"forecast_mean\": 0.0}, {\"source\": \"simulation\", \"carrier\": \"AL1\", \"flt_no\": 101, \"booking_class\": \"Y5\", \"days_prior\": 7, \"forecast_mean\": 0.0}, {\"source\": \"simulation\", \"carrier\": \"AL1\", \"flt_no\": 101, \"booking_class\": \"Y5\", \"days_prior\": 10, \"forecast_mean\": 0.0}, {\"source\": \"simulation\", \"carrier\": \"AL1\", \"flt_no\": 101, \"booking_class\": \"Y5\", \"days_prior\": 14, \"forecast_mean\": 0.0}, {\"source\": \"simulation\", \"carrier\": \"AL1\", \"flt_no\": 101, \"booking_class\": \"Y5\", \"days_prior\": 17, \"forecast_mean\": 0.0}, {\"source\": \"simulation\", \"carrier\": \"AL1\", \"flt_no\": 101, \"booking_class\": \"Y5\", \"days_prior\": 21, \"forecast_mean\": 0.0}, {\"source\": \"simulation\", \"carrier\": \"AL1\", \"flt_no\": 101, \"booking_class\": \"Y5\", \"days_prior\": 24, \"forecast_mean\": 0.0}, {\"source\": \"simulation\", \"carrier\": \"AL1\", \"flt_no\": 101, \"booking_class\": \"Y5\", \"days_prior\": 28, \"forecast_mean\": 0.0}, {\"source\": \"simulation\", \"carrier\": \"AL1\", \"flt_no\": 101, \"booking_class\": \"Y5\", \"days_prior\": 31, \"forecast_mean\": 0.0}, {\"source\": \"simulation\", \"carrier\": \"AL1\", \"flt_no\": 101, \"booking_class\": \"Y5\", \"days_prior\": 35, \"forecast_mean\": 0.0}, {\"source\": \"simulation\", \"carrier\": \"AL1\", \"flt_no\": 101, \"booking_class\": \"Y5\", \"days_prior\": 42, \"forecast_mean\": 0.0}, {\"source\": \"simulation\", \"carrier\": \"AL1\", \"flt_no\": 101, \"booking_class\": \"Y5\", \"days_prior\": 49, \"forecast_mean\": 0.0}, {\"source\": \"simulation\", \"carrier\": \"AL1\", \"flt_no\": 101, \"booking_class\": \"Y5\", \"days_prior\": 56, \"forecast_mean\": 0.0}, {\"source\": \"simulation\", \"carrier\": \"AL1\", \"flt_no\": 101, \"booking_class\": \"Y5\", \"days_prior\": 63, \"forecast_mean\": 0.0}, {\"source\": \"target\", \"carrier\": \"AL1\", \"flt_no\": 101, \"booking_class\": \"Y0\", \"days_prior\": 63, \"forecast_mean\": 18.09}, {\"source\": \"target\", \"carrier\": \"AL1\", \"flt_no\": 101, \"booking_class\": \"Y0\", \"days_prior\": 56, \"forecast_mean\": 18.04}, {\"source\": \"target\", \"carrier\": \"AL1\", \"flt_no\": 101, \"booking_class\": \"Y0\", \"days_prior\": 49, \"forecast_mean\": 18.03}, {\"source\": \"target\", \"carrier\": \"AL1\", \"flt_no\": 101, \"booking_class\": \"Y0\", \"days_prior\": 42, \"forecast_mean\": 17.97}, {\"source\": \"target\", \"carrier\": \"AL1\", \"flt_no\": 101, \"booking_class\": \"Y0\", \"days_prior\": 35, \"forecast_mean\": 17.87}, {\"source\": \"target\", \"carrier\": \"AL1\", \"flt_no\": 101, \"booking_class\": \"Y0\", \"days_prior\": 31, \"forecast_mean\": 17.77}, {\"source\": \"target\", \"carrier\": \"AL1\", \"flt_no\": 101, \"booking_class\": \"Y0\", \"days_prior\": 28, \"forecast_mean\": 17.66}, {\"source\": \"target\", \"carrier\": \"AL1\", \"flt_no\": 101, \"booking_class\": \"Y0\", \"days_prior\": 24, \"forecast_mean\": 17.41}, {\"source\": \"target\", \"carrier\": \"AL1\", \"flt_no\": 101, \"booking_class\": \"Y0\", \"days_prior\": 21, \"forecast_mean\": 17.03}, {\"source\": \"target\", \"carrier\": \"AL1\", \"flt_no\": 101, \"booking_class\": \"Y0\", \"days_prior\": 17, \"forecast_mean\": 16.21}, {\"source\": \"target\", \"carrier\": \"AL1\", \"flt_no\": 101, \"booking_class\": \"Y0\", \"days_prior\": 14, \"forecast_mean\": 15.0}, {\"source\": \"target\", \"carrier\": \"AL1\", \"flt_no\": 101, \"booking_class\": \"Y0\", \"days_prior\": 10, \"forecast_mean\": 12.48}, {\"source\": \"target\", \"carrier\": \"AL1\", \"flt_no\": 101, \"booking_class\": \"Y0\", \"days_prior\": 7, \"forecast_mean\": 9.47}, {\"source\": \"target\", \"carrier\": \"AL1\", \"flt_no\": 101, \"booking_class\": \"Y0\", \"days_prior\": 5, \"forecast_mean\": 7.46}, {\"source\": \"target\", \"carrier\": \"AL1\", \"flt_no\": 101, \"booking_class\": \"Y0\", \"days_prior\": 3, \"forecast_mean\": 5.36}, {\"source\": \"target\", \"carrier\": \"AL1\", \"flt_no\": 101, \"booking_class\": \"Y0\", \"days_prior\": 1, \"forecast_mean\": 1.24}, {\"source\": \"target\", \"carrier\": \"AL1\", \"flt_no\": 101, \"booking_class\": \"Y1\", \"days_prior\": 63, \"forecast_mean\": 7.17}, {\"source\": \"target\", \"carrier\": \"AL1\", \"flt_no\": 101, \"booking_class\": \"Y1\", \"days_prior\": 56, \"forecast_mean\": 7.15}, {\"source\": \"target\", \"carrier\": \"AL1\", \"flt_no\": 101, \"booking_class\": \"Y1\", \"days_prior\": 49, \"forecast_mean\": 7.14}, {\"source\": \"target\", \"carrier\": \"AL1\", \"flt_no\": 101, \"booking_class\": \"Y1\", \"days_prior\": 42, \"forecast_mean\": 7.09}, {\"source\": \"target\", \"carrier\": \"AL1\", \"flt_no\": 101, \"booking_class\": \"Y1\", \"days_prior\": 35, \"forecast_mean\": 7.02}, {\"source\": \"target\", \"carrier\": \"AL1\", \"flt_no\": 101, \"booking_class\": \"Y1\", \"days_prior\": 31, \"forecast_mean\": 6.92}, {\"source\": \"target\", \"carrier\": \"AL1\", \"flt_no\": 101, \"booking_class\": \"Y1\", \"days_prior\": 28, \"forecast_mean\": 6.8}, {\"source\": \"target\", \"carrier\": \"AL1\", \"flt_no\": 101, \"booking_class\": \"Y1\", \"days_prior\": 24, \"forecast_mean\": 6.5}, {\"source\": \"target\", \"carrier\": \"AL1\", \"flt_no\": 101, \"booking_class\": \"Y1\", \"days_prior\": 21, \"forecast_mean\": 6.12}, {\"source\": \"target\", \"carrier\": \"AL1\", \"flt_no\": 101, \"booking_class\": \"Y1\", \"days_prior\": 17, \"forecast_mean\": 5.58}, {\"source\": \"target\", \"carrier\": \"AL1\", \"flt_no\": 101, \"booking_class\": \"Y1\", \"days_prior\": 14, \"forecast_mean\": 4.98}, {\"source\": \"target\", \"carrier\": \"AL1\", \"flt_no\": 101, \"booking_class\": \"Y1\", \"days_prior\": 10, \"forecast_mean\": 4.06}, {\"source\": \"target\", \"carrier\": \"AL1\", \"flt_no\": 101, \"booking_class\": \"Y1\", \"days_prior\": 7, \"forecast_mean\": 3.02}, {\"source\": \"target\", \"carrier\": \"AL1\", \"flt_no\": 101, \"booking_class\": \"Y1\", \"days_prior\": 5, \"forecast_mean\": 2.37}, {\"source\": \"target\", \"carrier\": \"AL1\", \"flt_no\": 101, \"booking_class\": \"Y1\", \"days_prior\": 3, \"forecast_mean\": 1.69}, {\"source\": \"target\", \"carrier\": \"AL1\", \"flt_no\": 101, \"booking_class\": \"Y1\", \"days_prior\": 1, \"forecast_mean\": 0.39}, {\"source\": \"target\", \"carrier\": \"AL1\", \"flt_no\": 101, \"booking_class\": \"Y2\", \"days_prior\": 63, \"forecast_mean\": 6.67}, {\"source\": \"target\", \"carrier\": \"AL1\", \"flt_no\": 101, \"booking_class\": \"Y2\", \"days_prior\": 56, \"forecast_mean\": 6.41}, {\"source\": \"target\", \"carrier\": \"AL1\", \"flt_no\": 101, \"booking_class\": \"Y2\", \"days_prior\": 49, \"forecast_mean\": 6.28}, {\"source\": \"target\", \"carrier\": \"AL1\", \"flt_no\": 101, \"booking_class\": \"Y2\", \"days_prior\": 42, \"forecast_mean\": 5.85}, {\"source\": \"target\", \"carrier\": \"AL1\", \"flt_no\": 101, \"booking_class\": \"Y2\", \"days_prior\": 35, \"forecast_mean\": 5.38}, {\"source\": \"target\", \"carrier\": \"AL1\", \"flt_no\": 101, \"booking_class\": \"Y2\", \"days_prior\": 31, \"forecast_mean\": 4.86}, {\"source\": \"target\", \"carrier\": \"AL1\", \"flt_no\": 101, \"booking_class\": \"Y2\", \"days_prior\": 28, \"forecast_mean\": 4.39}, {\"source\": \"target\", \"carrier\": \"AL1\", \"flt_no\": 101, \"booking_class\": \"Y2\", \"days_prior\": 24, \"forecast_mean\": 3.37}, {\"source\": \"target\", \"carrier\": \"AL1\", \"flt_no\": 101, \"booking_class\": \"Y2\", \"days_prior\": 21, \"forecast_mean\": 2.23}, {\"source\": \"target\", \"carrier\": \"AL1\", \"flt_no\": 101, \"booking_class\": \"Y2\", \"days_prior\": 17, \"forecast_mean\": 1.09}, {\"source\": \"target\", \"carrier\": \"AL1\", \"flt_no\": 101, \"booking_class\": \"Y2\", \"days_prior\": 14, \"forecast_mean\": 0.0}, {\"source\": \"target\", \"carrier\": \"AL1\", \"flt_no\": 101, \"booking_class\": \"Y2\", \"days_prior\": 10, \"forecast_mean\": 0.0}, {\"source\": \"target\", \"carrier\": \"AL1\", \"flt_no\": 101, \"booking_class\": \"Y2\", \"days_prior\": 7, \"forecast_mean\": 0.0}, {\"source\": \"target\", \"carrier\": \"AL1\", \"flt_no\": 101, \"booking_class\": \"Y2\", \"days_prior\": 5, \"forecast_mean\": 0.0}, {\"source\": \"target\", \"carrier\": \"AL1\", \"flt_no\": 101, \"booking_class\": \"Y2\", \"days_prior\": 3, \"forecast_mean\": 0.0}, {\"source\": \"target\", \"carrier\": \"AL1\", \"flt_no\": 101, \"booking_class\": \"Y2\", \"days_prior\": 1, \"forecast_mean\": 0.0}, {\"source\": \"target\", \"carrier\": \"AL1\", \"flt_no\": 101, \"booking_class\": \"Y3\", \"days_prior\": 63, \"forecast_mean\": 11.33}, {\"source\": \"target\", \"carrier\": \"AL1\", \"flt_no\": 101, \"booking_class\": \"Y3\", \"days_prior\": 56, \"forecast_mean\": 9.84}, {\"source\": \"target\", \"carrier\": \"AL1\", \"flt_no\": 101, \"booking_class\": \"Y3\", \"days_prior\": 49, \"forecast_mean\": 9.03}, {\"source\": \"target\", \"carrier\": \"AL1\", \"flt_no\": 101, \"booking_class\": \"Y3\", \"days_prior\": 42, \"forecast_mean\": 7.71}, {\"source\": \"target\", \"carrier\": \"AL1\", \"flt_no\": 101, \"booking_class\": \"Y3\", \"days_prior\": 35, \"forecast_mean\": 6.24}, {\"source\": \"target\", \"carrier\": \"AL1\", \"flt_no\": 101, \"booking_class\": \"Y3\", \"days_prior\": 31, \"forecast_mean\": 5.09}, {\"source\": \"target\", \"carrier\": \"AL1\", \"flt_no\": 101, \"booking_class\": \"Y3\", \"days_prior\": 28, \"forecast_mean\": 4.25}, {\"source\": \"target\", \"carrier\": \"AL1\", \"flt_no\": 101, \"booking_class\": \"Y3\", \"days_prior\": 24, \"forecast_mean\": 2.71}, {\"source\": \"target\", \"carrier\": \"AL1\", \"flt_no\": 101, \"booking_class\": \"Y3\", \"days_prior\": 21, \"forecast_mean\": 1.17}, {\"source\": \"target\", \"carrier\": \"AL1\", \"flt_no\": 101, \"booking_class\": \"Y3\", \"days_prior\": 17, \"forecast_mean\": 0.0}, {\"source\": \"target\", \"carrier\": \"AL1\", \"flt_no\": 101, \"booking_class\": \"Y3\", \"days_prior\": 14, \"forecast_mean\": 0.0}, {\"source\": \"target\", \"carrier\": \"AL1\", \"flt_no\": 101, \"booking_class\": \"Y3\", \"days_prior\": 10, \"forecast_mean\": 0.0}, {\"source\": \"target\", \"carrier\": \"AL1\", \"flt_no\": 101, \"booking_class\": \"Y3\", \"days_prior\": 7, \"forecast_mean\": 0.0}, {\"source\": \"target\", \"carrier\": \"AL1\", \"flt_no\": 101, \"booking_class\": \"Y3\", \"days_prior\": 5, \"forecast_mean\": 0.0}, {\"source\": \"target\", \"carrier\": \"AL1\", \"flt_no\": 101, \"booking_class\": \"Y3\", \"days_prior\": 3, \"forecast_mean\": 0.0}, {\"source\": \"target\", \"carrier\": \"AL1\", \"flt_no\": 101, \"booking_class\": \"Y3\", \"days_prior\": 1, \"forecast_mean\": 0.0}, {\"source\": \"target\", \"carrier\": \"AL1\", \"flt_no\": 101, \"booking_class\": \"Y4\", \"days_prior\": 63, \"forecast_mean\": 14.98}, {\"source\": \"target\", \"carrier\": \"AL1\", \"flt_no\": 101, \"booking_class\": \"Y4\", \"days_prior\": 56, \"forecast_mean\": 11.49}, {\"source\": \"target\", \"carrier\": \"AL1\", \"flt_no\": 101, \"booking_class\": \"Y4\", \"days_prior\": 49, \"forecast_mean\": 9.59}, {\"source\": \"target\", \"carrier\": \"AL1\", \"flt_no\": 101, \"booking_class\": \"Y4\", \"days_prior\": 42, \"forecast_mean\": 7.53}, {\"source\": \"target\", \"carrier\": \"AL1\", \"flt_no\": 101, \"booking_class\": \"Y4\", \"days_prior\": 35, \"forecast_mean\": 5.26}, {\"source\": \"target\", \"carrier\": \"AL1\", \"flt_no\": 101, \"booking_class\": \"Y4\", \"days_prior\": 31, \"forecast_mean\": 3.82}, {\"source\": \"target\", \"carrier\": \"AL1\", \"flt_no\": 101, \"booking_class\": \"Y4\", \"days_prior\": 28, \"forecast_mean\": 2.91}, {\"source\": \"target\", \"carrier\": \"AL1\", \"flt_no\": 101, \"booking_class\": \"Y4\", \"days_prior\": 24, \"forecast_mean\": 1.39}, {\"source\": \"target\", \"carrier\": \"AL1\", \"flt_no\": 101, \"booking_class\": \"Y4\", \"days_prior\": 21, \"forecast_mean\": 0.0}, {\"source\": \"target\", \"carrier\": \"AL1\", \"flt_no\": 101, \"booking_class\": \"Y4\", \"days_prior\": 17, \"forecast_mean\": 0.0}, {\"source\": \"target\", \"carrier\": \"AL1\", \"flt_no\": 101, \"booking_class\": \"Y4\", \"days_prior\": 14, \"forecast_mean\": 0.0}, {\"source\": \"target\", \"carrier\": \"AL1\", \"flt_no\": 101, \"booking_class\": \"Y4\", \"days_prior\": 10, \"forecast_mean\": 0.0}, {\"source\": \"target\", \"carrier\": \"AL1\", \"flt_no\": 101, \"booking_class\": \"Y4\", \"days_prior\": 7, \"forecast_mean\": 0.0}, {\"source\": \"target\", \"carrier\": \"AL1\", \"flt_no\": 101, \"booking_class\": \"Y4\", \"days_prior\": 5, \"forecast_mean\": 0.0}, {\"source\": \"target\", \"carrier\": \"AL1\", \"flt_no\": 101, \"booking_class\": \"Y4\", \"days_prior\": 3, \"forecast_mean\": 0.0}, {\"source\": \"target\", \"carrier\": \"AL1\", \"flt_no\": 101, \"booking_class\": \"Y4\", \"days_prior\": 1, \"forecast_mean\": 0.0}, {\"source\": \"target\", \"carrier\": \"AL1\", \"flt_no\": 101, \"booking_class\": \"Y5\", \"days_prior\": 63, \"forecast_mean\": 23.85}, {\"source\": \"target\", \"carrier\": \"AL1\", \"flt_no\": 101, \"booking_class\": \"Y5\", \"days_prior\": 56, \"forecast_mean\": 16.67}, {\"source\": \"target\", \"carrier\": \"AL1\", \"flt_no\": 101, \"booking_class\": \"Y5\", \"days_prior\": 49, \"forecast_mean\": 12.74}, {\"source\": \"target\", \"carrier\": \"AL1\", \"flt_no\": 101, \"booking_class\": \"Y5\", \"days_prior\": 42, \"forecast_mean\": 9.61}, {\"source\": \"target\", \"carrier\": \"AL1\", \"flt_no\": 101, \"booking_class\": \"Y5\", \"days_prior\": 35, \"forecast_mean\": 6.17}, {\"source\": \"target\", \"carrier\": \"AL1\", \"flt_no\": 101, \"booking_class\": \"Y5\", \"days_prior\": 31, \"forecast_mean\": 4.26}, {\"source\": \"target\", \"carrier\": \"AL1\", \"flt_no\": 101, \"booking_class\": \"Y5\", \"days_prior\": 28, \"forecast_mean\": 3.18}, {\"source\": \"target\", \"carrier\": \"AL1\", \"flt_no\": 101, \"booking_class\": \"Y5\", \"days_prior\": 24, \"forecast_mean\": 1.48}, {\"source\": \"target\", \"carrier\": \"AL1\", \"flt_no\": 101, \"booking_class\": \"Y5\", \"days_prior\": 21, \"forecast_mean\": 0.0}, {\"source\": \"target\", \"carrier\": \"AL1\", \"flt_no\": 101, \"booking_class\": \"Y5\", \"days_prior\": 17, \"forecast_mean\": 0.0}, {\"source\": \"target\", \"carrier\": \"AL1\", \"flt_no\": 101, \"booking_class\": \"Y5\", \"days_prior\": 14, \"forecast_mean\": 0.0}, {\"source\": \"target\", \"carrier\": \"AL1\", \"flt_no\": 101, \"booking_class\": \"Y5\", \"days_prior\": 10, \"forecast_mean\": 0.0}, {\"source\": \"target\", \"carrier\": \"AL1\", \"flt_no\": 101, \"booking_class\": \"Y5\", \"days_prior\": 7, \"forecast_mean\": 0.0}, {\"source\": \"target\", \"carrier\": \"AL1\", \"flt_no\": 101, \"booking_class\": \"Y5\", \"days_prior\": 5, \"forecast_mean\": 0.0}, {\"source\": \"target\", \"carrier\": \"AL1\", \"flt_no\": 101, \"booking_class\": \"Y5\", \"days_prior\": 3, \"forecast_mean\": 0.0}, {\"source\": \"target\", \"carrier\": \"AL1\", \"flt_no\": 101, \"booking_class\": \"Y5\", \"days_prior\": 1, \"forecast_mean\": 0.0}], \"data-b8839c8c502e487b52141cc03855236d\": [{\"source\": \"simulation\", \"carrier\": \"AL1\", \"flt_no\": 101, \"booking_class\": \"Y0\", \"days_prior\": 0, \"forecast_stdev\": 0.0}, {\"source\": \"simulation\", \"carrier\": \"AL1\", \"flt_no\": 101, \"booking_class\": \"Y0\", \"days_prior\": 1, \"forecast_stdev\": 1.659916659455815}, {\"source\": \"simulation\", \"carrier\": \"AL1\", \"flt_no\": 101, \"booking_class\": \"Y0\", \"days_prior\": 3, \"forecast_stdev\": 4.421107231928777}, {\"source\": \"simulation\", \"carrier\": \"AL1\", \"flt_no\": 101, \"booking_class\": \"Y0\", \"days_prior\": 5, \"forecast_stdev\": 5.153277638500457}, {\"source\": \"simulation\", \"carrier\": \"AL1\", \"flt_no\": 101, \"booking_class\": \"Y0\", \"days_prior\": 7, \"forecast_stdev\": 5.707895953853261}, {\"source\": \"simulation\", \"carrier\": \"AL1\", \"flt_no\": 101, \"booking_class\": \"Y0\", \"days_prior\": 10, \"forecast_stdev\": 6.80679408158504}, {\"source\": \"simulation\", \"carrier\": \"AL1\", \"flt_no\": 101, \"booking_class\": \"Y0\", \"days_prior\": 14, \"forecast_stdev\": 7.917562956320049}, {\"source\": \"simulation\", \"carrier\": \"AL1\", \"flt_no\": 101, \"booking_class\": \"Y0\", \"days_prior\": 17, \"forecast_stdev\": 8.619640041059418}, {\"source\": \"simulation\", \"carrier\": \"AL1\", \"flt_no\": 101, \"booking_class\": \"Y0\", \"days_prior\": 21, \"forecast_stdev\": 9.722026119848023}, {\"source\": \"simulation\", \"carrier\": \"AL1\", \"flt_no\": 101, \"booking_class\": \"Y0\", \"days_prior\": 24, \"forecast_stdev\": 10.570485730791312}, {\"source\": \"simulation\", \"carrier\": \"AL1\", \"flt_no\": 101, \"booking_class\": \"Y0\", \"days_prior\": 28, \"forecast_stdev\": 11.206433456752453}, {\"source\": \"simulation\", \"carrier\": \"AL1\", \"flt_no\": 101, \"booking_class\": \"Y0\", \"days_prior\": 31, \"forecast_stdev\": 11.427161707874513}, {\"source\": \"simulation\", \"carrier\": \"AL1\", \"flt_no\": 101, \"booking_class\": \"Y0\", \"days_prior\": 35, \"forecast_stdev\": 11.593547793051805}, {\"source\": \"simulation\", \"carrier\": \"AL1\", \"flt_no\": 101, \"booking_class\": \"Y0\", \"days_prior\": 42, \"forecast_stdev\": 11.685323944640503}, {\"source\": \"simulation\", \"carrier\": \"AL1\", \"flt_no\": 101, \"booking_class\": \"Y0\", \"days_prior\": 49, \"forecast_stdev\": 11.750254443627904}, {\"source\": \"simulation\", \"carrier\": \"AL1\", \"flt_no\": 101, \"booking_class\": \"Y0\", \"days_prior\": 56, \"forecast_stdev\": 11.778788820543994}, {\"source\": \"simulation\", \"carrier\": \"AL1\", \"flt_no\": 101, \"booking_class\": \"Y0\", \"days_prior\": 63, \"forecast_stdev\": 11.840662845496738}, {\"source\": \"simulation\", \"carrier\": \"AL1\", \"flt_no\": 101, \"booking_class\": \"Y1\", \"days_prior\": 0, \"forecast_stdev\": 0.0}, {\"source\": \"simulation\", \"carrier\": \"AL1\", \"flt_no\": 101, \"booking_class\": \"Y1\", \"days_prior\": 1, \"forecast_stdev\": 0.9184504413774618}, {\"source\": \"simulation\", \"carrier\": \"AL1\", \"flt_no\": 101, \"booking_class\": \"Y1\", \"days_prior\": 3, \"forecast_stdev\": 2.4190448355833265}, {\"source\": \"simulation\", \"carrier\": \"AL1\", \"flt_no\": 101, \"booking_class\": \"Y1\", \"days_prior\": 5, \"forecast_stdev\": 2.8458130863847195}, {\"source\": \"simulation\", \"carrier\": \"AL1\", \"flt_no\": 101, \"booking_class\": \"Y1\", \"days_prior\": 7, \"forecast_stdev\": 3.161122652560526}, {\"source\": \"simulation\", \"carrier\": \"AL1\", \"flt_no\": 101, \"booking_class\": \"Y1\", \"days_prior\": 10, \"forecast_stdev\": 3.801955305382431}, {\"source\": \"simulation\", \"carrier\": \"AL1\", \"flt_no\": 101, \"booking_class\": \"Y1\", \"days_prior\": 14, \"forecast_stdev\": 4.4858692410700565}, {\"source\": \"simulation\", \"carrier\": \"AL1\", \"flt_no\": 101, \"booking_class\": \"Y1\", \"days_prior\": 17, \"forecast_stdev\": 5.052041377756943}, {\"source\": \"simulation\", \"carrier\": \"AL1\", \"flt_no\": 101, \"booking_class\": \"Y1\", \"days_prior\": 21, \"forecast_stdev\": 6.19817803795645}, {\"source\": \"simulation\", \"carrier\": \"AL1\", \"flt_no\": 101, \"booking_class\": \"Y1\", \"days_prior\": 24, \"forecast_stdev\": 7.5361958284353445}, {\"source\": \"simulation\", \"carrier\": \"AL1\", \"flt_no\": 101, \"booking_class\": \"Y1\", \"days_prior\": 28, \"forecast_stdev\": 8.6646904418477}, {\"source\": \"simulation\", \"carrier\": \"AL1\", \"flt_no\": 101, \"booking_class\": \"Y1\", \"days_prior\": 31, \"forecast_stdev\": 9.134314049296377}, {\"source\": \"simulation\", \"carrier\": \"AL1\", \"flt_no\": 101, \"booking_class\": \"Y1\", \"days_prior\": 35, \"forecast_stdev\": 9.638951949579225}, {\"source\": \"simulation\", \"carrier\": \"AL1\", \"flt_no\": 101, \"booking_class\": \"Y1\", \"days_prior\": 42, \"forecast_stdev\": 10.114396662962292}, {\"source\": \"simulation\", \"carrier\": \"AL1\", \"flt_no\": 101, \"booking_class\": \"Y1\", \"days_prior\": 49, \"forecast_stdev\": 10.463772640986305}, {\"source\": \"simulation\", \"carrier\": \"AL1\", \"flt_no\": 101, \"booking_class\": \"Y1\", \"days_prior\": 56, \"forecast_stdev\": 10.820250730843597}, {\"source\": \"simulation\", \"carrier\": \"AL1\", \"flt_no\": 101, \"booking_class\": \"Y1\", \"days_prior\": 63, \"forecast_stdev\": 11.536248073111123}, {\"source\": \"simulation\", \"carrier\": \"AL1\", \"flt_no\": 101, \"booking_class\": \"Y2\", \"days_prior\": 0, \"forecast_stdev\": 0.0}, {\"source\": \"simulation\", \"carrier\": \"AL1\", \"flt_no\": 101, \"booking_class\": \"Y2\", \"days_prior\": 1, \"forecast_stdev\": 0.0}, {\"source\": \"simulation\", \"carrier\": \"AL1\", \"flt_no\": 101, \"booking_class\": \"Y2\", \"days_prior\": 3, \"forecast_stdev\": 0.0}, {\"source\": \"simulation\", \"carrier\": \"AL1\", \"flt_no\": 101, \"booking_class\": \"Y2\", \"days_prior\": 5, \"forecast_stdev\": 0.0}, {\"source\": \"simulation\", \"carrier\": \"AL1\", \"flt_no\": 101, \"booking_class\": \"Y2\", \"days_prior\": 7, \"forecast_stdev\": 0.0}, {\"source\": \"simulation\", \"carrier\": \"AL1\", \"flt_no\": 101, \"booking_class\": \"Y2\", \"days_prior\": 10, \"forecast_stdev\": 0.0}, {\"source\": \"simulation\", \"carrier\": \"AL1\", \"flt_no\": 101, \"booking_class\": \"Y2\", \"days_prior\": 14, \"forecast_stdev\": 0.0}, {\"source\": \"simulation\", \"carrier\": \"AL1\", \"flt_no\": 101, \"booking_class\": \"Y2\", \"days_prior\": 17, \"forecast_stdev\": 0.0}, {\"source\": \"simulation\", \"carrier\": \"AL1\", \"flt_no\": 101, \"booking_class\": \"Y2\", \"days_prior\": 21, \"forecast_stdev\": 0.0}, {\"source\": \"simulation\", \"carrier\": \"AL1\", \"flt_no\": 101, \"booking_class\": \"Y2\", \"days_prior\": 24, \"forecast_stdev\": 0.0}, {\"source\": \"simulation\", \"carrier\": \"AL1\", \"flt_no\": 101, \"booking_class\": \"Y2\", \"days_prior\": 28, \"forecast_stdev\": 0.0}, {\"source\": \"simulation\", \"carrier\": \"AL1\", \"flt_no\": 101, \"booking_class\": \"Y2\", \"days_prior\": 31, \"forecast_stdev\": 0.0}, {\"source\": \"simulation\", \"carrier\": \"AL1\", \"flt_no\": 101, \"booking_class\": \"Y2\", \"days_prior\": 35, \"forecast_stdev\": 0.0}, {\"source\": \"simulation\", \"carrier\": \"AL1\", \"flt_no\": 101, \"booking_class\": \"Y2\", \"days_prior\": 42, \"forecast_stdev\": 0.0}, {\"source\": \"simulation\", \"carrier\": \"AL1\", \"flt_no\": 101, \"booking_class\": \"Y2\", \"days_prior\": 49, \"forecast_stdev\": 0.0}, {\"source\": \"simulation\", \"carrier\": \"AL1\", \"flt_no\": 101, \"booking_class\": \"Y2\", \"days_prior\": 56, \"forecast_stdev\": 0.0}, {\"source\": \"simulation\", \"carrier\": \"AL1\", \"flt_no\": 101, \"booking_class\": \"Y2\", \"days_prior\": 63, \"forecast_stdev\": 0.0}, {\"source\": \"simulation\", \"carrier\": \"AL1\", \"flt_no\": 101, \"booking_class\": \"Y3\", \"days_prior\": 0, \"forecast_stdev\": 0.0}, {\"source\": \"simulation\", \"carrier\": \"AL1\", \"flt_no\": 101, \"booking_class\": \"Y3\", \"days_prior\": 1, \"forecast_stdev\": 0.0}, {\"source\": \"simulation\", \"carrier\": \"AL1\", \"flt_no\": 101, \"booking_class\": \"Y3\", \"days_prior\": 3, \"forecast_stdev\": 0.0}, {\"source\": \"simulation\", \"carrier\": \"AL1\", \"flt_no\": 101, \"booking_class\": \"Y3\", \"days_prior\": 5, \"forecast_stdev\": 0.0}, {\"source\": \"simulation\", \"carrier\": \"AL1\", \"flt_no\": 101, \"booking_class\": \"Y3\", \"days_prior\": 7, \"forecast_stdev\": 0.0}, {\"source\": \"simulation\", \"carrier\": \"AL1\", \"flt_no\": 101, \"booking_class\": \"Y3\", \"days_prior\": 10, \"forecast_stdev\": 0.0}, {\"source\": \"simulation\", \"carrier\": \"AL1\", \"flt_no\": 101, \"booking_class\": \"Y3\", \"days_prior\": 14, \"forecast_stdev\": 0.0}, {\"source\": \"simulation\", \"carrier\": \"AL1\", \"flt_no\": 101, \"booking_class\": \"Y3\", \"days_prior\": 17, \"forecast_stdev\": 0.0}, {\"source\": \"simulation\", \"carrier\": \"AL1\", \"flt_no\": 101, \"booking_class\": \"Y3\", \"days_prior\": 21, \"forecast_stdev\": 0.0}, {\"source\": \"simulation\", \"carrier\": \"AL1\", \"flt_no\": 101, \"booking_class\": \"Y3\", \"days_prior\": 24, \"forecast_stdev\": 0.0}, {\"source\": \"simulation\", \"carrier\": \"AL1\", \"flt_no\": 101, \"booking_class\": \"Y3\", \"days_prior\": 28, \"forecast_stdev\": 0.0}, {\"source\": \"simulation\", \"carrier\": \"AL1\", \"flt_no\": 101, \"booking_class\": \"Y3\", \"days_prior\": 31, \"forecast_stdev\": 0.0}, {\"source\": \"simulation\", \"carrier\": \"AL1\", \"flt_no\": 101, \"booking_class\": \"Y3\", \"days_prior\": 35, \"forecast_stdev\": 0.0}, {\"source\": \"simulation\", \"carrier\": \"AL1\", \"flt_no\": 101, \"booking_class\": \"Y3\", \"days_prior\": 42, \"forecast_stdev\": 0.0}, {\"source\": \"simulation\", \"carrier\": \"AL1\", \"flt_no\": 101, \"booking_class\": \"Y3\", \"days_prior\": 49, \"forecast_stdev\": 0.0}, {\"source\": \"simulation\", \"carrier\": \"AL1\", \"flt_no\": 101, \"booking_class\": \"Y3\", \"days_prior\": 56, \"forecast_stdev\": 0.0}, {\"source\": \"simulation\", \"carrier\": \"AL1\", \"flt_no\": 101, \"booking_class\": \"Y3\", \"days_prior\": 63, \"forecast_stdev\": 0.0}, {\"source\": \"simulation\", \"carrier\": \"AL1\", \"flt_no\": 101, \"booking_class\": \"Y4\", \"days_prior\": 0, \"forecast_stdev\": 0.0}, {\"source\": \"simulation\", \"carrier\": \"AL1\", \"flt_no\": 101, \"booking_class\": \"Y4\", \"days_prior\": 1, \"forecast_stdev\": 0.0}, {\"source\": \"simulation\", \"carrier\": \"AL1\", \"flt_no\": 101, \"booking_class\": \"Y4\", \"days_prior\": 3, \"forecast_stdev\": 0.0}, {\"source\": \"simulation\", \"carrier\": \"AL1\", \"flt_no\": 101, \"booking_class\": \"Y4\", \"days_prior\": 5, \"forecast_stdev\": 0.0}, {\"source\": \"simulation\", \"carrier\": \"AL1\", \"flt_no\": 101, \"booking_class\": \"Y4\", \"days_prior\": 7, \"forecast_stdev\": 0.0}, {\"source\": \"simulation\", \"carrier\": \"AL1\", \"flt_no\": 101, \"booking_class\": \"Y4\", \"days_prior\": 10, \"forecast_stdev\": 0.0}, {\"source\": \"simulation\", \"carrier\": \"AL1\", \"flt_no\": 101, \"booking_class\": \"Y4\", \"days_prior\": 14, \"forecast_stdev\": 0.0}, {\"source\": \"simulation\", \"carrier\": \"AL1\", \"flt_no\": 101, \"booking_class\": \"Y4\", \"days_prior\": 17, \"forecast_stdev\": 0.0}, {\"source\": \"simulation\", \"carrier\": \"AL1\", \"flt_no\": 101, \"booking_class\": \"Y4\", \"days_prior\": 21, \"forecast_stdev\": 0.0}, {\"source\": \"simulation\", \"carrier\": \"AL1\", \"flt_no\": 101, \"booking_class\": \"Y4\", \"days_prior\": 24, \"forecast_stdev\": 0.0}, {\"source\": \"simulation\", \"carrier\": \"AL1\", \"flt_no\": 101, \"booking_class\": \"Y4\", \"days_prior\": 28, \"forecast_stdev\": 0.0}, {\"source\": \"simulation\", \"carrier\": \"AL1\", \"flt_no\": 101, \"booking_class\": \"Y4\", \"days_prior\": 31, \"forecast_stdev\": 0.0}, {\"source\": \"simulation\", \"carrier\": \"AL1\", \"flt_no\": 101, \"booking_class\": \"Y4\", \"days_prior\": 35, \"forecast_stdev\": 0.0}, {\"source\": \"simulation\", \"carrier\": \"AL1\", \"flt_no\": 101, \"booking_class\": \"Y4\", \"days_prior\": 42, \"forecast_stdev\": 0.0}, {\"source\": \"simulation\", \"carrier\": \"AL1\", \"flt_no\": 101, \"booking_class\": \"Y4\", \"days_prior\": 49, \"forecast_stdev\": 0.0}, {\"source\": \"simulation\", \"carrier\": \"AL1\", \"flt_no\": 101, \"booking_class\": \"Y4\", \"days_prior\": 56, \"forecast_stdev\": 0.0}, {\"source\": \"simulation\", \"carrier\": \"AL1\", \"flt_no\": 101, \"booking_class\": \"Y4\", \"days_prior\": 63, \"forecast_stdev\": 0.0}, {\"source\": \"simulation\", \"carrier\": \"AL1\", \"flt_no\": 101, \"booking_class\": \"Y5\", \"days_prior\": 0, \"forecast_stdev\": 0.0}, {\"source\": \"simulation\", \"carrier\": \"AL1\", \"flt_no\": 101, \"booking_class\": \"Y5\", \"days_prior\": 1, \"forecast_stdev\": 0.0}, {\"source\": \"simulation\", \"carrier\": \"AL1\", \"flt_no\": 101, \"booking_class\": \"Y5\", \"days_prior\": 3, \"forecast_stdev\": 0.0}, {\"source\": \"simulation\", \"carrier\": \"AL1\", \"flt_no\": 101, \"booking_class\": \"Y5\", \"days_prior\": 5, \"forecast_stdev\": 0.0}, {\"source\": \"simulation\", \"carrier\": \"AL1\", \"flt_no\": 101, \"booking_class\": \"Y5\", \"days_prior\": 7, \"forecast_stdev\": 0.0}, {\"source\": \"simulation\", \"carrier\": \"AL1\", \"flt_no\": 101, \"booking_class\": \"Y5\", \"days_prior\": 10, \"forecast_stdev\": 0.0}, {\"source\": \"simulation\", \"carrier\": \"AL1\", \"flt_no\": 101, \"booking_class\": \"Y5\", \"days_prior\": 14, \"forecast_stdev\": 0.0}, {\"source\": \"simulation\", \"carrier\": \"AL1\", \"flt_no\": 101, \"booking_class\": \"Y5\", \"days_prior\": 17, \"forecast_stdev\": 0.0}, {\"source\": \"simulation\", \"carrier\": \"AL1\", \"flt_no\": 101, \"booking_class\": \"Y5\", \"days_prior\": 21, \"forecast_stdev\": 0.0}, {\"source\": \"simulation\", \"carrier\": \"AL1\", \"flt_no\": 101, \"booking_class\": \"Y5\", \"days_prior\": 24, \"forecast_stdev\": 0.0}, {\"source\": \"simulation\", \"carrier\": \"AL1\", \"flt_no\": 101, \"booking_class\": \"Y5\", \"days_prior\": 28, \"forecast_stdev\": 0.0}, {\"source\": \"simulation\", \"carrier\": \"AL1\", \"flt_no\": 101, \"booking_class\": \"Y5\", \"days_prior\": 31, \"forecast_stdev\": 0.0}, {\"source\": \"simulation\", \"carrier\": \"AL1\", \"flt_no\": 101, \"booking_class\": \"Y5\", \"days_prior\": 35, \"forecast_stdev\": 0.0}, {\"source\": \"simulation\", \"carrier\": \"AL1\", \"flt_no\": 101, \"booking_class\": \"Y5\", \"days_prior\": 42, \"forecast_stdev\": 0.0}, {\"source\": \"simulation\", \"carrier\": \"AL1\", \"flt_no\": 101, \"booking_class\": \"Y5\", \"days_prior\": 49, \"forecast_stdev\": 0.0}, {\"source\": \"simulation\", \"carrier\": \"AL1\", \"flt_no\": 101, \"booking_class\": \"Y5\", \"days_prior\": 56, \"forecast_stdev\": 0.0}, {\"source\": \"simulation\", \"carrier\": \"AL1\", \"flt_no\": 101, \"booking_class\": \"Y5\", \"days_prior\": 63, \"forecast_stdev\": 0.0}, {\"source\": \"target\", \"carrier\": \"AL1\", \"flt_no\": 101, \"booking_class\": \"Y0\", \"days_prior\": 63, \"forecast_stdev\": 9.8}, {\"source\": \"target\", \"carrier\": \"AL1\", \"flt_no\": 101, \"booking_class\": \"Y0\", \"days_prior\": 56, \"forecast_stdev\": 9.64}, {\"source\": \"target\", \"carrier\": \"AL1\", \"flt_no\": 101, \"booking_class\": \"Y0\", \"days_prior\": 49, \"forecast_stdev\": 9.53}, {\"source\": \"target\", \"carrier\": \"AL1\", \"flt_no\": 101, \"booking_class\": \"Y0\", \"days_prior\": 42, \"forecast_stdev\": 9.34}, {\"source\": \"target\", \"carrier\": \"AL1\", \"flt_no\": 101, \"booking_class\": \"Y0\", \"days_prior\": 35, \"forecast_stdev\": 9.07}, {\"source\": \"target\", \"carrier\": \"AL1\", \"flt_no\": 101, \"booking_class\": \"Y0\", \"days_prior\": 31, \"forecast_stdev\": 8.89}, {\"source\": \"target\", \"carrier\": \"AL1\", \"flt_no\": 101, \"booking_class\": \"Y0\", \"days_prior\": 28, \"forecast_stdev\": 8.76}, {\"source\": \"target\", \"carrier\": \"AL1\", \"flt_no\": 101, \"booking_class\": \"Y0\", \"days_prior\": 24, \"forecast_stdev\": 8.55}, {\"source\": \"target\", \"carrier\": \"AL1\", \"flt_no\": 101, \"booking_class\": \"Y0\", \"days_prior\": 21, \"forecast_stdev\": 8.42}, {\"source\": \"target\", \"carrier\": \"AL1\", \"flt_no\": 101, \"booking_class\": \"Y0\", \"days_prior\": 17, \"forecast_stdev\": 8.08}, {\"source\": \"target\", \"carrier\": \"AL1\", \"flt_no\": 101, \"booking_class\": \"Y0\", \"days_prior\": 14, \"forecast_stdev\": 7.64}, {\"source\": \"target\", \"carrier\": \"AL1\", \"flt_no\": 101, \"booking_class\": \"Y0\", \"days_prior\": 10, \"forecast_stdev\": 6.78}, {\"source\": \"target\", \"carrier\": \"AL1\", \"flt_no\": 101, \"booking_class\": \"Y0\", \"days_prior\": 7, \"forecast_stdev\": 5.76}, {\"source\": \"target\", \"carrier\": \"AL1\", \"flt_no\": 101, \"booking_class\": \"Y0\", \"days_prior\": 5, \"forecast_stdev\": 5.04}, {\"source\": \"target\", \"carrier\": \"AL1\", \"flt_no\": 101, \"booking_class\": \"Y0\", \"days_prior\": 3, \"forecast_stdev\": 4.32}, {\"source\": \"target\", \"carrier\": \"AL1\", \"flt_no\": 101, \"booking_class\": \"Y0\", \"days_prior\": 1, \"forecast_stdev\": 1.8}, {\"source\": \"target\", \"carrier\": \"AL1\", \"flt_no\": 101, \"booking_class\": \"Y1\", \"days_prior\": 63, \"forecast_stdev\": 5.99}, {\"source\": \"target\", \"carrier\": \"AL1\", \"flt_no\": 101, \"booking_class\": \"Y1\", \"days_prior\": 56, \"forecast_stdev\": 5.9}, {\"source\": \"target\", \"carrier\": \"AL1\", \"flt_no\": 101, \"booking_class\": \"Y1\", \"days_prior\": 49, \"forecast_stdev\": 5.83}, {\"source\": \"target\", \"carrier\": \"AL1\", \"flt_no\": 101, \"booking_class\": \"Y1\", \"days_prior\": 42, \"forecast_stdev\": 5.72}, {\"source\": \"target\", \"carrier\": \"AL1\", \"flt_no\": 101, \"booking_class\": \"Y1\", \"days_prior\": 35, \"forecast_stdev\": 5.56}, {\"source\": \"target\", \"carrier\": \"AL1\", \"flt_no\": 101, \"booking_class\": \"Y1\", \"days_prior\": 31, \"forecast_stdev\": 5.43}, {\"source\": \"target\", \"carrier\": \"AL1\", \"flt_no\": 101, \"booking_class\": \"Y1\", \"days_prior\": 28, \"forecast_stdev\": 5.33}, {\"source\": \"target\", \"carrier\": \"AL1\", \"flt_no\": 101, \"booking_class\": \"Y1\", \"days_prior\": 24, \"forecast_stdev\": 5.13}, {\"source\": \"target\", \"carrier\": \"AL1\", \"flt_no\": 101, \"booking_class\": \"Y1\", \"days_prior\": 21, \"forecast_stdev\": 4.96}, {\"source\": \"target\", \"carrier\": \"AL1\", \"flt_no\": 101, \"booking_class\": \"Y1\", \"days_prior\": 17, \"forecast_stdev\": 4.67}, {\"source\": \"target\", \"carrier\": \"AL1\", \"flt_no\": 101, \"booking_class\": \"Y1\", \"days_prior\": 14, \"forecast_stdev\": 4.34}, {\"source\": \"target\", \"carrier\": \"AL1\", \"flt_no\": 101, \"booking_class\": \"Y1\", \"days_prior\": 10, \"forecast_stdev\": 3.81}, {\"source\": \"target\", \"carrier\": \"AL1\", \"flt_no\": 101, \"booking_class\": \"Y1\", \"days_prior\": 7, \"forecast_stdev\": 3.2}, {\"source\": \"target\", \"carrier\": \"AL1\", \"flt_no\": 101, \"booking_class\": \"Y1\", \"days_prior\": 5, \"forecast_stdev\": 2.79}, {\"source\": \"target\", \"carrier\": \"AL1\", \"flt_no\": 101, \"booking_class\": \"Y1\", \"days_prior\": 3, \"forecast_stdev\": 2.36}, {\"source\": \"target\", \"carrier\": \"AL1\", \"flt_no\": 101, \"booking_class\": \"Y1\", \"days_prior\": 1, \"forecast_stdev\": 1.0}, {\"source\": \"target\", \"carrier\": \"AL1\", \"flt_no\": 101, \"booking_class\": \"Y2\", \"days_prior\": 63, \"forecast_stdev\": 5.79}, {\"source\": \"target\", \"carrier\": \"AL1\", \"flt_no\": 101, \"booking_class\": \"Y2\", \"days_prior\": 56, \"forecast_stdev\": 5.6}, {\"source\": \"target\", \"carrier\": \"AL1\", \"flt_no\": 101, \"booking_class\": \"Y2\", \"days_prior\": 49, \"forecast_stdev\": 5.49}, {\"source\": \"target\", \"carrier\": \"AL1\", \"flt_no\": 101, \"booking_class\": \"Y2\", \"days_prior\": 42, \"forecast_stdev\": 5.22}, {\"source\": \"target\", \"carrier\": \"AL1\", \"flt_no\": 101, \"booking_class\": \"Y2\", \"days_prior\": 35, \"forecast_stdev\": 4.89}, {\"source\": \"target\", \"carrier\": \"AL1\", \"flt_no\": 101, \"booking_class\": \"Y2\", \"days_prior\": 31, \"forecast_stdev\": 4.57}, {\"source\": \"target\", \"carrier\": \"AL1\", \"flt_no\": 101, \"booking_class\": \"Y2\", \"days_prior\": 28, \"forecast_stdev\": 4.3}, {\"source\": \"target\", \"carrier\": \"AL1\", \"flt_no\": 101, \"booking_class\": \"Y2\", \"days_prior\": 24, \"forecast_stdev\": 3.71}, {\"source\": \"target\", \"carrier\": \"AL1\", \"flt_no\": 101, \"booking_class\": \"Y2\", \"days_prior\": 21, \"forecast_stdev\": 3.02}, {\"source\": \"target\", \"carrier\": \"AL1\", \"flt_no\": 101, \"booking_class\": \"Y2\", \"days_prior\": 17, \"forecast_stdev\": 2.07}, {\"source\": \"target\", \"carrier\": \"AL1\", \"flt_no\": 101, \"booking_class\": \"Y2\", \"days_prior\": 14, \"forecast_stdev\": 0.0}, {\"source\": \"target\", \"carrier\": \"AL1\", \"flt_no\": 101, \"booking_class\": \"Y2\", \"days_prior\": 10, \"forecast_stdev\": 0.0}, {\"source\": \"target\", \"carrier\": \"AL1\", \"flt_no\": 101, \"booking_class\": \"Y2\", \"days_prior\": 7, \"forecast_stdev\": 0.0}, {\"source\": \"target\", \"carrier\": \"AL1\", \"flt_no\": 101, \"booking_class\": \"Y2\", \"days_prior\": 5, \"forecast_stdev\": 0.0}, {\"source\": \"target\", \"carrier\": \"AL1\", \"flt_no\": 101, \"booking_class\": \"Y2\", \"days_prior\": 3, \"forecast_stdev\": 0.0}, {\"source\": \"target\", \"carrier\": \"AL1\", \"flt_no\": 101, \"booking_class\": \"Y2\", \"days_prior\": 1, \"forecast_stdev\": 0.0}, {\"source\": \"target\", \"carrier\": \"AL1\", \"flt_no\": 101, \"booking_class\": \"Y3\", \"days_prior\": 63, \"forecast_stdev\": 7.68}, {\"source\": \"target\", \"carrier\": \"AL1\", \"flt_no\": 101, \"booking_class\": \"Y3\", \"days_prior\": 56, \"forecast_stdev\": 7.06}, {\"source\": \"target\", \"carrier\": \"AL1\", \"flt_no\": 101, \"booking_class\": \"Y3\", \"days_prior\": 49, \"forecast_stdev\": 6.69}, {\"source\": \"target\", \"carrier\": \"AL1\", \"flt_no\": 101, \"booking_class\": \"Y3\", \"days_prior\": 42, \"forecast_stdev\": 6.08}, {\"source\": \"target\", \"carrier\": \"AL1\", \"flt_no\": 101, \"booking_class\": \"Y3\", \"days_prior\": 35, \"forecast_stdev\": 5.34}, {\"source\": \"target\", \"carrier\": \"AL1\", \"flt_no\": 101, \"booking_class\": \"Y3\", \"days_prior\": 31, \"forecast_stdev\": 4.74}, {\"source\": \"target\", \"carrier\": \"AL1\", \"flt_no\": 101, \"booking_class\": \"Y3\", \"days_prior\": 28, \"forecast_stdev\": 4.29}, {\"source\": \"target\", \"carrier\": \"AL1\", \"flt_no\": 101, \"booking_class\": \"Y3\", \"days_prior\": 24, \"forecast_stdev\": 3.36}, {\"source\": \"target\", \"carrier\": \"AL1\", \"flt_no\": 101, \"booking_class\": \"Y3\", \"days_prior\": 21, \"forecast_stdev\": 2.21}, {\"source\": \"target\", \"carrier\": \"AL1\", \"flt_no\": 101, \"booking_class\": \"Y3\", \"days_prior\": 17, \"forecast_stdev\": 0.0}, {\"source\": \"target\", \"carrier\": \"AL1\", \"flt_no\": 101, \"booking_class\": \"Y3\", \"days_prior\": 14, \"forecast_stdev\": 0.0}, {\"source\": \"target\", \"carrier\": \"AL1\", \"flt_no\": 101, \"booking_class\": \"Y3\", \"days_prior\": 10, \"forecast_stdev\": 0.0}, {\"source\": \"target\", \"carrier\": \"AL1\", \"flt_no\": 101, \"booking_class\": \"Y3\", \"days_prior\": 7, \"forecast_stdev\": 0.0}, {\"source\": \"target\", \"carrier\": \"AL1\", \"flt_no\": 101, \"booking_class\": \"Y3\", \"days_prior\": 5, \"forecast_stdev\": 0.0}, {\"source\": \"target\", \"carrier\": \"AL1\", \"flt_no\": 101, \"booking_class\": \"Y3\", \"days_prior\": 3, \"forecast_stdev\": 0.0}, {\"source\": \"target\", \"carrier\": \"AL1\", \"flt_no\": 101, \"booking_class\": \"Y3\", \"days_prior\": 1, \"forecast_stdev\": 0.0}, {\"source\": \"target\", \"carrier\": \"AL1\", \"flt_no\": 101, \"booking_class\": \"Y4\", \"days_prior\": 63, \"forecast_stdev\": 9.01}, {\"source\": \"target\", \"carrier\": \"AL1\", \"flt_no\": 101, \"booking_class\": \"Y4\", \"days_prior\": 56, \"forecast_stdev\": 7.77}, {\"source\": \"target\", \"carrier\": \"AL1\", \"flt_no\": 101, \"booking_class\": \"Y4\", \"days_prior\": 49, \"forecast_stdev\": 7.01}, {\"source\": \"target\", \"carrier\": \"AL1\", \"flt_no\": 101, \"booking_class\": \"Y4\", \"days_prior\": 42, \"forecast_stdev\": 6.1}, {\"source\": \"target\", \"carrier\": \"AL1\", \"flt_no\": 101, \"booking_class\": \"Y4\", \"days_prior\": 35, \"forecast_stdev\": 4.97}, {\"source\": \"target\", \"carrier\": \"AL1\", \"flt_no\": 101, \"booking_class\": \"Y4\", \"days_prior\": 31, \"forecast_stdev\": 4.15}, {\"source\": \"target\", \"carrier\": \"AL1\", \"flt_no\": 101, \"booking_class\": \"Y4\", \"days_prior\": 28, \"forecast_stdev\": 3.58}, {\"source\": \"target\", \"carrier\": \"AL1\", \"flt_no\": 101, \"booking_class\": \"Y4\", \"days_prior\": 24, \"forecast_stdev\": 2.43}, {\"source\": \"target\", \"carrier\": \"AL1\", \"flt_no\": 101, \"booking_class\": \"Y4\", \"days_prior\": 21, \"forecast_stdev\": 0.0}, {\"source\": \"target\", \"carrier\": \"AL1\", \"flt_no\": 101, \"booking_class\": \"Y4\", \"days_prior\": 17, \"forecast_stdev\": 0.0}, {\"source\": \"target\", \"carrier\": \"AL1\", \"flt_no\": 101, \"booking_class\": \"Y4\", \"days_prior\": 14, \"forecast_stdev\": 0.0}, {\"source\": \"target\", \"carrier\": \"AL1\", \"flt_no\": 101, \"booking_class\": \"Y4\", \"days_prior\": 10, \"forecast_stdev\": 0.0}, {\"source\": \"target\", \"carrier\": \"AL1\", \"flt_no\": 101, \"booking_class\": \"Y4\", \"days_prior\": 7, \"forecast_stdev\": 0.0}, {\"source\": \"target\", \"carrier\": \"AL1\", \"flt_no\": 101, \"booking_class\": \"Y4\", \"days_prior\": 5, \"forecast_stdev\": 0.0}, {\"source\": \"target\", \"carrier\": \"AL1\", \"flt_no\": 101, \"booking_class\": \"Y4\", \"days_prior\": 3, \"forecast_stdev\": 0.0}, {\"source\": \"target\", \"carrier\": \"AL1\", \"flt_no\": 101, \"booking_class\": \"Y4\", \"days_prior\": 1, \"forecast_stdev\": 0.0}, {\"source\": \"target\", \"carrier\": \"AL1\", \"flt_no\": 101, \"booking_class\": \"Y5\", \"days_prior\": 63, \"forecast_stdev\": 11.21}, {\"source\": \"target\", \"carrier\": \"AL1\", \"flt_no\": 101, \"booking_class\": \"Y5\", \"days_prior\": 56, \"forecast_stdev\": 9.23}, {\"source\": \"target\", \"carrier\": \"AL1\", \"flt_no\": 101, \"booking_class\": \"Y5\", \"days_prior\": 49, \"forecast_stdev\": 7.97}, {\"source\": \"target\", \"carrier\": \"AL1\", \"flt_no\": 101, \"booking_class\": \"Y5\", \"days_prior\": 42, \"forecast_stdev\": 6.8}, {\"source\": \"target\", \"carrier\": \"AL1\", \"flt_no\": 101, \"booking_class\": \"Y5\", \"days_prior\": 35, \"forecast_stdev\": 5.31}, {\"source\": \"target\", \"carrier\": \"AL1\", \"flt_no\": 101, \"booking_class\": \"Y5\", \"days_prior\": 31, \"forecast_stdev\": 4.33}, {\"source\": \"target\", \"carrier\": \"AL1\", \"flt_no\": 101, \"booking_class\": \"Y5\", \"days_prior\": 28, \"forecast_stdev\": 3.71}, {\"source\": \"target\", \"carrier\": \"AL1\", \"flt_no\": 101, \"booking_class\": \"Y5\", \"days_prior\": 24, \"forecast_stdev\": 2.48}, {\"source\": \"target\", \"carrier\": \"AL1\", \"flt_no\": 101, \"booking_class\": \"Y5\", \"days_prior\": 21, \"forecast_stdev\": 0.0}, {\"source\": \"target\", \"carrier\": \"AL1\", \"flt_no\": 101, \"booking_class\": \"Y5\", \"days_prior\": 17, \"forecast_stdev\": 0.0}, {\"source\": \"target\", \"carrier\": \"AL1\", \"flt_no\": 101, \"booking_class\": \"Y5\", \"days_prior\": 14, \"forecast_stdev\": 0.0}, {\"source\": \"target\", \"carrier\": \"AL1\", \"flt_no\": 101, \"booking_class\": \"Y5\", \"days_prior\": 10, \"forecast_stdev\": 0.0}, {\"source\": \"target\", \"carrier\": \"AL1\", \"flt_no\": 101, \"booking_class\": \"Y5\", \"days_prior\": 7, \"forecast_stdev\": 0.0}, {\"source\": \"target\", \"carrier\": \"AL1\", \"flt_no\": 101, \"booking_class\": \"Y5\", \"days_prior\": 5, \"forecast_stdev\": 0.0}, {\"source\": \"target\", \"carrier\": \"AL1\", \"flt_no\": 101, \"booking_class\": \"Y5\", \"days_prior\": 3, \"forecast_stdev\": 0.0}, {\"source\": \"target\", \"carrier\": \"AL1\", \"flt_no\": 101, \"booking_class\": \"Y5\", \"days_prior\": 1, \"forecast_stdev\": 0.0}]}}, {\"mode\": \"vega-lite\"});\n",
       "</script>"
      ],
      "text/plain": [
       "alt.HConcatChart(...)"
      ]
     },
     "execution_count": 19,
     "metadata": {},
     "output_type": "execute_result"
    }
   ],
   "source": [
    "comps.fig_leg_forecasts(by_flt_no=101, of=[\"mu\", \"sigma\"])"
   ]
  },
  {
   "cell_type": "code",
   "execution_count": 20,
   "id": "7a65048a-bb42-4713-bd66-8f076f3c9641",
   "metadata": {},
   "outputs": [
    {
     "data": {
      "text/html": [
       "\n",
       "<style>\n",
       "  #altair-viz-26cd8e8290a44893a8984ea83dc4c277.vega-embed {\n",
       "    width: 100%;\n",
       "    display: flex;\n",
       "  }\n",
       "\n",
       "  #altair-viz-26cd8e8290a44893a8984ea83dc4c277.vega-embed details,\n",
       "  #altair-viz-26cd8e8290a44893a8984ea83dc4c277.vega-embed details summary {\n",
       "    position: relative;\n",
       "  }\n",
       "</style>\n",
       "<div id=\"altair-viz-26cd8e8290a44893a8984ea83dc4c277\"></div>\n",
       "<script type=\"text/javascript\">\n",
       "  var VEGA_DEBUG = (typeof VEGA_DEBUG == \"undefined\") ? {} : VEGA_DEBUG;\n",
       "  (function(spec, embedOpt){\n",
       "    let outputDiv = document.currentScript.previousElementSibling;\n",
       "    if (outputDiv.id !== \"altair-viz-26cd8e8290a44893a8984ea83dc4c277\") {\n",
       "      outputDiv = document.getElementById(\"altair-viz-26cd8e8290a44893a8984ea83dc4c277\");\n",
       "    }\n",
       "    const paths = {\n",
       "      \"vega\": \"https://cdn.jsdelivr.net/npm/vega@5?noext\",\n",
       "      \"vega-lib\": \"https://cdn.jsdelivr.net/npm/vega-lib?noext\",\n",
       "      \"vega-lite\": \"https://cdn.jsdelivr.net/npm/vega-lite@5.15.1?noext\",\n",
       "      \"vega-embed\": \"https://cdn.jsdelivr.net/npm/vega-embed@6?noext\",\n",
       "    };\n",
       "\n",
       "    function maybeLoadScript(lib, version) {\n",
       "      var key = `${lib.replace(\"-\", \"\")}_version`;\n",
       "      return (VEGA_DEBUG[key] == version) ?\n",
       "        Promise.resolve(paths[lib]) :\n",
       "        new Promise(function(resolve, reject) {\n",
       "          var s = document.createElement('script');\n",
       "          document.getElementsByTagName(\"head\")[0].appendChild(s);\n",
       "          s.async = true;\n",
       "          s.onload = () => {\n",
       "            VEGA_DEBUG[key] = version;\n",
       "            return resolve(paths[lib]);\n",
       "          };\n",
       "          s.onerror = () => reject(`Error loading script: ${paths[lib]}`);\n",
       "          s.src = paths[lib];\n",
       "        });\n",
       "    }\n",
       "\n",
       "    function showError(err) {\n",
       "      outputDiv.innerHTML = `<div class=\"error\" style=\"color:red;\">${err}</div>`;\n",
       "      throw err;\n",
       "    }\n",
       "\n",
       "    function displayChart(vegaEmbed) {\n",
       "      vegaEmbed(outputDiv, spec, embedOpt)\n",
       "        .catch(err => showError(`Javascript Error: ${err.message}<br>This usually means there's a typo in your chart specification. See the javascript console for the full traceback.`));\n",
       "    }\n",
       "\n",
       "    if(typeof define === \"function\" && define.amd) {\n",
       "      requirejs.config({paths});\n",
       "      require([\"vega-embed\"], displayChart, err => showError(`Error loading script: ${err.message}`));\n",
       "    } else {\n",
       "      maybeLoadScript(\"vega\", \"5\")\n",
       "        .then(() => maybeLoadScript(\"vega-lite\", \"5.15.1\"))\n",
       "        .then(() => maybeLoadScript(\"vega-embed\", \"6\"))\n",
       "        .catch(showError)\n",
       "        .then(() => displayChart(vegaEmbed));\n",
       "    }\n",
       "  })({\"config\": {\"view\": {\"continuousWidth\": 300, \"continuousHeight\": 300}}, \"hconcat\": [{\"data\": {\"name\": \"data-c913267429129c86e9fe01b83c7f64c5\"}, \"mark\": {\"type\": \"line\"}, \"encoding\": {\"color\": {\"field\": \"booking_class\", \"type\": \"nominal\"}, \"strokeDash\": {\"field\": \"source\", \"title\": \"Source\", \"type\": \"nominal\"}, \"strokeWidth\": {\"field\": \"source\", \"title\": \"Source\", \"type\": \"nominal\"}, \"x\": {\"field\": \"days_prior\", \"scale\": {\"reverse\": true}, \"title\": \"Days Prior to Departure\", \"type\": \"ordinal\"}, \"y\": {\"field\": \"forecast_mean\", \"title\": \"Mean Demand Forecast\", \"type\": \"quantitative\"}}}, {\"data\": {\"name\": \"data-346b3d03a44d3dd2374e4f2c066a9779\"}, \"mark\": {\"type\": \"line\"}, \"encoding\": {\"color\": {\"field\": \"booking_class\", \"type\": \"nominal\"}, \"strokeDash\": {\"field\": \"source\", \"title\": \"Source\", \"type\": \"nominal\"}, \"strokeWidth\": {\"field\": \"source\", \"title\": \"Source\", \"type\": \"nominal\"}, \"x\": {\"field\": \"days_prior\", \"scale\": {\"reverse\": true}, \"title\": \"Days Prior to Departure\", \"type\": \"ordinal\"}, \"y\": {\"field\": \"forecast_stdev\", \"title\": \"Std Dev Demand Forecast\", \"type\": \"quantitative\"}}}], \"$schema\": \"https://vega.github.io/schema/vega-lite/v5.15.1.json\", \"datasets\": {\"data-c913267429129c86e9fe01b83c7f64c5\": [{\"source\": \"simulation\", \"carrier\": \"AL2\", \"flt_no\": 211, \"booking_class\": \"Y0\", \"days_prior\": 0, \"forecast_mean\": 0.0}, {\"source\": \"simulation\", \"carrier\": \"AL2\", \"flt_no\": 211, \"booking_class\": \"Y0\", \"days_prior\": 1, \"forecast_mean\": 3.8253328643236792}, {\"source\": \"simulation\", \"carrier\": \"AL2\", \"flt_no\": 211, \"booking_class\": \"Y0\", \"days_prior\": 3, \"forecast_mean\": 15.375470615217873}, {\"source\": \"simulation\", \"carrier\": \"AL2\", \"flt_no\": 211, \"booking_class\": \"Y0\", \"days_prior\": 5, \"forecast_mean\": 22.503243393986203}, {\"source\": \"simulation\", \"carrier\": \"AL2\", \"flt_no\": 211, \"booking_class\": \"Y0\", \"days_prior\": 7, \"forecast_mean\": 28.078077052661666}, {\"source\": \"simulation\", \"carrier\": \"AL2\", \"flt_no\": 211, \"booking_class\": \"Y0\", \"days_prior\": 10, \"forecast_mean\": 37.20298224902857}, {\"source\": \"simulation\", \"carrier\": \"AL2\", \"flt_no\": 211, \"booking_class\": \"Y0\", \"days_prior\": 14, \"forecast_mean\": 45.9989759263389}, {\"source\": \"simulation\", \"carrier\": \"AL2\", \"flt_no\": 211, \"booking_class\": \"Y0\", \"days_prior\": 17, \"forecast_mean\": 52.0952809456368}, {\"source\": \"simulation\", \"carrier\": \"AL2\", \"flt_no\": 211, \"booking_class\": \"Y0\", \"days_prior\": 21, \"forecast_mean\": 59.44695303784716}, {\"source\": \"simulation\", \"carrier\": \"AL2\", \"flt_no\": 211, \"booking_class\": \"Y0\", \"days_prior\": 24, \"forecast_mean\": 67.45049498187011}, {\"source\": \"simulation\", \"carrier\": \"AL2\", \"flt_no\": 211, \"booking_class\": \"Y0\", \"days_prior\": 28, \"forecast_mean\": 75.23972186035708}, {\"source\": \"simulation\", \"carrier\": \"AL2\", \"flt_no\": 211, \"booking_class\": \"Y0\", \"days_prior\": 31, \"forecast_mean\": 79.06350592624474}, {\"source\": \"simulation\", \"carrier\": \"AL2\", \"flt_no\": 211, \"booking_class\": \"Y0\", \"days_prior\": 35, \"forecast_mean\": 83.79030912510132}, {\"source\": \"simulation\", \"carrier\": \"AL2\", \"flt_no\": 211, \"booking_class\": \"Y0\", \"days_prior\": 42, \"forecast_mean\": 89.81517206463064}, {\"source\": \"simulation\", \"carrier\": \"AL2\", \"flt_no\": 211, \"booking_class\": \"Y0\", \"days_prior\": 49, \"forecast_mean\": 95.36687645422236}, {\"source\": \"simulation\", \"carrier\": \"AL2\", \"flt_no\": 211, \"booking_class\": \"Y0\", \"days_prior\": 56, \"forecast_mean\": 100.3381005920548}, {\"source\": \"simulation\", \"carrier\": \"AL2\", \"flt_no\": 211, \"booking_class\": \"Y0\", \"days_prior\": 63, \"forecast_mean\": 109.37161315561572}, {\"source\": \"simulation\", \"carrier\": \"AL2\", \"flt_no\": 211, \"booking_class\": \"Y1\", \"days_prior\": 0, \"forecast_mean\": 0.0}, {\"source\": \"simulation\", \"carrier\": \"AL2\", \"flt_no\": 211, \"booking_class\": \"Y1\", \"days_prior\": 1, \"forecast_mean\": 0.37967815570396546}, {\"source\": \"simulation\", \"carrier\": \"AL2\", \"flt_no\": 211, \"booking_class\": \"Y1\", \"days_prior\": 3, \"forecast_mean\": 1.5117022847324357}, {\"source\": \"simulation\", \"carrier\": \"AL2\", \"flt_no\": 211, \"booking_class\": \"Y1\", \"days_prior\": 5, \"forecast_mean\": 2.2359497285447714}, {\"source\": \"simulation\", \"carrier\": \"AL2\", \"flt_no\": 211, \"booking_class\": \"Y1\", \"days_prior\": 7, \"forecast_mean\": 2.8116511417752337}, {\"source\": \"simulation\", \"carrier\": \"AL2\", \"flt_no\": 211, \"booking_class\": \"Y1\", \"days_prior\": 10, \"forecast_mean\": 3.7716877328673895}, {\"source\": \"simulation\", \"carrier\": \"AL2\", \"flt_no\": 211, \"booking_class\": \"Y1\", \"days_prior\": 14, \"forecast_mean\": 4.73618188292254}, {\"source\": \"simulation\", \"carrier\": \"AL2\", \"flt_no\": 211, \"booking_class\": \"Y1\", \"days_prior\": 17, \"forecast_mean\": 5.651564438524883}, {\"source\": \"simulation\", \"carrier\": \"AL2\", \"flt_no\": 211, \"booking_class\": \"Y1\", \"days_prior\": 21, \"forecast_mean\": 7.164488313897675}, {\"source\": \"simulation\", \"carrier\": \"AL2\", \"flt_no\": 211, \"booking_class\": \"Y1\", \"days_prior\": 24, \"forecast_mean\": 9.336566027994383}, {\"source\": \"simulation\", \"carrier\": \"AL2\", \"flt_no\": 211, \"booking_class\": \"Y1\", \"days_prior\": 28, \"forecast_mean\": 11.725950260618518}, {\"source\": \"simulation\", \"carrier\": \"AL2\", \"flt_no\": 211, \"booking_class\": \"Y1\", \"days_prior\": 31, \"forecast_mean\": 13.140644827209476}, {\"source\": \"simulation\", \"carrier\": \"AL2\", \"flt_no\": 211, \"booking_class\": \"Y1\", \"days_prior\": 35, \"forecast_mean\": 15.320418551429837}, {\"source\": \"simulation\", \"carrier\": \"AL2\", \"flt_no\": 211, \"booking_class\": \"Y1\", \"days_prior\": 42, \"forecast_mean\": 18.801517150362038}, {\"source\": \"simulation\", \"carrier\": \"AL2\", \"flt_no\": 211, \"booking_class\": \"Y1\", \"days_prior\": 49, \"forecast_mean\": 22.011782846240408}, {\"source\": \"simulation\", \"carrier\": \"AL2\", \"flt_no\": 211, \"booking_class\": \"Y1\", \"days_prior\": 56, \"forecast_mean\": 25.579092896442162}, {\"source\": \"simulation\", \"carrier\": \"AL2\", \"flt_no\": 211, \"booking_class\": \"Y1\", \"days_prior\": 63, \"forecast_mean\": 32.15966152946244}, {\"source\": \"simulation\", \"carrier\": \"AL2\", \"flt_no\": 211, \"booking_class\": \"Y2\", \"days_prior\": 0, \"forecast_mean\": 0.0}, {\"source\": \"simulation\", \"carrier\": \"AL2\", \"flt_no\": 211, \"booking_class\": \"Y2\", \"days_prior\": 1, \"forecast_mean\": 0.0}, {\"source\": \"simulation\", \"carrier\": \"AL2\", \"flt_no\": 211, \"booking_class\": \"Y2\", \"days_prior\": 3, \"forecast_mean\": 0.0}, {\"source\": \"simulation\", \"carrier\": \"AL2\", \"flt_no\": 211, \"booking_class\": \"Y2\", \"days_prior\": 5, \"forecast_mean\": 0.0}, {\"source\": \"simulation\", \"carrier\": \"AL2\", \"flt_no\": 211, \"booking_class\": \"Y2\", \"days_prior\": 7, \"forecast_mean\": 0.0}, {\"source\": \"simulation\", \"carrier\": \"AL2\", \"flt_no\": 211, \"booking_class\": \"Y2\", \"days_prior\": 10, \"forecast_mean\": 0.0}, {\"source\": \"simulation\", \"carrier\": \"AL2\", \"flt_no\": 211, \"booking_class\": \"Y2\", \"days_prior\": 14, \"forecast_mean\": 0.0}, {\"source\": \"simulation\", \"carrier\": \"AL2\", \"flt_no\": 211, \"booking_class\": \"Y2\", \"days_prior\": 17, \"forecast_mean\": 0.0}, {\"source\": \"simulation\", \"carrier\": \"AL2\", \"flt_no\": 211, \"booking_class\": \"Y2\", \"days_prior\": 21, \"forecast_mean\": 0.0}, {\"source\": \"simulation\", \"carrier\": \"AL2\", \"flt_no\": 211, \"booking_class\": \"Y2\", \"days_prior\": 24, \"forecast_mean\": 0.0}, {\"source\": \"simulation\", \"carrier\": \"AL2\", \"flt_no\": 211, \"booking_class\": \"Y2\", \"days_prior\": 28, \"forecast_mean\": 0.0}, {\"source\": \"simulation\", \"carrier\": \"AL2\", \"flt_no\": 211, \"booking_class\": \"Y2\", \"days_prior\": 31, \"forecast_mean\": 0.0}, {\"source\": \"simulation\", \"carrier\": \"AL2\", \"flt_no\": 211, \"booking_class\": \"Y2\", \"days_prior\": 35, \"forecast_mean\": 0.0}, {\"source\": \"simulation\", \"carrier\": \"AL2\", \"flt_no\": 211, \"booking_class\": \"Y2\", \"days_prior\": 42, \"forecast_mean\": 0.0}, {\"source\": \"simulation\", \"carrier\": \"AL2\", \"flt_no\": 211, \"booking_class\": \"Y2\", \"days_prior\": 49, \"forecast_mean\": 0.0}, {\"source\": \"simulation\", \"carrier\": \"AL2\", \"flt_no\": 211, \"booking_class\": \"Y2\", \"days_prior\": 56, \"forecast_mean\": 0.0}, {\"source\": \"simulation\", \"carrier\": \"AL2\", \"flt_no\": 211, \"booking_class\": \"Y2\", \"days_prior\": 63, \"forecast_mean\": 0.0}, {\"source\": \"simulation\", \"carrier\": \"AL2\", \"flt_no\": 211, \"booking_class\": \"Y3\", \"days_prior\": 0, \"forecast_mean\": 0.0}, {\"source\": \"simulation\", \"carrier\": \"AL2\", \"flt_no\": 211, \"booking_class\": \"Y3\", \"days_prior\": 1, \"forecast_mean\": 0.0}, {\"source\": \"simulation\", \"carrier\": \"AL2\", \"flt_no\": 211, \"booking_class\": \"Y3\", \"days_prior\": 3, \"forecast_mean\": 0.0}, {\"source\": \"simulation\", \"carrier\": \"AL2\", \"flt_no\": 211, \"booking_class\": \"Y3\", \"days_prior\": 5, \"forecast_mean\": 0.0}, {\"source\": \"simulation\", \"carrier\": \"AL2\", \"flt_no\": 211, \"booking_class\": \"Y3\", \"days_prior\": 7, \"forecast_mean\": 0.0}, {\"source\": \"simulation\", \"carrier\": \"AL2\", \"flt_no\": 211, \"booking_class\": \"Y3\", \"days_prior\": 10, \"forecast_mean\": 0.0}, {\"source\": \"simulation\", \"carrier\": \"AL2\", \"flt_no\": 211, \"booking_class\": \"Y3\", \"days_prior\": 14, \"forecast_mean\": 0.0}, {\"source\": \"simulation\", \"carrier\": \"AL2\", \"flt_no\": 211, \"booking_class\": \"Y3\", \"days_prior\": 17, \"forecast_mean\": 0.0}, {\"source\": \"simulation\", \"carrier\": \"AL2\", \"flt_no\": 211, \"booking_class\": \"Y3\", \"days_prior\": 21, \"forecast_mean\": 0.0}, {\"source\": \"simulation\", \"carrier\": \"AL2\", \"flt_no\": 211, \"booking_class\": \"Y3\", \"days_prior\": 24, \"forecast_mean\": 0.0}, {\"source\": \"simulation\", \"carrier\": \"AL2\", \"flt_no\": 211, \"booking_class\": \"Y3\", \"days_prior\": 28, \"forecast_mean\": 0.0}, {\"source\": \"simulation\", \"carrier\": \"AL2\", \"flt_no\": 211, \"booking_class\": \"Y3\", \"days_prior\": 31, \"forecast_mean\": 0.0}, {\"source\": \"simulation\", \"carrier\": \"AL2\", \"flt_no\": 211, \"booking_class\": \"Y3\", \"days_prior\": 35, \"forecast_mean\": 0.0}, {\"source\": \"simulation\", \"carrier\": \"AL2\", \"flt_no\": 211, \"booking_class\": \"Y3\", \"days_prior\": 42, \"forecast_mean\": 0.0}, {\"source\": \"simulation\", \"carrier\": \"AL2\", \"flt_no\": 211, \"booking_class\": \"Y3\", \"days_prior\": 49, \"forecast_mean\": 0.0}, {\"source\": \"simulation\", \"carrier\": \"AL2\", \"flt_no\": 211, \"booking_class\": \"Y3\", \"days_prior\": 56, \"forecast_mean\": 0.0}, {\"source\": \"simulation\", \"carrier\": \"AL2\", \"flt_no\": 211, \"booking_class\": \"Y3\", \"days_prior\": 63, \"forecast_mean\": 0.0}, {\"source\": \"simulation\", \"carrier\": \"AL2\", \"flt_no\": 211, \"booking_class\": \"Y4\", \"days_prior\": 0, \"forecast_mean\": 0.0}, {\"source\": \"simulation\", \"carrier\": \"AL2\", \"flt_no\": 211, \"booking_class\": \"Y4\", \"days_prior\": 1, \"forecast_mean\": 0.0}, {\"source\": \"simulation\", \"carrier\": \"AL2\", \"flt_no\": 211, \"booking_class\": \"Y4\", \"days_prior\": 3, \"forecast_mean\": 0.0}, {\"source\": \"simulation\", \"carrier\": \"AL2\", \"flt_no\": 211, \"booking_class\": \"Y4\", \"days_prior\": 5, \"forecast_mean\": 0.0}, {\"source\": \"simulation\", \"carrier\": \"AL2\", \"flt_no\": 211, \"booking_class\": \"Y4\", \"days_prior\": 7, \"forecast_mean\": 0.0}, {\"source\": \"simulation\", \"carrier\": \"AL2\", \"flt_no\": 211, \"booking_class\": \"Y4\", \"days_prior\": 10, \"forecast_mean\": 0.0}, {\"source\": \"simulation\", \"carrier\": \"AL2\", \"flt_no\": 211, \"booking_class\": \"Y4\", \"days_prior\": 14, \"forecast_mean\": 0.0}, {\"source\": \"simulation\", \"carrier\": \"AL2\", \"flt_no\": 211, \"booking_class\": \"Y4\", \"days_prior\": 17, \"forecast_mean\": 0.0}, {\"source\": \"simulation\", \"carrier\": \"AL2\", \"flt_no\": 211, \"booking_class\": \"Y4\", \"days_prior\": 21, \"forecast_mean\": 0.0}, {\"source\": \"simulation\", \"carrier\": \"AL2\", \"flt_no\": 211, \"booking_class\": \"Y4\", \"days_prior\": 24, \"forecast_mean\": 0.0}, {\"source\": \"simulation\", \"carrier\": \"AL2\", \"flt_no\": 211, \"booking_class\": \"Y4\", \"days_prior\": 28, \"forecast_mean\": 0.0}, {\"source\": \"simulation\", \"carrier\": \"AL2\", \"flt_no\": 211, \"booking_class\": \"Y4\", \"days_prior\": 31, \"forecast_mean\": 0.0}, {\"source\": \"simulation\", \"carrier\": \"AL2\", \"flt_no\": 211, \"booking_class\": \"Y4\", \"days_prior\": 35, \"forecast_mean\": 0.0}, {\"source\": \"simulation\", \"carrier\": \"AL2\", \"flt_no\": 211, \"booking_class\": \"Y4\", \"days_prior\": 42, \"forecast_mean\": 0.0}, {\"source\": \"simulation\", \"carrier\": \"AL2\", \"flt_no\": 211, \"booking_class\": \"Y4\", \"days_prior\": 49, \"forecast_mean\": 0.0}, {\"source\": \"simulation\", \"carrier\": \"AL2\", \"flt_no\": 211, \"booking_class\": \"Y4\", \"days_prior\": 56, \"forecast_mean\": 0.0}, {\"source\": \"simulation\", \"carrier\": \"AL2\", \"flt_no\": 211, \"booking_class\": \"Y4\", \"days_prior\": 63, \"forecast_mean\": 0.0}, {\"source\": \"simulation\", \"carrier\": \"AL2\", \"flt_no\": 211, \"booking_class\": \"Y5\", \"days_prior\": 0, \"forecast_mean\": 0.0}, {\"source\": \"simulation\", \"carrier\": \"AL2\", \"flt_no\": 211, \"booking_class\": \"Y5\", \"days_prior\": 1, \"forecast_mean\": 0.0}, {\"source\": \"simulation\", \"carrier\": \"AL2\", \"flt_no\": 211, \"booking_class\": \"Y5\", \"days_prior\": 3, \"forecast_mean\": 0.0}, {\"source\": \"simulation\", \"carrier\": \"AL2\", \"flt_no\": 211, \"booking_class\": \"Y5\", \"days_prior\": 5, \"forecast_mean\": 0.0}, {\"source\": \"simulation\", \"carrier\": \"AL2\", \"flt_no\": 211, \"booking_class\": \"Y5\", \"days_prior\": 7, \"forecast_mean\": 0.0}, {\"source\": \"simulation\", \"carrier\": \"AL2\", \"flt_no\": 211, \"booking_class\": \"Y5\", \"days_prior\": 10, \"forecast_mean\": 0.0}, {\"source\": \"simulation\", \"carrier\": \"AL2\", \"flt_no\": 211, \"booking_class\": \"Y5\", \"days_prior\": 14, \"forecast_mean\": 0.0}, {\"source\": \"simulation\", \"carrier\": \"AL2\", \"flt_no\": 211, \"booking_class\": \"Y5\", \"days_prior\": 17, \"forecast_mean\": 0.0}, {\"source\": \"simulation\", \"carrier\": \"AL2\", \"flt_no\": 211, \"booking_class\": \"Y5\", \"days_prior\": 21, \"forecast_mean\": 0.0}, {\"source\": \"simulation\", \"carrier\": \"AL2\", \"flt_no\": 211, \"booking_class\": \"Y5\", \"days_prior\": 24, \"forecast_mean\": 0.0}, {\"source\": \"simulation\", \"carrier\": \"AL2\", \"flt_no\": 211, \"booking_class\": \"Y5\", \"days_prior\": 28, \"forecast_mean\": 0.0}, {\"source\": \"simulation\", \"carrier\": \"AL2\", \"flt_no\": 211, \"booking_class\": \"Y5\", \"days_prior\": 31, \"forecast_mean\": 0.0}, {\"source\": \"simulation\", \"carrier\": \"AL2\", \"flt_no\": 211, \"booking_class\": \"Y5\", \"days_prior\": 35, \"forecast_mean\": 0.0}, {\"source\": \"simulation\", \"carrier\": \"AL2\", \"flt_no\": 211, \"booking_class\": \"Y5\", \"days_prior\": 42, \"forecast_mean\": 0.0}, {\"source\": \"simulation\", \"carrier\": \"AL2\", \"flt_no\": 211, \"booking_class\": \"Y5\", \"days_prior\": 49, \"forecast_mean\": 0.0}, {\"source\": \"simulation\", \"carrier\": \"AL2\", \"flt_no\": 211, \"booking_class\": \"Y5\", \"days_prior\": 56, \"forecast_mean\": 0.0}, {\"source\": \"simulation\", \"carrier\": \"AL2\", \"flt_no\": 211, \"booking_class\": \"Y5\", \"days_prior\": 63, \"forecast_mean\": 0.0}, {\"source\": \"target\", \"carrier\": \"AL2\", \"flt_no\": 211, \"booking_class\": \"Y0\", \"days_prior\": 63, \"forecast_mean\": 27.26}, {\"source\": \"target\", \"carrier\": \"AL2\", \"flt_no\": 211, \"booking_class\": \"Y0\", \"days_prior\": 56, \"forecast_mean\": 27.34}, {\"source\": \"target\", \"carrier\": \"AL2\", \"flt_no\": 211, \"booking_class\": \"Y0\", \"days_prior\": 49, \"forecast_mean\": 27.38}, {\"source\": \"target\", \"carrier\": \"AL2\", \"flt_no\": 211, \"booking_class\": \"Y0\", \"days_prior\": 42, \"forecast_mean\": 27.32}, {\"source\": \"target\", \"carrier\": \"AL2\", \"flt_no\": 211, \"booking_class\": \"Y0\", \"days_prior\": 35, \"forecast_mean\": 27.26}, {\"source\": \"target\", \"carrier\": \"AL2\", \"flt_no\": 211, \"booking_class\": \"Y0\", \"days_prior\": 31, \"forecast_mean\": 27.19}, {\"source\": \"target\", \"carrier\": \"AL2\", \"flt_no\": 211, \"booking_class\": \"Y0\", \"days_prior\": 28, \"forecast_mean\": 27.05}, {\"source\": \"target\", \"carrier\": \"AL2\", \"flt_no\": 211, \"booking_class\": \"Y0\", \"days_prior\": 24, \"forecast_mean\": 26.64}, {\"source\": \"target\", \"carrier\": \"AL2\", \"flt_no\": 211, \"booking_class\": \"Y0\", \"days_prior\": 21, \"forecast_mean\": 26.06}, {\"source\": \"target\", \"carrier\": \"AL2\", \"flt_no\": 211, \"booking_class\": \"Y0\", \"days_prior\": 17, \"forecast_mean\": 24.78}, {\"source\": \"target\", \"carrier\": \"AL2\", \"flt_no\": 211, \"booking_class\": \"Y0\", \"days_prior\": 14, \"forecast_mean\": 22.88}, {\"source\": \"target\", \"carrier\": \"AL2\", \"flt_no\": 211, \"booking_class\": \"Y0\", \"days_prior\": 10, \"forecast_mean\": 19.01}, {\"source\": \"target\", \"carrier\": \"AL2\", \"flt_no\": 211, \"booking_class\": \"Y0\", \"days_prior\": 7, \"forecast_mean\": 14.47}, {\"source\": \"target\", \"carrier\": \"AL2\", \"flt_no\": 211, \"booking_class\": \"Y0\", \"days_prior\": 5, \"forecast_mean\": 11.47}, {\"source\": \"target\", \"carrier\": \"AL2\", \"flt_no\": 211, \"booking_class\": \"Y0\", \"days_prior\": 3, \"forecast_mean\": 8.27}, {\"source\": \"target\", \"carrier\": \"AL2\", \"flt_no\": 211, \"booking_class\": \"Y0\", \"days_prior\": 1, \"forecast_mean\": 2.0}, {\"source\": \"target\", \"carrier\": \"AL2\", \"flt_no\": 211, \"booking_class\": \"Y1\", \"days_prior\": 63, \"forecast_mean\": 6.97}, {\"source\": \"target\", \"carrier\": \"AL2\", \"flt_no\": 211, \"booking_class\": \"Y1\", \"days_prior\": 56, \"forecast_mean\": 6.96}, {\"source\": \"target\", \"carrier\": \"AL2\", \"flt_no\": 211, \"booking_class\": \"Y1\", \"days_prior\": 49, \"forecast_mean\": 6.95}, {\"source\": \"target\", \"carrier\": \"AL2\", \"flt_no\": 211, \"booking_class\": \"Y1\", \"days_prior\": 42, \"forecast_mean\": 6.85}, {\"source\": \"target\", \"carrier\": \"AL2\", \"flt_no\": 211, \"booking_class\": \"Y1\", \"days_prior\": 35, \"forecast_mean\": 6.73}, {\"source\": \"target\", \"carrier\": \"AL2\", \"flt_no\": 211, \"booking_class\": \"Y1\", \"days_prior\": 31, \"forecast_mean\": 6.57}, {\"source\": \"target\", \"carrier\": \"AL2\", \"flt_no\": 211, \"booking_class\": \"Y1\", \"days_prior\": 28, \"forecast_mean\": 6.39}, {\"source\": \"target\", \"carrier\": \"AL2\", \"flt_no\": 211, \"booking_class\": \"Y1\", \"days_prior\": 24, \"forecast_mean\": 5.92}, {\"source\": \"target\", \"carrier\": \"AL2\", \"flt_no\": 211, \"booking_class\": \"Y1\", \"days_prior\": 21, \"forecast_mean\": 5.35}, {\"source\": \"target\", \"carrier\": \"AL2\", \"flt_no\": 211, \"booking_class\": \"Y1\", \"days_prior\": 17, \"forecast_mean\": 4.63}, {\"source\": \"target\", \"carrier\": \"AL2\", \"flt_no\": 211, \"booking_class\": \"Y1\", \"days_prior\": 14, \"forecast_mean\": 3.86}, {\"source\": \"target\", \"carrier\": \"AL2\", \"flt_no\": 211, \"booking_class\": \"Y1\", \"days_prior\": 10, \"forecast_mean\": 2.71}, {\"source\": \"target\", \"carrier\": \"AL2\", \"flt_no\": 211, \"booking_class\": \"Y1\", \"days_prior\": 7, \"forecast_mean\": 1.46}, {\"source\": \"target\", \"carrier\": \"AL2\", \"flt_no\": 211, \"booking_class\": \"Y1\", \"days_prior\": 5, \"forecast_mean\": 1.15}, {\"source\": \"target\", \"carrier\": \"AL2\", \"flt_no\": 211, \"booking_class\": \"Y1\", \"days_prior\": 3, \"forecast_mean\": 0.82}, {\"source\": \"target\", \"carrier\": \"AL2\", \"flt_no\": 211, \"booking_class\": \"Y1\", \"days_prior\": 1, \"forecast_mean\": 0.19}, {\"source\": \"target\", \"carrier\": \"AL2\", \"flt_no\": 211, \"booking_class\": \"Y2\", \"days_prior\": 63, \"forecast_mean\": 8.0}, {\"source\": \"target\", \"carrier\": \"AL2\", \"flt_no\": 211, \"booking_class\": \"Y2\", \"days_prior\": 56, \"forecast_mean\": 7.69}, {\"source\": \"target\", \"carrier\": \"AL2\", \"flt_no\": 211, \"booking_class\": \"Y2\", \"days_prior\": 49, \"forecast_mean\": 7.52}, {\"source\": \"target\", \"carrier\": \"AL2\", \"flt_no\": 211, \"booking_class\": \"Y2\", \"days_prior\": 42, \"forecast_mean\": 6.97}, {\"source\": \"target\", \"carrier\": \"AL2\", \"flt_no\": 211, \"booking_class\": \"Y2\", \"days_prior\": 35, \"forecast_mean\": 6.35}, {\"source\": \"target\", \"carrier\": \"AL2\", \"flt_no\": 211, \"booking_class\": \"Y2\", \"days_prior\": 31, \"forecast_mean\": 5.72}, {\"source\": \"target\", \"carrier\": \"AL2\", \"flt_no\": 211, \"booking_class\": \"Y2\", \"days_prior\": 28, \"forecast_mean\": 5.15}, {\"source\": \"target\", \"carrier\": \"AL2\", \"flt_no\": 211, \"booking_class\": \"Y2\", \"days_prior\": 24, \"forecast_mean\": 3.93}, {\"source\": \"target\", \"carrier\": \"AL2\", \"flt_no\": 211, \"booking_class\": \"Y2\", \"days_prior\": 21, \"forecast_mean\": 2.55}, {\"source\": \"target\", \"carrier\": \"AL2\", \"flt_no\": 211, \"booking_class\": \"Y2\", \"days_prior\": 17, \"forecast_mean\": 1.24}, {\"source\": \"target\", \"carrier\": \"AL2\", \"flt_no\": 211, \"booking_class\": \"Y2\", \"days_prior\": 14, \"forecast_mean\": 0.0}, {\"source\": \"target\", \"carrier\": \"AL2\", \"flt_no\": 211, \"booking_class\": \"Y2\", \"days_prior\": 10, \"forecast_mean\": 0.0}, {\"source\": \"target\", \"carrier\": \"AL2\", \"flt_no\": 211, \"booking_class\": \"Y2\", \"days_prior\": 7, \"forecast_mean\": 0.0}, {\"source\": \"target\", \"carrier\": \"AL2\", \"flt_no\": 211, \"booking_class\": \"Y2\", \"days_prior\": 5, \"forecast_mean\": 0.0}, {\"source\": \"target\", \"carrier\": \"AL2\", \"flt_no\": 211, \"booking_class\": \"Y2\", \"days_prior\": 3, \"forecast_mean\": 0.0}, {\"source\": \"target\", \"carrier\": \"AL2\", \"flt_no\": 211, \"booking_class\": \"Y2\", \"days_prior\": 1, \"forecast_mean\": 0.0}, {\"source\": \"target\", \"carrier\": \"AL2\", \"flt_no\": 211, \"booking_class\": \"Y3\", \"days_prior\": 63, \"forecast_mean\": 14.99}, {\"source\": \"target\", \"carrier\": \"AL2\", \"flt_no\": 211, \"booking_class\": \"Y3\", \"days_prior\": 56, \"forecast_mean\": 13.04}, {\"source\": \"target\", \"carrier\": \"AL2\", \"flt_no\": 211, \"booking_class\": \"Y3\", \"days_prior\": 49, \"forecast_mean\": 11.95}, {\"source\": \"target\", \"carrier\": \"AL2\", \"flt_no\": 211, \"booking_class\": \"Y3\", \"days_prior\": 42, \"forecast_mean\": 10.18}, {\"source\": \"target\", \"carrier\": \"AL2\", \"flt_no\": 211, \"booking_class\": \"Y3\", \"days_prior\": 35, \"forecast_mean\": 8.2}, {\"source\": \"target\", \"carrier\": \"AL2\", \"flt_no\": 211, \"booking_class\": \"Y3\", \"days_prior\": 31, \"forecast_mean\": 6.69}, {\"source\": \"target\", \"carrier\": \"AL2\", \"flt_no\": 211, \"booking_class\": \"Y3\", \"days_prior\": 28, \"forecast_mean\": 5.61}, {\"source\": \"target\", \"carrier\": \"AL2\", \"flt_no\": 211, \"booking_class\": \"Y3\", \"days_prior\": 24, \"forecast_mean\": 3.57}, {\"source\": \"target\", \"carrier\": \"AL2\", \"flt_no\": 211, \"booking_class\": \"Y3\", \"days_prior\": 21, \"forecast_mean\": 1.53}, {\"source\": \"target\", \"carrier\": \"AL2\", \"flt_no\": 211, \"booking_class\": \"Y3\", \"days_prior\": 17, \"forecast_mean\": 0.0}, {\"source\": \"target\", \"carrier\": \"AL2\", \"flt_no\": 211, \"booking_class\": \"Y3\", \"days_prior\": 14, \"forecast_mean\": 0.0}, {\"source\": \"target\", \"carrier\": \"AL2\", \"flt_no\": 211, \"booking_class\": \"Y3\", \"days_prior\": 10, \"forecast_mean\": 0.0}, {\"source\": \"target\", \"carrier\": \"AL2\", \"flt_no\": 211, \"booking_class\": \"Y3\", \"days_prior\": 7, \"forecast_mean\": 0.0}, {\"source\": \"target\", \"carrier\": \"AL2\", \"flt_no\": 211, \"booking_class\": \"Y3\", \"days_prior\": 5, \"forecast_mean\": 0.0}, {\"source\": \"target\", \"carrier\": \"AL2\", \"flt_no\": 211, \"booking_class\": \"Y3\", \"days_prior\": 3, \"forecast_mean\": 0.0}, {\"source\": \"target\", \"carrier\": \"AL2\", \"flt_no\": 211, \"booking_class\": \"Y3\", \"days_prior\": 1, \"forecast_mean\": 0.0}, {\"source\": \"target\", \"carrier\": \"AL2\", \"flt_no\": 211, \"booking_class\": \"Y4\", \"days_prior\": 63, \"forecast_mean\": 23.16}, {\"source\": \"target\", \"carrier\": \"AL2\", \"flt_no\": 211, \"booking_class\": \"Y4\", \"days_prior\": 56, \"forecast_mean\": 17.68}, {\"source\": \"target\", \"carrier\": \"AL2\", \"flt_no\": 211, \"booking_class\": \"Y4\", \"days_prior\": 49, \"forecast_mean\": 14.64}, {\"source\": \"target\", \"carrier\": \"AL2\", \"flt_no\": 211, \"booking_class\": \"Y4\", \"days_prior\": 42, \"forecast_mean\": 11.47}, {\"source\": \"target\", \"carrier\": \"AL2\", \"flt_no\": 211, \"booking_class\": \"Y4\", \"days_prior\": 35, \"forecast_mean\": 7.92}, {\"source\": \"target\", \"carrier\": \"AL2\", \"flt_no\": 211, \"booking_class\": \"Y4\", \"days_prior\": 31, \"forecast_mean\": 5.74}, {\"source\": \"target\", \"carrier\": \"AL2\", \"flt_no\": 211, \"booking_class\": \"Y4\", \"days_prior\": 28, \"forecast_mean\": 4.4}, {\"source\": \"target\", \"carrier\": \"AL2\", \"flt_no\": 211, \"booking_class\": \"Y4\", \"days_prior\": 24, \"forecast_mean\": 2.12}, {\"source\": \"target\", \"carrier\": \"AL2\", \"flt_no\": 211, \"booking_class\": \"Y4\", \"days_prior\": 21, \"forecast_mean\": 0.0}, {\"source\": \"target\", \"carrier\": \"AL2\", \"flt_no\": 211, \"booking_class\": \"Y4\", \"days_prior\": 17, \"forecast_mean\": 0.0}, {\"source\": \"target\", \"carrier\": \"AL2\", \"flt_no\": 211, \"booking_class\": \"Y4\", \"days_prior\": 14, \"forecast_mean\": 0.0}, {\"source\": \"target\", \"carrier\": \"AL2\", \"flt_no\": 211, \"booking_class\": \"Y4\", \"days_prior\": 10, \"forecast_mean\": 0.0}, {\"source\": \"target\", \"carrier\": \"AL2\", \"flt_no\": 211, \"booking_class\": \"Y4\", \"days_prior\": 7, \"forecast_mean\": 0.0}, {\"source\": \"target\", \"carrier\": \"AL2\", \"flt_no\": 211, \"booking_class\": \"Y4\", \"days_prior\": 5, \"forecast_mean\": 0.0}, {\"source\": \"target\", \"carrier\": \"AL2\", \"flt_no\": 211, \"booking_class\": \"Y4\", \"days_prior\": 3, \"forecast_mean\": 0.0}, {\"source\": \"target\", \"carrier\": \"AL2\", \"flt_no\": 211, \"booking_class\": \"Y4\", \"days_prior\": 1, \"forecast_mean\": 0.0}, {\"source\": \"target\", \"carrier\": \"AL2\", \"flt_no\": 211, \"booking_class\": \"Y5\", \"days_prior\": 63, \"forecast_mean\": 26.59}, {\"source\": \"target\", \"carrier\": \"AL2\", \"flt_no\": 211, \"booking_class\": \"Y5\", \"days_prior\": 56, \"forecast_mean\": 18.63}, {\"source\": \"target\", \"carrier\": \"AL2\", \"flt_no\": 211, \"booking_class\": \"Y5\", \"days_prior\": 49, \"forecast_mean\": 14.22}, {\"source\": \"target\", \"carrier\": \"AL2\", \"flt_no\": 211, \"booking_class\": \"Y5\", \"days_prior\": 42, \"forecast_mean\": 10.72}, {\"source\": \"target\", \"carrier\": \"AL2\", \"flt_no\": 211, \"booking_class\": \"Y5\", \"days_prior\": 35, \"forecast_mean\": 6.81}, {\"source\": \"target\", \"carrier\": \"AL2\", \"flt_no\": 211, \"booking_class\": \"Y5\", \"days_prior\": 31, \"forecast_mean\": 4.71}, {\"source\": \"target\", \"carrier\": \"AL2\", \"flt_no\": 211, \"booking_class\": \"Y5\", \"days_prior\": 28, \"forecast_mean\": 3.53}, {\"source\": \"target\", \"carrier\": \"AL2\", \"flt_no\": 211, \"booking_class\": \"Y5\", \"days_prior\": 24, \"forecast_mean\": 1.66}, {\"source\": \"target\", \"carrier\": \"AL2\", \"flt_no\": 211, \"booking_class\": \"Y5\", \"days_prior\": 21, \"forecast_mean\": 0.0}, {\"source\": \"target\", \"carrier\": \"AL2\", \"flt_no\": 211, \"booking_class\": \"Y5\", \"days_prior\": 17, \"forecast_mean\": 0.0}, {\"source\": \"target\", \"carrier\": \"AL2\", \"flt_no\": 211, \"booking_class\": \"Y5\", \"days_prior\": 14, \"forecast_mean\": 0.0}, {\"source\": \"target\", \"carrier\": \"AL2\", \"flt_no\": 211, \"booking_class\": \"Y5\", \"days_prior\": 10, \"forecast_mean\": 0.0}, {\"source\": \"target\", \"carrier\": \"AL2\", \"flt_no\": 211, \"booking_class\": \"Y5\", \"days_prior\": 7, \"forecast_mean\": 0.0}, {\"source\": \"target\", \"carrier\": \"AL2\", \"flt_no\": 211, \"booking_class\": \"Y5\", \"days_prior\": 5, \"forecast_mean\": 0.0}, {\"source\": \"target\", \"carrier\": \"AL2\", \"flt_no\": 211, \"booking_class\": \"Y5\", \"days_prior\": 3, \"forecast_mean\": 0.0}, {\"source\": \"target\", \"carrier\": \"AL2\", \"flt_no\": 211, \"booking_class\": \"Y5\", \"days_prior\": 1, \"forecast_mean\": 0.0}], \"data-346b3d03a44d3dd2374e4f2c066a9779\": [{\"source\": \"simulation\", \"carrier\": \"AL2\", \"flt_no\": 211, \"booking_class\": \"Y0\", \"days_prior\": 0, \"forecast_stdev\": 0.0}, {\"source\": \"simulation\", \"carrier\": \"AL2\", \"flt_no\": 211, \"booking_class\": \"Y0\", \"days_prior\": 1, \"forecast_stdev\": 2.046387068147766}, {\"source\": \"simulation\", \"carrier\": \"AL2\", \"flt_no\": 211, \"booking_class\": \"Y0\", \"days_prior\": 3, \"forecast_stdev\": 5.448187131706762}, {\"source\": \"simulation\", \"carrier\": \"AL2\", \"flt_no\": 211, \"booking_class\": \"Y0\", \"days_prior\": 5, \"forecast_stdev\": 6.353112558098067}, {\"source\": \"simulation\", \"carrier\": \"AL2\", \"flt_no\": 211, \"booking_class\": \"Y0\", \"days_prior\": 7, \"forecast_stdev\": 7.042659046913132}, {\"source\": \"simulation\", \"carrier\": \"AL2\", \"flt_no\": 211, \"booking_class\": \"Y0\", \"days_prior\": 10, \"forecast_stdev\": 8.570726579955382}, {\"source\": \"simulation\", \"carrier\": \"AL2\", \"flt_no\": 211, \"booking_class\": \"Y0\", \"days_prior\": 14, \"forecast_stdev\": 10.035414765133504}, {\"source\": \"simulation\", \"carrier\": \"AL2\", \"flt_no\": 211, \"booking_class\": \"Y0\", \"days_prior\": 17, \"forecast_stdev\": 11.014218813858726}, {\"source\": \"simulation\", \"carrier\": \"AL2\", \"flt_no\": 211, \"booking_class\": \"Y0\", \"days_prior\": 21, \"forecast_stdev\": 12.767624356680372}, {\"source\": \"simulation\", \"carrier\": \"AL2\", \"flt_no\": 211, \"booking_class\": \"Y0\", \"days_prior\": 24, \"forecast_stdev\": 14.962473537323307}, {\"source\": \"simulation\", \"carrier\": \"AL2\", \"flt_no\": 211, \"booking_class\": \"Y0\", \"days_prior\": 28, \"forecast_stdev\": 16.90319024937748}, {\"source\": \"simulation\", \"carrier\": \"AL2\", \"flt_no\": 211, \"booking_class\": \"Y0\", \"days_prior\": 31, \"forecast_stdev\": 17.591966078846443}, {\"source\": \"simulation\", \"carrier\": \"AL2\", \"flt_no\": 211, \"booking_class\": \"Y0\", \"days_prior\": 35, \"forecast_stdev\": 18.14999345241821}, {\"source\": \"simulation\", \"carrier\": \"AL2\", \"flt_no\": 211, \"booking_class\": \"Y0\", \"days_prior\": 42, \"forecast_stdev\": 18.472007939405025}, {\"source\": \"simulation\", \"carrier\": \"AL2\", \"flt_no\": 211, \"booking_class\": \"Y0\", \"days_prior\": 49, \"forecast_stdev\": 18.67320598268405}, {\"source\": \"simulation\", \"carrier\": \"AL2\", \"flt_no\": 211, \"booking_class\": \"Y0\", \"days_prior\": 56, \"forecast_stdev\": 18.843437808584046}, {\"source\": \"simulation\", \"carrier\": \"AL2\", \"flt_no\": 211, \"booking_class\": \"Y0\", \"days_prior\": 63, \"forecast_stdev\": 19.210791809413013}, {\"source\": \"simulation\", \"carrier\": \"AL2\", \"flt_no\": 211, \"booking_class\": \"Y1\", \"days_prior\": 0, \"forecast_stdev\": 0.0}, {\"source\": \"simulation\", \"carrier\": \"AL2\", \"flt_no\": 211, \"booking_class\": \"Y1\", \"days_prior\": 1, \"forecast_stdev\": 0.6323012450634896}, {\"source\": \"simulation\", \"carrier\": \"AL2\", \"flt_no\": 211, \"booking_class\": \"Y1\", \"days_prior\": 3, \"forecast_stdev\": 1.7387741486080868}, {\"source\": \"simulation\", \"carrier\": \"AL2\", \"flt_no\": 211, \"booking_class\": \"Y1\", \"days_prior\": 5, \"forecast_stdev\": 2.0552260028593046}, {\"source\": \"simulation\", \"carrier\": \"AL2\", \"flt_no\": 211, \"booking_class\": \"Y1\", \"days_prior\": 7, \"forecast_stdev\": 2.2913371866850065}, {\"source\": \"simulation\", \"carrier\": \"AL2\", \"flt_no\": 211, \"booking_class\": \"Y1\", \"days_prior\": 10, \"forecast_stdev\": 2.810281909849418}, {\"source\": \"simulation\", \"carrier\": \"AL2\", \"flt_no\": 211, \"booking_class\": \"Y1\", \"days_prior\": 14, \"forecast_stdev\": 3.330295009872998}, {\"source\": \"simulation\", \"carrier\": \"AL2\", \"flt_no\": 211, \"booking_class\": \"Y1\", \"days_prior\": 17, \"forecast_stdev\": 3.8152105810931762}, {\"source\": \"simulation\", \"carrier\": \"AL2\", \"flt_no\": 211, \"booking_class\": \"Y1\", \"days_prior\": 21, \"forecast_stdev\": 4.937683037663393}, {\"source\": \"simulation\", \"carrier\": \"AL2\", \"flt_no\": 211, \"booking_class\": \"Y1\", \"days_prior\": 24, \"forecast_stdev\": 6.216564668233732}, {\"source\": \"simulation\", \"carrier\": \"AL2\", \"flt_no\": 211, \"booking_class\": \"Y1\", \"days_prior\": 28, \"forecast_stdev\": 7.410438676987671}, {\"source\": \"simulation\", \"carrier\": \"AL2\", \"flt_no\": 211, \"booking_class\": \"Y1\", \"days_prior\": 31, \"forecast_stdev\": 7.889179418789061}, {\"source\": \"simulation\", \"carrier\": \"AL2\", \"flt_no\": 211, \"booking_class\": \"Y1\", \"days_prior\": 35, \"forecast_stdev\": 8.355302227979328}, {\"source\": \"simulation\", \"carrier\": \"AL2\", \"flt_no\": 211, \"booking_class\": \"Y1\", \"days_prior\": 42, \"forecast_stdev\": 8.705413419857674}, {\"source\": \"simulation\", \"carrier\": \"AL2\", \"flt_no\": 211, \"booking_class\": \"Y1\", \"days_prior\": 49, \"forecast_stdev\": 8.946997330532334}, {\"source\": \"simulation\", \"carrier\": \"AL2\", \"flt_no\": 211, \"booking_class\": \"Y1\", \"days_prior\": 56, \"forecast_stdev\": 9.19992142258806}, {\"source\": \"simulation\", \"carrier\": \"AL2\", \"flt_no\": 211, \"booking_class\": \"Y1\", \"days_prior\": 63, \"forecast_stdev\": 9.715643999688213}, {\"source\": \"simulation\", \"carrier\": \"AL2\", \"flt_no\": 211, \"booking_class\": \"Y2\", \"days_prior\": 0, \"forecast_stdev\": 0.0}, {\"source\": \"simulation\", \"carrier\": \"AL2\", \"flt_no\": 211, \"booking_class\": \"Y2\", \"days_prior\": 1, \"forecast_stdev\": 0.0}, {\"source\": \"simulation\", \"carrier\": \"AL2\", \"flt_no\": 211, \"booking_class\": \"Y2\", \"days_prior\": 3, \"forecast_stdev\": 0.0}, {\"source\": \"simulation\", \"carrier\": \"AL2\", \"flt_no\": 211, \"booking_class\": \"Y2\", \"days_prior\": 5, \"forecast_stdev\": 0.0}, {\"source\": \"simulation\", \"carrier\": \"AL2\", \"flt_no\": 211, \"booking_class\": \"Y2\", \"days_prior\": 7, \"forecast_stdev\": 0.0}, {\"source\": \"simulation\", \"carrier\": \"AL2\", \"flt_no\": 211, \"booking_class\": \"Y2\", \"days_prior\": 10, \"forecast_stdev\": 0.0}, {\"source\": \"simulation\", \"carrier\": \"AL2\", \"flt_no\": 211, \"booking_class\": \"Y2\", \"days_prior\": 14, \"forecast_stdev\": 0.0}, {\"source\": \"simulation\", \"carrier\": \"AL2\", \"flt_no\": 211, \"booking_class\": \"Y2\", \"days_prior\": 17, \"forecast_stdev\": 0.0}, {\"source\": \"simulation\", \"carrier\": \"AL2\", \"flt_no\": 211, \"booking_class\": \"Y2\", \"days_prior\": 21, \"forecast_stdev\": 0.0}, {\"source\": \"simulation\", \"carrier\": \"AL2\", \"flt_no\": 211, \"booking_class\": \"Y2\", \"days_prior\": 24, \"forecast_stdev\": 0.0}, {\"source\": \"simulation\", \"carrier\": \"AL2\", \"flt_no\": 211, \"booking_class\": \"Y2\", \"days_prior\": 28, \"forecast_stdev\": 0.0}, {\"source\": \"simulation\", \"carrier\": \"AL2\", \"flt_no\": 211, \"booking_class\": \"Y2\", \"days_prior\": 31, \"forecast_stdev\": 0.0}, {\"source\": \"simulation\", \"carrier\": \"AL2\", \"flt_no\": 211, \"booking_class\": \"Y2\", \"days_prior\": 35, \"forecast_stdev\": 0.0}, {\"source\": \"simulation\", \"carrier\": \"AL2\", \"flt_no\": 211, \"booking_class\": \"Y2\", \"days_prior\": 42, \"forecast_stdev\": 0.0}, {\"source\": \"simulation\", \"carrier\": \"AL2\", \"flt_no\": 211, \"booking_class\": \"Y2\", \"days_prior\": 49, \"forecast_stdev\": 0.0}, {\"source\": \"simulation\", \"carrier\": \"AL2\", \"flt_no\": 211, \"booking_class\": \"Y2\", \"days_prior\": 56, \"forecast_stdev\": 0.0}, {\"source\": \"simulation\", \"carrier\": \"AL2\", \"flt_no\": 211, \"booking_class\": \"Y2\", \"days_prior\": 63, \"forecast_stdev\": 0.0}, {\"source\": \"simulation\", \"carrier\": \"AL2\", \"flt_no\": 211, \"booking_class\": \"Y3\", \"days_prior\": 0, \"forecast_stdev\": 0.0}, {\"source\": \"simulation\", \"carrier\": \"AL2\", \"flt_no\": 211, \"booking_class\": \"Y3\", \"days_prior\": 1, \"forecast_stdev\": 0.0}, {\"source\": \"simulation\", \"carrier\": \"AL2\", \"flt_no\": 211, \"booking_class\": \"Y3\", \"days_prior\": 3, \"forecast_stdev\": 0.0}, {\"source\": \"simulation\", \"carrier\": \"AL2\", \"flt_no\": 211, \"booking_class\": \"Y3\", \"days_prior\": 5, \"forecast_stdev\": 0.0}, {\"source\": \"simulation\", \"carrier\": \"AL2\", \"flt_no\": 211, \"booking_class\": \"Y3\", \"days_prior\": 7, \"forecast_stdev\": 0.0}, {\"source\": \"simulation\", \"carrier\": \"AL2\", \"flt_no\": 211, \"booking_class\": \"Y3\", \"days_prior\": 10, \"forecast_stdev\": 0.0}, {\"source\": \"simulation\", \"carrier\": \"AL2\", \"flt_no\": 211, \"booking_class\": \"Y3\", \"days_prior\": 14, \"forecast_stdev\": 0.0}, {\"source\": \"simulation\", \"carrier\": \"AL2\", \"flt_no\": 211, \"booking_class\": \"Y3\", \"days_prior\": 17, \"forecast_stdev\": 0.0}, {\"source\": \"simulation\", \"carrier\": \"AL2\", \"flt_no\": 211, \"booking_class\": \"Y3\", \"days_prior\": 21, \"forecast_stdev\": 0.0}, {\"source\": \"simulation\", \"carrier\": \"AL2\", \"flt_no\": 211, \"booking_class\": \"Y3\", \"days_prior\": 24, \"forecast_stdev\": 0.0}, {\"source\": \"simulation\", \"carrier\": \"AL2\", \"flt_no\": 211, \"booking_class\": \"Y3\", \"days_prior\": 28, \"forecast_stdev\": 0.0}, {\"source\": \"simulation\", \"carrier\": \"AL2\", \"flt_no\": 211, \"booking_class\": \"Y3\", \"days_prior\": 31, \"forecast_stdev\": 0.0}, {\"source\": \"simulation\", \"carrier\": \"AL2\", \"flt_no\": 211, \"booking_class\": \"Y3\", \"days_prior\": 35, \"forecast_stdev\": 0.0}, {\"source\": \"simulation\", \"carrier\": \"AL2\", \"flt_no\": 211, \"booking_class\": \"Y3\", \"days_prior\": 42, \"forecast_stdev\": 0.0}, {\"source\": \"simulation\", \"carrier\": \"AL2\", \"flt_no\": 211, \"booking_class\": \"Y3\", \"days_prior\": 49, \"forecast_stdev\": 0.0}, {\"source\": \"simulation\", \"carrier\": \"AL2\", \"flt_no\": 211, \"booking_class\": \"Y3\", \"days_prior\": 56, \"forecast_stdev\": 0.0}, {\"source\": \"simulation\", \"carrier\": \"AL2\", \"flt_no\": 211, \"booking_class\": \"Y3\", \"days_prior\": 63, \"forecast_stdev\": 0.0}, {\"source\": \"simulation\", \"carrier\": \"AL2\", \"flt_no\": 211, \"booking_class\": \"Y4\", \"days_prior\": 0, \"forecast_stdev\": 0.0}, {\"source\": \"simulation\", \"carrier\": \"AL2\", \"flt_no\": 211, \"booking_class\": \"Y4\", \"days_prior\": 1, \"forecast_stdev\": 0.0}, {\"source\": \"simulation\", \"carrier\": \"AL2\", \"flt_no\": 211, \"booking_class\": \"Y4\", \"days_prior\": 3, \"forecast_stdev\": 0.0}, {\"source\": \"simulation\", \"carrier\": \"AL2\", \"flt_no\": 211, \"booking_class\": \"Y4\", \"days_prior\": 5, \"forecast_stdev\": 0.0}, {\"source\": \"simulation\", \"carrier\": \"AL2\", \"flt_no\": 211, \"booking_class\": \"Y4\", \"days_prior\": 7, \"forecast_stdev\": 0.0}, {\"source\": \"simulation\", \"carrier\": \"AL2\", \"flt_no\": 211, \"booking_class\": \"Y4\", \"days_prior\": 10, \"forecast_stdev\": 0.0}, {\"source\": \"simulation\", \"carrier\": \"AL2\", \"flt_no\": 211, \"booking_class\": \"Y4\", \"days_prior\": 14, \"forecast_stdev\": 0.0}, {\"source\": \"simulation\", \"carrier\": \"AL2\", \"flt_no\": 211, \"booking_class\": \"Y4\", \"days_prior\": 17, \"forecast_stdev\": 0.0}, {\"source\": \"simulation\", \"carrier\": \"AL2\", \"flt_no\": 211, \"booking_class\": \"Y4\", \"days_prior\": 21, \"forecast_stdev\": 0.0}, {\"source\": \"simulation\", \"carrier\": \"AL2\", \"flt_no\": 211, \"booking_class\": \"Y4\", \"days_prior\": 24, \"forecast_stdev\": 0.0}, {\"source\": \"simulation\", \"carrier\": \"AL2\", \"flt_no\": 211, \"booking_class\": \"Y4\", \"days_prior\": 28, \"forecast_stdev\": 0.0}, {\"source\": \"simulation\", \"carrier\": \"AL2\", \"flt_no\": 211, \"booking_class\": \"Y4\", \"days_prior\": 31, \"forecast_stdev\": 0.0}, {\"source\": \"simulation\", \"carrier\": \"AL2\", \"flt_no\": 211, \"booking_class\": \"Y4\", \"days_prior\": 35, \"forecast_stdev\": 0.0}, {\"source\": \"simulation\", \"carrier\": \"AL2\", \"flt_no\": 211, \"booking_class\": \"Y4\", \"days_prior\": 42, \"forecast_stdev\": 0.0}, {\"source\": \"simulation\", \"carrier\": \"AL2\", \"flt_no\": 211, \"booking_class\": \"Y4\", \"days_prior\": 49, \"forecast_stdev\": 0.0}, {\"source\": \"simulation\", \"carrier\": \"AL2\", \"flt_no\": 211, \"booking_class\": \"Y4\", \"days_prior\": 56, \"forecast_stdev\": 0.0}, {\"source\": \"simulation\", \"carrier\": \"AL2\", \"flt_no\": 211, \"booking_class\": \"Y4\", \"days_prior\": 63, \"forecast_stdev\": 0.0}, {\"source\": \"simulation\", \"carrier\": \"AL2\", \"flt_no\": 211, \"booking_class\": \"Y5\", \"days_prior\": 0, \"forecast_stdev\": 0.0}, {\"source\": \"simulation\", \"carrier\": \"AL2\", \"flt_no\": 211, \"booking_class\": \"Y5\", \"days_prior\": 1, \"forecast_stdev\": 0.0}, {\"source\": \"simulation\", \"carrier\": \"AL2\", \"flt_no\": 211, \"booking_class\": \"Y5\", \"days_prior\": 3, \"forecast_stdev\": 0.0}, {\"source\": \"simulation\", \"carrier\": \"AL2\", \"flt_no\": 211, \"booking_class\": \"Y5\", \"days_prior\": 5, \"forecast_stdev\": 0.0}, {\"source\": \"simulation\", \"carrier\": \"AL2\", \"flt_no\": 211, \"booking_class\": \"Y5\", \"days_prior\": 7, \"forecast_stdev\": 0.0}, {\"source\": \"simulation\", \"carrier\": \"AL2\", \"flt_no\": 211, \"booking_class\": \"Y5\", \"days_prior\": 10, \"forecast_stdev\": 0.0}, {\"source\": \"simulation\", \"carrier\": \"AL2\", \"flt_no\": 211, \"booking_class\": \"Y5\", \"days_prior\": 14, \"forecast_stdev\": 0.0}, {\"source\": \"simulation\", \"carrier\": \"AL2\", \"flt_no\": 211, \"booking_class\": \"Y5\", \"days_prior\": 17, \"forecast_stdev\": 0.0}, {\"source\": \"simulation\", \"carrier\": \"AL2\", \"flt_no\": 211, \"booking_class\": \"Y5\", \"days_prior\": 21, \"forecast_stdev\": 0.0}, {\"source\": \"simulation\", \"carrier\": \"AL2\", \"flt_no\": 211, \"booking_class\": \"Y5\", \"days_prior\": 24, \"forecast_stdev\": 0.0}, {\"source\": \"simulation\", \"carrier\": \"AL2\", \"flt_no\": 211, \"booking_class\": \"Y5\", \"days_prior\": 28, \"forecast_stdev\": 0.0}, {\"source\": \"simulation\", \"carrier\": \"AL2\", \"flt_no\": 211, \"booking_class\": \"Y5\", \"days_prior\": 31, \"forecast_stdev\": 0.0}, {\"source\": \"simulation\", \"carrier\": \"AL2\", \"flt_no\": 211, \"booking_class\": \"Y5\", \"days_prior\": 35, \"forecast_stdev\": 0.0}, {\"source\": \"simulation\", \"carrier\": \"AL2\", \"flt_no\": 211, \"booking_class\": \"Y5\", \"days_prior\": 42, \"forecast_stdev\": 0.0}, {\"source\": \"simulation\", \"carrier\": \"AL2\", \"flt_no\": 211, \"booking_class\": \"Y5\", \"days_prior\": 49, \"forecast_stdev\": 0.0}, {\"source\": \"simulation\", \"carrier\": \"AL2\", \"flt_no\": 211, \"booking_class\": \"Y5\", \"days_prior\": 56, \"forecast_stdev\": 0.0}, {\"source\": \"simulation\", \"carrier\": \"AL2\", \"flt_no\": 211, \"booking_class\": \"Y5\", \"days_prior\": 63, \"forecast_stdev\": 0.0}, {\"source\": \"target\", \"carrier\": \"AL2\", \"flt_no\": 211, \"booking_class\": \"Y0\", \"days_prior\": 63, \"forecast_stdev\": 12.99}, {\"source\": \"target\", \"carrier\": \"AL2\", \"flt_no\": 211, \"booking_class\": \"Y0\", \"days_prior\": 56, \"forecast_stdev\": 12.68}, {\"source\": \"target\", \"carrier\": \"AL2\", \"flt_no\": 211, \"booking_class\": \"Y0\", \"days_prior\": 49, \"forecast_stdev\": 12.53}, {\"source\": \"target\", \"carrier\": \"AL2\", \"flt_no\": 211, \"booking_class\": \"Y0\", \"days_prior\": 42, \"forecast_stdev\": 12.26}, {\"source\": \"target\", \"carrier\": \"AL2\", \"flt_no\": 211, \"booking_class\": \"Y0\", \"days_prior\": 35, \"forecast_stdev\": 11.89}, {\"source\": \"target\", \"carrier\": \"AL2\", \"flt_no\": 211, \"booking_class\": \"Y0\", \"days_prior\": 31, \"forecast_stdev\": 11.63}, {\"source\": \"target\", \"carrier\": \"AL2\", \"flt_no\": 211, \"booking_class\": \"Y0\", \"days_prior\": 28, \"forecast_stdev\": 11.42}, {\"source\": \"target\", \"carrier\": \"AL2\", \"flt_no\": 211, \"booking_class\": \"Y0\", \"days_prior\": 24, \"forecast_stdev\": 11.1}, {\"source\": \"target\", \"carrier\": \"AL2\", \"flt_no\": 211, \"booking_class\": \"Y0\", \"days_prior\": 21, \"forecast_stdev\": 10.82}, {\"source\": \"target\", \"carrier\": \"AL2\", \"flt_no\": 211, \"booking_class\": \"Y0\", \"days_prior\": 17, \"forecast_stdev\": 10.38}, {\"source\": \"target\", \"carrier\": \"AL2\", \"flt_no\": 211, \"booking_class\": \"Y0\", \"days_prior\": 14, \"forecast_stdev\": 9.77}, {\"source\": \"target\", \"carrier\": \"AL2\", \"flt_no\": 211, \"booking_class\": \"Y0\", \"days_prior\": 10, \"forecast_stdev\": 8.7}, {\"source\": \"target\", \"carrier\": \"AL2\", \"flt_no\": 211, \"booking_class\": \"Y0\", \"days_prior\": 7, \"forecast_stdev\": 7.45}, {\"source\": \"target\", \"carrier\": \"AL2\", \"flt_no\": 211, \"booking_class\": \"Y0\", \"days_prior\": 5, \"forecast_stdev\": 6.66}, {\"source\": \"target\", \"carrier\": \"AL2\", \"flt_no\": 211, \"booking_class\": \"Y0\", \"days_prior\": 3, \"forecast_stdev\": 5.84}, {\"source\": \"target\", \"carrier\": \"AL2\", \"flt_no\": 211, \"booking_class\": \"Y0\", \"days_prior\": 1, \"forecast_stdev\": 2.46}, {\"source\": \"target\", \"carrier\": \"AL2\", \"flt_no\": 211, \"booking_class\": \"Y1\", \"days_prior\": 63, \"forecast_stdev\": 6.58}, {\"source\": \"target\", \"carrier\": \"AL2\", \"flt_no\": 211, \"booking_class\": \"Y1\", \"days_prior\": 56, \"forecast_stdev\": 6.41}, {\"source\": \"target\", \"carrier\": \"AL2\", \"flt_no\": 211, \"booking_class\": \"Y1\", \"days_prior\": 49, \"forecast_stdev\": 6.32}, {\"source\": \"target\", \"carrier\": \"AL2\", \"flt_no\": 211, \"booking_class\": \"Y1\", \"days_prior\": 42, \"forecast_stdev\": 6.15}, {\"source\": \"target\", \"carrier\": \"AL2\", \"flt_no\": 211, \"booking_class\": \"Y1\", \"days_prior\": 35, \"forecast_stdev\": 5.91}, {\"source\": \"target\", \"carrier\": \"AL2\", \"flt_no\": 211, \"booking_class\": \"Y1\", \"days_prior\": 31, \"forecast_stdev\": 5.72}, {\"source\": \"target\", \"carrier\": \"AL2\", \"flt_no\": 211, \"booking_class\": \"Y1\", \"days_prior\": 28, \"forecast_stdev\": 5.55}, {\"source\": \"target\", \"carrier\": \"AL2\", \"flt_no\": 211, \"booking_class\": \"Y1\", \"days_prior\": 24, \"forecast_stdev\": 5.24}, {\"source\": \"target\", \"carrier\": \"AL2\", \"flt_no\": 211, \"booking_class\": \"Y1\", \"days_prior\": 21, \"forecast_stdev\": 4.91}, {\"source\": \"target\", \"carrier\": \"AL2\", \"flt_no\": 211, \"booking_class\": \"Y1\", \"days_prior\": 17, \"forecast_stdev\": 4.5}, {\"source\": \"target\", \"carrier\": \"AL2\", \"flt_no\": 211, \"booking_class\": \"Y1\", \"days_prior\": 14, \"forecast_stdev\": 4.03}, {\"source\": \"target\", \"carrier\": \"AL2\", \"flt_no\": 211, \"booking_class\": \"Y1\", \"days_prior\": 10, \"forecast_stdev\": 3.3}, {\"source\": \"target\", \"carrier\": \"AL2\", \"flt_no\": 211, \"booking_class\": \"Y1\", \"days_prior\": 7, \"forecast_stdev\": 2.36}, {\"source\": \"target\", \"carrier\": \"AL2\", \"flt_no\": 211, \"booking_class\": \"Y1\", \"days_prior\": 5, \"forecast_stdev\": 2.1}, {\"source\": \"target\", \"carrier\": \"AL2\", \"flt_no\": 211, \"booking_class\": \"Y1\", \"days_prior\": 3, \"forecast_stdev\": 1.83}, {\"source\": \"target\", \"carrier\": \"AL2\", \"flt_no\": 211, \"booking_class\": \"Y1\", \"days_prior\": 1, \"forecast_stdev\": 0.76}, {\"source\": \"target\", \"carrier\": \"AL2\", \"flt_no\": 211, \"booking_class\": \"Y2\", \"days_prior\": 63, \"forecast_stdev\": 7.04}, {\"source\": \"target\", \"carrier\": \"AL2\", \"flt_no\": 211, \"booking_class\": \"Y2\", \"days_prior\": 56, \"forecast_stdev\": 6.73}, {\"source\": \"target\", \"carrier\": \"AL2\", \"flt_no\": 211, \"booking_class\": \"Y2\", \"days_prior\": 49, \"forecast_stdev\": 6.57}, {\"source\": \"target\", \"carrier\": \"AL2\", \"flt_no\": 211, \"booking_class\": \"Y2\", \"days_prior\": 42, \"forecast_stdev\": 6.19}, {\"source\": \"target\", \"carrier\": \"AL2\", \"flt_no\": 211, \"booking_class\": \"Y2\", \"days_prior\": 35, \"forecast_stdev\": 5.74}, {\"source\": \"target\", \"carrier\": \"AL2\", \"flt_no\": 211, \"booking_class\": \"Y2\", \"days_prior\": 31, \"forecast_stdev\": 5.34}, {\"source\": \"target\", \"carrier\": \"AL2\", \"flt_no\": 211, \"booking_class\": \"Y2\", \"days_prior\": 28, \"forecast_stdev\": 4.99}, {\"source\": \"target\", \"carrier\": \"AL2\", \"flt_no\": 211, \"booking_class\": \"Y2\", \"days_prior\": 24, \"forecast_stdev\": 4.27}, {\"source\": \"target\", \"carrier\": \"AL2\", \"flt_no\": 211, \"booking_class\": \"Y2\", \"days_prior\": 21, \"forecast_stdev\": 3.39}, {\"source\": \"target\", \"carrier\": \"AL2\", \"flt_no\": 211, \"booking_class\": \"Y2\", \"days_prior\": 17, \"forecast_stdev\": 2.32}, {\"source\": \"target\", \"carrier\": \"AL2\", \"flt_no\": 211, \"booking_class\": \"Y2\", \"days_prior\": 14, \"forecast_stdev\": 0.0}, {\"source\": \"target\", \"carrier\": \"AL2\", \"flt_no\": 211, \"booking_class\": \"Y2\", \"days_prior\": 10, \"forecast_stdev\": 0.0}, {\"source\": \"target\", \"carrier\": \"AL2\", \"flt_no\": 211, \"booking_class\": \"Y2\", \"days_prior\": 7, \"forecast_stdev\": 0.0}, {\"source\": \"target\", \"carrier\": \"AL2\", \"flt_no\": 211, \"booking_class\": \"Y2\", \"days_prior\": 5, \"forecast_stdev\": 0.0}, {\"source\": \"target\", \"carrier\": \"AL2\", \"flt_no\": 211, \"booking_class\": \"Y2\", \"days_prior\": 3, \"forecast_stdev\": 0.0}, {\"source\": \"target\", \"carrier\": \"AL2\", \"flt_no\": 211, \"booking_class\": \"Y2\", \"days_prior\": 1, \"forecast_stdev\": 0.0}, {\"source\": \"target\", \"carrier\": \"AL2\", \"flt_no\": 211, \"booking_class\": \"Y3\", \"days_prior\": 63, \"forecast_stdev\": 9.64}, {\"source\": \"target\", \"carrier\": \"AL2\", \"flt_no\": 211, \"booking_class\": \"Y3\", \"days_prior\": 56, \"forecast_stdev\": 8.77}, {\"source\": \"target\", \"carrier\": \"AL2\", \"flt_no\": 211, \"booking_class\": \"Y3\", \"days_prior\": 49, \"forecast_stdev\": 8.29}, {\"source\": \"target\", \"carrier\": \"AL2\", \"flt_no\": 211, \"booking_class\": \"Y3\", \"days_prior\": 42, \"forecast_stdev\": 7.49}, {\"source\": \"target\", \"carrier\": \"AL2\", \"flt_no\": 211, \"booking_class\": \"Y3\", \"days_prior\": 35, \"forecast_stdev\": 6.52}, {\"source\": \"target\", \"carrier\": \"AL2\", \"flt_no\": 211, \"booking_class\": \"Y3\", \"days_prior\": 31, \"forecast_stdev\": 5.77}, {\"source\": \"target\", \"carrier\": \"AL2\", \"flt_no\": 211, \"booking_class\": \"Y3\", \"days_prior\": 28, \"forecast_stdev\": 5.2}, {\"source\": \"target\", \"carrier\": \"AL2\", \"flt_no\": 211, \"booking_class\": \"Y3\", \"days_prior\": 24, \"forecast_stdev\": 4.07}, {\"source\": \"target\", \"carrier\": \"AL2\", \"flt_no\": 211, \"booking_class\": \"Y3\", \"days_prior\": 21, \"forecast_stdev\": 2.62}, {\"source\": \"target\", \"carrier\": \"AL2\", \"flt_no\": 211, \"booking_class\": \"Y3\", \"days_prior\": 17, \"forecast_stdev\": 0.0}, {\"source\": \"target\", \"carrier\": \"AL2\", \"flt_no\": 211, \"booking_class\": \"Y3\", \"days_prior\": 14, \"forecast_stdev\": 0.0}, {\"source\": \"target\", \"carrier\": \"AL2\", \"flt_no\": 211, \"booking_class\": \"Y3\", \"days_prior\": 10, \"forecast_stdev\": 0.0}, {\"source\": \"target\", \"carrier\": \"AL2\", \"flt_no\": 211, \"booking_class\": \"Y3\", \"days_prior\": 7, \"forecast_stdev\": 0.0}, {\"source\": \"target\", \"carrier\": \"AL2\", \"flt_no\": 211, \"booking_class\": \"Y3\", \"days_prior\": 5, \"forecast_stdev\": 0.0}, {\"source\": \"target\", \"carrier\": \"AL2\", \"flt_no\": 211, \"booking_class\": \"Y3\", \"days_prior\": 3, \"forecast_stdev\": 0.0}, {\"source\": \"target\", \"carrier\": \"AL2\", \"flt_no\": 211, \"booking_class\": \"Y3\", \"days_prior\": 1, \"forecast_stdev\": 0.0}, {\"source\": \"target\", \"carrier\": \"AL2\", \"flt_no\": 211, \"booking_class\": \"Y4\", \"days_prior\": 63, \"forecast_stdev\": 11.98}, {\"source\": \"target\", \"carrier\": \"AL2\", \"flt_no\": 211, \"booking_class\": \"Y4\", \"days_prior\": 56, \"forecast_stdev\": 10.21}, {\"source\": \"target\", \"carrier\": \"AL2\", \"flt_no\": 211, \"booking_class\": \"Y4\", \"days_prior\": 49, \"forecast_stdev\": 9.17}, {\"source\": \"target\", \"carrier\": \"AL2\", \"flt_no\": 211, \"booking_class\": \"Y4\", \"days_prior\": 42, \"forecast_stdev\": 7.95}, {\"source\": \"target\", \"carrier\": \"AL2\", \"flt_no\": 211, \"booking_class\": \"Y4\", \"days_prior\": 35, \"forecast_stdev\": 6.41}, {\"source\": \"target\", \"carrier\": \"AL2\", \"flt_no\": 211, \"booking_class\": \"Y4\", \"days_prior\": 31, \"forecast_stdev\": 5.35}, {\"source\": \"target\", \"carrier\": \"AL2\", \"flt_no\": 211, \"booking_class\": \"Y4\", \"days_prior\": 28, \"forecast_stdev\": 4.61}, {\"source\": \"target\", \"carrier\": \"AL2\", \"flt_no\": 211, \"booking_class\": \"Y4\", \"days_prior\": 24, \"forecast_stdev\": 3.13}, {\"source\": \"target\", \"carrier\": \"AL2\", \"flt_no\": 211, \"booking_class\": \"Y4\", \"days_prior\": 21, \"forecast_stdev\": 0.0}, {\"source\": \"target\", \"carrier\": \"AL2\", \"flt_no\": 211, \"booking_class\": \"Y4\", \"days_prior\": 17, \"forecast_stdev\": 0.0}, {\"source\": \"target\", \"carrier\": \"AL2\", \"flt_no\": 211, \"booking_class\": \"Y4\", \"days_prior\": 14, \"forecast_stdev\": 0.0}, {\"source\": \"target\", \"carrier\": \"AL2\", \"flt_no\": 211, \"booking_class\": \"Y4\", \"days_prior\": 10, \"forecast_stdev\": 0.0}, {\"source\": \"target\", \"carrier\": \"AL2\", \"flt_no\": 211, \"booking_class\": \"Y4\", \"days_prior\": 7, \"forecast_stdev\": 0.0}, {\"source\": \"target\", \"carrier\": \"AL2\", \"flt_no\": 211, \"booking_class\": \"Y4\", \"days_prior\": 5, \"forecast_stdev\": 0.0}, {\"source\": \"target\", \"carrier\": \"AL2\", \"flt_no\": 211, \"booking_class\": \"Y4\", \"days_prior\": 3, \"forecast_stdev\": 0.0}, {\"source\": \"target\", \"carrier\": \"AL2\", \"flt_no\": 211, \"booking_class\": \"Y4\", \"days_prior\": 1, \"forecast_stdev\": 0.0}, {\"source\": \"target\", \"carrier\": \"AL2\", \"flt_no\": 211, \"booking_class\": \"Y5\", \"days_prior\": 63, \"forecast_stdev\": 12.84}, {\"source\": \"target\", \"carrier\": \"AL2\", \"flt_no\": 211, \"booking_class\": \"Y5\", \"days_prior\": 56, \"forecast_stdev\": 10.48}, {\"source\": \"target\", \"carrier\": \"AL2\", \"flt_no\": 211, \"booking_class\": \"Y5\", \"days_prior\": 49, \"forecast_stdev\": 9.04}, {\"source\": \"target\", \"carrier\": \"AL2\", \"flt_no\": 211, \"booking_class\": \"Y5\", \"days_prior\": 42, \"forecast_stdev\": 7.69}, {\"source\": \"target\", \"carrier\": \"AL2\", \"flt_no\": 211, \"booking_class\": \"Y5\", \"days_prior\": 35, \"forecast_stdev\": 5.95}, {\"source\": \"target\", \"carrier\": \"AL2\", \"flt_no\": 211, \"booking_class\": \"Y5\", \"days_prior\": 31, \"forecast_stdev\": 4.84}, {\"source\": \"target\", \"carrier\": \"AL2\", \"flt_no\": 211, \"booking_class\": \"Y5\", \"days_prior\": 28, \"forecast_stdev\": 4.13}, {\"source\": \"target\", \"carrier\": \"AL2\", \"flt_no\": 211, \"booking_class\": \"Y5\", \"days_prior\": 24, \"forecast_stdev\": 2.77}, {\"source\": \"target\", \"carrier\": \"AL2\", \"flt_no\": 211, \"booking_class\": \"Y5\", \"days_prior\": 21, \"forecast_stdev\": 0.0}, {\"source\": \"target\", \"carrier\": \"AL2\", \"flt_no\": 211, \"booking_class\": \"Y5\", \"days_prior\": 17, \"forecast_stdev\": 0.0}, {\"source\": \"target\", \"carrier\": \"AL2\", \"flt_no\": 211, \"booking_class\": \"Y5\", \"days_prior\": 14, \"forecast_stdev\": 0.0}, {\"source\": \"target\", \"carrier\": \"AL2\", \"flt_no\": 211, \"booking_class\": \"Y5\", \"days_prior\": 10, \"forecast_stdev\": 0.0}, {\"source\": \"target\", \"carrier\": \"AL2\", \"flt_no\": 211, \"booking_class\": \"Y5\", \"days_prior\": 7, \"forecast_stdev\": 0.0}, {\"source\": \"target\", \"carrier\": \"AL2\", \"flt_no\": 211, \"booking_class\": \"Y5\", \"days_prior\": 5, \"forecast_stdev\": 0.0}, {\"source\": \"target\", \"carrier\": \"AL2\", \"flt_no\": 211, \"booking_class\": \"Y5\", \"days_prior\": 3, \"forecast_stdev\": 0.0}, {\"source\": \"target\", \"carrier\": \"AL2\", \"flt_no\": 211, \"booking_class\": \"Y5\", \"days_prior\": 1, \"forecast_stdev\": 0.0}]}}, {\"mode\": \"vega-lite\"});\n",
       "</script>"
      ],
      "text/plain": [
       "alt.HConcatChart(...)"
      ]
     },
     "execution_count": 20,
     "metadata": {},
     "output_type": "execute_result"
    }
   ],
   "source": [
    "comps.fig_leg_forecasts(by_flt_no=211, of=[\"mu\", \"sigma\"])"
   ]
  },
  {
   "cell_type": "code",
   "execution_count": null,
   "id": "b7844c04-7baa-4f79-847f-cc8939271da0",
   "metadata": {},
   "outputs": [],
   "source": []
  },
  {
   "cell_type": "code",
   "execution_count": null,
   "id": "1b29cf23-f3fa-466a-8a0a-bec922e304d2",
   "metadata": {},
   "outputs": [],
   "source": []
  },
  {
   "cell_type": "code",
   "execution_count": null,
   "id": "50d22a6c-da33-4f7b-84a1-88e48d4eca92",
   "metadata": {},
   "outputs": [],
   "source": []
  },
  {
   "cell_type": "code",
   "execution_count": null,
   "id": "c9122a3a-57f2-42d5-8728-dec1c58fed57",
   "metadata": {},
   "outputs": [],
   "source": []
  },
  {
   "cell_type": "code",
   "execution_count": null,
   "id": "46be404d-7417-46e7-81ce-12bb00ee66d4",
   "metadata": {},
   "outputs": [],
   "source": []
  },
  {
   "cell_type": "code",
   "execution_count": null,
   "id": "6580bd92-d1fd-4fdb-997a-4f3c2bb985a4",
   "metadata": {},
   "outputs": [],
   "source": []
  },
  {
   "cell_type": "code",
   "execution_count": null,
   "id": "7efa037b-d4fe-43d4-b122-e8abb95f8775",
   "metadata": {},
   "outputs": [],
   "source": []
  }
 ],
 "metadata": {
  "kernelspec": {
   "display_name": "Python 3 (ipykernel)",
   "language": "python",
   "name": "python3"
  },
  "language_info": {
   "codemirror_mode": {
    "name": "ipython",
    "version": 3
   },
   "file_extension": ".py",
   "mimetype": "text/x-python",
   "name": "python",
   "nbconvert_exporter": "python",
   "pygments_lexer": "ipython3",
   "version": "3.11.6"
  }
 },
 "nbformat": 4,
 "nbformat_minor": 5
}
